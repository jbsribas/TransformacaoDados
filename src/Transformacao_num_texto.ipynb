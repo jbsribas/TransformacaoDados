{
  "cells": [
    {
      "cell_type": "code",
      "execution_count": null,
      "metadata": {
        "id": "yv4WjeSa527X"
      },
      "outputs": [],
      "source": [
        "# transformação de dados\n",
        "#numericos e Texto"
      ]
    },
    {
      "cell_type": "code",
      "execution_count": null,
      "metadata": {
        "id": "xmUR313g6Ajo"
      },
      "outputs": [],
      "source": [
        "import pandas as pd\n",
        "import numpy as np\n",
        "import re\n",
        "import seaborn as sns\n",
        "import matplotlib.pyplot as plt\n"
      ]
    },
    {
      "cell_type": "code",
      "execution_count": null,
      "metadata": {
        "id": "lwOXPUJ0-YHe"
      },
      "outputs": [],
      "source": [
        "dados = pd.read_csv(\"breast-cancer.csv\")"
      ]
    },
    {
      "cell_type": "code",
      "execution_count": null,
      "metadata": {
        "colab": {
          "base_uri": "https://localhost:8080/",
          "height": 273
        },
        "id": "xBbAffwC-xf0",
        "outputId": "de41ec35-46b6-4960-9656-07cf14fce7b1"
      },
      "outputs": [
        {
          "data": {
            "application/vnd.google.colaboratory.intrinsic+json": {
              "type": "dataframe",
              "variable_name": "dados"
            },
            "text/html": [
              "\n",
              "  <div id=\"df-a3cc3ff4-e107-4177-87bb-edc5ef55b4cf\" class=\"colab-df-container\">\n",
              "    <div>\n",
              "<style scoped>\n",
              "    .dataframe tbody tr th:only-of-type {\n",
              "        vertical-align: middle;\n",
              "    }\n",
              "\n",
              "    .dataframe tbody tr th {\n",
              "        vertical-align: top;\n",
              "    }\n",
              "\n",
              "    .dataframe thead th {\n",
              "        text-align: right;\n",
              "    }\n",
              "</style>\n",
              "<table border=\"1\" class=\"dataframe\">\n",
              "  <thead>\n",
              "    <tr style=\"text-align: right;\">\n",
              "      <th></th>\n",
              "      <th>id</th>\n",
              "      <th>diagnosis</th>\n",
              "      <th>radius_mean</th>\n",
              "      <th>texture_mean</th>\n",
              "      <th>perimeter_mean</th>\n",
              "      <th>area_mean</th>\n",
              "      <th>smoothness_mean</th>\n",
              "      <th>compactness_mean</th>\n",
              "      <th>concavity_mean</th>\n",
              "      <th>concave points_mean</th>\n",
              "      <th>...</th>\n",
              "      <th>radius_worst</th>\n",
              "      <th>texture_worst</th>\n",
              "      <th>perimeter_worst</th>\n",
              "      <th>area_worst</th>\n",
              "      <th>smoothness_worst</th>\n",
              "      <th>compactness_worst</th>\n",
              "      <th>concavity_worst</th>\n",
              "      <th>concave points_worst</th>\n",
              "      <th>symmetry_worst</th>\n",
              "      <th>fractal_dimension_worst</th>\n",
              "    </tr>\n",
              "  </thead>\n",
              "  <tbody>\n",
              "    <tr>\n",
              "      <th>0</th>\n",
              "      <td>842302</td>\n",
              "      <td>M</td>\n",
              "      <td>17.99</td>\n",
              "      <td>10.38</td>\n",
              "      <td>122.80</td>\n",
              "      <td>1001.0</td>\n",
              "      <td>0.11840</td>\n",
              "      <td>0.27760</td>\n",
              "      <td>0.3001</td>\n",
              "      <td>0.14710</td>\n",
              "      <td>...</td>\n",
              "      <td>25.38</td>\n",
              "      <td>17.33</td>\n",
              "      <td>184.60</td>\n",
              "      <td>2019.0</td>\n",
              "      <td>0.1622</td>\n",
              "      <td>0.6656</td>\n",
              "      <td>0.7119</td>\n",
              "      <td>0.2654</td>\n",
              "      <td>0.4601</td>\n",
              "      <td>0.11890</td>\n",
              "    </tr>\n",
              "    <tr>\n",
              "      <th>1</th>\n",
              "      <td>842517</td>\n",
              "      <td>M</td>\n",
              "      <td>20.57</td>\n",
              "      <td>17.77</td>\n",
              "      <td>132.90</td>\n",
              "      <td>1326.0</td>\n",
              "      <td>0.08474</td>\n",
              "      <td>0.07864</td>\n",
              "      <td>0.0869</td>\n",
              "      <td>0.07017</td>\n",
              "      <td>...</td>\n",
              "      <td>24.99</td>\n",
              "      <td>23.41</td>\n",
              "      <td>158.80</td>\n",
              "      <td>1956.0</td>\n",
              "      <td>0.1238</td>\n",
              "      <td>0.1866</td>\n",
              "      <td>0.2416</td>\n",
              "      <td>0.1860</td>\n",
              "      <td>0.2750</td>\n",
              "      <td>0.08902</td>\n",
              "    </tr>\n",
              "    <tr>\n",
              "      <th>2</th>\n",
              "      <td>84300903</td>\n",
              "      <td>M</td>\n",
              "      <td>19.69</td>\n",
              "      <td>21.25</td>\n",
              "      <td>130.00</td>\n",
              "      <td>1203.0</td>\n",
              "      <td>0.10960</td>\n",
              "      <td>0.15990</td>\n",
              "      <td>0.1974</td>\n",
              "      <td>0.12790</td>\n",
              "      <td>...</td>\n",
              "      <td>23.57</td>\n",
              "      <td>25.53</td>\n",
              "      <td>152.50</td>\n",
              "      <td>1709.0</td>\n",
              "      <td>0.1444</td>\n",
              "      <td>0.4245</td>\n",
              "      <td>0.4504</td>\n",
              "      <td>0.2430</td>\n",
              "      <td>0.3613</td>\n",
              "      <td>0.08758</td>\n",
              "    </tr>\n",
              "    <tr>\n",
              "      <th>3</th>\n",
              "      <td>84348301</td>\n",
              "      <td>M</td>\n",
              "      <td>110.42</td>\n",
              "      <td>20.38</td>\n",
              "      <td>77.58</td>\n",
              "      <td>386.1</td>\n",
              "      <td>0.14250</td>\n",
              "      <td>0.28390</td>\n",
              "      <td>0.2414</td>\n",
              "      <td>0.10520</td>\n",
              "      <td>...</td>\n",
              "      <td>14.91</td>\n",
              "      <td>26.50</td>\n",
              "      <td>98.87</td>\n",
              "      <td>567.7</td>\n",
              "      <td>0.2098</td>\n",
              "      <td>0.8663</td>\n",
              "      <td>0.6869</td>\n",
              "      <td>0.2575</td>\n",
              "      <td>0.6638</td>\n",
              "      <td>0.17300</td>\n",
              "    </tr>\n",
              "    <tr>\n",
              "      <th>4</th>\n",
              "      <td>84358402</td>\n",
              "      <td>M</td>\n",
              "      <td>20.29</td>\n",
              "      <td>14.34</td>\n",
              "      <td>135.10</td>\n",
              "      <td>1297.0</td>\n",
              "      <td>0.10030</td>\n",
              "      <td>0.13280</td>\n",
              "      <td>0.1980</td>\n",
              "      <td>0.10430</td>\n",
              "      <td>...</td>\n",
              "      <td>22.54</td>\n",
              "      <td>16.67</td>\n",
              "      <td>152.20</td>\n",
              "      <td>1575.0</td>\n",
              "      <td>0.1374</td>\n",
              "      <td>0.2050</td>\n",
              "      <td>0.4000</td>\n",
              "      <td>0.1625</td>\n",
              "      <td>0.2364</td>\n",
              "      <td>0.07678</td>\n",
              "    </tr>\n",
              "  </tbody>\n",
              "</table>\n",
              "<p>5 rows × 32 columns</p>\n",
              "</div>\n",
              "    <div class=\"colab-df-buttons\">\n",
              "\n",
              "  <div class=\"colab-df-container\">\n",
              "    <button class=\"colab-df-convert\" onclick=\"convertToInteractive('df-a3cc3ff4-e107-4177-87bb-edc5ef55b4cf')\"\n",
              "            title=\"Convert this dataframe to an interactive table.\"\n",
              "            style=\"display:none;\">\n",
              "\n",
              "  <svg xmlns=\"http://www.w3.org/2000/svg\" height=\"24px\" viewBox=\"0 -960 960 960\">\n",
              "    <path d=\"M120-120v-720h720v720H120Zm60-500h600v-160H180v160Zm220 220h160v-160H400v160Zm0 220h160v-160H400v160ZM180-400h160v-160H180v160Zm440 0h160v-160H620v160ZM180-180h160v-160H180v160Zm440 0h160v-160H620v160Z\"/>\n",
              "  </svg>\n",
              "    </button>\n",
              "\n",
              "  <style>\n",
              "    .colab-df-container {\n",
              "      display:flex;\n",
              "      gap: 12px;\n",
              "    }\n",
              "\n",
              "    .colab-df-convert {\n",
              "      background-color: #E8F0FE;\n",
              "      border: none;\n",
              "      border-radius: 50%;\n",
              "      cursor: pointer;\n",
              "      display: none;\n",
              "      fill: #1967D2;\n",
              "      height: 32px;\n",
              "      padding: 0 0 0 0;\n",
              "      width: 32px;\n",
              "    }\n",
              "\n",
              "    .colab-df-convert:hover {\n",
              "      background-color: #E2EBFA;\n",
              "      box-shadow: 0px 1px 2px rgba(60, 64, 67, 0.3), 0px 1px 3px 1px rgba(60, 64, 67, 0.15);\n",
              "      fill: #174EA6;\n",
              "    }\n",
              "\n",
              "    .colab-df-buttons div {\n",
              "      margin-bottom: 4px;\n",
              "    }\n",
              "\n",
              "    [theme=dark] .colab-df-convert {\n",
              "      background-color: #3B4455;\n",
              "      fill: #D2E3FC;\n",
              "    }\n",
              "\n",
              "    [theme=dark] .colab-df-convert:hover {\n",
              "      background-color: #434B5C;\n",
              "      box-shadow: 0px 1px 3px 1px rgba(0, 0, 0, 0.15);\n",
              "      filter: drop-shadow(0px 1px 2px rgba(0, 0, 0, 0.3));\n",
              "      fill: #FFFFFF;\n",
              "    }\n",
              "  </style>\n",
              "\n",
              "    <script>\n",
              "      const buttonEl =\n",
              "        document.querySelector('#df-a3cc3ff4-e107-4177-87bb-edc5ef55b4cf button.colab-df-convert');\n",
              "      buttonEl.style.display =\n",
              "        google.colab.kernel.accessAllowed ? 'block' : 'none';\n",
              "\n",
              "      async function convertToInteractive(key) {\n",
              "        const element = document.querySelector('#df-a3cc3ff4-e107-4177-87bb-edc5ef55b4cf');\n",
              "        const dataTable =\n",
              "          await google.colab.kernel.invokeFunction('convertToInteractive',\n",
              "                                                    [key], {});\n",
              "        if (!dataTable) return;\n",
              "\n",
              "        const docLinkHtml = 'Like what you see? Visit the ' +\n",
              "          '<a target=\"_blank\" href=https://colab.research.google.com/notebooks/data_table.ipynb>data table notebook</a>'\n",
              "          + ' to learn more about interactive tables.';\n",
              "        element.innerHTML = '';\n",
              "        dataTable['output_type'] = 'display_data';\n",
              "        await google.colab.output.renderOutput(dataTable, element);\n",
              "        const docLink = document.createElement('div');\n",
              "        docLink.innerHTML = docLinkHtml;\n",
              "        element.appendChild(docLink);\n",
              "      }\n",
              "    </script>\n",
              "  </div>\n",
              "\n",
              "\n",
              "<div id=\"df-fba1e233-b561-419f-be7d-62c977f0af1e\">\n",
              "  <button class=\"colab-df-quickchart\" onclick=\"quickchart('df-fba1e233-b561-419f-be7d-62c977f0af1e')\"\n",
              "            title=\"Suggest charts\"\n",
              "            style=\"display:none;\">\n",
              "\n",
              "<svg xmlns=\"http://www.w3.org/2000/svg\" height=\"24px\"viewBox=\"0 0 24 24\"\n",
              "     width=\"24px\">\n",
              "    <g>\n",
              "        <path d=\"M19 3H5c-1.1 0-2 .9-2 2v14c0 1.1.9 2 2 2h14c1.1 0 2-.9 2-2V5c0-1.1-.9-2-2-2zM9 17H7v-7h2v7zm4 0h-2V7h2v10zm4 0h-2v-4h2v4z\"/>\n",
              "    </g>\n",
              "</svg>\n",
              "  </button>\n",
              "\n",
              "<style>\n",
              "  .colab-df-quickchart {\n",
              "      --bg-color: #E8F0FE;\n",
              "      --fill-color: #1967D2;\n",
              "      --hover-bg-color: #E2EBFA;\n",
              "      --hover-fill-color: #174EA6;\n",
              "      --disabled-fill-color: #AAA;\n",
              "      --disabled-bg-color: #DDD;\n",
              "  }\n",
              "\n",
              "  [theme=dark] .colab-df-quickchart {\n",
              "      --bg-color: #3B4455;\n",
              "      --fill-color: #D2E3FC;\n",
              "      --hover-bg-color: #434B5C;\n",
              "      --hover-fill-color: #FFFFFF;\n",
              "      --disabled-bg-color: #3B4455;\n",
              "      --disabled-fill-color: #666;\n",
              "  }\n",
              "\n",
              "  .colab-df-quickchart {\n",
              "    background-color: var(--bg-color);\n",
              "    border: none;\n",
              "    border-radius: 50%;\n",
              "    cursor: pointer;\n",
              "    display: none;\n",
              "    fill: var(--fill-color);\n",
              "    height: 32px;\n",
              "    padding: 0;\n",
              "    width: 32px;\n",
              "  }\n",
              "\n",
              "  .colab-df-quickchart:hover {\n",
              "    background-color: var(--hover-bg-color);\n",
              "    box-shadow: 0 1px 2px rgba(60, 64, 67, 0.3), 0 1px 3px 1px rgba(60, 64, 67, 0.15);\n",
              "    fill: var(--button-hover-fill-color);\n",
              "  }\n",
              "\n",
              "  .colab-df-quickchart-complete:disabled,\n",
              "  .colab-df-quickchart-complete:disabled:hover {\n",
              "    background-color: var(--disabled-bg-color);\n",
              "    fill: var(--disabled-fill-color);\n",
              "    box-shadow: none;\n",
              "  }\n",
              "\n",
              "  .colab-df-spinner {\n",
              "    border: 2px solid var(--fill-color);\n",
              "    border-color: transparent;\n",
              "    border-bottom-color: var(--fill-color);\n",
              "    animation:\n",
              "      spin 1s steps(1) infinite;\n",
              "  }\n",
              "\n",
              "  @keyframes spin {\n",
              "    0% {\n",
              "      border-color: transparent;\n",
              "      border-bottom-color: var(--fill-color);\n",
              "      border-left-color: var(--fill-color);\n",
              "    }\n",
              "    20% {\n",
              "      border-color: transparent;\n",
              "      border-left-color: var(--fill-color);\n",
              "      border-top-color: var(--fill-color);\n",
              "    }\n",
              "    30% {\n",
              "      border-color: transparent;\n",
              "      border-left-color: var(--fill-color);\n",
              "      border-top-color: var(--fill-color);\n",
              "      border-right-color: var(--fill-color);\n",
              "    }\n",
              "    40% {\n",
              "      border-color: transparent;\n",
              "      border-right-color: var(--fill-color);\n",
              "      border-top-color: var(--fill-color);\n",
              "    }\n",
              "    60% {\n",
              "      border-color: transparent;\n",
              "      border-right-color: var(--fill-color);\n",
              "    }\n",
              "    80% {\n",
              "      border-color: transparent;\n",
              "      border-right-color: var(--fill-color);\n",
              "      border-bottom-color: var(--fill-color);\n",
              "    }\n",
              "    90% {\n",
              "      border-color: transparent;\n",
              "      border-bottom-color: var(--fill-color);\n",
              "    }\n",
              "  }\n",
              "</style>\n",
              "\n",
              "  <script>\n",
              "    async function quickchart(key) {\n",
              "      const quickchartButtonEl =\n",
              "        document.querySelector('#' + key + ' button');\n",
              "      quickchartButtonEl.disabled = true;  // To prevent multiple clicks.\n",
              "      quickchartButtonEl.classList.add('colab-df-spinner');\n",
              "      try {\n",
              "        const charts = await google.colab.kernel.invokeFunction(\n",
              "            'suggestCharts', [key], {});\n",
              "      } catch (error) {\n",
              "        console.error('Error during call to suggestCharts:', error);\n",
              "      }\n",
              "      quickchartButtonEl.classList.remove('colab-df-spinner');\n",
              "      quickchartButtonEl.classList.add('colab-df-quickchart-complete');\n",
              "    }\n",
              "    (() => {\n",
              "      let quickchartButtonEl =\n",
              "        document.querySelector('#df-fba1e233-b561-419f-be7d-62c977f0af1e button');\n",
              "      quickchartButtonEl.style.display =\n",
              "        google.colab.kernel.accessAllowed ? 'block' : 'none';\n",
              "    })();\n",
              "  </script>\n",
              "</div>\n",
              "\n",
              "    </div>\n",
              "  </div>\n"
            ],
            "text/plain": [
              "         id diagnosis  radius_mean  texture_mean  perimeter_mean  area_mean  \\\n",
              "0    842302         M        17.99         10.38          122.80     1001.0   \n",
              "1    842517         M        20.57         17.77          132.90     1326.0   \n",
              "2  84300903         M        19.69         21.25          130.00     1203.0   \n",
              "3  84348301         M       110.42         20.38           77.58      386.1   \n",
              "4  84358402         M        20.29         14.34          135.10     1297.0   \n",
              "\n",
              "   smoothness_mean  compactness_mean  concavity_mean  concave points_mean  \\\n",
              "0          0.11840           0.27760          0.3001              0.14710   \n",
              "1          0.08474           0.07864          0.0869              0.07017   \n",
              "2          0.10960           0.15990          0.1974              0.12790   \n",
              "3          0.14250           0.28390          0.2414              0.10520   \n",
              "4          0.10030           0.13280          0.1980              0.10430   \n",
              "\n",
              "   ...  radius_worst  texture_worst  perimeter_worst  area_worst  \\\n",
              "0  ...         25.38          17.33           184.60      2019.0   \n",
              "1  ...         24.99          23.41           158.80      1956.0   \n",
              "2  ...         23.57          25.53           152.50      1709.0   \n",
              "3  ...         14.91          26.50            98.87       567.7   \n",
              "4  ...         22.54          16.67           152.20      1575.0   \n",
              "\n",
              "   smoothness_worst  compactness_worst  concavity_worst  concave points_worst  \\\n",
              "0            0.1622             0.6656           0.7119                0.2654   \n",
              "1            0.1238             0.1866           0.2416                0.1860   \n",
              "2            0.1444             0.4245           0.4504                0.2430   \n",
              "3            0.2098             0.8663           0.6869                0.2575   \n",
              "4            0.1374             0.2050           0.4000                0.1625   \n",
              "\n",
              "   symmetry_worst  fractal_dimension_worst  \n",
              "0          0.4601                  0.11890  \n",
              "1          0.2750                  0.08902  \n",
              "2          0.3613                  0.08758  \n",
              "3          0.6638                  0.17300  \n",
              "4          0.2364                  0.07678  \n",
              "\n",
              "[5 rows x 32 columns]"
            ]
          },
          "execution_count": 11,
          "metadata": {},
          "output_type": "execute_result"
        }
      ],
      "source": [
        "dados.head()"
      ]
    },
    {
      "cell_type": "code",
      "execution_count": null,
      "metadata": {
        "id": "HRVbNHaR_QNY"
      },
      "outputs": [],
      "source": [
        "## calculo para detecção de outlier"
      ]
    },
    {
      "cell_type": "code",
      "execution_count": null,
      "metadata": {
        "id": "NGXKM9M9_Ccz"
      },
      "outputs": [],
      "source": [
        "# calcular a mediana da amostra\n",
        "mediana = dados.radius_mean.median()"
      ]
    },
    {
      "cell_type": "code",
      "execution_count": null,
      "metadata": {
        "id": "AGBZPmYm_T8-"
      },
      "outputs": [],
      "source": [
        "# mediana inferio. || valores abaixo da mediana\n",
        "medianaInferior = dados.radius_mean[dados.radius_mean < mediana].dropna().median()"
      ]
    },
    {
      "cell_type": "code",
      "execution_count": null,
      "metadata": {
        "id": "5VhCGoH7_h5N"
      },
      "outputs": [],
      "source": [
        "#mediana superior || valores acima da mediana\n",
        "medianaSuperior = dados.radius_mean[dados.radius_mean > mediana].dropna().median()"
      ]
    },
    {
      "cell_type": "code",
      "execution_count": null,
      "metadata": {
        "colab": {
          "base_uri": "https://localhost:8080/"
        },
        "id": "tsS8hgYVAQGq",
        "outputId": "6bf06a2b-0827-4cae-c350-511c306da5e6"
      },
      "outputs": [
        {
          "name": "stdout",
          "output_type": "stream",
          "text": [
            "13.38 11.705 16.05\n"
          ]
        }
      ],
      "source": [
        "print(mediana, medianaInferior, medianaSuperior)"
      ]
    },
    {
      "cell_type": "code",
      "execution_count": null,
      "metadata": {
        "id": "Cy-b8AJnApTE"
      },
      "outputs": [],
      "source": [
        "barreira_inferior = medianaInferior - 1.5*(medianaSuperior-medianaInferior)"
      ]
    },
    {
      "cell_type": "code",
      "execution_count": null,
      "metadata": {
        "id": "aphJGV07A8Gk"
      },
      "outputs": [],
      "source": [
        "barreira_superior = medianaSuperior + 1.5*(medianaSuperior-medianaInferior)"
      ]
    },
    {
      "cell_type": "code",
      "execution_count": null,
      "metadata": {
        "colab": {
          "base_uri": "https://localhost:8080/"
        },
        "id": "tDHrpybgBHP0",
        "outputId": "e709912d-927a-4e52-f9cb-a7f70f74ae35"
      },
      "outputs": [
        {
          "name": "stdout",
          "output_type": "stream",
          "text": [
            "5.187499999999999 22.567500000000003\n"
          ]
        }
      ],
      "source": [
        "print(barreira_inferior, barreira_superior)"
      ]
    },
    {
      "cell_type": "code",
      "execution_count": null,
      "metadata": {
        "colab": {
          "base_uri": "https://localhost:8080/"
        },
        "id": "08H5BF8iBQuI",
        "outputId": "4c7d87a1-ad72-43d4-d19d-ded919191c05"
      },
      "outputs": [
        {
          "data": {
            "text/plain": [
              "0      False\n",
              "1      False\n",
              "2      False\n",
              "3      False\n",
              "4      False\n",
              "       ...  \n",
              "564    False\n",
              "565    False\n",
              "566    False\n",
              "567    False\n",
              "568    False\n",
              "Name: radius_mean, Length: 569, dtype: bool"
            ]
          },
          "execution_count": 20,
          "metadata": {},
          "output_type": "execute_result"
        }
      ],
      "source": [
        "#abaixo do limite inferior\n",
        "dados.radius_mean < barreira_inferior"
      ]
    },
    {
      "cell_type": "code",
      "execution_count": null,
      "metadata": {
        "colab": {
          "base_uri": "https://localhost:8080/"
        },
        "id": "IyrIOMvMBcwq",
        "outputId": "c8c73710-ef8b-4d11-d5c5-016274f759d7"
      },
      "outputs": [
        {
          "data": {
            "text/plain": [
              "0      False\n",
              "1      False\n",
              "2      False\n",
              "3       True\n",
              "4      False\n",
              "       ...  \n",
              "564    False\n",
              "565    False\n",
              "566    False\n",
              "567    False\n",
              "568    False\n",
              "Name: radius_mean, Length: 569, dtype: bool"
            ]
          },
          "execution_count": 21,
          "metadata": {},
          "output_type": "execute_result"
        }
      ],
      "source": [
        "# acima do imite superior\n",
        "dados.radius_mean > barreira_superior"
      ]
    },
    {
      "cell_type": "code",
      "execution_count": null,
      "metadata": {
        "colab": {
          "base_uri": "https://localhost:8080/"
        },
        "id": "LyyE7PapBhyd",
        "outputId": "2ebb9e3a-2dbc-4ba3-8fad-5db44c45b469"
      },
      "outputs": [
        {
          "data": {
            "text/plain": [
              "Series([], Name: radius_mean, dtype: float64)"
            ]
          },
          "execution_count": 22,
          "metadata": {},
          "output_type": "execute_result"
        }
      ],
      "source": [
        "dados.radius_mean[dados.radius_mean < barreira_inferior]"
      ]
    },
    {
      "cell_type": "code",
      "execution_count": null,
      "metadata": {
        "colab": {
          "base_uri": "https://localhost:8080/"
        },
        "id": "GWO_ht61Bzj8",
        "outputId": "518158ee-1744-492a-8385-6229e81f737e"
      },
      "outputs": [
        {
          "data": {
            "text/plain": [
              "3      110.42\n",
              "7      130.71\n",
              "15     140.54\n",
              "30     180.63\n",
              "82      25.22\n",
              "122     24.25\n",
              "164     23.27\n",
              "180     27.22\n",
              "202     23.29\n",
              "212     28.11\n",
              "236     23.21\n",
              "339     23.51\n",
              "352     25.73\n",
              "461     27.42\n",
              "503     23.09\n",
              "521     24.63\n",
              "Name: radius_mean, dtype: float64"
            ]
          },
          "execution_count": 23,
          "metadata": {},
          "output_type": "execute_result"
        }
      ],
      "source": [
        "dados.radius_mean[dados.radius_mean > barreira_superior]"
      ]
    },
    {
      "cell_type": "code",
      "execution_count": null,
      "metadata": {
        "id": "m0uiW7sAB_rZ"
      },
      "outputs": [],
      "source": [
        "# exclusão dos outliers\n",
        "dados_limpos = dados.radius_mean[(dados.radius_mean > barreira_inferior)\n",
        "                                & (dados.radius_mean < barreira_superior)]"
      ]
    },
    {
      "cell_type": "code",
      "execution_count": null,
      "metadata": {
        "colab": {
          "base_uri": "https://localhost:8080/"
        },
        "id": "1u66n5DNCRtA",
        "outputId": "833d4d78-ff3c-44dc-9e78-8fca8cc03632"
      },
      "outputs": [
        {
          "name": "stdout",
          "output_type": "stream",
          "text": [
            "(569, 32) (553,)\n"
          ]
        }
      ],
      "source": [
        "print(dados.shape, dados_limpos.shape)"
      ]
    },
    {
      "cell_type": "code",
      "execution_count": null,
      "metadata": {
        "id": "H5rhRULGClWI"
      },
      "outputs": [],
      "source": [
        "# intervalo interquartil para identificar\n",
        "# media"
      ]
    },
    {
      "cell_type": "code",
      "execution_count": null,
      "metadata": {
        "id": "0LxpSK49Cwgy"
      },
      "outputs": [],
      "source": [
        "# meio da amostra\n",
        "mediana = dados.radius_mean.median()"
      ]
    },
    {
      "cell_type": "code",
      "execution_count": null,
      "metadata": {
        "id": "LeBqUThrC21R"
      },
      "outputs": [],
      "source": [
        "# divisão entre primeiro quartil e o segundo\n",
        "medianaInferior = dados.radius_mean.quantile(0.25)"
      ]
    },
    {
      "cell_type": "code",
      "execution_count": null,
      "metadata": {
        "id": "2Eg-S9XLDSBk"
      },
      "outputs": [],
      "source": [
        "# divisão entre o terceiro quartil e quarto quartil\n",
        "medianaSuperior = dados.radius_mean.quantile(0.75)"
      ]
    },
    {
      "cell_type": "code",
      "execution_count": null,
      "metadata": {
        "colab": {
          "base_uri": "https://localhost:8080/"
        },
        "id": "7YoyBkfTDf-7",
        "outputId": "5d0111d7-03cf-45d7-9011-a5313c50dea3"
      },
      "outputs": [
        {
          "name": "stdout",
          "output_type": "stream",
          "text": [
            "13.38 11.71 16.03\n"
          ]
        }
      ],
      "source": [
        "print(mediana, medianaInferior, medianaSuperior)"
      ]
    },
    {
      "cell_type": "code",
      "execution_count": null,
      "metadata": {
        "id": "IPXkRzUGD33O"
      },
      "outputs": [],
      "source": [
        "# tipos de transformações\n",
        "# colocar em raiz cubica, raizquadrada, log base diferente de 10\n",
        "#\n",
        "dados_r3 = np.cbrt(dados.radius_mean)\n"
      ]
    },
    {
      "cell_type": "code",
      "execution_count": null,
      "metadata": {
        "id": "lkqwCdFUEZkb"
      },
      "outputs": [],
      "source": [
        "\n",
        "me = dados_r3.median()"
      ]
    },
    {
      "cell_type": "code",
      "execution_count": null,
      "metadata": {
        "id": "ikKXfiaYEo2s"
      },
      "outputs": [],
      "source": [
        "mI = dados_r3.quantile(0.25)"
      ]
    },
    {
      "cell_type": "code",
      "execution_count": null,
      "metadata": {
        "id": "xCUVVN75EuOL"
      },
      "outputs": [],
      "source": [
        "mS = dados_r3.quantile(0.75)"
      ]
    },
    {
      "cell_type": "code",
      "execution_count": null,
      "metadata": {
        "id": "YVP8b4h0E4u7"
      },
      "outputs": [],
      "source": [
        "barreira_inferior = mI - 1.5*(mS-mI)"
      ]
    },
    {
      "cell_type": "code",
      "execution_count": null,
      "metadata": {
        "id": "0I-hQew3E4u-"
      },
      "outputs": [],
      "source": [
        "barreira_superior = mS + 1.5*(mS-mI)"
      ]
    },
    {
      "cell_type": "code",
      "execution_count": null,
      "metadata": {
        "colab": {
          "base_uri": "https://localhost:8080/"
        },
        "id": "GyGZF6XNEybT",
        "outputId": "6dafeda2-e5c1-4858-fc8e-db68d262458b"
      },
      "outputs": [
        {
          "data": {
            "text/plain": [
              "Series([], Name: radius_mean, dtype: float64)"
            ]
          },
          "execution_count": 37,
          "metadata": {},
          "output_type": "execute_result"
        }
      ],
      "source": [
        "dados_r3[dados_r3 < barreira_inferior]"
      ]
    },
    {
      "cell_type": "code",
      "execution_count": null,
      "metadata": {
        "colab": {
          "base_uri": "https://localhost:8080/"
        },
        "id": "GKHu4l-YFX51",
        "outputId": "33b18667-43f6-4dab-f663-d875241242a1"
      },
      "outputs": [
        {
          "data": {
            "text/plain": [
              "3      4.797510\n",
              "7      5.075003\n",
              "15     5.199162\n",
              "30     5.652796\n",
              "82     2.932570\n",
              "180    3.008126\n",
              "212    3.040560\n",
              "352    2.952206\n",
              "461    3.015476\n",
              "521    2.909521\n",
              "Name: radius_mean, dtype: float64"
            ]
          },
          "execution_count": 38,
          "metadata": {},
          "output_type": "execute_result"
        }
      ],
      "source": [
        "dados_r3[dados_r3 > barreira_superior]"
      ]
    },
    {
      "cell_type": "code",
      "execution_count": null,
      "metadata": {
        "id": "YDbYZiUFFmPJ"
      },
      "outputs": [],
      "source": [
        "# normalização dos dados\n",
        "# é muito comum para poder colocar\n",
        "#os dados em algoritmos de aprendizado de maquina\n",
        "#normalização max-min"
      ]
    },
    {
      "cell_type": "code",
      "execution_count": null,
      "metadata": {
        "id": "lORx8LscGjaN"
      },
      "outputs": [],
      "source": [
        "maior = dados.radius_mean.max()"
      ]
    },
    {
      "cell_type": "code",
      "execution_count": null,
      "metadata": {
        "id": "q-7krjnwGvzk"
      },
      "outputs": [],
      "source": [
        "menor = dados.radius_mean.min()"
      ]
    },
    {
      "cell_type": "code",
      "execution_count": null,
      "metadata": {
        "id": "_S-CqNj1Gzxs"
      },
      "outputs": [],
      "source": [
        "novo_max = 1"
      ]
    },
    {
      "cell_type": "code",
      "execution_count": null,
      "metadata": {
        "id": "AUQCirluG3sn"
      },
      "outputs": [],
      "source": [
        "novo_menor = 0"
      ]
    },
    {
      "cell_type": "code",
      "execution_count": null,
      "metadata": {
        "id": "PzYobiXZG56t"
      },
      "outputs": [],
      "source": [
        "novoValor = ((dados.radius_mean - menor)/(maior - menor)) * (novo_max -\n",
        "novo_menor) + novo_menor"
      ]
    },
    {
      "cell_type": "code",
      "execution_count": null,
      "metadata": {
        "colab": {
          "base_uri": "https://localhost:8080/"
        },
        "id": "Kf5pijTeHbZr",
        "outputId": "9b44563c-47ff-40c5-92da-a9bc3f597691"
      },
      "outputs": [
        {
          "data": {
            "text/plain": [
              "0      0.063398\n",
              "1      0.078256\n",
              "2      0.073188\n",
              "3      0.595679\n",
              "4      0.076643\n",
              "         ...   \n",
              "564    0.083957\n",
              "565    0.075722\n",
              "566    0.055393\n",
              "567    0.078428\n",
              "568    0.004486\n",
              "Name: radius_mean, Length: 569, dtype: float64"
            ]
          },
          "execution_count": 45,
          "metadata": {},
          "output_type": "execute_result"
        }
      ],
      "source": [
        "novoValor"
      ]
    },
    {
      "cell_type": "code",
      "execution_count": null,
      "metadata": {
        "id": "N57oiWy2HgtN"
      },
      "outputs": [],
      "source": [
        "# formula matematica de normalização\n",
        "# pode ser aplicada em qualquer intervalode de valores numericos\n",
        "def normalizaMinMax(intervalo, novo_min, novo_max):\n",
        "  menor = intervalo.min()\n",
        "  maior = intervalo.max()\n",
        "  novoValor = ((intervalo - menor)/(maior - menor)) * (novo_max -novo_min) + novo_min\n",
        "  return novoValor\n"
      ]
    },
    {
      "cell_type": "code",
      "execution_count": null,
      "metadata": {
        "colab": {
          "base_uri": "https://localhost:8080/"
        },
        "id": "9r-cXsALIGfk",
        "outputId": "0ecfb95f-b2da-4a26-d571-f970d6f95cd7"
      },
      "outputs": [
        {
          "data": {
            "text/plain": [
              "0     -0.272534\n",
              "1      0.003181\n",
              "2     -0.101166\n",
              "3     -0.794189\n",
              "4     -0.021421\n",
              "         ...   \n",
              "564    0.132980\n",
              "565   -0.051962\n",
              "566   -0.393765\n",
              "567   -0.048568\n",
              "568   -0.968187\n",
              "Name: area_mean, Length: 569, dtype: float64"
            ]
          },
          "execution_count": 47,
          "metadata": {},
          "output_type": "execute_result"
        }
      ],
      "source": [
        "normalizaMinMax(dados.area_mean, -1, 1)"
      ]
    },
    {
      "cell_type": "code",
      "execution_count": null,
      "metadata": {
        "id": "ukTaOn9VIQSM"
      },
      "outputs": [],
      "source": [
        "### exericicio\n",
        "## aplicar a função normalizaMinMax nem todos  campos numericos do\n",
        "#data Frame dados\n"
      ]
    },
    {
      "cell_type": "code",
      "execution_count": null,
      "metadata": {
        "colab": {
          "base_uri": "https://localhost:8080/"
        },
        "id": "GgESx1MaI1Jw",
        "outputId": "12a17f76-f7e7-428d-e8d7-1324ac6d8cff"
      },
      "outputs": [
        {
          "data": {
            "text/plain": [
              "id                           int64\n",
              "diagnosis                   object\n",
              "radius_mean                float64\n",
              "texture_mean               float64\n",
              "perimeter_mean             float64\n",
              "area_mean                  float64\n",
              "smoothness_mean            float64\n",
              "compactness_mean           float64\n",
              "concavity_mean             float64\n",
              "concave points_mean        float64\n",
              "symmetry_mean              float64\n",
              "fractal_dimension_mean     float64\n",
              "radius_se                  float64\n",
              "texture_se                 float64\n",
              "perimeter_se               float64\n",
              "area_se                    float64\n",
              "smoothness_se              float64\n",
              "compactness_se             float64\n",
              "concavity_se               float64\n",
              "concave points_se          float64\n",
              "symmetry_se                float64\n",
              "fractal_dimension_se       float64\n",
              "radius_worst               float64\n",
              "texture_worst              float64\n",
              "perimeter_worst            float64\n",
              "area_worst                 float64\n",
              "smoothness_worst           float64\n",
              "compactness_worst          float64\n",
              "concavity_worst            float64\n",
              "concave points_worst       float64\n",
              "symmetry_worst             float64\n",
              "fractal_dimension_worst    float64\n",
              "dtype: object"
            ]
          },
          "execution_count": 49,
          "metadata": {},
          "output_type": "execute_result"
        }
      ],
      "source": [
        "dados.dtypes"
      ]
    },
    {
      "cell_type": "code",
      "execution_count": null,
      "metadata": {
        "id": "YJTiRe0ELaMr"
      },
      "outputs": [],
      "source": [
        "# cortamos as duas primeiras colunas\n",
        "# id e o outro é um campo texto\n",
        "novo_dados = dados.iloc[:,2:]"
      ]
    },
    {
      "cell_type": "code",
      "execution_count": null,
      "metadata": {
        "colab": {
          "base_uri": "https://localhost:8080/",
          "height": 461
        },
        "id": "YP8mYe6-LgMN",
        "outputId": "323d0066-f5b8-4f33-f941-d382e6dd601a"
      },
      "outputs": [
        {
          "data": {
            "application/vnd.google.colaboratory.intrinsic+json": {
              "type": "dataframe",
              "variable_name": "novo_dados"
            },
            "text/html": [
              "\n",
              "  <div id=\"df-dc136313-d532-45f4-8857-f0a7b5a768f8\" class=\"colab-df-container\">\n",
              "    <div>\n",
              "<style scoped>\n",
              "    .dataframe tbody tr th:only-of-type {\n",
              "        vertical-align: middle;\n",
              "    }\n",
              "\n",
              "    .dataframe tbody tr th {\n",
              "        vertical-align: top;\n",
              "    }\n",
              "\n",
              "    .dataframe thead th {\n",
              "        text-align: right;\n",
              "    }\n",
              "</style>\n",
              "<table border=\"1\" class=\"dataframe\">\n",
              "  <thead>\n",
              "    <tr style=\"text-align: right;\">\n",
              "      <th></th>\n",
              "      <th>radius_mean</th>\n",
              "      <th>texture_mean</th>\n",
              "      <th>perimeter_mean</th>\n",
              "      <th>area_mean</th>\n",
              "      <th>smoothness_mean</th>\n",
              "      <th>compactness_mean</th>\n",
              "      <th>concavity_mean</th>\n",
              "      <th>concave points_mean</th>\n",
              "      <th>symmetry_mean</th>\n",
              "      <th>fractal_dimension_mean</th>\n",
              "      <th>...</th>\n",
              "      <th>radius_worst</th>\n",
              "      <th>texture_worst</th>\n",
              "      <th>perimeter_worst</th>\n",
              "      <th>area_worst</th>\n",
              "      <th>smoothness_worst</th>\n",
              "      <th>compactness_worst</th>\n",
              "      <th>concavity_worst</th>\n",
              "      <th>concave points_worst</th>\n",
              "      <th>symmetry_worst</th>\n",
              "      <th>fractal_dimension_worst</th>\n",
              "    </tr>\n",
              "  </thead>\n",
              "  <tbody>\n",
              "    <tr>\n",
              "      <th>0</th>\n",
              "      <td>17.99</td>\n",
              "      <td>10.38</td>\n",
              "      <td>122.80</td>\n",
              "      <td>1001.0</td>\n",
              "      <td>0.11840</td>\n",
              "      <td>0.27760</td>\n",
              "      <td>0.30010</td>\n",
              "      <td>0.14710</td>\n",
              "      <td>0.2419</td>\n",
              "      <td>0.07871</td>\n",
              "      <td>...</td>\n",
              "      <td>25.380</td>\n",
              "      <td>17.33</td>\n",
              "      <td>184.60</td>\n",
              "      <td>2019.0</td>\n",
              "      <td>0.16220</td>\n",
              "      <td>0.66560</td>\n",
              "      <td>0.7119</td>\n",
              "      <td>0.2654</td>\n",
              "      <td>0.4601</td>\n",
              "      <td>0.11890</td>\n",
              "    </tr>\n",
              "    <tr>\n",
              "      <th>1</th>\n",
              "      <td>20.57</td>\n",
              "      <td>17.77</td>\n",
              "      <td>132.90</td>\n",
              "      <td>1326.0</td>\n",
              "      <td>0.08474</td>\n",
              "      <td>0.07864</td>\n",
              "      <td>0.08690</td>\n",
              "      <td>0.07017</td>\n",
              "      <td>0.1812</td>\n",
              "      <td>0.05667</td>\n",
              "      <td>...</td>\n",
              "      <td>24.990</td>\n",
              "      <td>23.41</td>\n",
              "      <td>158.80</td>\n",
              "      <td>1956.0</td>\n",
              "      <td>0.12380</td>\n",
              "      <td>0.18660</td>\n",
              "      <td>0.2416</td>\n",
              "      <td>0.1860</td>\n",
              "      <td>0.2750</td>\n",
              "      <td>0.08902</td>\n",
              "    </tr>\n",
              "    <tr>\n",
              "      <th>2</th>\n",
              "      <td>19.69</td>\n",
              "      <td>21.25</td>\n",
              "      <td>130.00</td>\n",
              "      <td>1203.0</td>\n",
              "      <td>0.10960</td>\n",
              "      <td>0.15990</td>\n",
              "      <td>0.19740</td>\n",
              "      <td>0.12790</td>\n",
              "      <td>0.2069</td>\n",
              "      <td>0.05999</td>\n",
              "      <td>...</td>\n",
              "      <td>23.570</td>\n",
              "      <td>25.53</td>\n",
              "      <td>152.50</td>\n",
              "      <td>1709.0</td>\n",
              "      <td>0.14440</td>\n",
              "      <td>0.42450</td>\n",
              "      <td>0.4504</td>\n",
              "      <td>0.2430</td>\n",
              "      <td>0.3613</td>\n",
              "      <td>0.08758</td>\n",
              "    </tr>\n",
              "    <tr>\n",
              "      <th>3</th>\n",
              "      <td>110.42</td>\n",
              "      <td>20.38</td>\n",
              "      <td>77.58</td>\n",
              "      <td>386.1</td>\n",
              "      <td>0.14250</td>\n",
              "      <td>0.28390</td>\n",
              "      <td>0.24140</td>\n",
              "      <td>0.10520</td>\n",
              "      <td>0.2597</td>\n",
              "      <td>0.09744</td>\n",
              "      <td>...</td>\n",
              "      <td>14.910</td>\n",
              "      <td>26.50</td>\n",
              "      <td>98.87</td>\n",
              "      <td>567.7</td>\n",
              "      <td>0.20980</td>\n",
              "      <td>0.86630</td>\n",
              "      <td>0.6869</td>\n",
              "      <td>0.2575</td>\n",
              "      <td>0.6638</td>\n",
              "      <td>0.17300</td>\n",
              "    </tr>\n",
              "    <tr>\n",
              "      <th>4</th>\n",
              "      <td>20.29</td>\n",
              "      <td>14.34</td>\n",
              "      <td>135.10</td>\n",
              "      <td>1297.0</td>\n",
              "      <td>0.10030</td>\n",
              "      <td>0.13280</td>\n",
              "      <td>0.19800</td>\n",
              "      <td>0.10430</td>\n",
              "      <td>0.1809</td>\n",
              "      <td>0.05883</td>\n",
              "      <td>...</td>\n",
              "      <td>22.540</td>\n",
              "      <td>16.67</td>\n",
              "      <td>152.20</td>\n",
              "      <td>1575.0</td>\n",
              "      <td>0.13740</td>\n",
              "      <td>0.20500</td>\n",
              "      <td>0.4000</td>\n",
              "      <td>0.1625</td>\n",
              "      <td>0.2364</td>\n",
              "      <td>0.07678</td>\n",
              "    </tr>\n",
              "    <tr>\n",
              "      <th>...</th>\n",
              "      <td>...</td>\n",
              "      <td>...</td>\n",
              "      <td>...</td>\n",
              "      <td>...</td>\n",
              "      <td>...</td>\n",
              "      <td>...</td>\n",
              "      <td>...</td>\n",
              "      <td>...</td>\n",
              "      <td>...</td>\n",
              "      <td>...</td>\n",
              "      <td>...</td>\n",
              "      <td>...</td>\n",
              "      <td>...</td>\n",
              "      <td>...</td>\n",
              "      <td>...</td>\n",
              "      <td>...</td>\n",
              "      <td>...</td>\n",
              "      <td>...</td>\n",
              "      <td>...</td>\n",
              "      <td>...</td>\n",
              "      <td>...</td>\n",
              "    </tr>\n",
              "    <tr>\n",
              "      <th>564</th>\n",
              "      <td>21.56</td>\n",
              "      <td>22.39</td>\n",
              "      <td>142.00</td>\n",
              "      <td>1479.0</td>\n",
              "      <td>0.11100</td>\n",
              "      <td>0.11590</td>\n",
              "      <td>0.24390</td>\n",
              "      <td>0.13890</td>\n",
              "      <td>0.1726</td>\n",
              "      <td>0.05623</td>\n",
              "      <td>...</td>\n",
              "      <td>25.450</td>\n",
              "      <td>26.40</td>\n",
              "      <td>166.10</td>\n",
              "      <td>2027.0</td>\n",
              "      <td>0.14100</td>\n",
              "      <td>0.21130</td>\n",
              "      <td>0.4107</td>\n",
              "      <td>0.2216</td>\n",
              "      <td>0.2060</td>\n",
              "      <td>0.07115</td>\n",
              "    </tr>\n",
              "    <tr>\n",
              "      <th>565</th>\n",
              "      <td>20.13</td>\n",
              "      <td>28.25</td>\n",
              "      <td>131.20</td>\n",
              "      <td>1261.0</td>\n",
              "      <td>0.09780</td>\n",
              "      <td>0.10340</td>\n",
              "      <td>0.14400</td>\n",
              "      <td>0.09791</td>\n",
              "      <td>0.1752</td>\n",
              "      <td>0.05533</td>\n",
              "      <td>...</td>\n",
              "      <td>23.690</td>\n",
              "      <td>38.25</td>\n",
              "      <td>155.00</td>\n",
              "      <td>1731.0</td>\n",
              "      <td>0.11660</td>\n",
              "      <td>0.19220</td>\n",
              "      <td>0.3215</td>\n",
              "      <td>0.1628</td>\n",
              "      <td>0.2572</td>\n",
              "      <td>0.06637</td>\n",
              "    </tr>\n",
              "    <tr>\n",
              "      <th>566</th>\n",
              "      <td>16.60</td>\n",
              "      <td>28.08</td>\n",
              "      <td>108.30</td>\n",
              "      <td>858.1</td>\n",
              "      <td>0.08455</td>\n",
              "      <td>0.10230</td>\n",
              "      <td>0.09251</td>\n",
              "      <td>0.05302</td>\n",
              "      <td>0.1590</td>\n",
              "      <td>0.05648</td>\n",
              "      <td>...</td>\n",
              "      <td>18.980</td>\n",
              "      <td>34.12</td>\n",
              "      <td>126.70</td>\n",
              "      <td>1124.0</td>\n",
              "      <td>0.11390</td>\n",
              "      <td>0.30940</td>\n",
              "      <td>0.3403</td>\n",
              "      <td>0.1418</td>\n",
              "      <td>0.2218</td>\n",
              "      <td>0.07820</td>\n",
              "    </tr>\n",
              "    <tr>\n",
              "      <th>567</th>\n",
              "      <td>20.60</td>\n",
              "      <td>29.33</td>\n",
              "      <td>140.10</td>\n",
              "      <td>1265.0</td>\n",
              "      <td>0.11780</td>\n",
              "      <td>0.27700</td>\n",
              "      <td>0.35140</td>\n",
              "      <td>0.15200</td>\n",
              "      <td>0.2397</td>\n",
              "      <td>0.07016</td>\n",
              "      <td>...</td>\n",
              "      <td>25.740</td>\n",
              "      <td>39.42</td>\n",
              "      <td>184.60</td>\n",
              "      <td>1821.0</td>\n",
              "      <td>0.16500</td>\n",
              "      <td>0.86810</td>\n",
              "      <td>0.9387</td>\n",
              "      <td>0.2650</td>\n",
              "      <td>0.4087</td>\n",
              "      <td>0.12400</td>\n",
              "    </tr>\n",
              "    <tr>\n",
              "      <th>568</th>\n",
              "      <td>7.76</td>\n",
              "      <td>24.54</td>\n",
              "      <td>47.92</td>\n",
              "      <td>181.0</td>\n",
              "      <td>0.05263</td>\n",
              "      <td>0.04362</td>\n",
              "      <td>0.00000</td>\n",
              "      <td>0.00000</td>\n",
              "      <td>0.1587</td>\n",
              "      <td>0.05884</td>\n",
              "      <td>...</td>\n",
              "      <td>9.456</td>\n",
              "      <td>30.37</td>\n",
              "      <td>59.16</td>\n",
              "      <td>268.6</td>\n",
              "      <td>0.08996</td>\n",
              "      <td>0.06444</td>\n",
              "      <td>0.0000</td>\n",
              "      <td>0.0000</td>\n",
              "      <td>0.2871</td>\n",
              "      <td>0.07039</td>\n",
              "    </tr>\n",
              "  </tbody>\n",
              "</table>\n",
              "<p>569 rows × 30 columns</p>\n",
              "</div>\n",
              "    <div class=\"colab-df-buttons\">\n",
              "\n",
              "  <div class=\"colab-df-container\">\n",
              "    <button class=\"colab-df-convert\" onclick=\"convertToInteractive('df-dc136313-d532-45f4-8857-f0a7b5a768f8')\"\n",
              "            title=\"Convert this dataframe to an interactive table.\"\n",
              "            style=\"display:none;\">\n",
              "\n",
              "  <svg xmlns=\"http://www.w3.org/2000/svg\" height=\"24px\" viewBox=\"0 -960 960 960\">\n",
              "    <path d=\"M120-120v-720h720v720H120Zm60-500h600v-160H180v160Zm220 220h160v-160H400v160Zm0 220h160v-160H400v160ZM180-400h160v-160H180v160Zm440 0h160v-160H620v160ZM180-180h160v-160H180v160Zm440 0h160v-160H620v160Z\"/>\n",
              "  </svg>\n",
              "    </button>\n",
              "\n",
              "  <style>\n",
              "    .colab-df-container {\n",
              "      display:flex;\n",
              "      gap: 12px;\n",
              "    }\n",
              "\n",
              "    .colab-df-convert {\n",
              "      background-color: #E8F0FE;\n",
              "      border: none;\n",
              "      border-radius: 50%;\n",
              "      cursor: pointer;\n",
              "      display: none;\n",
              "      fill: #1967D2;\n",
              "      height: 32px;\n",
              "      padding: 0 0 0 0;\n",
              "      width: 32px;\n",
              "    }\n",
              "\n",
              "    .colab-df-convert:hover {\n",
              "      background-color: #E2EBFA;\n",
              "      box-shadow: 0px 1px 2px rgba(60, 64, 67, 0.3), 0px 1px 3px 1px rgba(60, 64, 67, 0.15);\n",
              "      fill: #174EA6;\n",
              "    }\n",
              "\n",
              "    .colab-df-buttons div {\n",
              "      margin-bottom: 4px;\n",
              "    }\n",
              "\n",
              "    [theme=dark] .colab-df-convert {\n",
              "      background-color: #3B4455;\n",
              "      fill: #D2E3FC;\n",
              "    }\n",
              "\n",
              "    [theme=dark] .colab-df-convert:hover {\n",
              "      background-color: #434B5C;\n",
              "      box-shadow: 0px 1px 3px 1px rgba(0, 0, 0, 0.15);\n",
              "      filter: drop-shadow(0px 1px 2px rgba(0, 0, 0, 0.3));\n",
              "      fill: #FFFFFF;\n",
              "    }\n",
              "  </style>\n",
              "\n",
              "    <script>\n",
              "      const buttonEl =\n",
              "        document.querySelector('#df-dc136313-d532-45f4-8857-f0a7b5a768f8 button.colab-df-convert');\n",
              "      buttonEl.style.display =\n",
              "        google.colab.kernel.accessAllowed ? 'block' : 'none';\n",
              "\n",
              "      async function convertToInteractive(key) {\n",
              "        const element = document.querySelector('#df-dc136313-d532-45f4-8857-f0a7b5a768f8');\n",
              "        const dataTable =\n",
              "          await google.colab.kernel.invokeFunction('convertToInteractive',\n",
              "                                                    [key], {});\n",
              "        if (!dataTable) return;\n",
              "\n",
              "        const docLinkHtml = 'Like what you see? Visit the ' +\n",
              "          '<a target=\"_blank\" href=https://colab.research.google.com/notebooks/data_table.ipynb>data table notebook</a>'\n",
              "          + ' to learn more about interactive tables.';\n",
              "        element.innerHTML = '';\n",
              "        dataTable['output_type'] = 'display_data';\n",
              "        await google.colab.output.renderOutput(dataTable, element);\n",
              "        const docLink = document.createElement('div');\n",
              "        docLink.innerHTML = docLinkHtml;\n",
              "        element.appendChild(docLink);\n",
              "      }\n",
              "    </script>\n",
              "  </div>\n",
              "\n",
              "\n",
              "<div id=\"df-efd438ce-083c-4938-9954-35fec6e615c4\">\n",
              "  <button class=\"colab-df-quickchart\" onclick=\"quickchart('df-efd438ce-083c-4938-9954-35fec6e615c4')\"\n",
              "            title=\"Suggest charts\"\n",
              "            style=\"display:none;\">\n",
              "\n",
              "<svg xmlns=\"http://www.w3.org/2000/svg\" height=\"24px\"viewBox=\"0 0 24 24\"\n",
              "     width=\"24px\">\n",
              "    <g>\n",
              "        <path d=\"M19 3H5c-1.1 0-2 .9-2 2v14c0 1.1.9 2 2 2h14c1.1 0 2-.9 2-2V5c0-1.1-.9-2-2-2zM9 17H7v-7h2v7zm4 0h-2V7h2v10zm4 0h-2v-4h2v4z\"/>\n",
              "    </g>\n",
              "</svg>\n",
              "  </button>\n",
              "\n",
              "<style>\n",
              "  .colab-df-quickchart {\n",
              "      --bg-color: #E8F0FE;\n",
              "      --fill-color: #1967D2;\n",
              "      --hover-bg-color: #E2EBFA;\n",
              "      --hover-fill-color: #174EA6;\n",
              "      --disabled-fill-color: #AAA;\n",
              "      --disabled-bg-color: #DDD;\n",
              "  }\n",
              "\n",
              "  [theme=dark] .colab-df-quickchart {\n",
              "      --bg-color: #3B4455;\n",
              "      --fill-color: #D2E3FC;\n",
              "      --hover-bg-color: #434B5C;\n",
              "      --hover-fill-color: #FFFFFF;\n",
              "      --disabled-bg-color: #3B4455;\n",
              "      --disabled-fill-color: #666;\n",
              "  }\n",
              "\n",
              "  .colab-df-quickchart {\n",
              "    background-color: var(--bg-color);\n",
              "    border: none;\n",
              "    border-radius: 50%;\n",
              "    cursor: pointer;\n",
              "    display: none;\n",
              "    fill: var(--fill-color);\n",
              "    height: 32px;\n",
              "    padding: 0;\n",
              "    width: 32px;\n",
              "  }\n",
              "\n",
              "  .colab-df-quickchart:hover {\n",
              "    background-color: var(--hover-bg-color);\n",
              "    box-shadow: 0 1px 2px rgba(60, 64, 67, 0.3), 0 1px 3px 1px rgba(60, 64, 67, 0.15);\n",
              "    fill: var(--button-hover-fill-color);\n",
              "  }\n",
              "\n",
              "  .colab-df-quickchart-complete:disabled,\n",
              "  .colab-df-quickchart-complete:disabled:hover {\n",
              "    background-color: var(--disabled-bg-color);\n",
              "    fill: var(--disabled-fill-color);\n",
              "    box-shadow: none;\n",
              "  }\n",
              "\n",
              "  .colab-df-spinner {\n",
              "    border: 2px solid var(--fill-color);\n",
              "    border-color: transparent;\n",
              "    border-bottom-color: var(--fill-color);\n",
              "    animation:\n",
              "      spin 1s steps(1) infinite;\n",
              "  }\n",
              "\n",
              "  @keyframes spin {\n",
              "    0% {\n",
              "      border-color: transparent;\n",
              "      border-bottom-color: var(--fill-color);\n",
              "      border-left-color: var(--fill-color);\n",
              "    }\n",
              "    20% {\n",
              "      border-color: transparent;\n",
              "      border-left-color: var(--fill-color);\n",
              "      border-top-color: var(--fill-color);\n",
              "    }\n",
              "    30% {\n",
              "      border-color: transparent;\n",
              "      border-left-color: var(--fill-color);\n",
              "      border-top-color: var(--fill-color);\n",
              "      border-right-color: var(--fill-color);\n",
              "    }\n",
              "    40% {\n",
              "      border-color: transparent;\n",
              "      border-right-color: var(--fill-color);\n",
              "      border-top-color: var(--fill-color);\n",
              "    }\n",
              "    60% {\n",
              "      border-color: transparent;\n",
              "      border-right-color: var(--fill-color);\n",
              "    }\n",
              "    80% {\n",
              "      border-color: transparent;\n",
              "      border-right-color: var(--fill-color);\n",
              "      border-bottom-color: var(--fill-color);\n",
              "    }\n",
              "    90% {\n",
              "      border-color: transparent;\n",
              "      border-bottom-color: var(--fill-color);\n",
              "    }\n",
              "  }\n",
              "</style>\n",
              "\n",
              "  <script>\n",
              "    async function quickchart(key) {\n",
              "      const quickchartButtonEl =\n",
              "        document.querySelector('#' + key + ' button');\n",
              "      quickchartButtonEl.disabled = true;  // To prevent multiple clicks.\n",
              "      quickchartButtonEl.classList.add('colab-df-spinner');\n",
              "      try {\n",
              "        const charts = await google.colab.kernel.invokeFunction(\n",
              "            'suggestCharts', [key], {});\n",
              "      } catch (error) {\n",
              "        console.error('Error during call to suggestCharts:', error);\n",
              "      }\n",
              "      quickchartButtonEl.classList.remove('colab-df-spinner');\n",
              "      quickchartButtonEl.classList.add('colab-df-quickchart-complete');\n",
              "    }\n",
              "    (() => {\n",
              "      let quickchartButtonEl =\n",
              "        document.querySelector('#df-efd438ce-083c-4938-9954-35fec6e615c4 button');\n",
              "      quickchartButtonEl.style.display =\n",
              "        google.colab.kernel.accessAllowed ? 'block' : 'none';\n",
              "    })();\n",
              "  </script>\n",
              "</div>\n",
              "\n",
              "  <div id=\"id_dac664a4-06d1-4b25-bbb7-330bd5ff61a5\">\n",
              "    <style>\n",
              "      .colab-df-generate {\n",
              "        background-color: #E8F0FE;\n",
              "        border: none;\n",
              "        border-radius: 50%;\n",
              "        cursor: pointer;\n",
              "        display: none;\n",
              "        fill: #1967D2;\n",
              "        height: 32px;\n",
              "        padding: 0 0 0 0;\n",
              "        width: 32px;\n",
              "      }\n",
              "\n",
              "      .colab-df-generate:hover {\n",
              "        background-color: #E2EBFA;\n",
              "        box-shadow: 0px 1px 2px rgba(60, 64, 67, 0.3), 0px 1px 3px 1px rgba(60, 64, 67, 0.15);\n",
              "        fill: #174EA6;\n",
              "      }\n",
              "\n",
              "      [theme=dark] .colab-df-generate {\n",
              "        background-color: #3B4455;\n",
              "        fill: #D2E3FC;\n",
              "      }\n",
              "\n",
              "      [theme=dark] .colab-df-generate:hover {\n",
              "        background-color: #434B5C;\n",
              "        box-shadow: 0px 1px 3px 1px rgba(0, 0, 0, 0.15);\n",
              "        filter: drop-shadow(0px 1px 2px rgba(0, 0, 0, 0.3));\n",
              "        fill: #FFFFFF;\n",
              "      }\n",
              "    </style>\n",
              "    <button class=\"colab-df-generate\" onclick=\"generateWithVariable('novo_dados')\"\n",
              "            title=\"Generate code using this dataframe.\"\n",
              "            style=\"display:none;\">\n",
              "\n",
              "  <svg xmlns=\"http://www.w3.org/2000/svg\" height=\"24px\"viewBox=\"0 0 24 24\"\n",
              "       width=\"24px\">\n",
              "    <path d=\"M7,19H8.4L18.45,9,17,7.55,7,17.6ZM5,21V16.75L18.45,3.32a2,2,0,0,1,2.83,0l1.4,1.43a1.91,1.91,0,0,1,.58,1.4,1.91,1.91,0,0,1-.58,1.4L9.25,21ZM18.45,9,17,7.55Zm-12,3A5.31,5.31,0,0,0,4.9,8.1,5.31,5.31,0,0,0,1,6.5,5.31,5.31,0,0,0,4.9,4.9,5.31,5.31,0,0,0,6.5,1,5.31,5.31,0,0,0,8.1,4.9,5.31,5.31,0,0,0,12,6.5,5.46,5.46,0,0,0,6.5,12Z\"/>\n",
              "  </svg>\n",
              "    </button>\n",
              "    <script>\n",
              "      (() => {\n",
              "      const buttonEl =\n",
              "        document.querySelector('#id_dac664a4-06d1-4b25-bbb7-330bd5ff61a5 button.colab-df-generate');\n",
              "      buttonEl.style.display =\n",
              "        google.colab.kernel.accessAllowed ? 'block' : 'none';\n",
              "\n",
              "      buttonEl.onclick = () => {\n",
              "        google.colab.notebook.generateWithVariable('novo_dados');\n",
              "      }\n",
              "      })();\n",
              "    </script>\n",
              "  </div>\n",
              "\n",
              "    </div>\n",
              "  </div>\n"
            ],
            "text/plain": [
              "     radius_mean  texture_mean  perimeter_mean  area_mean  smoothness_mean  \\\n",
              "0          17.99         10.38          122.80     1001.0          0.11840   \n",
              "1          20.57         17.77          132.90     1326.0          0.08474   \n",
              "2          19.69         21.25          130.00     1203.0          0.10960   \n",
              "3         110.42         20.38           77.58      386.1          0.14250   \n",
              "4          20.29         14.34          135.10     1297.0          0.10030   \n",
              "..           ...           ...             ...        ...              ...   \n",
              "564        21.56         22.39          142.00     1479.0          0.11100   \n",
              "565        20.13         28.25          131.20     1261.0          0.09780   \n",
              "566        16.60         28.08          108.30      858.1          0.08455   \n",
              "567        20.60         29.33          140.10     1265.0          0.11780   \n",
              "568         7.76         24.54           47.92      181.0          0.05263   \n",
              "\n",
              "     compactness_mean  concavity_mean  concave points_mean  symmetry_mean  \\\n",
              "0             0.27760         0.30010              0.14710         0.2419   \n",
              "1             0.07864         0.08690              0.07017         0.1812   \n",
              "2             0.15990         0.19740              0.12790         0.2069   \n",
              "3             0.28390         0.24140              0.10520         0.2597   \n",
              "4             0.13280         0.19800              0.10430         0.1809   \n",
              "..                ...             ...                  ...            ...   \n",
              "564           0.11590         0.24390              0.13890         0.1726   \n",
              "565           0.10340         0.14400              0.09791         0.1752   \n",
              "566           0.10230         0.09251              0.05302         0.1590   \n",
              "567           0.27700         0.35140              0.15200         0.2397   \n",
              "568           0.04362         0.00000              0.00000         0.1587   \n",
              "\n",
              "     fractal_dimension_mean  ...  radius_worst  texture_worst  \\\n",
              "0                   0.07871  ...        25.380          17.33   \n",
              "1                   0.05667  ...        24.990          23.41   \n",
              "2                   0.05999  ...        23.570          25.53   \n",
              "3                   0.09744  ...        14.910          26.50   \n",
              "4                   0.05883  ...        22.540          16.67   \n",
              "..                      ...  ...           ...            ...   \n",
              "564                 0.05623  ...        25.450          26.40   \n",
              "565                 0.05533  ...        23.690          38.25   \n",
              "566                 0.05648  ...        18.980          34.12   \n",
              "567                 0.07016  ...        25.740          39.42   \n",
              "568                 0.05884  ...         9.456          30.37   \n",
              "\n",
              "     perimeter_worst  area_worst  smoothness_worst  compactness_worst  \\\n",
              "0             184.60      2019.0           0.16220            0.66560   \n",
              "1             158.80      1956.0           0.12380            0.18660   \n",
              "2             152.50      1709.0           0.14440            0.42450   \n",
              "3              98.87       567.7           0.20980            0.86630   \n",
              "4             152.20      1575.0           0.13740            0.20500   \n",
              "..               ...         ...               ...                ...   \n",
              "564           166.10      2027.0           0.14100            0.21130   \n",
              "565           155.00      1731.0           0.11660            0.19220   \n",
              "566           126.70      1124.0           0.11390            0.30940   \n",
              "567           184.60      1821.0           0.16500            0.86810   \n",
              "568            59.16       268.6           0.08996            0.06444   \n",
              "\n",
              "     concavity_worst  concave points_worst  symmetry_worst  \\\n",
              "0             0.7119                0.2654          0.4601   \n",
              "1             0.2416                0.1860          0.2750   \n",
              "2             0.4504                0.2430          0.3613   \n",
              "3             0.6869                0.2575          0.6638   \n",
              "4             0.4000                0.1625          0.2364   \n",
              "..               ...                   ...             ...   \n",
              "564           0.4107                0.2216          0.2060   \n",
              "565           0.3215                0.1628          0.2572   \n",
              "566           0.3403                0.1418          0.2218   \n",
              "567           0.9387                0.2650          0.4087   \n",
              "568           0.0000                0.0000          0.2871   \n",
              "\n",
              "     fractal_dimension_worst  \n",
              "0                    0.11890  \n",
              "1                    0.08902  \n",
              "2                    0.08758  \n",
              "3                    0.17300  \n",
              "4                    0.07678  \n",
              "..                       ...  \n",
              "564                  0.07115  \n",
              "565                  0.06637  \n",
              "566                  0.07820  \n",
              "567                  0.12400  \n",
              "568                  0.07039  \n",
              "\n",
              "[569 rows x 30 columns]"
            ]
          },
          "execution_count": 51,
          "metadata": {},
          "output_type": "execute_result"
        }
      ],
      "source": [
        "novo_dados"
      ]
    },
    {
      "cell_type": "code",
      "execution_count": null,
      "metadata": {
        "id": "PH01mu2HLsk9"
      },
      "outputs": [],
      "source": [
        "# seleciona todos os campos numericos int, float ....\n",
        "Ndados = dados.select_dtypes(include='number')"
      ]
    },
    {
      "cell_type": "code",
      "execution_count": null,
      "metadata": {
        "id": "f64iii4GL-be"
      },
      "outputs": [],
      "source": [
        "#aplicar a função nas colunas"
      ]
    },
    {
      "cell_type": "code",
      "execution_count": null,
      "metadata": {
        "id": "ArO8YqrgMLBZ"
      },
      "outputs": [],
      "source": [
        "colunas = Ndados.columns"
      ]
    },
    {
      "cell_type": "code",
      "execution_count": null,
      "metadata": {
        "id": "Sr9V29Y0MbNy"
      },
      "outputs": [],
      "source": [
        "colunas = list(colunas)"
      ]
    },
    {
      "cell_type": "code",
      "execution_count": null,
      "metadata": {
        "id": "en9qZxiEMdmI"
      },
      "outputs": [],
      "source": [
        "for col in colunas:\n",
        "  k = normalizaMinMax(Ndados.loc[:, col],0,1)\n",
        "  Ndados[col] = k"
      ]
    },
    {
      "cell_type": "code",
      "execution_count": null,
      "metadata": {
        "colab": {
          "base_uri": "https://localhost:8080/",
          "height": 273
        },
        "id": "NydSDW-XNSQH",
        "outputId": "27855107-3c8d-4f5c-e64e-8a15df329e72"
      },
      "outputs": [
        {
          "data": {
            "application/vnd.google.colaboratory.intrinsic+json": {
              "type": "dataframe",
              "variable_name": "Ndados"
            },
            "text/html": [
              "\n",
              "  <div id=\"df-84838a20-c4d4-4e6c-bc6f-7abe0f9a20d9\" class=\"colab-df-container\">\n",
              "    <div>\n",
              "<style scoped>\n",
              "    .dataframe tbody tr th:only-of-type {\n",
              "        vertical-align: middle;\n",
              "    }\n",
              "\n",
              "    .dataframe tbody tr th {\n",
              "        vertical-align: top;\n",
              "    }\n",
              "\n",
              "    .dataframe thead th {\n",
              "        text-align: right;\n",
              "    }\n",
              "</style>\n",
              "<table border=\"1\" class=\"dataframe\">\n",
              "  <thead>\n",
              "    <tr style=\"text-align: right;\">\n",
              "      <th></th>\n",
              "      <th>id</th>\n",
              "      <th>radius_mean</th>\n",
              "      <th>texture_mean</th>\n",
              "      <th>perimeter_mean</th>\n",
              "      <th>area_mean</th>\n",
              "      <th>smoothness_mean</th>\n",
              "      <th>compactness_mean</th>\n",
              "      <th>concavity_mean</th>\n",
              "      <th>concave points_mean</th>\n",
              "      <th>symmetry_mean</th>\n",
              "      <th>...</th>\n",
              "      <th>radius_worst</th>\n",
              "      <th>texture_worst</th>\n",
              "      <th>perimeter_worst</th>\n",
              "      <th>area_worst</th>\n",
              "      <th>smoothness_worst</th>\n",
              "      <th>compactness_worst</th>\n",
              "      <th>concavity_worst</th>\n",
              "      <th>concave points_worst</th>\n",
              "      <th>symmetry_worst</th>\n",
              "      <th>fractal_dimension_worst</th>\n",
              "    </tr>\n",
              "  </thead>\n",
              "  <tbody>\n",
              "    <tr>\n",
              "      <th>0</th>\n",
              "      <td>0.000915</td>\n",
              "      <td>0.063398</td>\n",
              "      <td>0.022658</td>\n",
              "      <td>0.545989</td>\n",
              "      <td>0.363733</td>\n",
              "      <td>0.593753</td>\n",
              "      <td>0.792037</td>\n",
              "      <td>0.703140</td>\n",
              "      <td>0.731113</td>\n",
              "      <td>0.686364</td>\n",
              "      <td>...</td>\n",
              "      <td>0.620776</td>\n",
              "      <td>0.141525</td>\n",
              "      <td>0.668310</td>\n",
              "      <td>0.450698</td>\n",
              "      <td>0.601136</td>\n",
              "      <td>0.619292</td>\n",
              "      <td>0.568610</td>\n",
              "      <td>0.912027</td>\n",
              "      <td>0.598462</td>\n",
              "      <td>0.418864</td>\n",
              "    </tr>\n",
              "    <tr>\n",
              "      <th>1</th>\n",
              "      <td>0.000915</td>\n",
              "      <td>0.078256</td>\n",
              "      <td>0.272574</td>\n",
              "      <td>0.615783</td>\n",
              "      <td>0.501591</td>\n",
              "      <td>0.289880</td>\n",
              "      <td>0.181768</td>\n",
              "      <td>0.203608</td>\n",
              "      <td>0.348757</td>\n",
              "      <td>0.379798</td>\n",
              "      <td>...</td>\n",
              "      <td>0.606901</td>\n",
              "      <td>0.303571</td>\n",
              "      <td>0.539818</td>\n",
              "      <td>0.435214</td>\n",
              "      <td>0.347553</td>\n",
              "      <td>0.154563</td>\n",
              "      <td>0.192971</td>\n",
              "      <td>0.639175</td>\n",
              "      <td>0.233590</td>\n",
              "      <td>0.222878</td>\n",
              "    </tr>\n",
              "    <tr>\n",
              "      <th>2</th>\n",
              "      <td>0.092495</td>\n",
              "      <td>0.073188</td>\n",
              "      <td>0.390260</td>\n",
              "      <td>0.595743</td>\n",
              "      <td>0.449417</td>\n",
              "      <td>0.514309</td>\n",
              "      <td>0.431017</td>\n",
              "      <td>0.462512</td>\n",
              "      <td>0.635686</td>\n",
              "      <td>0.509596</td>\n",
              "      <td>...</td>\n",
              "      <td>0.556386</td>\n",
              "      <td>0.360075</td>\n",
              "      <td>0.508442</td>\n",
              "      <td>0.374508</td>\n",
              "      <td>0.483590</td>\n",
              "      <td>0.385375</td>\n",
              "      <td>0.359744</td>\n",
              "      <td>0.835052</td>\n",
              "      <td>0.403706</td>\n",
              "      <td>0.213433</td>\n",
              "    </tr>\n",
              "    <tr>\n",
              "      <th>3</th>\n",
              "      <td>0.092547</td>\n",
              "      <td>0.595679</td>\n",
              "      <td>0.360839</td>\n",
              "      <td>0.233501</td>\n",
              "      <td>0.102906</td>\n",
              "      <td>0.811321</td>\n",
              "      <td>0.811361</td>\n",
              "      <td>0.565604</td>\n",
              "      <td>0.522863</td>\n",
              "      <td>0.776263</td>\n",
              "      <td>...</td>\n",
              "      <td>0.248310</td>\n",
              "      <td>0.385928</td>\n",
              "      <td>0.241347</td>\n",
              "      <td>0.094008</td>\n",
              "      <td>0.915472</td>\n",
              "      <td>0.814012</td>\n",
              "      <td>0.548642</td>\n",
              "      <td>0.884880</td>\n",
              "      <td>1.000000</td>\n",
              "      <td>0.773711</td>\n",
              "    </tr>\n",
              "    <tr>\n",
              "      <th>4</th>\n",
              "      <td>0.092559</td>\n",
              "      <td>0.076643</td>\n",
              "      <td>0.156578</td>\n",
              "      <td>0.630986</td>\n",
              "      <td>0.489290</td>\n",
              "      <td>0.430351</td>\n",
              "      <td>0.347893</td>\n",
              "      <td>0.463918</td>\n",
              "      <td>0.518390</td>\n",
              "      <td>0.378283</td>\n",
              "      <td>...</td>\n",
              "      <td>0.519744</td>\n",
              "      <td>0.123934</td>\n",
              "      <td>0.506948</td>\n",
              "      <td>0.341575</td>\n",
              "      <td>0.437364</td>\n",
              "      <td>0.172415</td>\n",
              "      <td>0.319489</td>\n",
              "      <td>0.558419</td>\n",
              "      <td>0.157500</td>\n",
              "      <td>0.142595</td>\n",
              "    </tr>\n",
              "  </tbody>\n",
              "</table>\n",
              "<p>5 rows × 31 columns</p>\n",
              "</div>\n",
              "    <div class=\"colab-df-buttons\">\n",
              "\n",
              "  <div class=\"colab-df-container\">\n",
              "    <button class=\"colab-df-convert\" onclick=\"convertToInteractive('df-84838a20-c4d4-4e6c-bc6f-7abe0f9a20d9')\"\n",
              "            title=\"Convert this dataframe to an interactive table.\"\n",
              "            style=\"display:none;\">\n",
              "\n",
              "  <svg xmlns=\"http://www.w3.org/2000/svg\" height=\"24px\" viewBox=\"0 -960 960 960\">\n",
              "    <path d=\"M120-120v-720h720v720H120Zm60-500h600v-160H180v160Zm220 220h160v-160H400v160Zm0 220h160v-160H400v160ZM180-400h160v-160H180v160Zm440 0h160v-160H620v160ZM180-180h160v-160H180v160Zm440 0h160v-160H620v160Z\"/>\n",
              "  </svg>\n",
              "    </button>\n",
              "\n",
              "  <style>\n",
              "    .colab-df-container {\n",
              "      display:flex;\n",
              "      gap: 12px;\n",
              "    }\n",
              "\n",
              "    .colab-df-convert {\n",
              "      background-color: #E8F0FE;\n",
              "      border: none;\n",
              "      border-radius: 50%;\n",
              "      cursor: pointer;\n",
              "      display: none;\n",
              "      fill: #1967D2;\n",
              "      height: 32px;\n",
              "      padding: 0 0 0 0;\n",
              "      width: 32px;\n",
              "    }\n",
              "\n",
              "    .colab-df-convert:hover {\n",
              "      background-color: #E2EBFA;\n",
              "      box-shadow: 0px 1px 2px rgba(60, 64, 67, 0.3), 0px 1px 3px 1px rgba(60, 64, 67, 0.15);\n",
              "      fill: #174EA6;\n",
              "    }\n",
              "\n",
              "    .colab-df-buttons div {\n",
              "      margin-bottom: 4px;\n",
              "    }\n",
              "\n",
              "    [theme=dark] .colab-df-convert {\n",
              "      background-color: #3B4455;\n",
              "      fill: #D2E3FC;\n",
              "    }\n",
              "\n",
              "    [theme=dark] .colab-df-convert:hover {\n",
              "      background-color: #434B5C;\n",
              "      box-shadow: 0px 1px 3px 1px rgba(0, 0, 0, 0.15);\n",
              "      filter: drop-shadow(0px 1px 2px rgba(0, 0, 0, 0.3));\n",
              "      fill: #FFFFFF;\n",
              "    }\n",
              "  </style>\n",
              "\n",
              "    <script>\n",
              "      const buttonEl =\n",
              "        document.querySelector('#df-84838a20-c4d4-4e6c-bc6f-7abe0f9a20d9 button.colab-df-convert');\n",
              "      buttonEl.style.display =\n",
              "        google.colab.kernel.accessAllowed ? 'block' : 'none';\n",
              "\n",
              "      async function convertToInteractive(key) {\n",
              "        const element = document.querySelector('#df-84838a20-c4d4-4e6c-bc6f-7abe0f9a20d9');\n",
              "        const dataTable =\n",
              "          await google.colab.kernel.invokeFunction('convertToInteractive',\n",
              "                                                    [key], {});\n",
              "        if (!dataTable) return;\n",
              "\n",
              "        const docLinkHtml = 'Like what you see? Visit the ' +\n",
              "          '<a target=\"_blank\" href=https://colab.research.google.com/notebooks/data_table.ipynb>data table notebook</a>'\n",
              "          + ' to learn more about interactive tables.';\n",
              "        element.innerHTML = '';\n",
              "        dataTable['output_type'] = 'display_data';\n",
              "        await google.colab.output.renderOutput(dataTable, element);\n",
              "        const docLink = document.createElement('div');\n",
              "        docLink.innerHTML = docLinkHtml;\n",
              "        element.appendChild(docLink);\n",
              "      }\n",
              "    </script>\n",
              "  </div>\n",
              "\n",
              "\n",
              "<div id=\"df-e20e3932-9f88-40a3-b413-a69c4fe50cd0\">\n",
              "  <button class=\"colab-df-quickchart\" onclick=\"quickchart('df-e20e3932-9f88-40a3-b413-a69c4fe50cd0')\"\n",
              "            title=\"Suggest charts\"\n",
              "            style=\"display:none;\">\n",
              "\n",
              "<svg xmlns=\"http://www.w3.org/2000/svg\" height=\"24px\"viewBox=\"0 0 24 24\"\n",
              "     width=\"24px\">\n",
              "    <g>\n",
              "        <path d=\"M19 3H5c-1.1 0-2 .9-2 2v14c0 1.1.9 2 2 2h14c1.1 0 2-.9 2-2V5c0-1.1-.9-2-2-2zM9 17H7v-7h2v7zm4 0h-2V7h2v10zm4 0h-2v-4h2v4z\"/>\n",
              "    </g>\n",
              "</svg>\n",
              "  </button>\n",
              "\n",
              "<style>\n",
              "  .colab-df-quickchart {\n",
              "      --bg-color: #E8F0FE;\n",
              "      --fill-color: #1967D2;\n",
              "      --hover-bg-color: #E2EBFA;\n",
              "      --hover-fill-color: #174EA6;\n",
              "      --disabled-fill-color: #AAA;\n",
              "      --disabled-bg-color: #DDD;\n",
              "  }\n",
              "\n",
              "  [theme=dark] .colab-df-quickchart {\n",
              "      --bg-color: #3B4455;\n",
              "      --fill-color: #D2E3FC;\n",
              "      --hover-bg-color: #434B5C;\n",
              "      --hover-fill-color: #FFFFFF;\n",
              "      --disabled-bg-color: #3B4455;\n",
              "      --disabled-fill-color: #666;\n",
              "  }\n",
              "\n",
              "  .colab-df-quickchart {\n",
              "    background-color: var(--bg-color);\n",
              "    border: none;\n",
              "    border-radius: 50%;\n",
              "    cursor: pointer;\n",
              "    display: none;\n",
              "    fill: var(--fill-color);\n",
              "    height: 32px;\n",
              "    padding: 0;\n",
              "    width: 32px;\n",
              "  }\n",
              "\n",
              "  .colab-df-quickchart:hover {\n",
              "    background-color: var(--hover-bg-color);\n",
              "    box-shadow: 0 1px 2px rgba(60, 64, 67, 0.3), 0 1px 3px 1px rgba(60, 64, 67, 0.15);\n",
              "    fill: var(--button-hover-fill-color);\n",
              "  }\n",
              "\n",
              "  .colab-df-quickchart-complete:disabled,\n",
              "  .colab-df-quickchart-complete:disabled:hover {\n",
              "    background-color: var(--disabled-bg-color);\n",
              "    fill: var(--disabled-fill-color);\n",
              "    box-shadow: none;\n",
              "  }\n",
              "\n",
              "  .colab-df-spinner {\n",
              "    border: 2px solid var(--fill-color);\n",
              "    border-color: transparent;\n",
              "    border-bottom-color: var(--fill-color);\n",
              "    animation:\n",
              "      spin 1s steps(1) infinite;\n",
              "  }\n",
              "\n",
              "  @keyframes spin {\n",
              "    0% {\n",
              "      border-color: transparent;\n",
              "      border-bottom-color: var(--fill-color);\n",
              "      border-left-color: var(--fill-color);\n",
              "    }\n",
              "    20% {\n",
              "      border-color: transparent;\n",
              "      border-left-color: var(--fill-color);\n",
              "      border-top-color: var(--fill-color);\n",
              "    }\n",
              "    30% {\n",
              "      border-color: transparent;\n",
              "      border-left-color: var(--fill-color);\n",
              "      border-top-color: var(--fill-color);\n",
              "      border-right-color: var(--fill-color);\n",
              "    }\n",
              "    40% {\n",
              "      border-color: transparent;\n",
              "      border-right-color: var(--fill-color);\n",
              "      border-top-color: var(--fill-color);\n",
              "    }\n",
              "    60% {\n",
              "      border-color: transparent;\n",
              "      border-right-color: var(--fill-color);\n",
              "    }\n",
              "    80% {\n",
              "      border-color: transparent;\n",
              "      border-right-color: var(--fill-color);\n",
              "      border-bottom-color: var(--fill-color);\n",
              "    }\n",
              "    90% {\n",
              "      border-color: transparent;\n",
              "      border-bottom-color: var(--fill-color);\n",
              "    }\n",
              "  }\n",
              "</style>\n",
              "\n",
              "  <script>\n",
              "    async function quickchart(key) {\n",
              "      const quickchartButtonEl =\n",
              "        document.querySelector('#' + key + ' button');\n",
              "      quickchartButtonEl.disabled = true;  // To prevent multiple clicks.\n",
              "      quickchartButtonEl.classList.add('colab-df-spinner');\n",
              "      try {\n",
              "        const charts = await google.colab.kernel.invokeFunction(\n",
              "            'suggestCharts', [key], {});\n",
              "      } catch (error) {\n",
              "        console.error('Error during call to suggestCharts:', error);\n",
              "      }\n",
              "      quickchartButtonEl.classList.remove('colab-df-spinner');\n",
              "      quickchartButtonEl.classList.add('colab-df-quickchart-complete');\n",
              "    }\n",
              "    (() => {\n",
              "      let quickchartButtonEl =\n",
              "        document.querySelector('#df-e20e3932-9f88-40a3-b413-a69c4fe50cd0 button');\n",
              "      quickchartButtonEl.style.display =\n",
              "        google.colab.kernel.accessAllowed ? 'block' : 'none';\n",
              "    })();\n",
              "  </script>\n",
              "</div>\n",
              "\n",
              "    </div>\n",
              "  </div>\n"
            ],
            "text/plain": [
              "         id  radius_mean  texture_mean  perimeter_mean  area_mean  \\\n",
              "0  0.000915     0.063398      0.022658        0.545989   0.363733   \n",
              "1  0.000915     0.078256      0.272574        0.615783   0.501591   \n",
              "2  0.092495     0.073188      0.390260        0.595743   0.449417   \n",
              "3  0.092547     0.595679      0.360839        0.233501   0.102906   \n",
              "4  0.092559     0.076643      0.156578        0.630986   0.489290   \n",
              "\n",
              "   smoothness_mean  compactness_mean  concavity_mean  concave points_mean  \\\n",
              "0         0.593753          0.792037        0.703140             0.731113   \n",
              "1         0.289880          0.181768        0.203608             0.348757   \n",
              "2         0.514309          0.431017        0.462512             0.635686   \n",
              "3         0.811321          0.811361        0.565604             0.522863   \n",
              "4         0.430351          0.347893        0.463918             0.518390   \n",
              "\n",
              "   symmetry_mean  ...  radius_worst  texture_worst  perimeter_worst  \\\n",
              "0       0.686364  ...      0.620776       0.141525         0.668310   \n",
              "1       0.379798  ...      0.606901       0.303571         0.539818   \n",
              "2       0.509596  ...      0.556386       0.360075         0.508442   \n",
              "3       0.776263  ...      0.248310       0.385928         0.241347   \n",
              "4       0.378283  ...      0.519744       0.123934         0.506948   \n",
              "\n",
              "   area_worst  smoothness_worst  compactness_worst  concavity_worst  \\\n",
              "0    0.450698          0.601136           0.619292         0.568610   \n",
              "1    0.435214          0.347553           0.154563         0.192971   \n",
              "2    0.374508          0.483590           0.385375         0.359744   \n",
              "3    0.094008          0.915472           0.814012         0.548642   \n",
              "4    0.341575          0.437364           0.172415         0.319489   \n",
              "\n",
              "   concave points_worst  symmetry_worst  fractal_dimension_worst  \n",
              "0              0.912027        0.598462                 0.418864  \n",
              "1              0.639175        0.233590                 0.222878  \n",
              "2              0.835052        0.403706                 0.213433  \n",
              "3              0.884880        1.000000                 0.773711  \n",
              "4              0.558419        0.157500                 0.142595  \n",
              "\n",
              "[5 rows x 31 columns]"
            ]
          },
          "execution_count": 57,
          "metadata": {},
          "output_type": "execute_result"
        }
      ],
      "source": [
        "Ndados.head()"
      ]
    },
    {
      "cell_type": "code",
      "execution_count": null,
      "metadata": {
        "id": "0EhXew0oNeJh"
      },
      "outputs": [],
      "source": [
        "### dados categoricos e textuais\n",
        "# dos dados de entrada devem ser numeros\n",
        "# e  o que aconteve quando eu tenho texto tbm?"
      ]
    },
    {
      "cell_type": "code",
      "execution_count": null,
      "metadata": {
        "id": "XET3619tN5Ml"
      },
      "outputs": [],
      "source": [
        "# dados categoricos\n",
        "# dados em texto que se repetem e podem ser alterados ou ter um indice numerico associado a ele\n"
      ]
    },
    {
      "cell_type": "code",
      "execution_count": null,
      "metadata": {
        "id": "uQE0CQhnOe5g"
      },
      "outputs": [],
      "source": [
        "arquivo = \"/content/resultado.csv\""
      ]
    },
    {
      "cell_type": "code",
      "execution_count": null,
      "metadata": {
        "id": "vPCTevfgO0cc"
      },
      "outputs": [],
      "source": [
        "dfResult = pd.read_csv(arquivo)"
      ]
    },
    {
      "cell_type": "code",
      "execution_count": null,
      "metadata": {
        "colab": {
          "base_uri": "https://localhost:8080/"
        },
        "id": "bC55LE5PO56_",
        "outputId": "e5fe4ecd-6199-4e68-9cd0-b42498f03d6d"
      },
      "outputs": [
        {
          "data": {
            "text/plain": [
              "OrderDate     object\n",
              "Region        object\n",
              "Rep           object\n",
              "Item          object\n",
              "Units          int64\n",
              "UnitCost     float64\n",
              "Total        float64\n",
              "dtype: object"
            ]
          },
          "execution_count": 62,
          "metadata": {},
          "output_type": "execute_result"
        }
      ],
      "source": [
        "dfResult.dtypes"
      ]
    },
    {
      "cell_type": "code",
      "execution_count": null,
      "metadata": {
        "colab": {
          "base_uri": "https://localhost:8080/"
        },
        "id": "nFpdiaTmPJID",
        "outputId": "d7aecbc0-2073-4468-96ec-92da96d60b74"
      },
      "outputs": [
        {
          "data": {
            "text/plain": [
              "Central    24\n",
              "East       13\n",
              "West        6\n",
              "Name: Region, dtype: int64"
            ]
          },
          "execution_count": 63,
          "metadata": {},
          "output_type": "execute_result"
        }
      ],
      "source": [
        "# que é um dado object\n",
        "# tem valoers que se repetem\n",
        "dfResult.Region.value_counts()"
      ]
    },
    {
      "cell_type": "code",
      "execution_count": null,
      "metadata": {
        "id": "Xbj42tAyPZJ0"
      },
      "outputs": [],
      "source": [
        "# sobrescrever o valor que se repete por indices numericos\n",
        "df1 = dfResult.copy()"
      ]
    },
    {
      "cell_type": "code",
      "execution_count": null,
      "metadata": {
        "id": "zqCfhMKOPgTe"
      },
      "outputs": [],
      "source": [
        "substituicao = {\"Region\":{\"Central\":1,\"East\":2,\"West\":3}}"
      ]
    },
    {
      "cell_type": "code",
      "execution_count": null,
      "metadata": {
        "id": "5r5rs9K7Pkfs"
      },
      "outputs": [],
      "source": [
        "df1 = df1.replace(substituicao)"
      ]
    },
    {
      "cell_type": "code",
      "execution_count": null,
      "metadata": {
        "colab": {
          "base_uri": "https://localhost:8080/",
          "height": 206
        },
        "id": "XaW80q6cQBt1",
        "outputId": "9091020d-3fc7-4c06-acad-1c529f0d89b9"
      },
      "outputs": [
        {
          "data": {
            "application/vnd.google.colaboratory.intrinsic+json": {
              "summary": "{\n  \"name\": \"df1\",\n  \"rows\": 43,\n  \"fields\": [\n    {\n      \"column\": \"OrderDate\",\n      \"properties\": {\n        \"dtype\": \"object\",\n        \"num_unique_values\": 43,\n        \"samples\": [\n          \"9/27/2021\",\n          \"2/18/2021\",\n          \"3/7/2021\"\n        ],\n        \"semantic_type\": \"\",\n        \"description\": \"\"\n      }\n    },\n    {\n      \"column\": \"Region\",\n      \"properties\": {\n        \"dtype\": \"number\",\n        \"std\": 0,\n        \"min\": 1,\n        \"max\": 3,\n        \"num_unique_values\": 3,\n        \"samples\": [\n          2,\n          1,\n          3\n        ],\n        \"semantic_type\": \"\",\n        \"description\": \"\"\n      }\n    },\n    {\n      \"column\": \"Rep\",\n      \"properties\": {\n        \"dtype\": \"category\",\n        \"num_unique_values\": 11,\n        \"samples\": [\n          \"Andrews\",\n          \"Jones\",\n          \"Parent\"\n        ],\n        \"semantic_type\": \"\",\n        \"description\": \"\"\n      }\n    },\n    {\n      \"column\": \"Item\",\n      \"properties\": {\n        \"dtype\": \"category\",\n        \"num_unique_values\": 5,\n        \"samples\": [\n          \"Binder\",\n          \"Pen Set\",\n          \"Pen\"\n        ],\n        \"semantic_type\": \"\",\n        \"description\": \"\"\n      }\n    },\n    {\n      \"column\": \"Units\",\n      \"properties\": {\n        \"dtype\": \"number\",\n        \"std\": 30,\n        \"min\": 2,\n        \"max\": 96,\n        \"num_unique_values\": 37,\n        \"samples\": [\n          96,\n          16,\n          56\n        ],\n        \"semantic_type\": \"\",\n        \"description\": \"\"\n      }\n    },\n    {\n      \"column\": \"UnitCost\",\n      \"properties\": {\n        \"dtype\": \"number\",\n        \"std\": 47.34511769375187,\n        \"min\": 1.29,\n        \"max\": 275.0,\n        \"num_unique_values\": 12,\n        \"samples\": [\n          23.95,\n          12.49,\n          1.99\n        ],\n        \"semantic_type\": \"\",\n        \"description\": \"\"\n      }\n    },\n    {\n      \"column\": \"Total\",\n      \"properties\": {\n        \"dtype\": \"number\",\n        \"std\": 447.0221038416717,\n        \"min\": 9.03,\n        \"max\": 1879.06,\n        \"num_unique_values\": 41,\n        \"samples\": [\n          139.93,\n          250.0,\n          63.68\n        ],\n        \"semantic_type\": \"\",\n        \"description\": \"\"\n      }\n    }\n  ]\n}",
              "type": "dataframe",
              "variable_name": "df1"
            },
            "text/html": [
              "\n",
              "  <div id=\"df-e3ee9471-02fc-414c-9bd4-26d66d6646ef\" class=\"colab-df-container\">\n",
              "    <div>\n",
              "<style scoped>\n",
              "    .dataframe tbody tr th:only-of-type {\n",
              "        vertical-align: middle;\n",
              "    }\n",
              "\n",
              "    .dataframe tbody tr th {\n",
              "        vertical-align: top;\n",
              "    }\n",
              "\n",
              "    .dataframe thead th {\n",
              "        text-align: right;\n",
              "    }\n",
              "</style>\n",
              "<table border=\"1\" class=\"dataframe\">\n",
              "  <thead>\n",
              "    <tr style=\"text-align: right;\">\n",
              "      <th></th>\n",
              "      <th>OrderDate</th>\n",
              "      <th>Region</th>\n",
              "      <th>Rep</th>\n",
              "      <th>Item</th>\n",
              "      <th>Units</th>\n",
              "      <th>UnitCost</th>\n",
              "      <th>Total</th>\n",
              "    </tr>\n",
              "  </thead>\n",
              "  <tbody>\n",
              "    <tr>\n",
              "      <th>0</th>\n",
              "      <td>1/6/2020</td>\n",
              "      <td>2</td>\n",
              "      <td>Jones</td>\n",
              "      <td>Pencil</td>\n",
              "      <td>95</td>\n",
              "      <td>1.99</td>\n",
              "      <td>189.05</td>\n",
              "    </tr>\n",
              "    <tr>\n",
              "      <th>1</th>\n",
              "      <td>1/23/2020</td>\n",
              "      <td>1</td>\n",
              "      <td>Kivell</td>\n",
              "      <td>Binder</td>\n",
              "      <td>50</td>\n",
              "      <td>19.99</td>\n",
              "      <td>999.50</td>\n",
              "    </tr>\n",
              "    <tr>\n",
              "      <th>2</th>\n",
              "      <td>2/9/2020</td>\n",
              "      <td>1</td>\n",
              "      <td>Jardine</td>\n",
              "      <td>Pencil</td>\n",
              "      <td>36</td>\n",
              "      <td>4.99</td>\n",
              "      <td>179.64</td>\n",
              "    </tr>\n",
              "    <tr>\n",
              "      <th>3</th>\n",
              "      <td>2/26/2020</td>\n",
              "      <td>1</td>\n",
              "      <td>Gill</td>\n",
              "      <td>Pen</td>\n",
              "      <td>27</td>\n",
              "      <td>19.99</td>\n",
              "      <td>539.73</td>\n",
              "    </tr>\n",
              "    <tr>\n",
              "      <th>4</th>\n",
              "      <td>3/15/2020</td>\n",
              "      <td>3</td>\n",
              "      <td>Sorvino</td>\n",
              "      <td>Pencil</td>\n",
              "      <td>56</td>\n",
              "      <td>2.99</td>\n",
              "      <td>167.44</td>\n",
              "    </tr>\n",
              "  </tbody>\n",
              "</table>\n",
              "</div>\n",
              "    <div class=\"colab-df-buttons\">\n",
              "\n",
              "  <div class=\"colab-df-container\">\n",
              "    <button class=\"colab-df-convert\" onclick=\"convertToInteractive('df-e3ee9471-02fc-414c-9bd4-26d66d6646ef')\"\n",
              "            title=\"Convert this dataframe to an interactive table.\"\n",
              "            style=\"display:none;\">\n",
              "\n",
              "  <svg xmlns=\"http://www.w3.org/2000/svg\" height=\"24px\" viewBox=\"0 -960 960 960\">\n",
              "    <path d=\"M120-120v-720h720v720H120Zm60-500h600v-160H180v160Zm220 220h160v-160H400v160Zm0 220h160v-160H400v160ZM180-400h160v-160H180v160Zm440 0h160v-160H620v160ZM180-180h160v-160H180v160Zm440 0h160v-160H620v160Z\"/>\n",
              "  </svg>\n",
              "    </button>\n",
              "\n",
              "  <style>\n",
              "    .colab-df-container {\n",
              "      display:flex;\n",
              "      gap: 12px;\n",
              "    }\n",
              "\n",
              "    .colab-df-convert {\n",
              "      background-color: #E8F0FE;\n",
              "      border: none;\n",
              "      border-radius: 50%;\n",
              "      cursor: pointer;\n",
              "      display: none;\n",
              "      fill: #1967D2;\n",
              "      height: 32px;\n",
              "      padding: 0 0 0 0;\n",
              "      width: 32px;\n",
              "    }\n",
              "\n",
              "    .colab-df-convert:hover {\n",
              "      background-color: #E2EBFA;\n",
              "      box-shadow: 0px 1px 2px rgba(60, 64, 67, 0.3), 0px 1px 3px 1px rgba(60, 64, 67, 0.15);\n",
              "      fill: #174EA6;\n",
              "    }\n",
              "\n",
              "    .colab-df-buttons div {\n",
              "      margin-bottom: 4px;\n",
              "    }\n",
              "\n",
              "    [theme=dark] .colab-df-convert {\n",
              "      background-color: #3B4455;\n",
              "      fill: #D2E3FC;\n",
              "    }\n",
              "\n",
              "    [theme=dark] .colab-df-convert:hover {\n",
              "      background-color: #434B5C;\n",
              "      box-shadow: 0px 1px 3px 1px rgba(0, 0, 0, 0.15);\n",
              "      filter: drop-shadow(0px 1px 2px rgba(0, 0, 0, 0.3));\n",
              "      fill: #FFFFFF;\n",
              "    }\n",
              "  </style>\n",
              "\n",
              "    <script>\n",
              "      const buttonEl =\n",
              "        document.querySelector('#df-e3ee9471-02fc-414c-9bd4-26d66d6646ef button.colab-df-convert');\n",
              "      buttonEl.style.display =\n",
              "        google.colab.kernel.accessAllowed ? 'block' : 'none';\n",
              "\n",
              "      async function convertToInteractive(key) {\n",
              "        const element = document.querySelector('#df-e3ee9471-02fc-414c-9bd4-26d66d6646ef');\n",
              "        const dataTable =\n",
              "          await google.colab.kernel.invokeFunction('convertToInteractive',\n",
              "                                                    [key], {});\n",
              "        if (!dataTable) return;\n",
              "\n",
              "        const docLinkHtml = 'Like what you see? Visit the ' +\n",
              "          '<a target=\"_blank\" href=https://colab.research.google.com/notebooks/data_table.ipynb>data table notebook</a>'\n",
              "          + ' to learn more about interactive tables.';\n",
              "        element.innerHTML = '';\n",
              "        dataTable['output_type'] = 'display_data';\n",
              "        await google.colab.output.renderOutput(dataTable, element);\n",
              "        const docLink = document.createElement('div');\n",
              "        docLink.innerHTML = docLinkHtml;\n",
              "        element.appendChild(docLink);\n",
              "      }\n",
              "    </script>\n",
              "  </div>\n",
              "\n",
              "\n",
              "<div id=\"df-cab0ea3b-2d94-446d-bcaf-38cc23e1d847\">\n",
              "  <button class=\"colab-df-quickchart\" onclick=\"quickchart('df-cab0ea3b-2d94-446d-bcaf-38cc23e1d847')\"\n",
              "            title=\"Suggest charts\"\n",
              "            style=\"display:none;\">\n",
              "\n",
              "<svg xmlns=\"http://www.w3.org/2000/svg\" height=\"24px\"viewBox=\"0 0 24 24\"\n",
              "     width=\"24px\">\n",
              "    <g>\n",
              "        <path d=\"M19 3H5c-1.1 0-2 .9-2 2v14c0 1.1.9 2 2 2h14c1.1 0 2-.9 2-2V5c0-1.1-.9-2-2-2zM9 17H7v-7h2v7zm4 0h-2V7h2v10zm4 0h-2v-4h2v4z\"/>\n",
              "    </g>\n",
              "</svg>\n",
              "  </button>\n",
              "\n",
              "<style>\n",
              "  .colab-df-quickchart {\n",
              "      --bg-color: #E8F0FE;\n",
              "      --fill-color: #1967D2;\n",
              "      --hover-bg-color: #E2EBFA;\n",
              "      --hover-fill-color: #174EA6;\n",
              "      --disabled-fill-color: #AAA;\n",
              "      --disabled-bg-color: #DDD;\n",
              "  }\n",
              "\n",
              "  [theme=dark] .colab-df-quickchart {\n",
              "      --bg-color: #3B4455;\n",
              "      --fill-color: #D2E3FC;\n",
              "      --hover-bg-color: #434B5C;\n",
              "      --hover-fill-color: #FFFFFF;\n",
              "      --disabled-bg-color: #3B4455;\n",
              "      --disabled-fill-color: #666;\n",
              "  }\n",
              "\n",
              "  .colab-df-quickchart {\n",
              "    background-color: var(--bg-color);\n",
              "    border: none;\n",
              "    border-radius: 50%;\n",
              "    cursor: pointer;\n",
              "    display: none;\n",
              "    fill: var(--fill-color);\n",
              "    height: 32px;\n",
              "    padding: 0;\n",
              "    width: 32px;\n",
              "  }\n",
              "\n",
              "  .colab-df-quickchart:hover {\n",
              "    background-color: var(--hover-bg-color);\n",
              "    box-shadow: 0 1px 2px rgba(60, 64, 67, 0.3), 0 1px 3px 1px rgba(60, 64, 67, 0.15);\n",
              "    fill: var(--button-hover-fill-color);\n",
              "  }\n",
              "\n",
              "  .colab-df-quickchart-complete:disabled,\n",
              "  .colab-df-quickchart-complete:disabled:hover {\n",
              "    background-color: var(--disabled-bg-color);\n",
              "    fill: var(--disabled-fill-color);\n",
              "    box-shadow: none;\n",
              "  }\n",
              "\n",
              "  .colab-df-spinner {\n",
              "    border: 2px solid var(--fill-color);\n",
              "    border-color: transparent;\n",
              "    border-bottom-color: var(--fill-color);\n",
              "    animation:\n",
              "      spin 1s steps(1) infinite;\n",
              "  }\n",
              "\n",
              "  @keyframes spin {\n",
              "    0% {\n",
              "      border-color: transparent;\n",
              "      border-bottom-color: var(--fill-color);\n",
              "      border-left-color: var(--fill-color);\n",
              "    }\n",
              "    20% {\n",
              "      border-color: transparent;\n",
              "      border-left-color: var(--fill-color);\n",
              "      border-top-color: var(--fill-color);\n",
              "    }\n",
              "    30% {\n",
              "      border-color: transparent;\n",
              "      border-left-color: var(--fill-color);\n",
              "      border-top-color: var(--fill-color);\n",
              "      border-right-color: var(--fill-color);\n",
              "    }\n",
              "    40% {\n",
              "      border-color: transparent;\n",
              "      border-right-color: var(--fill-color);\n",
              "      border-top-color: var(--fill-color);\n",
              "    }\n",
              "    60% {\n",
              "      border-color: transparent;\n",
              "      border-right-color: var(--fill-color);\n",
              "    }\n",
              "    80% {\n",
              "      border-color: transparent;\n",
              "      border-right-color: var(--fill-color);\n",
              "      border-bottom-color: var(--fill-color);\n",
              "    }\n",
              "    90% {\n",
              "      border-color: transparent;\n",
              "      border-bottom-color: var(--fill-color);\n",
              "    }\n",
              "  }\n",
              "</style>\n",
              "\n",
              "  <script>\n",
              "    async function quickchart(key) {\n",
              "      const quickchartButtonEl =\n",
              "        document.querySelector('#' + key + ' button');\n",
              "      quickchartButtonEl.disabled = true;  // To prevent multiple clicks.\n",
              "      quickchartButtonEl.classList.add('colab-df-spinner');\n",
              "      try {\n",
              "        const charts = await google.colab.kernel.invokeFunction(\n",
              "            'suggestCharts', [key], {});\n",
              "      } catch (error) {\n",
              "        console.error('Error during call to suggestCharts:', error);\n",
              "      }\n",
              "      quickchartButtonEl.classList.remove('colab-df-spinner');\n",
              "      quickchartButtonEl.classList.add('colab-df-quickchart-complete');\n",
              "    }\n",
              "    (() => {\n",
              "      let quickchartButtonEl =\n",
              "        document.querySelector('#df-cab0ea3b-2d94-446d-bcaf-38cc23e1d847 button');\n",
              "      quickchartButtonEl.style.display =\n",
              "        google.colab.kernel.accessAllowed ? 'block' : 'none';\n",
              "    })();\n",
              "  </script>\n",
              "</div>\n",
              "\n",
              "    </div>\n",
              "  </div>\n"
            ],
            "text/plain": [
              "   OrderDate  Region      Rep    Item  Units  UnitCost   Total\n",
              "0   1/6/2020       2    Jones  Pencil     95      1.99  189.05\n",
              "1  1/23/2020       1   Kivell  Binder     50     19.99  999.50\n",
              "2   2/9/2020       1  Jardine  Pencil     36      4.99  179.64\n",
              "3  2/26/2020       1     Gill     Pen     27     19.99  539.73\n",
              "4  3/15/2020       3  Sorvino  Pencil     56      2.99  167.44"
            ]
          },
          "execution_count": 67,
          "metadata": {},
          "output_type": "execute_result"
        }
      ],
      "source": [
        "df1.head()"
      ]
    },
    {
      "cell_type": "code",
      "execution_count": null,
      "metadata": {
        "id": "5Cl-ketdQC2U"
      },
      "outputs": [],
      "source": [
        "# atribuir um rotulo numerico e tranformr isso em, dado\n",
        "#category\n"
      ]
    },
    {
      "cell_type": "code",
      "execution_count": null,
      "metadata": {
        "id": "ImyUVGZrQNNT"
      },
      "outputs": [],
      "source": [
        "df2 = dfResult.copy()"
      ]
    },
    {
      "cell_type": "code",
      "execution_count": null,
      "metadata": {
        "id": "LnMSSSC8QSRT"
      },
      "outputs": [],
      "source": [
        "df2.Region = df2.Region.astype('category')"
      ]
    },
    {
      "cell_type": "code",
      "execution_count": null,
      "metadata": {
        "colab": {
          "base_uri": "https://localhost:8080/"
        },
        "id": "OfEAt7GSQbPM",
        "outputId": "8897d187-5a75-4d10-e446-c4904a32d587"
      },
      "outputs": [
        {
          "data": {
            "text/plain": [
              "OrderDate      object\n",
              "Region       category\n",
              "Rep            object\n",
              "Item           object\n",
              "Units           int64\n",
              "UnitCost      float64\n",
              "Total         float64\n",
              "dtype: object"
            ]
          },
          "execution_count": 71,
          "metadata": {},
          "output_type": "execute_result"
        }
      ],
      "source": [
        "df2.dtypes"
      ]
    },
    {
      "cell_type": "code",
      "execution_count": null,
      "metadata": {
        "colab": {
          "base_uri": "https://localhost:8080/"
        },
        "id": "9c9Gqj3AQdYz",
        "outputId": "7f355e97-1669-46af-ad8b-2cef3ce3a477"
      },
      "outputs": [
        {
          "data": {
            "text/plain": [
              "0    1\n",
              "1    0\n",
              "2    0\n",
              "3    0\n",
              "4    2\n",
              "dtype: int8"
            ]
          },
          "execution_count": 72,
          "metadata": {},
          "output_type": "execute_result"
        }
      ],
      "source": [
        "df2.Region.cat.codes.head()"
      ]
    },
    {
      "cell_type": "code",
      "execution_count": null,
      "metadata": {
        "colab": {
          "base_uri": "https://localhost:8080/"
        },
        "id": "CCnh5vMdQp67",
        "outputId": "3e838951-97e6-40b7-eea6-213b5d1eaedd"
      },
      "outputs": [
        {
          "data": {
            "text/plain": [
              "0       East\n",
              "1    Central\n",
              "2    Central\n",
              "3    Central\n",
              "4       West\n",
              "Name: Region, dtype: category\n",
              "Categories (3, object): ['Central', 'East', 'West']"
            ]
          },
          "execution_count": 73,
          "metadata": {},
          "output_type": "execute_result"
        }
      ],
      "source": [
        "df2.Region.head()"
      ]
    },
    {
      "cell_type": "code",
      "execution_count": null,
      "metadata": {
        "id": "nDc6KAmfQ7F9"
      },
      "outputs": [],
      "source": [
        "# estatisca\n",
        "# cria variaveis dumies\n",
        "dumies = pd.get_dummies(df2.Region)"
      ]
    },
    {
      "cell_type": "code",
      "execution_count": null,
      "metadata": {
        "id": "jViGxIT4RsO7"
      },
      "outputs": [],
      "source": [
        "# criar um com as variaveis dumies de Region\n",
        "dfDumie = pd.get_dummies(df2, columns = [\"Region\"])"
      ]
    },
    {
      "cell_type": "code",
      "execution_count": null,
      "metadata": {
        "colab": {
          "base_uri": "https://localhost:8080/",
          "height": 226
        },
        "id": "N0MA7ydUSGce",
        "outputId": "1b525c06-24e7-4575-a54c-db3abde73c63"
      },
      "outputs": [
        {
          "data": {
            "application/vnd.google.colaboratory.intrinsic+json": {
              "summary": "{\n  \"name\": \"dfDumie\",\n  \"rows\": 43,\n  \"fields\": [\n    {\n      \"column\": \"OrderDate\",\n      \"properties\": {\n        \"dtype\": \"object\",\n        \"num_unique_values\": 43,\n        \"samples\": [\n          \"9/27/2021\",\n          \"2/18/2021\",\n          \"3/7/2021\"\n        ],\n        \"semantic_type\": \"\",\n        \"description\": \"\"\n      }\n    },\n    {\n      \"column\": \"Rep\",\n      \"properties\": {\n        \"dtype\": \"category\",\n        \"num_unique_values\": 11,\n        \"samples\": [\n          \"Andrews\",\n          \"Jones\",\n          \"Parent\"\n        ],\n        \"semantic_type\": \"\",\n        \"description\": \"\"\n      }\n    },\n    {\n      \"column\": \"Item\",\n      \"properties\": {\n        \"dtype\": \"category\",\n        \"num_unique_values\": 5,\n        \"samples\": [\n          \"Binder\",\n          \"Pen Set\",\n          \"Pen\"\n        ],\n        \"semantic_type\": \"\",\n        \"description\": \"\"\n      }\n    },\n    {\n      \"column\": \"Units\",\n      \"properties\": {\n        \"dtype\": \"number\",\n        \"std\": 30,\n        \"min\": 2,\n        \"max\": 96,\n        \"num_unique_values\": 37,\n        \"samples\": [\n          96,\n          16,\n          56\n        ],\n        \"semantic_type\": \"\",\n        \"description\": \"\"\n      }\n    },\n    {\n      \"column\": \"UnitCost\",\n      \"properties\": {\n        \"dtype\": \"number\",\n        \"std\": 47.34511769375187,\n        \"min\": 1.29,\n        \"max\": 275.0,\n        \"num_unique_values\": 12,\n        \"samples\": [\n          23.95,\n          12.49,\n          1.99\n        ],\n        \"semantic_type\": \"\",\n        \"description\": \"\"\n      }\n    },\n    {\n      \"column\": \"Total\",\n      \"properties\": {\n        \"dtype\": \"number\",\n        \"std\": 447.0221038416717,\n        \"min\": 9.03,\n        \"max\": 1879.06,\n        \"num_unique_values\": 41,\n        \"samples\": [\n          139.93,\n          250.0,\n          63.68\n        ],\n        \"semantic_type\": \"\",\n        \"description\": \"\"\n      }\n    },\n    {\n      \"column\": \"Region_Central\",\n      \"properties\": {\n        \"dtype\": \"uint8\",\n        \"num_unique_values\": 2,\n        \"samples\": [\n          1,\n          0\n        ],\n        \"semantic_type\": \"\",\n        \"description\": \"\"\n      }\n    },\n    {\n      \"column\": \"Region_East\",\n      \"properties\": {\n        \"dtype\": \"uint8\",\n        \"num_unique_values\": 2,\n        \"samples\": [\n          0,\n          1\n        ],\n        \"semantic_type\": \"\",\n        \"description\": \"\"\n      }\n    },\n    {\n      \"column\": \"Region_West\",\n      \"properties\": {\n        \"dtype\": \"uint8\",\n        \"num_unique_values\": 2,\n        \"samples\": [\n          1,\n          0\n        ],\n        \"semantic_type\": \"\",\n        \"description\": \"\"\n      }\n    }\n  ]\n}",
              "type": "dataframe",
              "variable_name": "dfDumie"
            },
            "text/html": [
              "\n",
              "  <div id=\"df-2153f651-8fd6-4909-9ec2-f14ea9c90b0b\" class=\"colab-df-container\">\n",
              "    <div>\n",
              "<style scoped>\n",
              "    .dataframe tbody tr th:only-of-type {\n",
              "        vertical-align: middle;\n",
              "    }\n",
              "\n",
              "    .dataframe tbody tr th {\n",
              "        vertical-align: top;\n",
              "    }\n",
              "\n",
              "    .dataframe thead th {\n",
              "        text-align: right;\n",
              "    }\n",
              "</style>\n",
              "<table border=\"1\" class=\"dataframe\">\n",
              "  <thead>\n",
              "    <tr style=\"text-align: right;\">\n",
              "      <th></th>\n",
              "      <th>OrderDate</th>\n",
              "      <th>Rep</th>\n",
              "      <th>Item</th>\n",
              "      <th>Units</th>\n",
              "      <th>UnitCost</th>\n",
              "      <th>Total</th>\n",
              "      <th>Region_Central</th>\n",
              "      <th>Region_East</th>\n",
              "      <th>Region_West</th>\n",
              "    </tr>\n",
              "  </thead>\n",
              "  <tbody>\n",
              "    <tr>\n",
              "      <th>0</th>\n",
              "      <td>1/6/2020</td>\n",
              "      <td>Jones</td>\n",
              "      <td>Pencil</td>\n",
              "      <td>95</td>\n",
              "      <td>1.99</td>\n",
              "      <td>189.05</td>\n",
              "      <td>0</td>\n",
              "      <td>1</td>\n",
              "      <td>0</td>\n",
              "    </tr>\n",
              "    <tr>\n",
              "      <th>1</th>\n",
              "      <td>1/23/2020</td>\n",
              "      <td>Kivell</td>\n",
              "      <td>Binder</td>\n",
              "      <td>50</td>\n",
              "      <td>19.99</td>\n",
              "      <td>999.50</td>\n",
              "      <td>1</td>\n",
              "      <td>0</td>\n",
              "      <td>0</td>\n",
              "    </tr>\n",
              "    <tr>\n",
              "      <th>2</th>\n",
              "      <td>2/9/2020</td>\n",
              "      <td>Jardine</td>\n",
              "      <td>Pencil</td>\n",
              "      <td>36</td>\n",
              "      <td>4.99</td>\n",
              "      <td>179.64</td>\n",
              "      <td>1</td>\n",
              "      <td>0</td>\n",
              "      <td>0</td>\n",
              "    </tr>\n",
              "    <tr>\n",
              "      <th>3</th>\n",
              "      <td>2/26/2020</td>\n",
              "      <td>Gill</td>\n",
              "      <td>Pen</td>\n",
              "      <td>27</td>\n",
              "      <td>19.99</td>\n",
              "      <td>539.73</td>\n",
              "      <td>1</td>\n",
              "      <td>0</td>\n",
              "      <td>0</td>\n",
              "    </tr>\n",
              "    <tr>\n",
              "      <th>4</th>\n",
              "      <td>3/15/2020</td>\n",
              "      <td>Sorvino</td>\n",
              "      <td>Pencil</td>\n",
              "      <td>56</td>\n",
              "      <td>2.99</td>\n",
              "      <td>167.44</td>\n",
              "      <td>0</td>\n",
              "      <td>0</td>\n",
              "      <td>1</td>\n",
              "    </tr>\n",
              "  </tbody>\n",
              "</table>\n",
              "</div>\n",
              "    <div class=\"colab-df-buttons\">\n",
              "\n",
              "  <div class=\"colab-df-container\">\n",
              "    <button class=\"colab-df-convert\" onclick=\"convertToInteractive('df-2153f651-8fd6-4909-9ec2-f14ea9c90b0b')\"\n",
              "            title=\"Convert this dataframe to an interactive table.\"\n",
              "            style=\"display:none;\">\n",
              "\n",
              "  <svg xmlns=\"http://www.w3.org/2000/svg\" height=\"24px\" viewBox=\"0 -960 960 960\">\n",
              "    <path d=\"M120-120v-720h720v720H120Zm60-500h600v-160H180v160Zm220 220h160v-160H400v160Zm0 220h160v-160H400v160ZM180-400h160v-160H180v160Zm440 0h160v-160H620v160ZM180-180h160v-160H180v160Zm440 0h160v-160H620v160Z\"/>\n",
              "  </svg>\n",
              "    </button>\n",
              "\n",
              "  <style>\n",
              "    .colab-df-container {\n",
              "      display:flex;\n",
              "      gap: 12px;\n",
              "    }\n",
              "\n",
              "    .colab-df-convert {\n",
              "      background-color: #E8F0FE;\n",
              "      border: none;\n",
              "      border-radius: 50%;\n",
              "      cursor: pointer;\n",
              "      display: none;\n",
              "      fill: #1967D2;\n",
              "      height: 32px;\n",
              "      padding: 0 0 0 0;\n",
              "      width: 32px;\n",
              "    }\n",
              "\n",
              "    .colab-df-convert:hover {\n",
              "      background-color: #E2EBFA;\n",
              "      box-shadow: 0px 1px 2px rgba(60, 64, 67, 0.3), 0px 1px 3px 1px rgba(60, 64, 67, 0.15);\n",
              "      fill: #174EA6;\n",
              "    }\n",
              "\n",
              "    .colab-df-buttons div {\n",
              "      margin-bottom: 4px;\n",
              "    }\n",
              "\n",
              "    [theme=dark] .colab-df-convert {\n",
              "      background-color: #3B4455;\n",
              "      fill: #D2E3FC;\n",
              "    }\n",
              "\n",
              "    [theme=dark] .colab-df-convert:hover {\n",
              "      background-color: #434B5C;\n",
              "      box-shadow: 0px 1px 3px 1px rgba(0, 0, 0, 0.15);\n",
              "      filter: drop-shadow(0px 1px 2px rgba(0, 0, 0, 0.3));\n",
              "      fill: #FFFFFF;\n",
              "    }\n",
              "  </style>\n",
              "\n",
              "    <script>\n",
              "      const buttonEl =\n",
              "        document.querySelector('#df-2153f651-8fd6-4909-9ec2-f14ea9c90b0b button.colab-df-convert');\n",
              "      buttonEl.style.display =\n",
              "        google.colab.kernel.accessAllowed ? 'block' : 'none';\n",
              "\n",
              "      async function convertToInteractive(key) {\n",
              "        const element = document.querySelector('#df-2153f651-8fd6-4909-9ec2-f14ea9c90b0b');\n",
              "        const dataTable =\n",
              "          await google.colab.kernel.invokeFunction('convertToInteractive',\n",
              "                                                    [key], {});\n",
              "        if (!dataTable) return;\n",
              "\n",
              "        const docLinkHtml = 'Like what you see? Visit the ' +\n",
              "          '<a target=\"_blank\" href=https://colab.research.google.com/notebooks/data_table.ipynb>data table notebook</a>'\n",
              "          + ' to learn more about interactive tables.';\n",
              "        element.innerHTML = '';\n",
              "        dataTable['output_type'] = 'display_data';\n",
              "        await google.colab.output.renderOutput(dataTable, element);\n",
              "        const docLink = document.createElement('div');\n",
              "        docLink.innerHTML = docLinkHtml;\n",
              "        element.appendChild(docLink);\n",
              "      }\n",
              "    </script>\n",
              "  </div>\n",
              "\n",
              "\n",
              "<div id=\"df-dc3594f4-2a28-47ae-a369-fd141f164320\">\n",
              "  <button class=\"colab-df-quickchart\" onclick=\"quickchart('df-dc3594f4-2a28-47ae-a369-fd141f164320')\"\n",
              "            title=\"Suggest charts\"\n",
              "            style=\"display:none;\">\n",
              "\n",
              "<svg xmlns=\"http://www.w3.org/2000/svg\" height=\"24px\"viewBox=\"0 0 24 24\"\n",
              "     width=\"24px\">\n",
              "    <g>\n",
              "        <path d=\"M19 3H5c-1.1 0-2 .9-2 2v14c0 1.1.9 2 2 2h14c1.1 0 2-.9 2-2V5c0-1.1-.9-2-2-2zM9 17H7v-7h2v7zm4 0h-2V7h2v10zm4 0h-2v-4h2v4z\"/>\n",
              "    </g>\n",
              "</svg>\n",
              "  </button>\n",
              "\n",
              "<style>\n",
              "  .colab-df-quickchart {\n",
              "      --bg-color: #E8F0FE;\n",
              "      --fill-color: #1967D2;\n",
              "      --hover-bg-color: #E2EBFA;\n",
              "      --hover-fill-color: #174EA6;\n",
              "      --disabled-fill-color: #AAA;\n",
              "      --disabled-bg-color: #DDD;\n",
              "  }\n",
              "\n",
              "  [theme=dark] .colab-df-quickchart {\n",
              "      --bg-color: #3B4455;\n",
              "      --fill-color: #D2E3FC;\n",
              "      --hover-bg-color: #434B5C;\n",
              "      --hover-fill-color: #FFFFFF;\n",
              "      --disabled-bg-color: #3B4455;\n",
              "      --disabled-fill-color: #666;\n",
              "  }\n",
              "\n",
              "  .colab-df-quickchart {\n",
              "    background-color: var(--bg-color);\n",
              "    border: none;\n",
              "    border-radius: 50%;\n",
              "    cursor: pointer;\n",
              "    display: none;\n",
              "    fill: var(--fill-color);\n",
              "    height: 32px;\n",
              "    padding: 0;\n",
              "    width: 32px;\n",
              "  }\n",
              "\n",
              "  .colab-df-quickchart:hover {\n",
              "    background-color: var(--hover-bg-color);\n",
              "    box-shadow: 0 1px 2px rgba(60, 64, 67, 0.3), 0 1px 3px 1px rgba(60, 64, 67, 0.15);\n",
              "    fill: var(--button-hover-fill-color);\n",
              "  }\n",
              "\n",
              "  .colab-df-quickchart-complete:disabled,\n",
              "  .colab-df-quickchart-complete:disabled:hover {\n",
              "    background-color: var(--disabled-bg-color);\n",
              "    fill: var(--disabled-fill-color);\n",
              "    box-shadow: none;\n",
              "  }\n",
              "\n",
              "  .colab-df-spinner {\n",
              "    border: 2px solid var(--fill-color);\n",
              "    border-color: transparent;\n",
              "    border-bottom-color: var(--fill-color);\n",
              "    animation:\n",
              "      spin 1s steps(1) infinite;\n",
              "  }\n",
              "\n",
              "  @keyframes spin {\n",
              "    0% {\n",
              "      border-color: transparent;\n",
              "      border-bottom-color: var(--fill-color);\n",
              "      border-left-color: var(--fill-color);\n",
              "    }\n",
              "    20% {\n",
              "      border-color: transparent;\n",
              "      border-left-color: var(--fill-color);\n",
              "      border-top-color: var(--fill-color);\n",
              "    }\n",
              "    30% {\n",
              "      border-color: transparent;\n",
              "      border-left-color: var(--fill-color);\n",
              "      border-top-color: var(--fill-color);\n",
              "      border-right-color: var(--fill-color);\n",
              "    }\n",
              "    40% {\n",
              "      border-color: transparent;\n",
              "      border-right-color: var(--fill-color);\n",
              "      border-top-color: var(--fill-color);\n",
              "    }\n",
              "    60% {\n",
              "      border-color: transparent;\n",
              "      border-right-color: var(--fill-color);\n",
              "    }\n",
              "    80% {\n",
              "      border-color: transparent;\n",
              "      border-right-color: var(--fill-color);\n",
              "      border-bottom-color: var(--fill-color);\n",
              "    }\n",
              "    90% {\n",
              "      border-color: transparent;\n",
              "      border-bottom-color: var(--fill-color);\n",
              "    }\n",
              "  }\n",
              "</style>\n",
              "\n",
              "  <script>\n",
              "    async function quickchart(key) {\n",
              "      const quickchartButtonEl =\n",
              "        document.querySelector('#' + key + ' button');\n",
              "      quickchartButtonEl.disabled = true;  // To prevent multiple clicks.\n",
              "      quickchartButtonEl.classList.add('colab-df-spinner');\n",
              "      try {\n",
              "        const charts = await google.colab.kernel.invokeFunction(\n",
              "            'suggestCharts', [key], {});\n",
              "      } catch (error) {\n",
              "        console.error('Error during call to suggestCharts:', error);\n",
              "      }\n",
              "      quickchartButtonEl.classList.remove('colab-df-spinner');\n",
              "      quickchartButtonEl.classList.add('colab-df-quickchart-complete');\n",
              "    }\n",
              "    (() => {\n",
              "      let quickchartButtonEl =\n",
              "        document.querySelector('#df-dc3594f4-2a28-47ae-a369-fd141f164320 button');\n",
              "      quickchartButtonEl.style.display =\n",
              "        google.colab.kernel.accessAllowed ? 'block' : 'none';\n",
              "    })();\n",
              "  </script>\n",
              "</div>\n",
              "\n",
              "    </div>\n",
              "  </div>\n"
            ],
            "text/plain": [
              "   OrderDate      Rep    Item  Units  UnitCost   Total  Region_Central  \\\n",
              "0   1/6/2020    Jones  Pencil     95      1.99  189.05               0   \n",
              "1  1/23/2020   Kivell  Binder     50     19.99  999.50               1   \n",
              "2   2/9/2020  Jardine  Pencil     36      4.99  179.64               1   \n",
              "3  2/26/2020     Gill     Pen     27     19.99  539.73               1   \n",
              "4  3/15/2020  Sorvino  Pencil     56      2.99  167.44               0   \n",
              "\n",
              "   Region_East  Region_West  \n",
              "0            1            0  \n",
              "1            0            0  \n",
              "2            0            0  \n",
              "3            0            0  \n",
              "4            0            1  "
            ]
          },
          "execution_count": 76,
          "metadata": {},
          "output_type": "execute_result"
        }
      ],
      "source": [
        "dfDumie.head()"
      ]
    },
    {
      "cell_type": "markdown",
      "metadata": {
        "id": "1jrzebpjSPaH"
      },
      "source": []
    },
    {
      "cell_type": "code",
      "execution_count": null,
      "metadata": {
        "id": "NFWSLUSPSLCW"
      },
      "outputs": [],
      "source": [
        "dfDumies = pd.get_dummies(df2, columns = [\"Region\", \"Item\", \"Rep\"])"
      ]
    },
    {
      "cell_type": "code",
      "execution_count": null,
      "metadata": {
        "colab": {
          "base_uri": "https://localhost:8080/",
          "height": 255
        },
        "id": "APEKtr4oSWuM",
        "outputId": "471d135e-bff8-42a4-a3e3-8c26abb1fb04"
      },
      "outputs": [
        {
          "data": {
            "application/vnd.google.colaboratory.intrinsic+json": {
              "type": "dataframe",
              "variable_name": "dfDumies"
            },
            "text/html": [
              "\n",
              "  <div id=\"df-b110540d-21d1-44cf-8056-470600f1457f\" class=\"colab-df-container\">\n",
              "    <div>\n",
              "<style scoped>\n",
              "    .dataframe tbody tr th:only-of-type {\n",
              "        vertical-align: middle;\n",
              "    }\n",
              "\n",
              "    .dataframe tbody tr th {\n",
              "        vertical-align: top;\n",
              "    }\n",
              "\n",
              "    .dataframe thead th {\n",
              "        text-align: right;\n",
              "    }\n",
              "</style>\n",
              "<table border=\"1\" class=\"dataframe\">\n",
              "  <thead>\n",
              "    <tr style=\"text-align: right;\">\n",
              "      <th></th>\n",
              "      <th>OrderDate</th>\n",
              "      <th>Units</th>\n",
              "      <th>UnitCost</th>\n",
              "      <th>Total</th>\n",
              "      <th>Region_Central</th>\n",
              "      <th>Region_East</th>\n",
              "      <th>Region_West</th>\n",
              "      <th>Item_Binder</th>\n",
              "      <th>Item_Desk</th>\n",
              "      <th>Item_Pen</th>\n",
              "      <th>...</th>\n",
              "      <th>Rep_Gill</th>\n",
              "      <th>Rep_Howard</th>\n",
              "      <th>Rep_Jardine</th>\n",
              "      <th>Rep_Jones</th>\n",
              "      <th>Rep_Kivell</th>\n",
              "      <th>Rep_Morgan</th>\n",
              "      <th>Rep_Parent</th>\n",
              "      <th>Rep_Smith</th>\n",
              "      <th>Rep_Sorvino</th>\n",
              "      <th>Rep_Thompson</th>\n",
              "    </tr>\n",
              "  </thead>\n",
              "  <tbody>\n",
              "    <tr>\n",
              "      <th>0</th>\n",
              "      <td>1/6/2020</td>\n",
              "      <td>95</td>\n",
              "      <td>1.99</td>\n",
              "      <td>189.05</td>\n",
              "      <td>0</td>\n",
              "      <td>1</td>\n",
              "      <td>0</td>\n",
              "      <td>0</td>\n",
              "      <td>0</td>\n",
              "      <td>0</td>\n",
              "      <td>...</td>\n",
              "      <td>0</td>\n",
              "      <td>0</td>\n",
              "      <td>0</td>\n",
              "      <td>1</td>\n",
              "      <td>0</td>\n",
              "      <td>0</td>\n",
              "      <td>0</td>\n",
              "      <td>0</td>\n",
              "      <td>0</td>\n",
              "      <td>0</td>\n",
              "    </tr>\n",
              "    <tr>\n",
              "      <th>1</th>\n",
              "      <td>1/23/2020</td>\n",
              "      <td>50</td>\n",
              "      <td>19.99</td>\n",
              "      <td>999.50</td>\n",
              "      <td>1</td>\n",
              "      <td>0</td>\n",
              "      <td>0</td>\n",
              "      <td>1</td>\n",
              "      <td>0</td>\n",
              "      <td>0</td>\n",
              "      <td>...</td>\n",
              "      <td>0</td>\n",
              "      <td>0</td>\n",
              "      <td>0</td>\n",
              "      <td>0</td>\n",
              "      <td>1</td>\n",
              "      <td>0</td>\n",
              "      <td>0</td>\n",
              "      <td>0</td>\n",
              "      <td>0</td>\n",
              "      <td>0</td>\n",
              "    </tr>\n",
              "    <tr>\n",
              "      <th>2</th>\n",
              "      <td>2/9/2020</td>\n",
              "      <td>36</td>\n",
              "      <td>4.99</td>\n",
              "      <td>179.64</td>\n",
              "      <td>1</td>\n",
              "      <td>0</td>\n",
              "      <td>0</td>\n",
              "      <td>0</td>\n",
              "      <td>0</td>\n",
              "      <td>0</td>\n",
              "      <td>...</td>\n",
              "      <td>0</td>\n",
              "      <td>0</td>\n",
              "      <td>1</td>\n",
              "      <td>0</td>\n",
              "      <td>0</td>\n",
              "      <td>0</td>\n",
              "      <td>0</td>\n",
              "      <td>0</td>\n",
              "      <td>0</td>\n",
              "      <td>0</td>\n",
              "    </tr>\n",
              "    <tr>\n",
              "      <th>3</th>\n",
              "      <td>2/26/2020</td>\n",
              "      <td>27</td>\n",
              "      <td>19.99</td>\n",
              "      <td>539.73</td>\n",
              "      <td>1</td>\n",
              "      <td>0</td>\n",
              "      <td>0</td>\n",
              "      <td>0</td>\n",
              "      <td>0</td>\n",
              "      <td>1</td>\n",
              "      <td>...</td>\n",
              "      <td>1</td>\n",
              "      <td>0</td>\n",
              "      <td>0</td>\n",
              "      <td>0</td>\n",
              "      <td>0</td>\n",
              "      <td>0</td>\n",
              "      <td>0</td>\n",
              "      <td>0</td>\n",
              "      <td>0</td>\n",
              "      <td>0</td>\n",
              "    </tr>\n",
              "    <tr>\n",
              "      <th>4</th>\n",
              "      <td>3/15/2020</td>\n",
              "      <td>56</td>\n",
              "      <td>2.99</td>\n",
              "      <td>167.44</td>\n",
              "      <td>0</td>\n",
              "      <td>0</td>\n",
              "      <td>1</td>\n",
              "      <td>0</td>\n",
              "      <td>0</td>\n",
              "      <td>0</td>\n",
              "      <td>...</td>\n",
              "      <td>0</td>\n",
              "      <td>0</td>\n",
              "      <td>0</td>\n",
              "      <td>0</td>\n",
              "      <td>0</td>\n",
              "      <td>0</td>\n",
              "      <td>0</td>\n",
              "      <td>0</td>\n",
              "      <td>1</td>\n",
              "      <td>0</td>\n",
              "    </tr>\n",
              "  </tbody>\n",
              "</table>\n",
              "<p>5 rows × 23 columns</p>\n",
              "</div>\n",
              "    <div class=\"colab-df-buttons\">\n",
              "\n",
              "  <div class=\"colab-df-container\">\n",
              "    <button class=\"colab-df-convert\" onclick=\"convertToInteractive('df-b110540d-21d1-44cf-8056-470600f1457f')\"\n",
              "            title=\"Convert this dataframe to an interactive table.\"\n",
              "            style=\"display:none;\">\n",
              "\n",
              "  <svg xmlns=\"http://www.w3.org/2000/svg\" height=\"24px\" viewBox=\"0 -960 960 960\">\n",
              "    <path d=\"M120-120v-720h720v720H120Zm60-500h600v-160H180v160Zm220 220h160v-160H400v160Zm0 220h160v-160H400v160ZM180-400h160v-160H180v160Zm440 0h160v-160H620v160ZM180-180h160v-160H180v160Zm440 0h160v-160H620v160Z\"/>\n",
              "  </svg>\n",
              "    </button>\n",
              "\n",
              "  <style>\n",
              "    .colab-df-container {\n",
              "      display:flex;\n",
              "      gap: 12px;\n",
              "    }\n",
              "\n",
              "    .colab-df-convert {\n",
              "      background-color: #E8F0FE;\n",
              "      border: none;\n",
              "      border-radius: 50%;\n",
              "      cursor: pointer;\n",
              "      display: none;\n",
              "      fill: #1967D2;\n",
              "      height: 32px;\n",
              "      padding: 0 0 0 0;\n",
              "      width: 32px;\n",
              "    }\n",
              "\n",
              "    .colab-df-convert:hover {\n",
              "      background-color: #E2EBFA;\n",
              "      box-shadow: 0px 1px 2px rgba(60, 64, 67, 0.3), 0px 1px 3px 1px rgba(60, 64, 67, 0.15);\n",
              "      fill: #174EA6;\n",
              "    }\n",
              "\n",
              "    .colab-df-buttons div {\n",
              "      margin-bottom: 4px;\n",
              "    }\n",
              "\n",
              "    [theme=dark] .colab-df-convert {\n",
              "      background-color: #3B4455;\n",
              "      fill: #D2E3FC;\n",
              "    }\n",
              "\n",
              "    [theme=dark] .colab-df-convert:hover {\n",
              "      background-color: #434B5C;\n",
              "      box-shadow: 0px 1px 3px 1px rgba(0, 0, 0, 0.15);\n",
              "      filter: drop-shadow(0px 1px 2px rgba(0, 0, 0, 0.3));\n",
              "      fill: #FFFFFF;\n",
              "    }\n",
              "  </style>\n",
              "\n",
              "    <script>\n",
              "      const buttonEl =\n",
              "        document.querySelector('#df-b110540d-21d1-44cf-8056-470600f1457f button.colab-df-convert');\n",
              "      buttonEl.style.display =\n",
              "        google.colab.kernel.accessAllowed ? 'block' : 'none';\n",
              "\n",
              "      async function convertToInteractive(key) {\n",
              "        const element = document.querySelector('#df-b110540d-21d1-44cf-8056-470600f1457f');\n",
              "        const dataTable =\n",
              "          await google.colab.kernel.invokeFunction('convertToInteractive',\n",
              "                                                    [key], {});\n",
              "        if (!dataTable) return;\n",
              "\n",
              "        const docLinkHtml = 'Like what you see? Visit the ' +\n",
              "          '<a target=\"_blank\" href=https://colab.research.google.com/notebooks/data_table.ipynb>data table notebook</a>'\n",
              "          + ' to learn more about interactive tables.';\n",
              "        element.innerHTML = '';\n",
              "        dataTable['output_type'] = 'display_data';\n",
              "        await google.colab.output.renderOutput(dataTable, element);\n",
              "        const docLink = document.createElement('div');\n",
              "        docLink.innerHTML = docLinkHtml;\n",
              "        element.appendChild(docLink);\n",
              "      }\n",
              "    </script>\n",
              "  </div>\n",
              "\n",
              "\n",
              "<div id=\"df-582e8f39-9885-4aa8-ab8c-9d975302c8f1\">\n",
              "  <button class=\"colab-df-quickchart\" onclick=\"quickchart('df-582e8f39-9885-4aa8-ab8c-9d975302c8f1')\"\n",
              "            title=\"Suggest charts\"\n",
              "            style=\"display:none;\">\n",
              "\n",
              "<svg xmlns=\"http://www.w3.org/2000/svg\" height=\"24px\"viewBox=\"0 0 24 24\"\n",
              "     width=\"24px\">\n",
              "    <g>\n",
              "        <path d=\"M19 3H5c-1.1 0-2 .9-2 2v14c0 1.1.9 2 2 2h14c1.1 0 2-.9 2-2V5c0-1.1-.9-2-2-2zM9 17H7v-7h2v7zm4 0h-2V7h2v10zm4 0h-2v-4h2v4z\"/>\n",
              "    </g>\n",
              "</svg>\n",
              "  </button>\n",
              "\n",
              "<style>\n",
              "  .colab-df-quickchart {\n",
              "      --bg-color: #E8F0FE;\n",
              "      --fill-color: #1967D2;\n",
              "      --hover-bg-color: #E2EBFA;\n",
              "      --hover-fill-color: #174EA6;\n",
              "      --disabled-fill-color: #AAA;\n",
              "      --disabled-bg-color: #DDD;\n",
              "  }\n",
              "\n",
              "  [theme=dark] .colab-df-quickchart {\n",
              "      --bg-color: #3B4455;\n",
              "      --fill-color: #D2E3FC;\n",
              "      --hover-bg-color: #434B5C;\n",
              "      --hover-fill-color: #FFFFFF;\n",
              "      --disabled-bg-color: #3B4455;\n",
              "      --disabled-fill-color: #666;\n",
              "  }\n",
              "\n",
              "  .colab-df-quickchart {\n",
              "    background-color: var(--bg-color);\n",
              "    border: none;\n",
              "    border-radius: 50%;\n",
              "    cursor: pointer;\n",
              "    display: none;\n",
              "    fill: var(--fill-color);\n",
              "    height: 32px;\n",
              "    padding: 0;\n",
              "    width: 32px;\n",
              "  }\n",
              "\n",
              "  .colab-df-quickchart:hover {\n",
              "    background-color: var(--hover-bg-color);\n",
              "    box-shadow: 0 1px 2px rgba(60, 64, 67, 0.3), 0 1px 3px 1px rgba(60, 64, 67, 0.15);\n",
              "    fill: var(--button-hover-fill-color);\n",
              "  }\n",
              "\n",
              "  .colab-df-quickchart-complete:disabled,\n",
              "  .colab-df-quickchart-complete:disabled:hover {\n",
              "    background-color: var(--disabled-bg-color);\n",
              "    fill: var(--disabled-fill-color);\n",
              "    box-shadow: none;\n",
              "  }\n",
              "\n",
              "  .colab-df-spinner {\n",
              "    border: 2px solid var(--fill-color);\n",
              "    border-color: transparent;\n",
              "    border-bottom-color: var(--fill-color);\n",
              "    animation:\n",
              "      spin 1s steps(1) infinite;\n",
              "  }\n",
              "\n",
              "  @keyframes spin {\n",
              "    0% {\n",
              "      border-color: transparent;\n",
              "      border-bottom-color: var(--fill-color);\n",
              "      border-left-color: var(--fill-color);\n",
              "    }\n",
              "    20% {\n",
              "      border-color: transparent;\n",
              "      border-left-color: var(--fill-color);\n",
              "      border-top-color: var(--fill-color);\n",
              "    }\n",
              "    30% {\n",
              "      border-color: transparent;\n",
              "      border-left-color: var(--fill-color);\n",
              "      border-top-color: var(--fill-color);\n",
              "      border-right-color: var(--fill-color);\n",
              "    }\n",
              "    40% {\n",
              "      border-color: transparent;\n",
              "      border-right-color: var(--fill-color);\n",
              "      border-top-color: var(--fill-color);\n",
              "    }\n",
              "    60% {\n",
              "      border-color: transparent;\n",
              "      border-right-color: var(--fill-color);\n",
              "    }\n",
              "    80% {\n",
              "      border-color: transparent;\n",
              "      border-right-color: var(--fill-color);\n",
              "      border-bottom-color: var(--fill-color);\n",
              "    }\n",
              "    90% {\n",
              "      border-color: transparent;\n",
              "      border-bottom-color: var(--fill-color);\n",
              "    }\n",
              "  }\n",
              "</style>\n",
              "\n",
              "  <script>\n",
              "    async function quickchart(key) {\n",
              "      const quickchartButtonEl =\n",
              "        document.querySelector('#' + key + ' button');\n",
              "      quickchartButtonEl.disabled = true;  // To prevent multiple clicks.\n",
              "      quickchartButtonEl.classList.add('colab-df-spinner');\n",
              "      try {\n",
              "        const charts = await google.colab.kernel.invokeFunction(\n",
              "            'suggestCharts', [key], {});\n",
              "      } catch (error) {\n",
              "        console.error('Error during call to suggestCharts:', error);\n",
              "      }\n",
              "      quickchartButtonEl.classList.remove('colab-df-spinner');\n",
              "      quickchartButtonEl.classList.add('colab-df-quickchart-complete');\n",
              "    }\n",
              "    (() => {\n",
              "      let quickchartButtonEl =\n",
              "        document.querySelector('#df-582e8f39-9885-4aa8-ab8c-9d975302c8f1 button');\n",
              "      quickchartButtonEl.style.display =\n",
              "        google.colab.kernel.accessAllowed ? 'block' : 'none';\n",
              "    })();\n",
              "  </script>\n",
              "</div>\n",
              "\n",
              "    </div>\n",
              "  </div>\n"
            ],
            "text/plain": [
              "   OrderDate  Units  UnitCost   Total  Region_Central  Region_East  \\\n",
              "0   1/6/2020     95      1.99  189.05               0            1   \n",
              "1  1/23/2020     50     19.99  999.50               1            0   \n",
              "2   2/9/2020     36      4.99  179.64               1            0   \n",
              "3  2/26/2020     27     19.99  539.73               1            0   \n",
              "4  3/15/2020     56      2.99  167.44               0            0   \n",
              "\n",
              "   Region_West  Item_Binder  Item_Desk  Item_Pen  ...  Rep_Gill  Rep_Howard  \\\n",
              "0            0            0          0         0  ...         0           0   \n",
              "1            0            1          0         0  ...         0           0   \n",
              "2            0            0          0         0  ...         0           0   \n",
              "3            0            0          0         1  ...         1           0   \n",
              "4            1            0          0         0  ...         0           0   \n",
              "\n",
              "   Rep_Jardine  Rep_Jones  Rep_Kivell  Rep_Morgan  Rep_Parent  Rep_Smith  \\\n",
              "0            0          1           0           0           0          0   \n",
              "1            0          0           1           0           0          0   \n",
              "2            1          0           0           0           0          0   \n",
              "3            0          0           0           0           0          0   \n",
              "4            0          0           0           0           0          0   \n",
              "\n",
              "   Rep_Sorvino  Rep_Thompson  \n",
              "0            0             0  \n",
              "1            0             0  \n",
              "2            0             0  \n",
              "3            0             0  \n",
              "4            1             0  \n",
              "\n",
              "[5 rows x 23 columns]"
            ]
          },
          "execution_count": 78,
          "metadata": {},
          "output_type": "execute_result"
        }
      ],
      "source": [
        "dfDumies.head()\n"
      ]
    },
    {
      "cell_type": "code",
      "execution_count": null,
      "metadata": {
        "id": "pC3V_ieGSik0"
      },
      "outputs": [],
      "source": [
        "# trabalhar com textos\n",
        "# os dados não estão estrurados\n",
        "# ou queremos extrair algum conhecimento desse texto\n",
        "# pré-processamento do texto"
      ]
    },
    {
      "cell_type": "code",
      "execution_count": null,
      "metadata": {
        "id": "qpbn9xZgSwkc"
      },
      "outputs": [],
      "source": [
        "arquivo = \"/content/movies.json\"\n",
        "filmes = pd.read_json(arquivo)"
      ]
    },
    {
      "cell_type": "code",
      "execution_count": null,
      "metadata": {
        "colab": {
          "base_uri": "https://localhost:8080/",
          "height": 293
        },
        "id": "6vT5nmtzTKS0",
        "outputId": "1e607b3f-b0e6-4b5f-ba34-952eecd3b80e"
      },
      "outputs": [
        {
          "data": {
            "application/vnd.google.colaboratory.intrinsic+json": {
              "summary": "{\n  \"name\": \"filmes\",\n  \"rows\": 5,\n  \"fields\": [\n    {\n      \"column\": \"title\",\n      \"properties\": {\n        \"dtype\": \"string\",\n        \"num_unique_values\": 5,\n        \"samples\": [\n          \"Welcome to Marwen\",\n          \"Destroyer\",\n          \"Holmes and Watson\"\n        ],\n        \"semantic_type\": \"\",\n        \"description\": \"\"\n      }\n    },\n    {\n      \"column\": \"year\",\n      \"properties\": {\n        \"dtype\": \"number\",\n        \"std\": 0,\n        \"min\": 2018,\n        \"max\": 2018,\n        \"num_unique_values\": 1,\n        \"samples\": [\n          2018\n        ],\n        \"semantic_type\": \"\",\n        \"description\": \"\"\n      }\n    },\n    {\n      \"column\": \"cast\",\n      \"properties\": {\n        \"dtype\": \"object\",\n        \"semantic_type\": \"\",\n        \"description\": \"\"\n      }\n    },\n    {\n      \"column\": \"genres\",\n      \"properties\": {\n        \"dtype\": \"object\",\n        \"semantic_type\": \"\",\n        \"description\": \"\"\n      }\n    }\n  ]\n}",
              "type": "dataframe"
            },
            "text/html": [
              "\n",
              "  <div id=\"df-e0096adc-d08b-4d7c-ace8-47d71fbde66d\" class=\"colab-df-container\">\n",
              "    <div>\n",
              "<style scoped>\n",
              "    .dataframe tbody tr th:only-of-type {\n",
              "        vertical-align: middle;\n",
              "    }\n",
              "\n",
              "    .dataframe tbody tr th {\n",
              "        vertical-align: top;\n",
              "    }\n",
              "\n",
              "    .dataframe thead th {\n",
              "        text-align: right;\n",
              "    }\n",
              "</style>\n",
              "<table border=\"1\" class=\"dataframe\">\n",
              "  <thead>\n",
              "    <tr style=\"text-align: right;\">\n",
              "      <th></th>\n",
              "      <th>title</th>\n",
              "      <th>year</th>\n",
              "      <th>cast</th>\n",
              "      <th>genres</th>\n",
              "    </tr>\n",
              "  </thead>\n",
              "  <tbody>\n",
              "    <tr>\n",
              "      <th>28790</th>\n",
              "      <td>Bumblebee</td>\n",
              "      <td>2018</td>\n",
              "      <td>[Hailee Steinfeld, John Cena, Jorge Lendeborg ...</td>\n",
              "      <td>[Action, Adventure, Science Fiction]</td>\n",
              "    </tr>\n",
              "    <tr>\n",
              "      <th>28791</th>\n",
              "      <td>Welcome to Marwen</td>\n",
              "      <td>2018</td>\n",
              "      <td>[Steve Carell, Leslie Mann, Diane Kruger, Falk...</td>\n",
              "      <td>[Fantasy, Drama]</td>\n",
              "    </tr>\n",
              "    <tr>\n",
              "      <th>28792</th>\n",
              "      <td>Holmes and Watson</td>\n",
              "      <td>2018</td>\n",
              "      <td>[Will Ferrell, John C. Reilly, Rebecca Hall, R...</td>\n",
              "      <td>[Action, Mystery, Comedy]</td>\n",
              "    </tr>\n",
              "    <tr>\n",
              "      <th>28793</th>\n",
              "      <td>On the Basis of Sex</td>\n",
              "      <td>2018</td>\n",
              "      <td>[Felicity Jones, Armie Hammer, Justin Theroux,...</td>\n",
              "      <td>[Biography, Drama]</td>\n",
              "    </tr>\n",
              "    <tr>\n",
              "      <th>28794</th>\n",
              "      <td>Destroyer</td>\n",
              "      <td>2018</td>\n",
              "      <td>[Nicole Kidman, Tatiana Maslany, Sebastian Sta...</td>\n",
              "      <td>[Crime, Thriller]</td>\n",
              "    </tr>\n",
              "  </tbody>\n",
              "</table>\n",
              "</div>\n",
              "    <div class=\"colab-df-buttons\">\n",
              "\n",
              "  <div class=\"colab-df-container\">\n",
              "    <button class=\"colab-df-convert\" onclick=\"convertToInteractive('df-e0096adc-d08b-4d7c-ace8-47d71fbde66d')\"\n",
              "            title=\"Convert this dataframe to an interactive table.\"\n",
              "            style=\"display:none;\">\n",
              "\n",
              "  <svg xmlns=\"http://www.w3.org/2000/svg\" height=\"24px\" viewBox=\"0 -960 960 960\">\n",
              "    <path d=\"M120-120v-720h720v720H120Zm60-500h600v-160H180v160Zm220 220h160v-160H400v160Zm0 220h160v-160H400v160ZM180-400h160v-160H180v160Zm440 0h160v-160H620v160ZM180-180h160v-160H180v160Zm440 0h160v-160H620v160Z\"/>\n",
              "  </svg>\n",
              "    </button>\n",
              "\n",
              "  <style>\n",
              "    .colab-df-container {\n",
              "      display:flex;\n",
              "      gap: 12px;\n",
              "    }\n",
              "\n",
              "    .colab-df-convert {\n",
              "      background-color: #E8F0FE;\n",
              "      border: none;\n",
              "      border-radius: 50%;\n",
              "      cursor: pointer;\n",
              "      display: none;\n",
              "      fill: #1967D2;\n",
              "      height: 32px;\n",
              "      padding: 0 0 0 0;\n",
              "      width: 32px;\n",
              "    }\n",
              "\n",
              "    .colab-df-convert:hover {\n",
              "      background-color: #E2EBFA;\n",
              "      box-shadow: 0px 1px 2px rgba(60, 64, 67, 0.3), 0px 1px 3px 1px rgba(60, 64, 67, 0.15);\n",
              "      fill: #174EA6;\n",
              "    }\n",
              "\n",
              "    .colab-df-buttons div {\n",
              "      margin-bottom: 4px;\n",
              "    }\n",
              "\n",
              "    [theme=dark] .colab-df-convert {\n",
              "      background-color: #3B4455;\n",
              "      fill: #D2E3FC;\n",
              "    }\n",
              "\n",
              "    [theme=dark] .colab-df-convert:hover {\n",
              "      background-color: #434B5C;\n",
              "      box-shadow: 0px 1px 3px 1px rgba(0, 0, 0, 0.15);\n",
              "      filter: drop-shadow(0px 1px 2px rgba(0, 0, 0, 0.3));\n",
              "      fill: #FFFFFF;\n",
              "    }\n",
              "  </style>\n",
              "\n",
              "    <script>\n",
              "      const buttonEl =\n",
              "        document.querySelector('#df-e0096adc-d08b-4d7c-ace8-47d71fbde66d button.colab-df-convert');\n",
              "      buttonEl.style.display =\n",
              "        google.colab.kernel.accessAllowed ? 'block' : 'none';\n",
              "\n",
              "      async function convertToInteractive(key) {\n",
              "        const element = document.querySelector('#df-e0096adc-d08b-4d7c-ace8-47d71fbde66d');\n",
              "        const dataTable =\n",
              "          await google.colab.kernel.invokeFunction('convertToInteractive',\n",
              "                                                    [key], {});\n",
              "        if (!dataTable) return;\n",
              "\n",
              "        const docLinkHtml = 'Like what you see? Visit the ' +\n",
              "          '<a target=\"_blank\" href=https://colab.research.google.com/notebooks/data_table.ipynb>data table notebook</a>'\n",
              "          + ' to learn more about interactive tables.';\n",
              "        element.innerHTML = '';\n",
              "        dataTable['output_type'] = 'display_data';\n",
              "        await google.colab.output.renderOutput(dataTable, element);\n",
              "        const docLink = document.createElement('div');\n",
              "        docLink.innerHTML = docLinkHtml;\n",
              "        element.appendChild(docLink);\n",
              "      }\n",
              "    </script>\n",
              "  </div>\n",
              "\n",
              "\n",
              "<div id=\"df-5a58c985-6247-464c-a252-c6eab8d24245\">\n",
              "  <button class=\"colab-df-quickchart\" onclick=\"quickchart('df-5a58c985-6247-464c-a252-c6eab8d24245')\"\n",
              "            title=\"Suggest charts\"\n",
              "            style=\"display:none;\">\n",
              "\n",
              "<svg xmlns=\"http://www.w3.org/2000/svg\" height=\"24px\"viewBox=\"0 0 24 24\"\n",
              "     width=\"24px\">\n",
              "    <g>\n",
              "        <path d=\"M19 3H5c-1.1 0-2 .9-2 2v14c0 1.1.9 2 2 2h14c1.1 0 2-.9 2-2V5c0-1.1-.9-2-2-2zM9 17H7v-7h2v7zm4 0h-2V7h2v10zm4 0h-2v-4h2v4z\"/>\n",
              "    </g>\n",
              "</svg>\n",
              "  </button>\n",
              "\n",
              "<style>\n",
              "  .colab-df-quickchart {\n",
              "      --bg-color: #E8F0FE;\n",
              "      --fill-color: #1967D2;\n",
              "      --hover-bg-color: #E2EBFA;\n",
              "      --hover-fill-color: #174EA6;\n",
              "      --disabled-fill-color: #AAA;\n",
              "      --disabled-bg-color: #DDD;\n",
              "  }\n",
              "\n",
              "  [theme=dark] .colab-df-quickchart {\n",
              "      --bg-color: #3B4455;\n",
              "      --fill-color: #D2E3FC;\n",
              "      --hover-bg-color: #434B5C;\n",
              "      --hover-fill-color: #FFFFFF;\n",
              "      --disabled-bg-color: #3B4455;\n",
              "      --disabled-fill-color: #666;\n",
              "  }\n",
              "\n",
              "  .colab-df-quickchart {\n",
              "    background-color: var(--bg-color);\n",
              "    border: none;\n",
              "    border-radius: 50%;\n",
              "    cursor: pointer;\n",
              "    display: none;\n",
              "    fill: var(--fill-color);\n",
              "    height: 32px;\n",
              "    padding: 0;\n",
              "    width: 32px;\n",
              "  }\n",
              "\n",
              "  .colab-df-quickchart:hover {\n",
              "    background-color: var(--hover-bg-color);\n",
              "    box-shadow: 0 1px 2px rgba(60, 64, 67, 0.3), 0 1px 3px 1px rgba(60, 64, 67, 0.15);\n",
              "    fill: var(--button-hover-fill-color);\n",
              "  }\n",
              "\n",
              "  .colab-df-quickchart-complete:disabled,\n",
              "  .colab-df-quickchart-complete:disabled:hover {\n",
              "    background-color: var(--disabled-bg-color);\n",
              "    fill: var(--disabled-fill-color);\n",
              "    box-shadow: none;\n",
              "  }\n",
              "\n",
              "  .colab-df-spinner {\n",
              "    border: 2px solid var(--fill-color);\n",
              "    border-color: transparent;\n",
              "    border-bottom-color: var(--fill-color);\n",
              "    animation:\n",
              "      spin 1s steps(1) infinite;\n",
              "  }\n",
              "\n",
              "  @keyframes spin {\n",
              "    0% {\n",
              "      border-color: transparent;\n",
              "      border-bottom-color: var(--fill-color);\n",
              "      border-left-color: var(--fill-color);\n",
              "    }\n",
              "    20% {\n",
              "      border-color: transparent;\n",
              "      border-left-color: var(--fill-color);\n",
              "      border-top-color: var(--fill-color);\n",
              "    }\n",
              "    30% {\n",
              "      border-color: transparent;\n",
              "      border-left-color: var(--fill-color);\n",
              "      border-top-color: var(--fill-color);\n",
              "      border-right-color: var(--fill-color);\n",
              "    }\n",
              "    40% {\n",
              "      border-color: transparent;\n",
              "      border-right-color: var(--fill-color);\n",
              "      border-top-color: var(--fill-color);\n",
              "    }\n",
              "    60% {\n",
              "      border-color: transparent;\n",
              "      border-right-color: var(--fill-color);\n",
              "    }\n",
              "    80% {\n",
              "      border-color: transparent;\n",
              "      border-right-color: var(--fill-color);\n",
              "      border-bottom-color: var(--fill-color);\n",
              "    }\n",
              "    90% {\n",
              "      border-color: transparent;\n",
              "      border-bottom-color: var(--fill-color);\n",
              "    }\n",
              "  }\n",
              "</style>\n",
              "\n",
              "  <script>\n",
              "    async function quickchart(key) {\n",
              "      const quickchartButtonEl =\n",
              "        document.querySelector('#' + key + ' button');\n",
              "      quickchartButtonEl.disabled = true;  // To prevent multiple clicks.\n",
              "      quickchartButtonEl.classList.add('colab-df-spinner');\n",
              "      try {\n",
              "        const charts = await google.colab.kernel.invokeFunction(\n",
              "            'suggestCharts', [key], {});\n",
              "      } catch (error) {\n",
              "        console.error('Error during call to suggestCharts:', error);\n",
              "      }\n",
              "      quickchartButtonEl.classList.remove('colab-df-spinner');\n",
              "      quickchartButtonEl.classList.add('colab-df-quickchart-complete');\n",
              "    }\n",
              "    (() => {\n",
              "      let quickchartButtonEl =\n",
              "        document.querySelector('#df-5a58c985-6247-464c-a252-c6eab8d24245 button');\n",
              "      quickchartButtonEl.style.display =\n",
              "        google.colab.kernel.accessAllowed ? 'block' : 'none';\n",
              "    })();\n",
              "  </script>\n",
              "</div>\n",
              "\n",
              "    </div>\n",
              "  </div>\n"
            ],
            "text/plain": [
              "                     title  year  \\\n",
              "28790            Bumblebee  2018   \n",
              "28791    Welcome to Marwen  2018   \n",
              "28792    Holmes and Watson  2018   \n",
              "28793  On the Basis of Sex  2018   \n",
              "28794            Destroyer  2018   \n",
              "\n",
              "                                                    cast  \\\n",
              "28790  [Hailee Steinfeld, John Cena, Jorge Lendeborg ...   \n",
              "28791  [Steve Carell, Leslie Mann, Diane Kruger, Falk...   \n",
              "28792  [Will Ferrell, John C. Reilly, Rebecca Hall, R...   \n",
              "28793  [Felicity Jones, Armie Hammer, Justin Theroux,...   \n",
              "28794  [Nicole Kidman, Tatiana Maslany, Sebastian Sta...   \n",
              "\n",
              "                                     genres  \n",
              "28790  [Action, Adventure, Science Fiction]  \n",
              "28791                      [Fantasy, Drama]  \n",
              "28792             [Action, Mystery, Comedy]  \n",
              "28793                    [Biography, Drama]  \n",
              "28794                     [Crime, Thriller]  "
            ]
          },
          "execution_count": 81,
          "metadata": {},
          "output_type": "execute_result"
        }
      ],
      "source": [
        "filmes.tail()"
      ]
    },
    {
      "cell_type": "code",
      "execution_count": null,
      "metadata": {
        "id": "xVFDT_fVTge2"
      },
      "outputs": [],
      "source": [
        "### 1 qual é o numero de filmes por genero\n",
        "# um filme pode ter mais de um genero\n",
        "# top 10 de quais generos tem mais"
      ]
    },
    {
      "cell_type": "code",
      "execution_count": null,
      "metadata": {
        "id": "uV6UAfkBTron"
      },
      "outputs": [],
      "source": [
        "genero = filmes.genres[1]"
      ]
    },
    {
      "cell_type": "code",
      "execution_count": null,
      "metadata": {
        "colab": {
          "base_uri": "https://localhost:8080/"
        },
        "id": "qEvrZpUpT3mM",
        "outputId": "91d89edd-1b61-4808-8911-fbe2e65d0d13"
      },
      "outputs": [
        {
          "data": {
            "text/plain": [
              "list"
            ]
          },
          "execution_count": 84,
          "metadata": {},
          "output_type": "execute_result"
        }
      ],
      "source": [
        "type(genero)"
      ]
    },
    {
      "cell_type": "code",
      "execution_count": null,
      "metadata": {
        "colab": {
          "base_uri": "https://localhost:8080/"
        },
        "id": "Dj-S2czKT6U1",
        "outputId": "94d55265-913e-4982-def2-5e747de43944"
      },
      "outputs": [
        {
          "data": {
            "text/plain": [
              "title     object\n",
              "year       int64\n",
              "cast      object\n",
              "genres    object\n",
              "dtype: object"
            ]
          },
          "execution_count": 85,
          "metadata": {},
          "output_type": "execute_result"
        }
      ],
      "source": [
        "filmes.dtypes"
      ]
    },
    {
      "cell_type": "code",
      "execution_count": null,
      "metadata": {
        "id": "O0eFLbDEUEZU"
      },
      "outputs": [],
      "source": [
        "# criar uma nova lista\n",
        "generos = []"
      ]
    },
    {
      "cell_type": "code",
      "execution_count": null,
      "metadata": {
        "id": "lP7T-B4dUSjU"
      },
      "outputs": [],
      "source": [
        "for g in filmes.genres:\n",
        "  # função para incluir mais de um elemento da lista\n",
        "  generos.extend(g)"
      ]
    },
    {
      "cell_type": "code",
      "execution_count": null,
      "metadata": {
        "colab": {
          "base_uri": "https://localhost:8080/"
        },
        "id": "dOs8CVU_UkQ8",
        "outputId": "7e844ce7-0e86-44c7-b0fa-fe71947da5bf"
      },
      "outputs": [
        {
          "data": {
            "text/plain": [
              "['Short',\n",
              " 'Documentary',\n",
              " 'Comedy',\n",
              " 'Comedy',\n",
              " 'Short',\n",
              " 'Short',\n",
              " 'Short',\n",
              " 'Short',\n",
              " 'Documentary',\n",
              " 'Short',\n",
              " 'Comedy',\n",
              " 'Short',\n",
              " 'Comedy',\n",
              " 'Short',\n",
              " 'Documentary',\n",
              " 'Western',\n",
              " 'Documentary',\n",
              " 'Documentary',\n",
              " 'Comedy',\n",
              " 'Comedy',\n",
              " 'Comedy',\n",
              " 'Comedy',\n",
              " 'Adventure',\n",
              " 'Romance',\n",
              " 'Short',\n",
              " 'Crime',\n",
              " 'Drama',\n",
              " 'Short',\n",
              " 'Short',\n",
              " 'Action',\n",
              " 'Crime',\n",
              " 'Western',\n",
              " 'Short',\n",
              " 'Animated',\n",
              " 'Animated',\n",
              " 'Short',\n",
              " 'Short',\n",
              " 'Short',\n",
              " 'Historical',\n",
              " 'Biography',\n",
              " 'Comedy',\n",
              " 'Comedy',\n",
              " 'Short',\n",
              " 'Comedy',\n",
              " 'Short',\n",
              " 'Comedy',\n",
              " 'Drama',\n",
              " 'Comedy',\n",
              " 'Drama',\n",
              " 'Drama',\n",
              " 'Comedy',\n",
              " 'Adventure',\n",
              " 'Drama',\n",
              " 'Comedy',\n",
              " 'Horror',\n",
              " 'Fantasy',\n",
              " 'Western',\n",
              " 'Crime',\n",
              " 'Western',\n",
              " 'Action',\n",
              " 'Drama',\n",
              " 'Comedy',\n",
              " 'Drama',\n",
              " 'Drama',\n",
              " 'Short',\n",
              " 'Drama',\n",
              " 'Comedy',\n",
              " 'Drama',\n",
              " 'Romance',\n",
              " 'Drama',\n",
              " 'Drama',\n",
              " 'Comedy',\n",
              " 'Drama',\n",
              " 'Comedy',\n",
              " 'Drama',\n",
              " 'Drama',\n",
              " 'Drama',\n",
              " 'Drama',\n",
              " 'Short',\n",
              " 'Fantasy',\n",
              " 'Western',\n",
              " 'Drama',\n",
              " 'Drama',\n",
              " 'Documentary',\n",
              " 'Drama',\n",
              " 'Short',\n",
              " 'Comedy',\n",
              " 'Western',\n",
              " 'Drama',\n",
              " 'Silent',\n",
              " 'Sports',\n",
              " 'Drama',\n",
              " 'Drama',\n",
              " 'Adventure',\n",
              " 'Drama',\n",
              " 'Romance',\n",
              " 'Comedy',\n",
              " 'Western',\n",
              " 'Drama',\n",
              " 'Drama',\n",
              " 'Drama',\n",
              " 'Drama',\n",
              " 'Drama',\n",
              " 'Drama',\n",
              " 'Drama',\n",
              " 'Drama',\n",
              " 'Adventure',\n",
              " 'Drama',\n",
              " 'Drama',\n",
              " 'Drama',\n",
              " 'Drama',\n",
              " 'Drama',\n",
              " 'Thriller',\n",
              " 'Romance',\n",
              " 'Comedy',\n",
              " 'Romance',\n",
              " 'Drama',\n",
              " 'Drama',\n",
              " 'Drama',\n",
              " 'Adventure',\n",
              " 'Drama',\n",
              " 'Western',\n",
              " 'Comedy',\n",
              " 'War',\n",
              " 'Comedy',\n",
              " 'Drama',\n",
              " 'Drama',\n",
              " 'Western',\n",
              " 'Drama',\n",
              " 'Horror',\n",
              " 'Drama',\n",
              " 'Drama',\n",
              " 'Western',\n",
              " 'Western',\n",
              " 'Romance',\n",
              " 'Drama',\n",
              " 'Drama',\n",
              " 'Romance',\n",
              " 'Drama',\n",
              " 'Drama',\n",
              " 'Drama',\n",
              " 'Drama',\n",
              " 'Drama',\n",
              " 'Comedy',\n",
              " 'Drama',\n",
              " 'Drama',\n",
              " 'Drama',\n",
              " 'Romance',\n",
              " 'Comedy',\n",
              " 'Drama',\n",
              " 'Drama',\n",
              " 'Drama',\n",
              " 'Drama',\n",
              " 'Drama',\n",
              " 'Western',\n",
              " 'Comedy',\n",
              " 'Romance',\n",
              " 'Thriller',\n",
              " 'Drama',\n",
              " 'Adventure',\n",
              " 'Drama',\n",
              " 'Drama',\n",
              " 'Comedy',\n",
              " 'Adventure',\n",
              " 'Drama',\n",
              " 'Drama',\n",
              " 'Comedy',\n",
              " 'Drama',\n",
              " 'Comedy',\n",
              " 'Drama',\n",
              " 'Comedy',\n",
              " 'Drama',\n",
              " 'Horror',\n",
              " 'Crime',\n",
              " 'Drama',\n",
              " 'Drama',\n",
              " 'Drama',\n",
              " 'Drama',\n",
              " 'Romance',\n",
              " 'Comedy',\n",
              " 'Drama',\n",
              " 'Comedy',\n",
              " 'Drama',\n",
              " 'Western',\n",
              " 'Adventure',\n",
              " 'Comedy',\n",
              " 'Drama',\n",
              " 'Drama',\n",
              " 'Drama',\n",
              " 'Drama',\n",
              " 'Drama',\n",
              " 'Drama',\n",
              " 'Comedy',\n",
              " 'Drama',\n",
              " 'Drama',\n",
              " 'Drama',\n",
              " 'Drama',\n",
              " 'Romance',\n",
              " 'Drama',\n",
              " 'Drama',\n",
              " 'Drama',\n",
              " 'Comedy',\n",
              " 'Drama',\n",
              " 'Drama',\n",
              " 'Drama',\n",
              " 'Horror',\n",
              " 'Comedy',\n",
              " 'Comedy',\n",
              " 'Western',\n",
              " 'Comedy',\n",
              " 'Comedy',\n",
              " 'Drama',\n",
              " 'Comedy',\n",
              " 'Drama',\n",
              " 'Comedy',\n",
              " 'Drama',\n",
              " 'Comedy',\n",
              " 'Western',\n",
              " 'Adventure',\n",
              " 'Western',\n",
              " 'Historical',\n",
              " 'Drama',\n",
              " 'Comedy',\n",
              " 'Comedy',\n",
              " 'Drama',\n",
              " 'Comedy',\n",
              " 'Fantasy',\n",
              " 'Drama',\n",
              " 'Drama',\n",
              " 'Crime',\n",
              " 'Drama',\n",
              " 'Comedy',\n",
              " 'Comedy',\n",
              " 'Comedy',\n",
              " 'Drama',\n",
              " 'Drama',\n",
              " 'Drama',\n",
              " 'Comedy',\n",
              " 'Comedy',\n",
              " 'Comedy',\n",
              " 'Mystery',\n",
              " 'Drama',\n",
              " 'Drama',\n",
              " 'Comedy',\n",
              " 'Animated',\n",
              " 'Comedy',\n",
              " 'Drama',\n",
              " 'Drama',\n",
              " 'Adventure',\n",
              " 'Comedy',\n",
              " 'Comedy',\n",
              " 'Drama',\n",
              " 'Comedy',\n",
              " 'Fantasy',\n",
              " 'Comedy',\n",
              " 'Comedy',\n",
              " 'Comedy',\n",
              " 'Comedy',\n",
              " 'Biography',\n",
              " 'Drama',\n",
              " 'Drama',\n",
              " 'Drama',\n",
              " 'Drama',\n",
              " 'Documentary',\n",
              " 'Drama',\n",
              " 'Drama',\n",
              " 'Drama',\n",
              " 'Comedy',\n",
              " 'Drama',\n",
              " 'Comedy',\n",
              " 'Comedy',\n",
              " 'Drama',\n",
              " 'Drama',\n",
              " 'Drama',\n",
              " 'Drama',\n",
              " 'Comedy',\n",
              " 'Action',\n",
              " 'Drama',\n",
              " 'Comedy',\n",
              " 'Comedy',\n",
              " 'Comedy',\n",
              " 'Comedy',\n",
              " 'Comedy',\n",
              " 'Fantasy',\n",
              " 'Drama',\n",
              " 'Comedy',\n",
              " 'Drama',\n",
              " 'Comedy',\n",
              " 'Crime',\n",
              " 'Drama',\n",
              " 'Comedy',\n",
              " 'Drama',\n",
              " 'Comedy',\n",
              " 'Drama',\n",
              " 'Fantasy',\n",
              " 'Comedy',\n",
              " 'Comedy',\n",
              " 'Fantasy',\n",
              " 'Drama',\n",
              " 'Adventure',\n",
              " 'Drama',\n",
              " 'Comedy',\n",
              " 'Comedy',\n",
              " 'Drama',\n",
              " 'Biography',\n",
              " 'Western',\n",
              " 'Drama',\n",
              " 'Comedy',\n",
              " 'Western',\n",
              " 'Drama',\n",
              " 'Western',\n",
              " 'Drama',\n",
              " 'Drama',\n",
              " 'Historical',\n",
              " 'Drama',\n",
              " 'Drama',\n",
              " 'Drama',\n",
              " 'Drama',\n",
              " 'Western',\n",
              " 'Comedy',\n",
              " 'Drama',\n",
              " 'Drama',\n",
              " 'Comedy',\n",
              " 'Comedy',\n",
              " 'Western',\n",
              " 'Drama',\n",
              " 'Comedy',\n",
              " 'Western',\n",
              " 'Comedy',\n",
              " 'Comedy',\n",
              " 'Western',\n",
              " 'Drama',\n",
              " 'Comedy',\n",
              " 'Drama',\n",
              " 'Drama',\n",
              " 'Drama',\n",
              " 'Western',\n",
              " 'Comedy',\n",
              " 'Drama',\n",
              " 'Drama',\n",
              " 'Romance',\n",
              " 'Comedy',\n",
              " 'Drama',\n",
              " 'Drama',\n",
              " 'Comedy',\n",
              " 'Historical',\n",
              " 'Drama',\n",
              " 'Adventure',\n",
              " 'Comedy',\n",
              " 'Short',\n",
              " 'Drama',\n",
              " 'Drama',\n",
              " 'Comedy',\n",
              " 'Western',\n",
              " 'Comedy',\n",
              " 'Comedy',\n",
              " 'Historical',\n",
              " 'Adventure',\n",
              " 'Adventure',\n",
              " 'Comedy',\n",
              " 'Short',\n",
              " 'Drama',\n",
              " 'Comedy',\n",
              " 'Western',\n",
              " 'Comedy',\n",
              " 'Western',\n",
              " 'Comedy',\n",
              " 'Drama',\n",
              " 'Comedy',\n",
              " 'Comedy',\n",
              " 'Comedy',\n",
              " 'Romance',\n",
              " 'Comedy',\n",
              " 'Drama',\n",
              " 'Comedy',\n",
              " 'Drama',\n",
              " 'Drama',\n",
              " 'Western',\n",
              " 'Comedy',\n",
              " 'Drama',\n",
              " 'Comedy',\n",
              " 'Drama',\n",
              " 'Comedy',\n",
              " 'Comedy',\n",
              " 'Western',\n",
              " 'Comedy',\n",
              " 'Comedy',\n",
              " 'Drama',\n",
              " 'Comedy',\n",
              " 'Comedy',\n",
              " 'Drama',\n",
              " 'Comedy',\n",
              " 'Drama',\n",
              " 'Comedy',\n",
              " 'Drama',\n",
              " 'Drama',\n",
              " 'Drama',\n",
              " 'Comedy',\n",
              " 'Drama',\n",
              " 'Comedy',\n",
              " 'Comedy',\n",
              " 'Western',\n",
              " 'Historical',\n",
              " 'Comedy',\n",
              " 'Comedy',\n",
              " 'Comedy',\n",
              " 'Comedy',\n",
              " 'Short',\n",
              " 'Romance',\n",
              " 'Biography',\n",
              " 'Crime',\n",
              " 'Drama',\n",
              " 'Western',\n",
              " 'Drama',\n",
              " 'Drama',\n",
              " 'Drama',\n",
              " 'Drama',\n",
              " 'Comedy',\n",
              " 'Drama',\n",
              " 'Comedy',\n",
              " 'Comedy',\n",
              " 'Comedy',\n",
              " 'Drama',\n",
              " 'Comedy',\n",
              " 'Short',\n",
              " 'Drama',\n",
              " 'Drama',\n",
              " 'Drama',\n",
              " 'Drama',\n",
              " 'Comedy',\n",
              " 'Drama',\n",
              " 'Comedy',\n",
              " 'Comedy',\n",
              " 'Action',\n",
              " 'Adventure',\n",
              " 'Comedy',\n",
              " 'Drama',\n",
              " 'Adventure',\n",
              " 'Comedy',\n",
              " 'Adventure',\n",
              " 'Comedy',\n",
              " 'Western',\n",
              " 'Drama',\n",
              " 'Comedy',\n",
              " 'Drama',\n",
              " 'Comedy',\n",
              " 'Romance',\n",
              " 'Drama',\n",
              " 'Comedy',\n",
              " 'Drama',\n",
              " 'Drama',\n",
              " 'Drama',\n",
              " 'Comedy',\n",
              " 'Drama',\n",
              " 'Drama',\n",
              " 'Drama',\n",
              " 'Drama',\n",
              " 'Drama',\n",
              " 'Drama',\n",
              " 'Drama',\n",
              " 'Comedy',\n",
              " 'Comedy',\n",
              " 'Drama',\n",
              " 'Short',\n",
              " 'Comedy',\n",
              " 'Comedy',\n",
              " 'Short',\n",
              " 'Comedy',\n",
              " 'Short',\n",
              " 'Comedy',\n",
              " 'Drama',\n",
              " 'Comedy',\n",
              " 'Drama',\n",
              " 'Western',\n",
              " 'Drama',\n",
              " 'Mystery',\n",
              " 'Comedy',\n",
              " 'Western',\n",
              " 'Comedy',\n",
              " 'Drama',\n",
              " 'Drama',\n",
              " 'Comedy',\n",
              " 'Comedy',\n",
              " 'Drama',\n",
              " 'Drama',\n",
              " 'Drama',\n",
              " 'Drama',\n",
              " 'Drama',\n",
              " 'Historical',\n",
              " 'Historical',\n",
              " 'Drama',\n",
              " 'Drama',\n",
              " 'Drama',\n",
              " 'Romance',\n",
              " 'Drama',\n",
              " 'Short',\n",
              " 'Comedy',\n",
              " 'Short',\n",
              " 'Comedy',\n",
              " 'Short',\n",
              " 'Comedy',\n",
              " 'Drama',\n",
              " 'Drama',\n",
              " 'Short',\n",
              " 'Comedy',\n",
              " 'Short',\n",
              " 'Comedy',\n",
              " 'Short',\n",
              " 'Comedy',\n",
              " 'Short',\n",
              " 'Comedy',\n",
              " 'Short',\n",
              " 'Comedy',\n",
              " 'Short',\n",
              " 'Comedy',\n",
              " 'Short',\n",
              " 'Comedy',\n",
              " 'Short',\n",
              " 'Comedy',\n",
              " 'Short',\n",
              " 'Comedy',\n",
              " 'Short',\n",
              " 'Comedy',\n",
              " 'Short',\n",
              " 'Comedy',\n",
              " 'Short',\n",
              " 'Comedy',\n",
              " 'Short',\n",
              " 'Comedy',\n",
              " 'Short',\n",
              " 'Comedy',\n",
              " 'Short',\n",
              " 'Comedy',\n",
              " 'Short',\n",
              " 'Comedy',\n",
              " 'Short',\n",
              " 'Comedy',\n",
              " 'Short',\n",
              " 'Comedy',\n",
              " 'Short',\n",
              " 'Comedy',\n",
              " 'Short',\n",
              " 'Comedy',\n",
              " 'Short',\n",
              " 'Comedy',\n",
              " 'Short',\n",
              " 'Comedy',\n",
              " 'Short',\n",
              " 'Comedy',\n",
              " 'Short',\n",
              " 'Comedy',\n",
              " 'Short',\n",
              " 'Comedy',\n",
              " 'Short',\n",
              " 'Comedy',\n",
              " 'Short',\n",
              " 'Comedy',\n",
              " 'Short',\n",
              " 'Comedy',\n",
              " 'Short',\n",
              " 'Comedy',\n",
              " 'Short',\n",
              " 'Comedy',\n",
              " 'Drama',\n",
              " 'Drama',\n",
              " 'Drama',\n",
              " 'Romance',\n",
              " 'Drama',\n",
              " 'Comedy',\n",
              " 'Drama',\n",
              " 'Drama',\n",
              " 'Short',\n",
              " 'Comedy',\n",
              " 'Drama',\n",
              " 'Short',\n",
              " 'Comedy',\n",
              " 'Drama',\n",
              " 'Short',\n",
              " 'Comedy',\n",
              " 'Romance',\n",
              " 'Drama',\n",
              " 'Short',\n",
              " 'Comedy',\n",
              " 'Drama',\n",
              " 'Drama',\n",
              " 'Short',\n",
              " 'Comedy',\n",
              " 'Drama',\n",
              " 'Drama',\n",
              " 'Short',\n",
              " 'Comedy',\n",
              " 'Comedy',\n",
              " 'Drama',\n",
              " 'Romance',\n",
              " 'Mystery',\n",
              " 'Western',\n",
              " 'Drama',\n",
              " 'Fantasy',\n",
              " 'Comedy',\n",
              " 'Drama',\n",
              " 'Drama',\n",
              " 'Western',\n",
              " 'Drama',\n",
              " 'Drama',\n",
              " 'Comedy',\n",
              " 'Drama',\n",
              " 'Mystery',\n",
              " 'Drama',\n",
              " 'Adventure',\n",
              " 'Drama',\n",
              " 'Drama',\n",
              " 'Drama',\n",
              " 'Crime',\n",
              " 'Comedy',\n",
              " 'Drama',\n",
              " 'Drama',\n",
              " 'Comedy',\n",
              " 'Drama',\n",
              " 'Crime',\n",
              " 'Drama',\n",
              " 'Drama',\n",
              " 'Drama',\n",
              " 'Comedy',\n",
              " 'Comedy',\n",
              " 'Drama',\n",
              " 'Comedy',\n",
              " 'Fantasy',\n",
              " 'Crime',\n",
              " 'Drama',\n",
              " 'Comedy',\n",
              " 'Comedy',\n",
              " 'Comedy',\n",
              " 'Drama',\n",
              " 'Comedy',\n",
              " 'Drama',\n",
              " 'Western',\n",
              " 'Comedy',\n",
              " 'Comedy',\n",
              " 'Drama',\n",
              " 'Western',\n",
              " 'Historical',\n",
              " 'Comedy',\n",
              " 'Comedy',\n",
              " 'Comedy',\n",
              " 'Romance',\n",
              " 'Romance',\n",
              " 'Comedy',\n",
              " 'Comedy',\n",
              " 'Erotic',\n",
              " 'Comedy',\n",
              " 'Drama',\n",
              " 'Comedy',\n",
              " 'Western',\n",
              " 'Drama',\n",
              " 'Comedy',\n",
              " 'Drama',\n",
              " 'Western',\n",
              " 'Drama',\n",
              " 'Comedy',\n",
              " 'Comedy',\n",
              " 'Comedy',\n",
              " 'Fantasy',\n",
              " 'Drama',\n",
              " 'Drama',\n",
              " 'Adventure',\n",
              " 'Western',\n",
              " 'War',\n",
              " 'Drama',\n",
              " 'Drama',\n",
              " 'Comedy',\n",
              " 'Short',\n",
              " 'Comedy',\n",
              " 'Short',\n",
              " 'Comedy',\n",
              " 'Short',\n",
              " 'Comedy',\n",
              " 'Short',\n",
              " 'Comedy',\n",
              " 'Short',\n",
              " 'Comedy',\n",
              " 'Short',\n",
              " 'Comedy',\n",
              " 'Short',\n",
              " 'Comedy',\n",
              " 'Short',\n",
              " 'Comedy',\n",
              " 'Short',\n",
              " 'Comedy',\n",
              " 'Short',\n",
              " 'Drama',\n",
              " 'Comedy',\n",
              " 'Romance',\n",
              " 'Comedy',\n",
              " 'Short',\n",
              " 'Comedy',\n",
              " 'Short',\n",
              " 'Comedy',\n",
              " 'Short',\n",
              " 'Comedy',\n",
              " 'Short',\n",
              " 'Drama',\n",
              " 'Comedy',\n",
              " 'Drama',\n",
              " 'Adventure',\n",
              " 'Drama',\n",
              " 'Comedy',\n",
              " 'Comedy',\n",
              " 'Crime',\n",
              " 'Drama',\n",
              " 'Comedy',\n",
              " 'Drama',\n",
              " 'Drama',\n",
              " 'Comedy',\n",
              " 'Drama',\n",
              " 'Drama',\n",
              " 'Drama',\n",
              " 'Comedy',\n",
              " 'Adventure',\n",
              " 'Drama',\n",
              " 'Comedy',\n",
              " 'Drama',\n",
              " 'Drama',\n",
              " 'Comedy',\n",
              " 'Spy',\n",
              " 'Drama',\n",
              " 'Comedy',\n",
              " 'Comedy',\n",
              " 'Western',\n",
              " 'Drama',\n",
              " 'Comedy',\n",
              " 'Western',\n",
              " 'Comedy',\n",
              " 'Romance',\n",
              " 'Comedy',\n",
              " 'Comedy',\n",
              " 'Adventure',\n",
              " 'Comedy',\n",
              " 'Drama',\n",
              " 'Documentary',\n",
              " 'Comedy',\n",
              " 'Drama',\n",
              " 'Comedy',\n",
              " 'Comedy',\n",
              " 'Crime',\n",
              " 'Drama',\n",
              " 'Comedy',\n",
              " 'Comedy',\n",
              " 'Comedy',\n",
              " 'Short',\n",
              " 'Fantasy',\n",
              " 'Comedy',\n",
              " 'Comedy',\n",
              " 'Drama',\n",
              " 'Drama',\n",
              " 'Comedy',\n",
              " 'Drama',\n",
              " 'Drama',\n",
              " 'Drama',\n",
              " 'Comedy',\n",
              " 'Drama',\n",
              " 'Comedy',\n",
              " 'Drama',\n",
              " 'Comedy',\n",
              " 'Comedy',\n",
              " 'Comedy',\n",
              " 'Comedy',\n",
              " 'Drama',\n",
              " 'Mystery',\n",
              " 'Drama',\n",
              " 'Comedy',\n",
              " 'Comedy',\n",
              " 'Comedy',\n",
              " 'Drama',\n",
              " 'Comedy',\n",
              " 'Drama',\n",
              " 'Comedy',\n",
              " 'Comedy',\n",
              " 'Fantasy',\n",
              " 'Drama',\n",
              " 'War',\n",
              " 'Drama',\n",
              " 'War',\n",
              " 'Drama',\n",
              " 'Adventure',\n",
              " 'Romance',\n",
              " 'Comedy',\n",
              " 'Comedy',\n",
              " 'War',\n",
              " 'Drama',\n",
              " 'Western',\n",
              " 'Drama',\n",
              " 'Comedy',\n",
              " 'Comedy',\n",
              " 'Drama',\n",
              " 'Comedy',\n",
              " 'Drama',\n",
              " 'Comedy',\n",
              " 'Drama',\n",
              " 'Comedy',\n",
              " 'Comedy',\n",
              " 'Comedy',\n",
              " 'Comedy',\n",
              " 'Romance',\n",
              " 'Western',\n",
              " 'Comedy',\n",
              " 'Drama',\n",
              " 'Comedy',\n",
              " 'Western',\n",
              " 'Comedy',\n",
              " 'Comedy',\n",
              " 'Drama',\n",
              " 'Biography',\n",
              " 'Comedy',\n",
              " 'Comedy',\n",
              " 'Romance',\n",
              " 'Comedy',\n",
              " 'Drama',\n",
              " 'Comedy',\n",
              " 'Comedy',\n",
              " 'Drama',\n",
              " 'Comedy',\n",
              " 'Drama',\n",
              " 'Animated',\n",
              " 'Comedy',\n",
              " 'Comedy',\n",
              " 'Comedy',\n",
              " 'Comedy',\n",
              " 'Drama',\n",
              " 'Western',\n",
              " 'Comedy',\n",
              " 'Drama',\n",
              " 'Adventure',\n",
              " 'Drama',\n",
              " 'Drama',\n",
              " 'Western',\n",
              " 'Drama',\n",
              " 'Comedy',\n",
              " 'Comedy',\n",
              " 'Comedy',\n",
              " 'Short',\n",
              " 'Animated',\n",
              " 'Western',\n",
              " 'Comedy',\n",
              " 'Drama',\n",
              " 'Comedy',\n",
              " 'Western',\n",
              " 'Drama',\n",
              " 'Comedy',\n",
              " 'Comedy',\n",
              " 'Comedy',\n",
              " 'Adventure',\n",
              " 'Comedy',\n",
              " 'Drama',\n",
              " 'Comedy',\n",
              " 'Adventure',\n",
              " 'Comedy',\n",
              " 'Comedy',\n",
              " 'Comedy',\n",
              " 'Drama',\n",
              " 'Drama',\n",
              " 'Romance',\n",
              " 'Comedy',\n",
              " 'Drama',\n",
              " 'Comedy',\n",
              " 'Drama',\n",
              " 'Drama',\n",
              " 'Comedy',\n",
              " 'Comedy',\n",
              " 'Drama',\n",
              " 'Western',\n",
              " 'Adventure',\n",
              " 'Comedy',\n",
              " 'Comedy',\n",
              " 'Comedy',\n",
              " 'Comedy',\n",
              " 'Drama',\n",
              " 'Comedy',\n",
              " 'Comedy',\n",
              " 'Comedy',\n",
              " 'Comedy',\n",
              " 'Comedy',\n",
              " 'Drama',\n",
              " 'Comedy',\n",
              " 'Comedy',\n",
              " 'Drama',\n",
              " 'Drama',\n",
              " 'Western',\n",
              " 'Drama',\n",
              " 'Comedy',\n",
              " 'Mystery',\n",
              " 'Western',\n",
              " 'Western',\n",
              " 'Comedy',\n",
              " 'Romance',\n",
              " 'Drama',\n",
              " 'Drama',\n",
              " 'Drama',\n",
              " 'War',\n",
              " 'Drama',\n",
              " 'Drama',\n",
              " 'Comedy',\n",
              " 'Drama',\n",
              " 'Drama',\n",
              " 'War',\n",
              " 'Romance',\n",
              " 'Drama',\n",
              " 'Comedy',\n",
              " 'Drama',\n",
              " 'Drama',\n",
              " 'Mystery',\n",
              " 'Drama',\n",
              " 'Drama',\n",
              " 'Romance',\n",
              " 'Drama',\n",
              " 'Drama',\n",
              " 'Drama',\n",
              " 'Drama',\n",
              " 'Drama',\n",
              " 'Drama',\n",
              " 'Drama',\n",
              " 'Romance',\n",
              " 'Comedy',\n",
              " 'Comedy',\n",
              " 'Drama',\n",
              " 'Drama',\n",
              " 'Adventure',\n",
              " 'Comedy',\n",
              " 'Drama',\n",
              " 'Western',\n",
              " 'Comedy',\n",
              " 'Drama',\n",
              " 'Drama',\n",
              " 'Drama',\n",
              " 'Drama',\n",
              " 'Action',\n",
              " 'Comedy',\n",
              " 'Drama',\n",
              " 'Drama',\n",
              " 'Comedy',\n",
              " 'Comedy',\n",
              " 'Drama',\n",
              " 'Drama',\n",
              " 'Drama',\n",
              " 'Comedy',\n",
              " 'Comedy',\n",
              " 'Western',\n",
              " 'Comedy',\n",
              " 'Comedy',\n",
              " 'Adventure',\n",
              " 'Drama',\n",
              " 'Drama',\n",
              " 'Comedy',\n",
              " 'Comedy',\n",
              " 'Drama',\n",
              " 'Drama',\n",
              " 'Western',\n",
              " 'Comedy',\n",
              " 'Drama',\n",
              " 'Drama',\n",
              " 'Drama',\n",
              " 'Drama',\n",
              " 'Drama',\n",
              " 'Comedy',\n",
              " 'Drama',\n",
              " 'Drama',\n",
              " 'Drama',\n",
              " 'Drama',\n",
              " 'Comedy',\n",
              " 'Drama',\n",
              " 'Drama',\n",
              " 'Comedy',\n",
              " 'Drama',\n",
              " 'Drama',\n",
              " 'Drama',\n",
              " 'Adventure',\n",
              " 'Drama',\n",
              " 'Drama',\n",
              " 'Drama',\n",
              " 'Drama',\n",
              " 'Comedy',\n",
              " 'Romance',\n",
              " 'Comedy',\n",
              " 'Drama',\n",
              " 'Adventure',\n",
              " 'Drama',\n",
              " 'Comedy',\n",
              " 'Comedy',\n",
              " 'Drama',\n",
              " 'Drama',\n",
              " 'Comedy',\n",
              " 'Drama',\n",
              " 'Drama',\n",
              " 'Comedy',\n",
              " 'Drama',\n",
              " 'Comedy',\n",
              " 'Drama',\n",
              " 'Western',\n",
              " 'Comedy',\n",
              " 'Drama',\n",
              " 'Drama',\n",
              " ...]"
            ]
          },
          "execution_count": 88,
          "metadata": {},
          "output_type": "execute_result"
        }
      ],
      "source": [
        "generos"
      ]
    },
    {
      "cell_type": "code",
      "execution_count": null,
      "metadata": {
        "id": "d_4oX006UlH8"
      },
      "outputs": [],
      "source": [
        "### para poder contar as palavras\n",
        "from collections import Counter"
      ]
    },
    {
      "cell_type": "code",
      "execution_count": null,
      "metadata": {
        "id": "W-1UR7hFU-K8"
      },
      "outputs": [],
      "source": [
        "# passar a lista com os termos\n",
        "contador = Counter(generos)"
      ]
    },
    {
      "cell_type": "code",
      "execution_count": null,
      "metadata": {
        "colab": {
          "base_uri": "https://localhost:8080/"
        },
        "id": "VutW-lbaVF5d",
        "outputId": "060de57f-b27b-45bc-ae69-9ba36c897a6c"
      },
      "outputs": [
        {
          "data": {
            "text/plain": [
              "dict_keys(['Short', 'Documentary', 'Comedy', 'Western', 'Adventure', 'Romance', 'Crime', 'Drama', 'Action', 'Animated', 'Historical', 'Biography', 'Horror', 'Fantasy', 'Silent', 'Sports', 'Thriller', 'War', 'Mystery', 'Erotic', 'Spy', 'Family', 'Science Fiction', 'Musical', 'Sport', 'Noir', 'Suspense', 'Live Action', 'Disaster', 'Teen', 'Political', 'Satire', 'Slasher', 'Martial Arts', 'Performance', 'Superhero', 'Independent', 'Dance', 'Supernatural', 'Legal', 'Found Footage'])"
            ]
          },
          "execution_count": 91,
          "metadata": {},
          "output_type": "execute_result"
        }
      ],
      "source": [
        "# quais palavras tem na lista\n",
        "contador.keys()"
      ]
    },
    {
      "cell_type": "code",
      "execution_count": null,
      "metadata": {
        "colab": {
          "base_uri": "https://localhost:8080/"
        },
        "id": "C32wbiLSVQS0",
        "outputId": "74b3835f-a946-4422-c380-8b64505e4e75"
      },
      "outputs": [
        {
          "data": {
            "text/plain": [
              "[('Drama', 8744),\n",
              " ('Comedy', 7363),\n",
              " ('Western', 3013),\n",
              " ('Crime', 1499),\n",
              " ('Horror', 1166),\n",
              " ('Musical', 1166),\n",
              " ('Romance', 1147),\n",
              " ('Action', 1109),\n",
              " ('Adventure', 999),\n",
              " ('Thriller', 865),\n",
              " ('Science Fiction', 780),\n",
              " ('Animated', 757),\n",
              " ('Mystery', 629),\n",
              " ('War', 556),\n",
              " ('Documentary', 529),\n",
              " ('Biography', 439),\n",
              " ('Noir', 403),\n",
              " ('Family', 381),\n",
              " ('Short', 355),\n",
              " ('Fantasy', 327)]"
            ]
          },
          "execution_count": 92,
          "metadata": {},
          "output_type": "execute_result"
        }
      ],
      "source": [
        "### os generos mais comuns\n",
        "contador.most_common(20)"
      ]
    },
    {
      "cell_type": "code",
      "execution_count": null,
      "metadata": {
        "id": "C9wVsQ3CVm1f"
      },
      "outputs": [],
      "source": [
        "####### mais e quando o texto não esta como lista\n",
        "## uma string em lista split\n",
        "### eu tenho caracteres especiais [],\n",
        "## re - expressão em string (texto)\n",
        "x = \"['comedy','dramas']\""
      ]
    },
    {
      "cell_type": "code",
      "execution_count": null,
      "metadata": {
        "colab": {
          "base_uri": "https://localhost:8080/"
        },
        "id": "pd-XTQGWWFTo",
        "outputId": "a2c4e7b2-9ecf-4949-b609-69c4e5e83e24"
      },
      "outputs": [
        {
          "data": {
            "text/plain": [
              "str"
            ]
          },
          "execution_count": 94,
          "metadata": {},
          "output_type": "execute_result"
        }
      ],
      "source": [
        "type(x)"
      ]
    },
    {
      "cell_type": "code",
      "execution_count": null,
      "metadata": {
        "id": "Xbah3RPiWH-e"
      },
      "outputs": [],
      "source": [
        "# remover os caracteres especiais e colcoar espaço em branco no lugar\n",
        "x = re.sub('\\W',\" \",x).strip()"
      ]
    },
    {
      "cell_type": "code",
      "execution_count": null,
      "metadata": {
        "id": "Ybq7kJ_FWYMe"
      },
      "outputs": [],
      "source": [
        "lista = x.split()"
      ]
    },
    {
      "cell_type": "code",
      "execution_count": null,
      "metadata": {
        "id": "WyNesVykWrM1"
      },
      "outputs": [],
      "source": [
        "### trabalhar com todos os generos como string\n",
        "generos2 = []"
      ]
    },
    {
      "cell_type": "code",
      "execution_count": null,
      "metadata": {
        "id": "LBT8w9NXW8BG"
      },
      "outputs": [],
      "source": [
        "for g in filmes.genres:\n",
        "  g = re.sub('\\W',\" \", str(g))\n",
        "  # tokenization = tokenização\n",
        "  # separar as palavras de um texto em termos\n",
        "  # cada termo é um elemento da lista\n",
        "  generos2.extend(g.split())"
      ]
    },
    {
      "cell_type": "code",
      "execution_count": null,
      "metadata": {
        "colab": {
          "base_uri": "https://localhost:8080/"
        },
        "id": "2xW19xl3Xb6c",
        "outputId": "017111f9-ac7e-4077-fc00-e87a5cff2ff6"
      },
      "outputs": [
        {
          "data": {
            "text/plain": [
              "[('Drama', 8744),\n",
              " ('Comedy', 7363),\n",
              " ('Western', 3013),\n",
              " ('Crime', 1499),\n",
              " ('Horror', 1166),\n",
              " ('Musical', 1166),\n",
              " ('Romance', 1147),\n",
              " ('Action', 1118),\n",
              " ('Adventure', 999),\n",
              " ('Thriller', 865),\n",
              " ('Science', 780),\n",
              " ('Fiction', 780),\n",
              " ('Animated', 757),\n",
              " ('Mystery', 629),\n",
              " ('War', 556),\n",
              " ('Documentary', 529),\n",
              " ('Biography', 439),\n",
              " ('Noir', 403),\n",
              " ('Family', 381),\n",
              " ('Short', 355)]"
            ]
          },
          "execution_count": 99,
          "metadata": {},
          "output_type": "execute_result"
        }
      ],
      "source": [
        "c = Counter(generos2)\n",
        "c.keys()\n",
        "c.most_common(20)"
      ]
    },
    {
      "cell_type": "code",
      "execution_count": null,
      "metadata": {
        "id": "7qW9dnqQb9tT"
      },
      "outputs": [],
      "source": [
        "### Numero de filmes por cast"
      ]
    },
    {
      "cell_type": "code",
      "execution_count": null,
      "metadata": {
        "id": "Nur2STwwcVjs"
      },
      "outputs": [],
      "source": []
    },
    {
      "cell_type": "code",
      "execution_count": null,
      "metadata": {
        "id": "tYsoQ0DqcCOv"
      },
      "outputs": [],
      "source": [
        "cast = filmes.cast[len(filmes)-1]"
      ]
    },
    {
      "cell_type": "code",
      "execution_count": null,
      "metadata": {
        "colab": {
          "base_uri": "https://localhost:8080/"
        },
        "id": "0ZtPzOV7cKfu",
        "outputId": "ad131a96-124d-4467-a0c7-0e43cb87ce0b"
      },
      "outputs": [
        {
          "data": {
            "text/plain": [
              "list"
            ]
          },
          "execution_count": 102,
          "metadata": {},
          "output_type": "execute_result"
        }
      ],
      "source": [
        "type(cast)"
      ]
    },
    {
      "cell_type": "code",
      "execution_count": null,
      "metadata": {
        "id": "1CMeuUMjcbU9"
      },
      "outputs": [],
      "source": [
        "# trabalhar com os dados em lista\n",
        "elenco = []\n",
        "for cast in filmes.cast:\n",
        "  if cast:\n",
        "    elenco.extend(cast)"
      ]
    },
    {
      "cell_type": "code",
      "execution_count": null,
      "metadata": {
        "colab": {
          "base_uri": "https://localhost:8080/"
        },
        "id": "uxGW0IM-c08W",
        "outputId": "3d7faa57-4db5-4e7e-9a95-26ea8ab69a93"
      },
      "outputs": [
        {
          "data": {
            "text/plain": [
              "[('Harold Lloyd', 190),\n",
              " ('Hoot Gibson', 142),\n",
              " ('John Wayne', 136),\n",
              " ('Charles Starrett', 116),\n",
              " ('Bebe Daniels', 103),\n",
              " ('Johnny Mack Brown', 101),\n",
              " ('The Three Stooges', 100),\n",
              " ('and', 93),\n",
              " ('Wallace Beery', 91),\n",
              " ('Buck Jones', 91),\n",
              " ('Mary Astor', 91),\n",
              " ('Mickey Rooney', 90),\n",
              " ('Jack Holt', 88),\n",
              " ('Warner Baxter', 86),\n",
              " ('Loretta Young', 85),\n",
              " ('Tom and Jerry', 85),\n",
              " ('William Boyd', 84),\n",
              " ('Randolph Scott', 84),\n",
              " ('Lionel Barrymore', 83),\n",
              " ('Edmund Lowe', 82)]"
            ]
          },
          "execution_count": 104,
          "metadata": {},
          "output_type": "execute_result"
        }
      ],
      "source": [
        "c = Counter(elenco)\n",
        "c.keys()\n",
        "c.most_common(20)\n",
        "# só preciso remover esse and\n"
      ]
    },
    {
      "cell_type": "code",
      "execution_count": null,
      "metadata": {
        "id": "ASZzUK9HghlB"
      },
      "outputs": [],
      "source": [
        "while \"and\" in elenco:\n",
        "  elenco.remove(\"and\")"
      ]
    },
    {
      "cell_type": "code",
      "execution_count": null,
      "metadata": {
        "colab": {
          "base_uri": "https://localhost:8080/"
        },
        "id": "SO2ccaomgoxr",
        "outputId": "2787d078-18f8-44c4-adc1-970c62c45291"
      },
      "outputs": [
        {
          "data": {
            "text/plain": [
              "[('Harold Lloyd', 190),\n",
              " ('Hoot Gibson', 142),\n",
              " ('John Wayne', 136),\n",
              " ('Charles Starrett', 116),\n",
              " ('Bebe Daniels', 103),\n",
              " ('Johnny Mack Brown', 101),\n",
              " ('The Three Stooges', 100),\n",
              " ('Wallace Beery', 91),\n",
              " ('Buck Jones', 91),\n",
              " ('Mary Astor', 91),\n",
              " ('Mickey Rooney', 90),\n",
              " ('Jack Holt', 88),\n",
              " ('Warner Baxter', 86),\n",
              " ('Loretta Young', 85),\n",
              " ('Tom and Jerry', 85),\n",
              " ('William Boyd', 84),\n",
              " ('Randolph Scott', 84),\n",
              " ('Lionel Barrymore', 83),\n",
              " ('Edmund Lowe', 82),\n",
              " ('Myrna Loy', 82)]"
            ]
          },
          "execution_count": 106,
          "metadata": {},
          "output_type": "execute_result"
        }
      ],
      "source": [
        "c = Counter(elenco)\n",
        "c.keys()\n",
        "c.most_common(20)\n",
        "# só preciso remover esse and"
      ]
    },
    {
      "cell_type": "code",
      "execution_count": null,
      "metadata": {
        "id": "ca8lgNyJhEOt"
      },
      "outputs": [],
      "source": []
    },
    {
      "cell_type": "code",
      "execution_count": null,
      "metadata": {
        "id": "tw0E_P1phFal"
      },
      "outputs": [],
      "source": []
    },
    {
      "cell_type": "code",
      "execution_count": null,
      "metadata": {
        "id": "YYPC8ZnPdNdH"
      },
      "outputs": [],
      "source": [
        "#### como String\n",
        "elenco2 = []"
      ]
    },
    {
      "cell_type": "code",
      "execution_count": null,
      "metadata": {
        "id": "HSDiAUXgdZBo"
      },
      "outputs": [],
      "source": [
        "for cast in filmes.cast:\n",
        "  # não pode remover os caracteres especiais\n",
        "  cast = str(cast)\n",
        "  cast = cast[1:-1] # removi os cochetes\n",
        "  # valores ausentes\n",
        "  if cast:\n",
        "    elenco2.extend(cast.split(\",\"))"
      ]
    },
    {
      "cell_type": "code",
      "execution_count": null,
      "metadata": {
        "id": "2Sei8DOTdl3X"
      },
      "outputs": [],
      "source": [
        "# remover as aspas simples '\n",
        "elenco2 = [cast.replace(\"'\", \"\").strip() for cast in  elenco2]"
      ]
    },
    {
      "cell_type": "code",
      "execution_count": null,
      "metadata": {
        "id": "dmXSNBc7es3P"
      },
      "outputs": [],
      "source": [
        "# remover o and\n",
        "type(elenco2)\n",
        "\n",
        "while \"and\" in elenco2:\n",
        "  elenco2.remove(\"and\")"
      ]
    },
    {
      "cell_type": "code",
      "execution_count": null,
      "metadata": {
        "id": "nSkRU8mIgKnl"
      },
      "outputs": [],
      "source": [
        "# remover esse .jr\n",
        "while \"Jr.\" in elenco2:\n",
        "  elenco2.remove('Jr.')"
      ]
    },
    {
      "cell_type": "code",
      "execution_count": null,
      "metadata": {
        "colab": {
          "base_uri": "https://localhost:8080/"
        },
        "id": "7SXYmyPUeu52",
        "outputId": "3bfac1ad-aa0d-4b5a-fc3e-15664d962ade"
      },
      "outputs": [
        {
          "data": {
            "text/plain": [
              "[('Harold Lloyd', 190),\n",
              " ('Hoot Gibson', 142),\n",
              " ('John Wayne', 136),\n",
              " ('Charles Starrett', 116),\n",
              " ('Bebe Daniels', 103),\n",
              " ('Johnny Mack Brown', 101),\n",
              " ('The Three Stooges', 100),\n",
              " ('Wallace Beery', 91),\n",
              " ('Buck Jones', 91),\n",
              " ('Mary Astor', 91)]"
            ]
          },
          "execution_count": 112,
          "metadata": {},
          "output_type": "execute_result"
        }
      ],
      "source": [
        "## contar os termos\n",
        "c = Counter(elenco2)\n",
        "c.keys()\n",
        "c.most_common(10)"
      ]
    },
    {
      "cell_type": "code",
      "execution_count": null,
      "metadata": {
        "id": "cbZUbkqhhGyr"
      },
      "outputs": [],
      "source": [
        "# remover stopwords ( conectores : e, um, uma)\n",
        "import nltk\n"
      ]
    },
    {
      "cell_type": "code",
      "execution_count": null,
      "metadata": {
        "colab": {
          "base_uri": "https://localhost:8080/"
        },
        "id": "bEVddZ0Ghhll",
        "outputId": "ff536650-6d6e-46af-8461-9c1aef8bf9d3"
      },
      "outputs": [
        {
          "name": "stderr",
          "output_type": "stream",
          "text": [
            "[nltk_data] Downloading package stopwords to /root/nltk_data...\n",
            "[nltk_data]   Package stopwords is already up-to-date!\n"
          ]
        },
        {
          "data": {
            "text/plain": [
              "True"
            ]
          },
          "execution_count": 114,
          "metadata": {},
          "output_type": "execute_result"
        }
      ],
      "source": [
        "# faço do ambiente do colab do dicionario\n",
        "nltk.download('stopwords')"
      ]
    },
    {
      "cell_type": "code",
      "execution_count": null,
      "metadata": {
        "id": "9tBoiJknhrW0"
      },
      "outputs": [],
      "source": [
        "#lista de palavras proibidas\n",
        "listaProibida = nltk.corpus.stopwords.words('english')"
      ]
    },
    {
      "cell_type": "code",
      "execution_count": null,
      "metadata": {
        "colab": {
          "base_uri": "https://localhost:8080/"
        },
        "id": "jYTA0z_ViHBX",
        "outputId": "ec01d9be-8aec-4ad5-ddfe-51076c63ba72"
      },
      "outputs": [
        {
          "data": {
            "text/plain": [
              "['i',\n",
              " 'me',\n",
              " 'my',\n",
              " 'myself',\n",
              " 'we',\n",
              " 'our',\n",
              " 'ours',\n",
              " 'ourselves',\n",
              " 'you',\n",
              " \"you're\",\n",
              " \"you've\",\n",
              " \"you'll\",\n",
              " \"you'd\",\n",
              " 'your',\n",
              " 'yours',\n",
              " 'yourself',\n",
              " 'yourselves',\n",
              " 'he',\n",
              " 'him',\n",
              " 'his',\n",
              " 'himself',\n",
              " 'she',\n",
              " \"she's\",\n",
              " 'her',\n",
              " 'hers',\n",
              " 'herself',\n",
              " 'it',\n",
              " \"it's\",\n",
              " 'its',\n",
              " 'itself',\n",
              " 'they',\n",
              " 'them',\n",
              " 'their',\n",
              " 'theirs',\n",
              " 'themselves',\n",
              " 'what',\n",
              " 'which',\n",
              " 'who',\n",
              " 'whom',\n",
              " 'this',\n",
              " 'that',\n",
              " \"that'll\",\n",
              " 'these',\n",
              " 'those',\n",
              " 'am',\n",
              " 'is',\n",
              " 'are',\n",
              " 'was',\n",
              " 'were',\n",
              " 'be',\n",
              " 'been',\n",
              " 'being',\n",
              " 'have',\n",
              " 'has',\n",
              " 'had',\n",
              " 'having',\n",
              " 'do',\n",
              " 'does',\n",
              " 'did',\n",
              " 'doing',\n",
              " 'a',\n",
              " 'an',\n",
              " 'the',\n",
              " 'and',\n",
              " 'but',\n",
              " 'if',\n",
              " 'or',\n",
              " 'because',\n",
              " 'as',\n",
              " 'until',\n",
              " 'while',\n",
              " 'of',\n",
              " 'at',\n",
              " 'by',\n",
              " 'for',\n",
              " 'with',\n",
              " 'about',\n",
              " 'against',\n",
              " 'between',\n",
              " 'into',\n",
              " 'through',\n",
              " 'during',\n",
              " 'before',\n",
              " 'after',\n",
              " 'above',\n",
              " 'below',\n",
              " 'to',\n",
              " 'from',\n",
              " 'up',\n",
              " 'down',\n",
              " 'in',\n",
              " 'out',\n",
              " 'on',\n",
              " 'off',\n",
              " 'over',\n",
              " 'under',\n",
              " 'again',\n",
              " 'further',\n",
              " 'then',\n",
              " 'once',\n",
              " 'here',\n",
              " 'there',\n",
              " 'when',\n",
              " 'where',\n",
              " 'why',\n",
              " 'how',\n",
              " 'all',\n",
              " 'any',\n",
              " 'both',\n",
              " 'each',\n",
              " 'few',\n",
              " 'more',\n",
              " 'most',\n",
              " 'other',\n",
              " 'some',\n",
              " 'such',\n",
              " 'no',\n",
              " 'nor',\n",
              " 'not',\n",
              " 'only',\n",
              " 'own',\n",
              " 'same',\n",
              " 'so',\n",
              " 'than',\n",
              " 'too',\n",
              " 'very',\n",
              " 's',\n",
              " 't',\n",
              " 'can',\n",
              " 'will',\n",
              " 'just',\n",
              " 'don',\n",
              " \"don't\",\n",
              " 'should',\n",
              " \"should've\",\n",
              " 'now',\n",
              " 'd',\n",
              " 'll',\n",
              " 'm',\n",
              " 'o',\n",
              " 're',\n",
              " 've',\n",
              " 'y',\n",
              " 'ain',\n",
              " 'aren',\n",
              " \"aren't\",\n",
              " 'couldn',\n",
              " \"couldn't\",\n",
              " 'didn',\n",
              " \"didn't\",\n",
              " 'doesn',\n",
              " \"doesn't\",\n",
              " 'hadn',\n",
              " \"hadn't\",\n",
              " 'hasn',\n",
              " \"hasn't\",\n",
              " 'haven',\n",
              " \"haven't\",\n",
              " 'isn',\n",
              " \"isn't\",\n",
              " 'ma',\n",
              " 'mightn',\n",
              " \"mightn't\",\n",
              " 'mustn',\n",
              " \"mustn't\",\n",
              " 'needn',\n",
              " \"needn't\",\n",
              " 'shan',\n",
              " \"shan't\",\n",
              " 'shouldn',\n",
              " \"shouldn't\",\n",
              " 'wasn',\n",
              " \"wasn't\",\n",
              " 'weren',\n",
              " \"weren't\",\n",
              " 'won',\n",
              " \"won't\",\n",
              " 'wouldn',\n",
              " \"wouldn't\"]"
            ]
          },
          "execution_count": 116,
          "metadata": {},
          "output_type": "execute_result"
        }
      ],
      "source": [
        "listaProibida"
      ]
    },
    {
      "cell_type": "code",
      "execution_count": null,
      "metadata": {
        "id": "SwsNyOnjiIeA"
      },
      "outputs": [],
      "source": [
        "# função para poder pegar e tokenizar\n",
        "from nltk.tokenize import RegexpTokenizer"
      ]
    },
    {
      "cell_type": "code",
      "execution_count": null,
      "metadata": {
        "id": "sfK-lL1kifDX"
      },
      "outputs": [],
      "source": [
        "# limpar os caracteres especias\n",
        "tokenizacao = RegexpTokenizer(\"[\\w']+\")"
      ]
    },
    {
      "cell_type": "code",
      "execution_count": null,
      "metadata": {
        "id": "nW-jvdnHimBe"
      },
      "outputs": [],
      "source": [
        "# exemplo de remover especiais\n",
        "# e como saida é uma lista de termos\n",
        "# tokenização\n",
        "#tokenizacao.tokenize(titulo)"
      ]
    },
    {
      "cell_type": "code",
      "execution_count": null,
      "metadata": {
        "id": "_4pPtVuQkn2Q"
      },
      "outputs": [],
      "source": [
        "titulos = filmes.title.apply(lambda x: tokenizacao.tokenize(x))"
      ]
    },
    {
      "cell_type": "code",
      "execution_count": null,
      "metadata": {
        "colab": {
          "base_uri": "https://localhost:8080/"
        },
        "id": "MeloSXCnkzgH",
        "outputId": "c49dea0d-d403-4f7b-ebb5-5997becba08b"
      },
      "outputs": [
        {
          "data": {
            "text/plain": [
              "0                  [After, Dark, in, Central, Park]\n",
              "1        [Boarding, School, Girls', Pajama, Parade]\n",
              "2              [Buffalo, Bill's, Wild, West, Parad]\n",
              "3                                          [Caught]\n",
              "4                          [Clowns, Spinning, Hats]\n",
              "                            ...                    \n",
              "28790                                   [Bumblebee]\n",
              "28791                         [Welcome, to, Marwen]\n",
              "28792                         [Holmes, and, Watson]\n",
              "28793                     [On, the, Basis, of, Sex]\n",
              "28794                                   [Destroyer]\n",
              "Name: title, Length: 28795, dtype: object"
            ]
          },
          "execution_count": 122,
          "metadata": {},
          "output_type": "execute_result"
        }
      ],
      "source": [
        "titulos"
      ]
    },
    {
      "cell_type": "code",
      "execution_count": null,
      "metadata": {
        "id": "V7wRTgRek9NT"
      },
      "outputs": [],
      "source": [
        "# remover as palavras proibidas\n",
        "# padronização dos termos em minisculo\n",
        "titulos = filmes.title.apply(lambda x: tokenizacao.tokenize(x.lower()))"
      ]
    },
    {
      "cell_type": "code",
      "execution_count": null,
      "metadata": {
        "colab": {
          "base_uri": "https://localhost:8080/"
        },
        "id": "qEPyWGDOlOzO",
        "outputId": "db3e8473-c83e-4ce6-fd84-05bd87bc215c"
      },
      "outputs": [
        {
          "data": {
            "text/plain": [
              "0                  [after, dark, in, central, park]\n",
              "1        [boarding, school, girls', pajama, parade]\n",
              "2              [buffalo, bill's, wild, west, parad]\n",
              "3                                          [caught]\n",
              "4                          [clowns, spinning, hats]\n",
              "                            ...                    \n",
              "28790                                   [bumblebee]\n",
              "28791                         [welcome, to, marwen]\n",
              "28792                         [holmes, and, watson]\n",
              "28793                     [on, the, basis, of, sex]\n",
              "28794                                   [destroyer]\n",
              "Name: title, Length: 28795, dtype: object"
            ]
          },
          "execution_count": 139,
          "metadata": {},
          "output_type": "execute_result"
        }
      ],
      "source": [
        "titulos"
      ]
    },
    {
      "cell_type": "code",
      "execution_count": null,
      "metadata": {
        "id": "O_D11S8blTTp"
      },
      "outputs": [],
      "source": [
        "## remover as palavras proibidas\n",
        "titulo = titulos[0]"
      ]
    },
    {
      "cell_type": "code",
      "execution_count": null,
      "metadata": {
        "colab": {
          "base_uri": "https://localhost:8080/"
        },
        "id": "_Zm_sDBSlcOF",
        "outputId": "4b1e1c03-9227-4131-f3ca-645abd4028a0"
      },
      "outputs": [
        {
          "data": {
            "text/plain": [
              "['after', 'dark', 'in', 'central', 'park']"
            ]
          },
          "execution_count": 141,
          "metadata": {},
          "output_type": "execute_result"
        }
      ],
      "source": [
        "titulo"
      ]
    },
    {
      "cell_type": "code",
      "execution_count": null,
      "metadata": {
        "colab": {
          "base_uri": "https://localhost:8080/"
        },
        "id": "RtsfT4jmldj1",
        "outputId": "c9368e6b-94bf-45e0-a924-ce6a6937cb52"
      },
      "outputs": [
        {
          "name": "stdout",
          "output_type": "stream",
          "text": [
            "dark\n",
            "central\n",
            "park\n"
          ]
        }
      ],
      "source": [
        "for palavra in titulo:\n",
        "  if palavra not in listaProibida:\n",
        "    print(palavra)"
      ]
    },
    {
      "cell_type": "code",
      "execution_count": null,
      "metadata": {
        "colab": {
          "base_uri": "https://localhost:8080/"
        },
        "id": "ycoZ73KGlsM4",
        "outputId": "cf596b2b-23e6-464e-f627-aa144ab8905b"
      },
      "outputs": [
        {
          "data": {
            "text/plain": [
              "['dark', 'central', 'park']"
            ]
          },
          "execution_count": 143,
          "metadata": {},
          "output_type": "execute_result"
        }
      ],
      "source": [
        "[palavra  for palavra in titulo if palavra not in listaProibida]"
      ]
    },
    {
      "cell_type": "code",
      "execution_count": null,
      "metadata": {
        "id": "mA7x012Ml3Nh"
      },
      "outputs": [],
      "source": [
        "# função para remover stopwords\n",
        "def remove_stopwords(palavras, proibida):\n",
        "  return [p  for p in palavras if p not in proibida]"
      ]
    },
    {
      "cell_type": "code",
      "execution_count": null,
      "metadata": {
        "colab": {
          "base_uri": "https://localhost:8080/"
        },
        "id": "8D_mKo9_mNwK",
        "outputId": "e2056d8e-3bff-4312-ca58-bdb97c36b0a3"
      },
      "outputs": [
        {
          "data": {
            "text/plain": [
              "['dark', 'central', 'park']"
            ]
          },
          "execution_count": 145,
          "metadata": {},
          "output_type": "execute_result"
        }
      ],
      "source": [
        "remove_stopwords(titulo, listaProibida)"
      ]
    },
    {
      "cell_type": "code",
      "execution_count": null,
      "metadata": {
        "id": "hs4OJrB9mWmg"
      },
      "outputs": [],
      "source": [
        "# usar essa função e remover todas as palavras da lista\n",
        "tituloLimpo = titulos.apply(lambda p: remove_stopwords(p, listaProibida))"
      ]
    },
    {
      "cell_type": "code",
      "execution_count": null,
      "metadata": {
        "id": "3qYoFB04myzH"
      },
      "outputs": [],
      "source": [
        "#### removi todas as stopwords\n",
        "# agora vamos fazert uma lista contendo todas as palavras de todos\n",
        "# os titulos\n",
        "titulo2 = []\n",
        "for t in tituloLimpo:\n",
        "  titulo2.extend(t)"
      ]
    },
    {
      "cell_type": "code",
      "execution_count": null,
      "metadata": {
        "colab": {
          "base_uri": "https://localhost:8080/"
        },
        "id": "eCrgWrW7nHTo",
        "outputId": "45bdd335-465e-448d-c086-7b10279b1696"
      },
      "outputs": [
        {
          "data": {
            "text/plain": [
              "<function Counter.keys>"
            ]
          },
          "execution_count": 148,
          "metadata": {},
          "output_type": "execute_result"
        }
      ],
      "source": [
        "#contar os termos\n",
        "c = Counter(titulo2)\n",
        "c.keys\n"
      ]
    },
    {
      "cell_type": "code",
      "execution_count": null,
      "metadata": {
        "id": "nMQikTeDnIYh"
      },
      "outputs": [],
      "source": [
        "### salvar essa lista em data Frame\n",
        "termos = pd.DataFrame(c.most_common(), columns = ['palavras',\"freq\"])"
      ]
    },
    {
      "cell_type": "code",
      "execution_count": null,
      "metadata": {
        "colab": {
          "base_uri": "https://localhost:8080/",
          "height": 363
        },
        "id": "NX-1smnHnmG3",
        "outputId": "6cea5492-12fa-4ce3-d5fa-12e8f9b7311f"
      },
      "outputs": [
        {
          "data": {
            "application/vnd.google.colaboratory.intrinsic+json": {
              "summary": "{\n  \"name\": \"termos\",\n  \"rows\": 12779,\n  \"fields\": [\n    {\n      \"column\": \"palavras\",\n      \"properties\": {\n        \"dtype\": \"string\",\n        \"num_unique_values\": 12779,\n        \"samples\": [\n          \"cutie\",\n          \"grim\",\n          \"sharp\"\n        ],\n        \"semantic_type\": \"\",\n        \"description\": \"\"\n      }\n    },\n    {\n      \"column\": \"freq\",\n      \"properties\": {\n        \"dtype\": \"number\",\n        \"std\": 13,\n        \"min\": 1,\n        \"max\": 594,\n        \"num_unique_values\": 125,\n        \"samples\": [\n          146,\n          89,\n          101\n        ],\n        \"semantic_type\": \"\",\n        \"description\": \"\"\n      }\n    }\n  ]\n}",
              "type": "dataframe",
              "variable_name": "termos"
            },
            "text/html": [
              "\n",
              "  <div id=\"df-ae6afdd2-5e0a-4420-87b7-3776a3fca7a1\" class=\"colab-df-container\">\n",
              "    <div>\n",
              "<style scoped>\n",
              "    .dataframe tbody tr th:only-of-type {\n",
              "        vertical-align: middle;\n",
              "    }\n",
              "\n",
              "    .dataframe tbody tr th {\n",
              "        vertical-align: top;\n",
              "    }\n",
              "\n",
              "    .dataframe thead th {\n",
              "        text-align: right;\n",
              "    }\n",
              "</style>\n",
              "<table border=\"1\" class=\"dataframe\">\n",
              "  <thead>\n",
              "    <tr style=\"text-align: right;\">\n",
              "      <th></th>\n",
              "      <th>palavras</th>\n",
              "      <th>freq</th>\n",
              "    </tr>\n",
              "  </thead>\n",
              "  <tbody>\n",
              "    <tr>\n",
              "      <th>0</th>\n",
              "      <td>man</td>\n",
              "      <td>594</td>\n",
              "    </tr>\n",
              "    <tr>\n",
              "      <th>1</th>\n",
              "      <td>love</td>\n",
              "      <td>439</td>\n",
              "    </tr>\n",
              "    <tr>\n",
              "      <th>2</th>\n",
              "      <td>girl</td>\n",
              "      <td>331</td>\n",
              "    </tr>\n",
              "    <tr>\n",
              "      <th>3</th>\n",
              "      <td>night</td>\n",
              "      <td>320</td>\n",
              "    </tr>\n",
              "    <tr>\n",
              "      <th>4</th>\n",
              "      <td>woman</td>\n",
              "      <td>238</td>\n",
              "    </tr>\n",
              "    <tr>\n",
              "      <th>5</th>\n",
              "      <td>lady</td>\n",
              "      <td>215</td>\n",
              "    </tr>\n",
              "    <tr>\n",
              "      <th>6</th>\n",
              "      <td>big</td>\n",
              "      <td>207</td>\n",
              "    </tr>\n",
              "    <tr>\n",
              "      <th>7</th>\n",
              "      <td>little</td>\n",
              "      <td>204</td>\n",
              "    </tr>\n",
              "    <tr>\n",
              "      <th>8</th>\n",
              "      <td>life</td>\n",
              "      <td>196</td>\n",
              "    </tr>\n",
              "    <tr>\n",
              "      <th>9</th>\n",
              "      <td>men</td>\n",
              "      <td>191</td>\n",
              "    </tr>\n",
              "  </tbody>\n",
              "</table>\n",
              "</div>\n",
              "    <div class=\"colab-df-buttons\">\n",
              "\n",
              "  <div class=\"colab-df-container\">\n",
              "    <button class=\"colab-df-convert\" onclick=\"convertToInteractive('df-ae6afdd2-5e0a-4420-87b7-3776a3fca7a1')\"\n",
              "            title=\"Convert this dataframe to an interactive table.\"\n",
              "            style=\"display:none;\">\n",
              "\n",
              "  <svg xmlns=\"http://www.w3.org/2000/svg\" height=\"24px\" viewBox=\"0 -960 960 960\">\n",
              "    <path d=\"M120-120v-720h720v720H120Zm60-500h600v-160H180v160Zm220 220h160v-160H400v160Zm0 220h160v-160H400v160ZM180-400h160v-160H180v160Zm440 0h160v-160H620v160ZM180-180h160v-160H180v160Zm440 0h160v-160H620v160Z\"/>\n",
              "  </svg>\n",
              "    </button>\n",
              "\n",
              "  <style>\n",
              "    .colab-df-container {\n",
              "      display:flex;\n",
              "      gap: 12px;\n",
              "    }\n",
              "\n",
              "    .colab-df-convert {\n",
              "      background-color: #E8F0FE;\n",
              "      border: none;\n",
              "      border-radius: 50%;\n",
              "      cursor: pointer;\n",
              "      display: none;\n",
              "      fill: #1967D2;\n",
              "      height: 32px;\n",
              "      padding: 0 0 0 0;\n",
              "      width: 32px;\n",
              "    }\n",
              "\n",
              "    .colab-df-convert:hover {\n",
              "      background-color: #E2EBFA;\n",
              "      box-shadow: 0px 1px 2px rgba(60, 64, 67, 0.3), 0px 1px 3px 1px rgba(60, 64, 67, 0.15);\n",
              "      fill: #174EA6;\n",
              "    }\n",
              "\n",
              "    .colab-df-buttons div {\n",
              "      margin-bottom: 4px;\n",
              "    }\n",
              "\n",
              "    [theme=dark] .colab-df-convert {\n",
              "      background-color: #3B4455;\n",
              "      fill: #D2E3FC;\n",
              "    }\n",
              "\n",
              "    [theme=dark] .colab-df-convert:hover {\n",
              "      background-color: #434B5C;\n",
              "      box-shadow: 0px 1px 3px 1px rgba(0, 0, 0, 0.15);\n",
              "      filter: drop-shadow(0px 1px 2px rgba(0, 0, 0, 0.3));\n",
              "      fill: #FFFFFF;\n",
              "    }\n",
              "  </style>\n",
              "\n",
              "    <script>\n",
              "      const buttonEl =\n",
              "        document.querySelector('#df-ae6afdd2-5e0a-4420-87b7-3776a3fca7a1 button.colab-df-convert');\n",
              "      buttonEl.style.display =\n",
              "        google.colab.kernel.accessAllowed ? 'block' : 'none';\n",
              "\n",
              "      async function convertToInteractive(key) {\n",
              "        const element = document.querySelector('#df-ae6afdd2-5e0a-4420-87b7-3776a3fca7a1');\n",
              "        const dataTable =\n",
              "          await google.colab.kernel.invokeFunction('convertToInteractive',\n",
              "                                                    [key], {});\n",
              "        if (!dataTable) return;\n",
              "\n",
              "        const docLinkHtml = 'Like what you see? Visit the ' +\n",
              "          '<a target=\"_blank\" href=https://colab.research.google.com/notebooks/data_table.ipynb>data table notebook</a>'\n",
              "          + ' to learn more about interactive tables.';\n",
              "        element.innerHTML = '';\n",
              "        dataTable['output_type'] = 'display_data';\n",
              "        await google.colab.output.renderOutput(dataTable, element);\n",
              "        const docLink = document.createElement('div');\n",
              "        docLink.innerHTML = docLinkHtml;\n",
              "        element.appendChild(docLink);\n",
              "      }\n",
              "    </script>\n",
              "  </div>\n",
              "\n",
              "\n",
              "<div id=\"df-42e5679e-d973-49f6-ae4a-ffcdc2b79e2a\">\n",
              "  <button class=\"colab-df-quickchart\" onclick=\"quickchart('df-42e5679e-d973-49f6-ae4a-ffcdc2b79e2a')\"\n",
              "            title=\"Suggest charts\"\n",
              "            style=\"display:none;\">\n",
              "\n",
              "<svg xmlns=\"http://www.w3.org/2000/svg\" height=\"24px\"viewBox=\"0 0 24 24\"\n",
              "     width=\"24px\">\n",
              "    <g>\n",
              "        <path d=\"M19 3H5c-1.1 0-2 .9-2 2v14c0 1.1.9 2 2 2h14c1.1 0 2-.9 2-2V5c0-1.1-.9-2-2-2zM9 17H7v-7h2v7zm4 0h-2V7h2v10zm4 0h-2v-4h2v4z\"/>\n",
              "    </g>\n",
              "</svg>\n",
              "  </button>\n",
              "\n",
              "<style>\n",
              "  .colab-df-quickchart {\n",
              "      --bg-color: #E8F0FE;\n",
              "      --fill-color: #1967D2;\n",
              "      --hover-bg-color: #E2EBFA;\n",
              "      --hover-fill-color: #174EA6;\n",
              "      --disabled-fill-color: #AAA;\n",
              "      --disabled-bg-color: #DDD;\n",
              "  }\n",
              "\n",
              "  [theme=dark] .colab-df-quickchart {\n",
              "      --bg-color: #3B4455;\n",
              "      --fill-color: #D2E3FC;\n",
              "      --hover-bg-color: #434B5C;\n",
              "      --hover-fill-color: #FFFFFF;\n",
              "      --disabled-bg-color: #3B4455;\n",
              "      --disabled-fill-color: #666;\n",
              "  }\n",
              "\n",
              "  .colab-df-quickchart {\n",
              "    background-color: var(--bg-color);\n",
              "    border: none;\n",
              "    border-radius: 50%;\n",
              "    cursor: pointer;\n",
              "    display: none;\n",
              "    fill: var(--fill-color);\n",
              "    height: 32px;\n",
              "    padding: 0;\n",
              "    width: 32px;\n",
              "  }\n",
              "\n",
              "  .colab-df-quickchart:hover {\n",
              "    background-color: var(--hover-bg-color);\n",
              "    box-shadow: 0 1px 2px rgba(60, 64, 67, 0.3), 0 1px 3px 1px rgba(60, 64, 67, 0.15);\n",
              "    fill: var(--button-hover-fill-color);\n",
              "  }\n",
              "\n",
              "  .colab-df-quickchart-complete:disabled,\n",
              "  .colab-df-quickchart-complete:disabled:hover {\n",
              "    background-color: var(--disabled-bg-color);\n",
              "    fill: var(--disabled-fill-color);\n",
              "    box-shadow: none;\n",
              "  }\n",
              "\n",
              "  .colab-df-spinner {\n",
              "    border: 2px solid var(--fill-color);\n",
              "    border-color: transparent;\n",
              "    border-bottom-color: var(--fill-color);\n",
              "    animation:\n",
              "      spin 1s steps(1) infinite;\n",
              "  }\n",
              "\n",
              "  @keyframes spin {\n",
              "    0% {\n",
              "      border-color: transparent;\n",
              "      border-bottom-color: var(--fill-color);\n",
              "      border-left-color: var(--fill-color);\n",
              "    }\n",
              "    20% {\n",
              "      border-color: transparent;\n",
              "      border-left-color: var(--fill-color);\n",
              "      border-top-color: var(--fill-color);\n",
              "    }\n",
              "    30% {\n",
              "      border-color: transparent;\n",
              "      border-left-color: var(--fill-color);\n",
              "      border-top-color: var(--fill-color);\n",
              "      border-right-color: var(--fill-color);\n",
              "    }\n",
              "    40% {\n",
              "      border-color: transparent;\n",
              "      border-right-color: var(--fill-color);\n",
              "      border-top-color: var(--fill-color);\n",
              "    }\n",
              "    60% {\n",
              "      border-color: transparent;\n",
              "      border-right-color: var(--fill-color);\n",
              "    }\n",
              "    80% {\n",
              "      border-color: transparent;\n",
              "      border-right-color: var(--fill-color);\n",
              "      border-bottom-color: var(--fill-color);\n",
              "    }\n",
              "    90% {\n",
              "      border-color: transparent;\n",
              "      border-bottom-color: var(--fill-color);\n",
              "    }\n",
              "  }\n",
              "</style>\n",
              "\n",
              "  <script>\n",
              "    async function quickchart(key) {\n",
              "      const quickchartButtonEl =\n",
              "        document.querySelector('#' + key + ' button');\n",
              "      quickchartButtonEl.disabled = true;  // To prevent multiple clicks.\n",
              "      quickchartButtonEl.classList.add('colab-df-spinner');\n",
              "      try {\n",
              "        const charts = await google.colab.kernel.invokeFunction(\n",
              "            'suggestCharts', [key], {});\n",
              "      } catch (error) {\n",
              "        console.error('Error during call to suggestCharts:', error);\n",
              "      }\n",
              "      quickchartButtonEl.classList.remove('colab-df-spinner');\n",
              "      quickchartButtonEl.classList.add('colab-df-quickchart-complete');\n",
              "    }\n",
              "    (() => {\n",
              "      let quickchartButtonEl =\n",
              "        document.querySelector('#df-42e5679e-d973-49f6-ae4a-ffcdc2b79e2a button');\n",
              "      quickchartButtonEl.style.display =\n",
              "        google.colab.kernel.accessAllowed ? 'block' : 'none';\n",
              "    })();\n",
              "  </script>\n",
              "</div>\n",
              "\n",
              "    </div>\n",
              "  </div>\n"
            ],
            "text/plain": [
              "  palavras  freq\n",
              "0      man   594\n",
              "1     love   439\n",
              "2     girl   331\n",
              "3    night   320\n",
              "4    woman   238\n",
              "5     lady   215\n",
              "6      big   207\n",
              "7   little   204\n",
              "8     life   196\n",
              "9      men   191"
            ]
          },
          "execution_count": 150,
          "metadata": {},
          "output_type": "execute_result"
        }
      ],
      "source": [
        "termos.head(10)"
      ]
    },
    {
      "cell_type": "code",
      "execution_count": null,
      "metadata": {
        "id": "8cG2N1fHnmy_"
      },
      "outputs": [],
      "source": [
        "# apresentar esses dados textuais em graficos e tbm em nuvem de palavras"
      ]
    },
    {
      "cell_type": "code",
      "execution_count": null,
      "metadata": {
        "id": "46rZCGiHn7F3"
      },
      "outputs": [],
      "source": [
        "### vamos apresentar a resposta em garficos\n",
        "sns.set_style('dark')"
      ]
    },
    {
      "cell_type": "code",
      "execution_count": null,
      "metadata": {
        "colab": {
          "base_uri": "https://localhost:8080/",
          "height": 573
        },
        "id": "IEHzWkKEoVFA",
        "outputId": "028684f6-7b78-45ac-97c5-fe895982c863"
      },
      "outputs": [
        {
          "name": "stderr",
          "output_type": "stream",
          "text": [
            "<ipython-input-162-3c802facf432>:1: FutureWarning: \n",
            "\n",
            "Passing `palette` without assigning `hue` is deprecated and will be removed in v0.14.0. Assign the `x` variable to `hue` and set `legend=False` for the same effect.\n",
            "\n",
            "  sns.barplot(data = termos[:10],\n"
          ]
        },
        {
          "data": {
            "text/plain": [
              "<Axes: xlabel='palavras', ylabel='freq'>"
            ]
          },
          "execution_count": 162,
          "metadata": {},
          "output_type": "execute_result"
        },
        {
          "data": {
            "image/png": "[encoded data removed]",
            "text/plain": [
              "<Figure size 640x480 with 1 Axes>"
            ]
          },
          "metadata": {},
          "output_type": "display_data"
        }
      ],
      "source": [
        "sns.barplot(data = termos[:10],\n",
        "                    x = 'palavras',\n",
        "                    y = 'freq',\n",
        "                    palette = 'rainbow')"
      ]
    },
    {
      "cell_type": "code",
      "execution_count": null,
      "metadata": {
        "id": "GGRl_XFwoygF"
      },
      "outputs": [],
      "source": [
        "#grafico.figure.set_size_inches(12,8)"
      ]
    },
    {
      "cell_type": "code",
      "execution_count": null,
      "metadata": {
        "colab": {
          "base_uri": "https://localhost:8080/",
          "height": 34
        },
        "id": "NJt-jqYgp8TK",
        "outputId": "e6b929d0-6b25-4a24-a35d-6e3f2da5ba75"
      },
      "outputs": [
        {
          "data": {
            "text/plain": [
              "<Figure size 640x480 with 0 Axes>"
            ]
          },
          "metadata": {},
          "output_type": "display_data"
        }
      ],
      "source": [
        "plt.savefig(\"barras.png\", format='png')"
      ]
    },
    {
      "cell_type": "code",
      "execution_count": null,
      "metadata": {
        "id": "fYJowwmZqdtq"
      },
      "outputs": [],
      "source": [
        "### nuvens de palavras\n",
        "from wordcloud import WordCloud"
      ]
    },
    {
      "cell_type": "code",
      "execution_count": null,
      "metadata": {
        "id": "wPCHjOrzquRI"
      },
      "outputs": [],
      "source": [
        "### para fazer nuvem de palavras\n",
        "# pegar o titulo 2  e colcoar numa string\n",
        "# enorme"
      ]
    },
    {
      "cell_type": "code",
      "execution_count": null,
      "metadata": {
        "id": "glCjGE1Zq5Ia"
      },
      "outputs": [],
      "source": [
        "palavra2 = \" \".join(s for s in titulo2)"
      ]
    },
    {
      "cell_type": "code",
      "execution_count": null,
      "metadata": {
        "colab": {
          "base_uri": "https://localhost:8080/"
        },
        "id": "ohFHvu_erDDJ",
        "outputId": "e1f7407e-4f56-4d2f-cce2-3f8bab757249"
      },
      "outputs": [
        {
          "data": {
            "text/plain": [
              "str"
            ]
          },
          "execution_count": 168,
          "metadata": {},
          "output_type": "execute_result"
        }
      ],
      "source": [
        "type(palavra2)"
      ]
    },
    {
      "cell_type": "code",
      "execution_count": null,
      "metadata": {
        "colab": {
          "base_uri": "https://localhost:8080/",
          "height": 226
        },
        "id": "0vKlRmsxrFOQ",
        "outputId": "614d2d7d-fc8e-4496-a852-dee193c5795d"
      },
      "outputs": [
        {
          "data": {
            "application/vnd.google.colaboratory.intrinsic+json": {
              "type": "string"
            },
            "text/plain": [
              "\"dark central park boarding school girls' pajama parade buffalo bill's wild west parad caught clowns spinning hats capture boer battery british enchanted drawing feeding sea lions make fat wife two lean ones new life rescue new morning bath searching ruins broadway galveston dead bodies tribulations amateur photographer trouble hogan's alley two old sparks wonder ching ling foo watermelon contest acrobats cairo affair honor another job undertaker arrival tongkin train artist's dilemma band battalion u indian school barnum bailey's circus beef extract room boxing barrels branding hams buffalo street parade busy corner armour's bund shanghai circular panorama base electric tower ending looking mall circular panorama electric tower pond circular panorama esplanade electric tower background coaling steamer nagasaki bay japan convention railroad passengers cornell columbia university pennsylvania boat race ithaca n showing lehigh valley observation train couchee dance midway donkey party finish bridget mckeen follow leader fraudulent beggar fun children's party good joke gordon sisters boxing grand entry indian congress happy hooligan april fooled happy hooligan surprised harbor shanghai hold ice boat racing redbank n j indians 1 jeffries ruhlin sparring contest san francisco cal november 15 1901 joke grandma kansas saloon smashers launching new battleship 'ohio' san francisco cal president mckinley laura comstock's bag punching dog life fireman love light moon martyred presidents midway dance miles canyon tramway montreal fire department runners mounted police charge old maid picture taken opening pan american exposition showing vice president roosevelt leading procession pan american exposition night panorama exposition 1 panorama exposition 2 panoramic view fleet yacht race panoramic view temple music esplanade panoramic view asheville n c le petit chaperon rouge photographing audience pie tramp bulldog president mckinley escort going capitol president mckinley taking oath president mckinley's speech pan american exposition queen's funeral le rêve de noël rocking gold klondike ruhlin training quarters shad fishing gloucester n j terrible teddy grizzly king tramp's dream tramp's nap interrupted trapeze disrobing act trip around pan american exposition turkish dance twelve barrel two rubes theatre upper falls yellowstone washing gold 20 hunker klondike wedding procession cairo mr nation wants divorce wonderful trick donkey yacht race fleet following committee boat 'navigator' oct 4th can't lose mother law arrival prince henry prussia president roosevelt shooter's island 1902 burlesque suicide 2 burning durland's riding academy interrupted bathers jack beanstalk said watermelon snow white dark policeman lantern alice wonderland date studio visit zoo work peat bog automobile explosion ascent mont blanc bicycle dive bloodhounds tracking convict buying baby cliff scenery fabbins close quarters notion motion ocean cruelty high seas coach drive glengariffe kenmore discovered opera glass drove wild welsh mountain ponies delhi camp railway devoy's revolving ladder act deserter effects trolley car collision firemen rescue goose takes trolley ride egyptian fakir dancing monkey electrocuting elephant english barnyard scene every day sunshine heart beats true fire fife getting instructions committee fun board fishing smack great train robbery hop picking shut quarrelsome wife light heavyweight championship contest root gardner little tich funny feet murder scene 'king detectives' moses bullrushes murphy's wake new york harbor police boat patrol capturing pirates nicholas nickleby old irish cabin bow river horse ranch cochrane north west territory soldier boy new cook garden wall panorama lakes killarney hotel passengers embarking augusta victoria beyrouth pigeons place st marc venice pittsburgh fire department full run polo match championship hurlingham puzzled bather animated clothes quarrelsome neighbours railway ride alps reproduction corbett mcgovern fight rock ages runaway match marriage motor saturday shopping scene canada logging bear creek scene canada spearing salmon mountain stream search evidence sensational hurdle race shocking accident st louis street car chivalry substantial ghost tragical tale belated letter tramp's first bath trip gap dunloe trip giant's causeway trouble hogan's alley trout fishing landing three pounder true love never runs smooth turning tables two little vagabonds pugilistic parson unexpected bath wait till jack comes home happened tunnel wiring pike mill stream workman's paradise alligator farm automobile race chicago fire child stealers decoyed ferry far east fording stream great baltimore fire high diving reverse hurdle jumping intelligent elephant monkey bicyclist monkey dog pony circus nervy nat kisses bride nigger woodpile parsifal lover's ruse race kiss raid coiner's den revenge railway tragedy scarecrow pump strenuous life anti race suicide suburbanite westinghouse works 1904 adventures sherlock holmes held ransom airy fairy lillian tries new corsets ballroom tragedy burglar bill coney island night dog lost strayed stolen hippodrome races dreamland coney island escape sing sing green goods man josiah samanthy's experience original 'american confidence game' great jewel mystery b dam whole dam family kleptomaniac impersonation britt nelson fight new york subway nihilists moving day children allowed license 13 hoodoo automobile life american policeman little train robbery night christmas kentucky feud peeping tom dressing room newsboy policeman's love affair rat trap pickpocket detector reuben opium joint raffles dog raffles amateur cracksman seven ages servant girl problem train wreckers tom tom piper's son watermelon patch whole dam family dam dog vanderbilt auto race automobile thieves dream rarebit fiend leadville aspen hold rockies humorous phases funny faces kathleen mavourneen trip market street waiting church amateur night get hook ben hur daniel boone brown saw baseball game laughing gas terrible ted tired tailor's dream adventures dollie antony cleopatra balked altar bandit's waterloo black viper calamitous elopement call wild christmas carol deceived slumming party dr jekyll mr hyde fairylogue radio plays fight freedom macbeth money mad red man child romeo juliet taming shrew tavern keeper's daughter b c's u adventures drummer boy little child shall lead altar boots saddles brahma diamond brave irish lass burglar's mistake c q saved wireless true story wreck republic castaways cohen coney island cohen's dream colonial romance cord life 1 cracker's bride criminal hypnotist cure bashfulness curtain pole 1 daughter sun deacon's love letters deception drunkard's reformation edgar allan poe energetic street cleaner fascinating mrs francis fool's revenge friend enemy's camp girls daddy 1 golden louis haunted lounge hindoo dagger ward's love wife's mother honor slums honor thieves jessie stolen child jones new neighbors joneses amateur theatricals kenilworth king lear life napoleon love finds way love pasha's son turkish romance lure gown mad miner maniac cook medicine bottle midnight disturbance mr jones card party mrs jones entertains napoleon empress josephine old soldier's story one touch nature politician's love story poor musician prussian spy road agents road heart rural elopement sacrifice salvation army lass sister's love tale franco prussian war sister's love tag day tale west tenderfoot awful hats boys tragic love trying get arrested voice violin welcome burglar 1 wandering boy tonight wooden leg wreath time abraham lincoln's clemency arcadian maid life christmas carol courtship miles standish englishman girl frankenstein fugitive gentleman joe hemlock hoax detective house closed shutters old california border states lad old ireland pocahontas pride range ramona rocky road roosevelt africa rose o'salem town sanitarium two brothers unchanging sea daisy said woman mellon's wonderful wizard oz baseball bloomers black arrow tale two roses brown harvard cally's comet coffin ship colonel king courting across court cowboy lady flames fortune sake awakening higher law david copperfield trust fulfilled italian barber last mohicans new superintendent pasha's daughter princess clementina railroad builder scarlet letter smuggler sweet memories tale two cities that's happiness two paths voice child wireless girl foot ladder aurora floyd baby hands bandit tropico battle wits belle bar z ranch business buccaneer charge light brigade conductor 786 county fair cry children deserter eternal mother dr jekyll mr hyde son frankfurters quail manger cross half breed's way son happened thus land beyond sunset leap love little girl next door musketeers pig alley new cure divorce new york hat old bookkeeper petticoat camp please help pore power melody put place saved titanic six cylinder elopement standing room street singer tell tale message thunderbolt unseen enemy voice conscience happened mary heart calls mounted police young millionaire adventures kathlyn american born article 47 l' back life barney oldfield's race life beau brummel beautiful bismark bianca bloodhounds north bob's baby caged bird calamity anne's beauty calamity anne's dream calamity anne's inheritance calamity anne's vanity calamity anne heroine cohen saves flag cub reporter's temptation cupid dental parlor desperate chance dr jekyll mr hyde evidence film face window fire coward flirt bandit crown flag forest romance game warden girl greaser greater love chum baron hulda netherlands hurricane galveston secret service justice wild little hero mirror oil water old monk's tale proof man quakeress restless spirit rose san juan rory o' bogs sally scraggs housemaid shoemaker doll telephone girl lady three friends twelfth juror unto third generation there's life woman's honor amateur detective archeologist potter's wheel avenging conscience back farm baggage smasher bargain barnyard flirtations bath house beauty battle sexes beggar child showers billy's rival blowout santa banana body trunk break break break brewster's millions brute force business versus love busy day butterfly calamity anne's love affair call north call traumerei cameo yellowstone captain alvarez caught cabaret caught rain certainty man chicken chaser cinderella cocoon butterfly combination safe coming padres cruel cruel love damaged goods david gray's estate destinies fulfilled end right dough dynamite envoy extraordinary escape exploits elaine face bar room floor fatal mallet fate's decree fatty's magic pants feast famine film johnnie final impulse floor florida enchantment footprints mozart forbidden room gentlemen nerve gertie dinosaur getting acquainted ghost breaker girl shack good little devil green eyed devil happy coersion hazards helen friend bandit younger sister faith humanity father's rifle favourite pastime majesty scarecrow oz musical career new profession prehistoric past trysting place home sweet home hopes blind alley hunchback imar servitor tune candlelight land head hunters open jail birds judith bethulia jungle kid auto races venice kiss knockout laughing gas life general villa little lord fauntleroy little madonna livid flame lost sermon love bullets lover's gift lucille love girl mystery lure sawdust mabel wheel mabel's blunder mabel's busy day mabel's married life mabel's strange predicament magic cloak oz making living man home man's way masquerader master key master mind mein lieber katrina michael strogoff mein lieber katrina catches convict mystery hindu image nature's touch navy aviator neptune's daughter new janitor old enough grandpa son patchwork girl oz perils pauline power light property man recreation redbird wins redemption pal richelieu rose bush memories rose rancho rosemary that's remembrance rounders salomy jane samson shotgun jones woman divorce sir galahad twilight sleeping sentinel slice life son thomas gray song sea shell soul astray sower reaps sparrow circus spoilers squaw man star boarder story little italy story olive strength o' ten study scarlet sweet low little queen taming sunnybrook nell tango tangles telltale knife ten spades tess storm country worldly goods th' life love pangs ticket red horse gulch tillie's punctured romance called town nazareth true western hearts turn cards twenty minutes love uncle tom's cabin 1914 film unlawful trade unmasking unto weak virginian what's name woman waits widow's investment wildflower wishing ring wrath gods wrong birds five storm anna karenina arab assayer lone gap auntie's portrait barren gain beachcomber beyond fondest hopes birth nation blot shield bluffers buckshot john bughouse bellhops burlesque carmen captive carmen carmen champion cheat chimmie fadden chimmie fadden west chorus lady christmas memories close cropped clippings commuters competition court house crooks david harum day reckoning double trouble drawing line enoch arden exile bar k ranch fatty's tintype tangle fool foozle tee party four feathers italy's shores fresh farm girl golden west girl yesterday giving fits golden chance good business deal great lasted hearts shadow new job honor district attorney hungry actors immigrant park trust inspiration italian judge woman mona diggings nuts kindling lady audley's secret lamb little lady next door lonesome luke social gangster love loot crash mabel fatty viewing world's fair san francisco man texas martyrs alamo mixup mazie mountain mary newer way peculiar patients' pranks pete pedal polisher poet peaks pool sharks pretty sister jose profit loss question honor ragtime snap shots raven regeneration ring destiny ruses rhymes roughnecks walketh alone wife forgive silver lining small town girl smuggler's cave solution mystery baby soul broadway spirit adventure spit ball sadie stingaree submarine pirate substitute minister temptation terribly stuck social splash tinkering trouble melody soul responds rent furnished toast death tramp two orphans unafraid vampire 1915 film warrens virginia wasp wild goose chase willie runs park work 20 000 leagues sea la cabaret abandonment american aristocracy americano arthur's desperate resolve aryan behind screen betty greystone billy's war brides broken cross bondman broken fetters bruiser children house civilization count craving curse quon gwon daughter gods decoy divorce daughter dream girl dulcie's adventure energetic eva fatal glass beer fate dolphin fatty mabel adrift felix job fireman floorwalker gamble gentle art burglary going straight good bad man gretchen greenhorn grey sisterhood habit happiness half breed wrote book heart nora flynn hell's hinges highest bid picture hoodoo ann hulda holland innocent lie innocent magdalene intolerance joan woman la bohème league future let katy lights new york lillo sulu seas little eve edgarton lonesome luke leans literary lonesome luke lolls luxury lonesome luke circus king love girl love hermit luke bang tails luke bomb throwers luke mermaids luke rural roughnecks luke midway luke foils villain luke joins navy luke laughs last luke locates loot luke lugs luggage luke pipes pippins luke rides roughshod luke crystal gazer luke patient provider luke rank impersonator luke candy cut luke chauffeur luke gladiator luke's double luke's fatal flivver luke's fireworks fizzle luke's late lunchers luke's lost lamb luke's movie muddle luke's newsie knockout luke's preparedness preparations luke's shattered sleep luke's society mixup luke's speedy club life luke's washful waiting macbeth madame x man would die man sombrero manhattan madness maria rosa martha's vindication matching dreams message garcia missing links moonshiners oliver twist one side door pawnshop pay dirt plow girl police ramona release dan forbes rink sanitarium scramble secret love secret wire sequel diamond sky shadows sherlock holmes sister six smugglers santa cruz snow white society sherlock soul stake soul's cycle stampede night stepping stone strength donald mckenzie happy days thoroughbred three fingered jenny time tide hold torch bearer trail lonesome pine true nobility twinkler two seats opera two flags undertow vagabond viviana children white rosette youth's endearing charm adventurer aboard men love first sight babes woods bad boy bashful big idea birds feather black orchids bliss bride's silence bucking broadway butcher boy sad sea waves camille cheyenne's pal cleopatra clubs trump coney island cure devil stone earth easy street enlighten thy daughter flirt flower doom laramie london golden rule kate great expectations gulf hands right live wedding night immigrant jack beanstalk jim bludso jury fate kentucky cinderella lad lion land long shadows little american little lost sister little princess lonesome luke lawyer lonesome luke mechanic lonesome luke messenger lonesome luke plumber lonesome luke loses patients lonesome luke tin alley lonesome luke's honeymoon lonesome luke's lively life lonesome luke's lovely rifle lonesome luke's wild women lost love laughs lather love sublime luke wins ye ladye faire luke's busy day luke's lost liberty luke's trolley troubles man without country mate sally ann modern musketeer mormon maid move oh doctor record fence panthea peggy o' wisp pinched poor little rich girl primrose ring princess patches princess virtue rainbow island reaching moon rebecca sunnybrook farm reckless romeo reward faithless romance redwoods rough house souls pawn souls triumphant step lively stop luke listen straight shooting strange transgressor teddy throttle tom sawyer tornado never sleep wild woolly wild girl woman god forgot accident attorney accusing toe ali baba forty thieves woman amarilly clothes line alley america's answer among cannibal isles south pacific crooks dishonest arizona back woods beat beauty rogue bees bonnet believe xantippe bell boy blind adventure blue bird bond bound morocco brazen beauty bride gloom bride fear bride's awakening bud's recruit burden proof cecilia pink roses chocolate gang city dim faces city slicker confession cook craving danger go slow deciding kiss dog's life embarrassment riches eyes julia deep eyes mystery face value fireman save child floor follow crowd forbidden city friend husband fuss feathers gasoline wedding ghost slumber mountain goddess lost lake great love greatest thing life comes smiling headin' south hear 'em rave heart humanity hearts world hearts diamonds hell bent way come girls hey robe honor hit house mirth huck tom i'm man wild life kicked kicking germ germany kingdom youth lady dug lamb legion death let's go light western stars look pleasant please lost lie marriage ring men made love mickey moonshine mr fix nine tenths law nocturnal tunes non stop kid nothing trouble old wives new jump ordeal rosetta inkwell west ozark romance pipe whiskers powers prey revenge richest girl romance tarzan safety curtain salomé scarlet drop set free loves shoulder arms sic 'em towser sinking lusitania six shooter andy social briars somewhere turkey squaw man stella maris swing partners tad's swimming hole take chance tarzan apes that's till come back tip treasure island triple trouble two gun gussie two scrambled yoke greenwood tree venus model can't everything eat woman whispering chorus pick 23 1 2 hours' leave b c love ace saddle adventure hearts adventure shop heart alias mike moran sudden norma wrong almost husband almost married amateur adventuress amazing impostor amazing wife innocent adventuress anne green gables man thinks sun went avalanche bachelor's wife bandbox bare fisted gallagher bare fists little sport beauty market beauty proof beating odds beckoning roads behind door belle new york best man better times better wife beware big little person bill apperson's boy bill henry bishop's emeralds black circle black gate blackie's redemption blind husbands blind man's eyes blinding trail blue bandanna bluffer bolshevism trial bondage barbara bonds honor bonds love bonnie bonnie lassie boots busher bramble bush brand brass buttons brat breed men bringing betty broken blossoms broken butterfly broken commandments broken melody brute breaker burglar proxy call soul cambric mask captain kidd jr captain's captain career katherine bush carolyn corners castles air charge chasing rainbows cheating cheaters cheating checkers cinema murder city comrades climbers come smith come kitchen coming law common cause common clay common property counterfeit country cousin courageous coward cowardice court creaking stairs crimson gardenia crook dreams crooked straight cupid forecloses cry weak daddy long legs damsel distress dangerous hours dangerous waters daring hearts dark star darkest hour daughter mine daughter wolf dawn day dreams day paid delicious little devil desert gold destiny devil mccare diane green van divorcee divorce trap change husband dragon painter drifters dub eastward ho easy make money echo youth end game egg crate wallop enchanted barn eternal magdalene evangeline eve exile everywoman experimental marriage extravagance exquisite thief eyes soul eyes youth fair warmer faith faith strong fallen idol false evidence false faces favor friend fear woman feud fight love fighting colleen fighting cressy fighting destiny fighting gold final close fire flingers fires faith firing line flame desert follies girl fools money woman's honor better worse forbidden forbidden room forfeit four flusher fugitive matrimony full pep gamblers gambling souls game's gates brass gay lord quex gentleman quality getting mary married girl bay girl dodger girl outside girl bohemia girl problem girl stayed home girl regrets girl woman girls glorious lady god's outlaw gold cure golden shower good gracious annabelle gray horizon gray towers mystery gray wolf's ghost greased lightning great air robbery great romance great victory greatest question grim game gun fightin' gentleman happiness la mode happy though married hard boiled haunted bedroom haunting shadows hawthorne u hay foot straw foot heart pawn heart o' hills heart wetona heart youth hearts asleep heartsease hell roarin' reform hellion help help police code honor kingdom dreams purchase price comes bride highest trump debt divorced wife majesty american official fiancée parisian wife wife's friend homebreaker home home town girl hoodlum hoop la hornet's nest house divided house intrigue human desire hushed hour illustrious prince i'll get yet imp impossible catherine thirty days brother's place honor's web mizzoura old kentucky wrong indestructible wife intrusion isabel invisible bond island intrigue isle conquest pays advertise bear jacques silver north jane goes a' wooing jinx john petticoats johnny get gun johnny spot josselyn's wife joyous liar jubilo jungle trail kathleen mavourneen kitty kelly knickerbocker buckaroo lady red butte lasca last duanes last people law men leave susan let's elope life line life's funny proposition light light victory lincoln highwayman lion mouse lion's den little brother rich little comrade little diplomat little white savage lombardi ltd lone star ranger lone wolf's daughter long arm mannister long lane's turning loot lord lady algy lost battalion lost money lost princess lottery man louisiana love auction love cheat love love love's prisoner love burglar love insurance loves letty love dares luck pluck luck pawn lure ambition maggie pepper male female man money man beneath man hunter man moonlight man honor man stayed home man turned white man man's country man's desire man's fight marked men market souls marie ltd marriage price married haste mary regan mayor filbert captain kidd men women money merry go round microbe midnight romance millionaire pirate mind paint girl mints hell miracle man miracle love misleading widow miss adventure miss dulcie dixie modern husbands molly follies money corral moonshine trail moral deadline deadly male mrs wiggs cabbage patch little sister never say quit new moon nobody home nugget nell oakdale affair oh boy oh women one finest one thing time o'day one week life open door open eyes half men's wives better selves fog shadow yonder outcasts poker flat garden wall pagan god paid advance paid full painted world parisian tigress partners three peace roaring river peg o' heart peggy darndest peppy polly perfect lover perils thunder mountain pest petal current pettigrew's girl piccadilly jim pitfalls big city pleasant devil please get married prince betty pointing finger poor boob poor relations poppy girl's husband pretty smooth price innocence prince betty probation wife prodigal liar profiteers prudence broadway puppy love put hands putting putting one quickening flame ravished armenia rebellious bride red hot dollars red lantern red viper redhead regular girl rescuing angel restless souls rider law riders vengeance right happiness right lie roaring road rogue's romance romance arabella romance happy valley roped rose o' river rose west rough riding romance rustling bride sacred silence sadie love sagebrush hamlet sahara satan junior scarlet days scarlet shadow sealed envelope sealed hearts secret service shadows shadows suspicion shadows past sheriff's son husband forgive woman tell silent strength silk lined burglar silver king silver girl siren's song sis hopkins six feet four sleeping lion smiles snares paris sneak society exile soldiers fortune bride liar something spark divine speedy meade speed maniac spender spite bride spitfire seville splendid sin sporting chance sporting chance spotlight sadie square deal sanderson steel king stepping stitch time strictly confidential stronger vow sue south sundown trail tangled threads taste life teeth tiger temperamental wife test honor that's good thieves thin ice third degree third kiss hero stuff thou shalt three men girl wrong door thunderbolt thunderbolts fate tiger lily tin pan alley toby's bow told hills tong man many crooks much johnson toton apache trap treat 'em rough trembling hour trick fate trixie broadway true heart susie turn road turning tables twin pawns two brides two women suspicion top unknown love unknown quantity unpainted woman unpardonable sin uplifters upstairs upstairs usurper vagabond luck valley giants venus east good young man victory virtuous thief veiled adventure vengeance durand virtuous model virtuous thief virtuous vamp wagon tracks wanted husband water lily way woman way strong weaker vessel web chance westerners bid every woman learns every woman wants girl loves man loves man rides alone doctors disagree fate decides men desire clouds roll west begins white heather white man's chance whitewashed walls cares marry gods would destroy smith left home wicked darling widow proxy wilderness trail winchester woman wings morning winning girl winning stroke wishing ring man witness defense wolf wolves night woman michael married woman next door woman pleasure woman index woman woman thou gavest woman cover woman woman words music world aflame world woman world live yankee doodle berlin yankee princess never saw girl fired yvonne paris ask father old stage door back stage wife breakfast billy blazes esq bumping broadway indian post captain kidd's kids chop suey co count votes count change crack heels crow day's pleasure shove dutiful dub fighting heart fighting line four bit man hand mouth going going gone grocery clerk leads others follow heap big chief father telephone talks i'm way jack hearts jazzed honeymoon dropped neighbors kid cowboy last outlaw look marathon never touched next aisle nine tenths law trolley fire pay dues pistols breakfast rajah ring curtain si senor soft money spring fever sunnyside swat crook tell tale wire wanted 5 000 young mr jazz 1 000 000 reward 813 among present april folly men alike big catch blind youth brand blotter broncho kid champion liar child sale cinders common sin convict 13 copperhead dangerous paradise daredevil jack desperate hero devil's pass key double danger double dyed deceiver dr jekyll mr hyde eastern westerner false road family honor fight fightin' terror forbidden thing gamblin' fool garage get get girl number 29 great lover great redeemer grinning granger hair trigger stuff hairpins haunted spooks held makin's husband's friend high dizzy nose book royal slyness honest hutch huckleberry finn idol dancer king heart fool 'in wrong' wright jack knife man jay bird judy rogue's harbor college pals kentucky colonel lady rose's daughter last mohicans leopard woman love love flower love honor behave madame x man everything man lost man punch mark zorro masked mollycoddle lady's garter neighbors nomads north never number please old lady 31 one hour dawn one law one week outside law hill poorhouse path chose penalty pollyanna rattler's hiss remodeling husband restless sex road divorce roarin' dan romance round runnin' straight saphead scarecrow sex sheriff's oath shipwrecked among cannibals shootin' fool shootin' kid shore acres silk hosiery silk husbands calico wives skywayman slim princess smilin' kid something think splendid hazard stolen moments strange boarder stranger stronger death suds superstition thieves' clothes tipped trail hound treasure island twins suffering creek two fisted lover two weeks uncharted channels crimson skies unseen forces virgin stamboul way east west best white dove change wife within gates wolf tracks woman suitcase 10 000 pillow ace hearts across divide action adopting bear cub adventures sherlock holmes adventures tarzan advisor affairs anatol afraid wife midnight dough show heart alarm alfalfa love among present avenging arrow bandits beware beating game big punch blind hearts blot boat brewster's millions brownie's baby doll brownie's little venus bullets ballots cactus kid call youth camille clean conquering power crossed clues cup life disraeli double adventure double crossers dream street driftin' kid eden return every woman's problem experience extravagance fightin' fury fire eater fool's paradise foolish age foolish matrons forbidden fruit forever four horsemen apocalypse get rich quick peggy gilded lily goat god's crucible golfing greater claim greater love grim comedian hail woman haunted house hearts masks heedless moths circus man high sign humor risk hunch idle class jim penman kickaroo kid kid's pal little fool little lord fauntleroy lotus eater love charm love light love never dies love's penalty lucky dog lure youth magic cup mama's affair man stone man woke manhattan miss lulu bett mistress shenstone mother o' mine movie trail muddy bride boy never weaken woman knows guilty never nut offenders account show orphans storm o' luck wire pals passing passion flower playhouse playmates queen sheba red courage roads destiny saddle king sailor made man salvage sea lion sea shore shapes sentimental tommy seven years bad luck sheik sheltered daughters silver lining sky pilot society secrets sting lash sure fire sweet revenge teddy's goat third class male three musketeers back door tol'able david uncharted seas unwilling hero week what's reputation worth twenty one white unmarried man wild wild west woman's place wonderful thing according hoyle across continent across deadline adventures robinson crusoe afraid fight alias julius caesar altar stairs always woman angel crooked street anna ascends another man's shoes wife apartment wanted arabian love bachelor daddy back home broke back pay barnstormer bearcat beautiful damned beauty shop beauty's worth bells san juan beyond rainbow beyond rocks billy jim black bag blacksmith blind bargain blood sand bobbed hair bond boy bonded woman boomerang bill bootleggers bootlegger's daughter borderland boss camp four bought paid boy crazy brawn north bride's play broad daylight broadway madonna broadway peacock broadway rose broken chains brothers skin burning sands california romance call home calvert's valley captain fly night catch smoke caught bluffing channing northwest chasing moon clarence colleen pines come confidence conquering woman cops country flapper cowboy lady cradle crimson challenge crossroads new york crusader dangerous game dangerous little demon darling rich daughter luxury daydreams deserted altar dictator divorce coupons dare doll's house domestic relations get personal shoot write letters sea ships dr jack deuce spades dusk dawn dust flower east west ebb tide electric house elope must enter madame eternal flame evidence extra extra face face fog fair lady fascination fast freight fast mail fighting guide fighting streak find woman fire bride five days live five dollar baby flaming hour flesh blood flirt fool foolish wives fools first big stakes defense forget forgotten law forsaking others fortune's mask fourteenth lover french heels front page story frozen north galloping kid game chicken gas oil water gay devilish ghost breaker girl room girl ran wild girl's desire glass houses gleam o'dawn glorious fool glory clementina golden dreams golden gallows golden gift good men true good provider grand larceny grandma's boy great night green temptation guttersnipe half breed hands nara hate head heels headin' west headless horseman heart specialist gilded cage husband's trademark money heroes husbands heroes street back wall wife's husband homespun vamp honor first hottentot women love human hearts hungry hearts hurricane's gal explain queen believe impossible mrs bellew name law infidel iron gold matrimony failure island wives jilt john smith june madness tony kentucky derby kickback kick kindred dust kissed kisses ladder jinx lane turning lavender bath lady law woman light dark lights new york lights desert little eva ascends little minister little miss smiles little wildcat loaded door lone hand long chance lorna doone love gambler love dark love awful thing love's masquerade lying truth making man man beyond man downing street man unconquerable man man man married wife man paid man played god man saw tomorrow man cover man two mothers manslaughter married flapper masquerader men zanzibar midnight minnie missing millions mixed faces money burn monte cristo moonshine valley moran lady letty pitied scorned mr barnes new york mud sand american wife dad friend devil wife's relations wild irish rose nancy nowhere nanook north nero new teacher nice people ninety nine trespassing north rio grande notoriety oath bound old homestead oliver twist omar tentmaker high seas one clear call one exciting night one glorious day one week love one wonderful night shop girl ordeal leading citizen silent north outcast border paid back paleface pardon nerve pawn ticket 210 pawned pay day peacock alley peg o' heart penrod perils yukon pink gods polly follies pride palomar primitive lover prisoner zenda prodigal judge prophet's paradise question honor quincy adams sawyer ragged heiress rags riches real adventure received payment reckless youth red hot romance referee remembrance rent free reported missing restless souls rich men's wives ridin' wild right failed robin hood rosary rose o' sea roughshod ruling passion saturday night scrapper second hand rose secrets paris seeing's believing seventh day self made man shackles gold shadows shadows sea shattered dreams shattered idols sherlock brown sherlock holmes shirley circus silas marner silent vow silver wings sin flood singed wings siren call skin deep sky high sleepwalker slim shoulders smiles trumps smilin' smudge snowshoe trail son wolf song life sonny south suva stage romance step storm strange idols strangers' banquet strength pines tailor made man tess storm country thelma like 'em rough third alarm thirty days thorns orange blossoms three must get theres glass window till meet tillie timber queen hold toll sea tom mix arabia top o' morning top new york town forgot god tracked earth trap travelin' trifling women trimmed trooper o'neill trouble trouper truthful liar turn right much business much wife two kinds women oath two flags understudy 'em going valley silent men vermilion pencil truly village blacksmith virgin's sacrifice wall flower watch step west chicago western speed what's wrong women danger smiles knighthood flower love comes romance rides justice waits satan sleeps white hands white shoulders parents announce marriage wide open town wild honey winning wits wise kid fools men white eagle wildness youth wise kid without compromise without fear wolf law woman conquers woman married woman walked alone woman's side wonderful wife world's champion yellow men gold yellow stain yosemite trail never know young diana young rajah best friend youth must love youth youth abysmal brute acquittal adam eva adam's rib age desire alias night wind alice adams brothers valiant anna christie april showers acquittal around world eighteen days ashes vengeance backbone bad man bag baggage barefoot boy bavu bell boy 13 big brother big dan bishop ozarks bolted door boston blackie boy mine black oxen blinky blow horn bluebeard's 8th wife boy mine brass brass bottle brass commandments breaking society bright lights broadway bright shawl broad road broadway broke broadway gold broken hearts broadway broken wing mothers law bucking barrier burning words buster call canyon call wild cameo kirby woman love twice canyon fools chapter life chastity cheat children dust children jazz christian circus days clean common law cordelia magnificent country kid courtship miles standish covered wagon crashin' thru cricket hearth crinoline romance crooked alley crossed wires cupid's fireman custard cup daddy dancer nile dangerous age dangerous maid daring years dark secrets darling new york daughters rich day faith daytime wives dead game defying destiny desert driven desire destroying angel divorce pay dollar devils quickshot rio grande call love marry money double dealing drifting driven drums fate drums jeopardy dulcy eagle's feather east side west side eleventh hour enemies women eternal city eternal struggle eternal three eyes forest exciters exiles extra girl face bar room floor fair cheat famous mrs fair fashion row fashionable fakers fighting blade first degree flame life flaming youth flying dutchman fog fog bound fools riches footlight ranger forgive forget fourth musketeer french doll friendly husband fury garrison's finish gentle julia gentleman america gentleman leisure ghost patrol gimme girl loved glimpses moon going girl golden west girl came back gold diggers goodbye girls gossip go getter grail gunfighter governor's lady green goddess grumpy haldane secret service hearts aflame heart raider held answer hell's hole accidental husband fatal millions reputation temporary husband hero children's children mystery girl hollywood homeward bound hoodman blind human wreckage hunchback notre dame huntress winter comes search thrill palace king innocence isle lost ships itching palms java head jazzmania jealous husbands kentucky days kindled courage last hour last moment law lawless lawful larceny leavenworth case legally dead leopardess let's go lights light failed little church around corner little girl next door little johnny jones little old new york lone star ranger lonely road long live king look best lost found south sea island lovebound love brand love letter love piker love pirate loyal lives lucretia lombard madness youth mailman main street man man brodney's man life passed man next door man action man man's size marriage maker marriage market mary movies masters men maytime mcguire mounted meanest man world men raw merry go round midnight alarm midnight guest mighty lak' rose mile minute romeo million burn miracle baby miracle makers modern marriage modern matrimony money money money mr billings spends dime mysterious witness nth commandment near lady ne'er well net mother guide nobody's bride nobody's money noise newboro north hudson bay old sweetheart mine banks wabash one stolen night 38 men's daughters hospitality luck penrod sam pilgrim pioneer trails playing wild pleasure mad poor men's wives potash perlmutter printer's devil prisoner prodigal daughters pure grit puritan passions purple highway quicksands racing hearts ragged edge railroaded ramblin' kid red lights red warning refuge remittance woman rendezvous reno richard lion hearted romance land rosita rouged lips ruggles red gap rupert hentzau rustle silk safety last salomy jane satin girl sawdust scaramouche scarlet car scarlet lily scars jealousy second fiddle second hand love self made wife shadows north shepherd king shock shootin' love shriek araby silent command silent partner single handed sinner saint six cylinder love six days six fifty sixty cents hour skid proof slander woman slave desire slippy mcgee snow bride snowdrift social code soft boiled song love soul beast souls sale south sea love spanish dancer spoilers st elmo steadfast heart stephen steps stepping fast stormswept strangers night sunshine trail suzanna tea kick temple venus temporary marriage temptation ten commandments three ages three jumps ahead three o'clock morning three paid three wise fools thrill chaser thundergate thundering dawn tie binds tiger rose tiger's claw times changed ladies last man toilers sea town scandal trail lonesome pine trifling honor trilby trimmed scarlet truth wives 'truxton king twenty one red robe unknown purple unseeing eyes untameable vanity fair victor virginian voice minaret wandering daughters wanters west bound limited west water tower wife learned wives want white rose white sister odds even west north begins pavement ends paris sleeps white flower white rose white sister white tiger worry wife name wife's romance wild bill hickok wild party within law woman chains woman bronze woman paris woman proof woman four faces world's applause yesterday's wife can't fool wife friend mine zaza 40 horse hawkins 50 000 reward ace cactus range ball age innocence air hawk alaskan alimony along came ruth america american manners another man's wife another scandal arab arizona express argentine love average woman babbitt baffled bandolero barbara frietchie battling brewster battling bunyan battling orioles beau brummel beauty prize beautiful sinner bedroom window behind curtain behind two guns behold woman respectable beloved brute friends biff bang buddy big timber black lightning black oxfords bluff back trail border legion born rich borrowed husbands bowery bishop boy flanders brass bowl bread breaking point breath scandal breathless moment breed border bringin' home bacon broadway dark broadway bust broken barriers broken laws butterfly divine right cafe cairo calibre 45 captain blood captain january chalk marks changing husbands cheap kisses christine hungry heart chorus lady circe enchantress circus cowboy city never sleeps classmates clean heart code sea code wilderness conductor 1492 confidence man cornered cowboy flapper crossed trails cupid's rustler curlytop cyclone rider cytherea daddies damaged hearts dancing cheat danger line dangerous blonde dangerous coward dangerous flirt dangerous money dante's inferno daring chances daring love daring youth dark stairways dark swan darwin right daughters pleasure daughters night daughters today dawn tomorrow deadwood coach defying law desert outlaw desert sheik diamond bandit discontented husbands dixie handicap doubt husband dorothy vernon haddon hall dramatic life abraham lincoln dynamite dan dynamite smith eagle's claw east broadway empty hands empty hearts enchanted cottage enemy sex excitement fair week family secret fast fearless fast set fast worker fatal mistake feet clay female fight honor fighting coward fighting fury fighting adventurer find man fighting sap fire patrol flames desire flaming barriers flaming forties flapper wives flashing spurs flirting love flowing gold folly vanity fool's awakening fools highway fools dark foolish virgin another woman sale forbidden paradise gaiety girl galloping ace galloping fish galloping hoofs gambling wives garden weeds geared go george washington jr gerald cranston's lady girl limousine girl limberlost girl shy girls men forget gold heels goldfish good bad boy great diamond mystery great white way greater marriage greed grit guilty one half dollar bill hansom cabman happiness hard hittin' hamilton gets slapped heart bandit heart buster hearts oak helen's babies love story marriage vow night romance free heritage desert high speed hill billy forgotten wife hour hit run hold breath honor among men hook ladder hoosier schoolmaster hot water house youth educate wife humming bird husbands lovers man icebound idle tongues every woman's life fast company hollywood potash perlmutter love love inez hollywood iron horse love everything life wonderful law jack o'clubs janice meredith judgment storm broadway k unknown king wild horses ladies board lady quality last man earth last duanes laughing danger law forbids leap year legend hollywood lend husband let man put asunder life's greatest game lighthouse sea lightning rider lightning romance lilies field lily dust listen lester little robinson crusoe lone chance lone wolf lost lady love glory love bandit love letters love master love women love's whirlpool love's wilderness lover camille lovers' lane loving lies luck o' foolish lullaby lure yukon mademoiselle midnight madonna streets man's mate man wyoming man came back man fights alone man played square man without heart manhandled manhattan marriage cheat marriage circle married flirts marry haste mask lopez masked dancer measure man meddling women men merton movies miami midnight express millionaire cowboy mine iron door mirage missing daughters monsieur beaucaire moral sinner husband's wives man name man navigator nellie beautiful cloak model never say die new school teacher next corner night hawk night message gun man women north 36 north nevada drum heard oh tony stroke three time one glorious night one law woman one night rome woman open night kind love pagan passions painted flapper painted lady painted people pal o' mine passing wolf maclean passion's pathway pell street mystery perfect flapper peter pan phantom horseman phantom justice pied piper malone playthings desire plunderer poisoned paradise price party price paid racing life racing luck ramshackle house range blood rarin' go reckless age reckless romance recoil red lily rejected woman restless wives revelation riddle rider ride life riders ridgeway montana ridin' kid powder river right strongest rip roarin' roberts roaring rails rodeo mixup roaring lions home romola rose paris rough ridin' roughneck roulette sainted devil sandra sawdust trail sea hawk second youth secrets secrets night self made failure shadow desert shadows paris sherlock jr shooting dan mcgrew side show life signal tower silent accuser silent stranger silent watcher silk stocking sal singer jim mckee single wives sinners heaven sinners silk siren seville sixth commandment slanderers snob society scandal big marriage son sahara speed spook spirit usa spitfire sporting youth star dust trail stepping lively stolen secrets storm daughter story without name stranger street tears stupid brave sundown sunset trail tainted money tarnish teeth tenth woman tess d'urbervilles french lady thief bagdad woman dance dare judge three miles three weeks three women dark thundering hoofs thundering romance thy name woman tiger love tiger thompson tomboy tongues flame torment tornado traffic hearts trail dust trail law triflers triumph trouble shooter troubles bride trouping ellen true steel truth women try get turmoil twenty dollars week two shall born unguarded women uninvited guest unmarried wives unseen hands untamed youth vagabond trail vanity's price venus south seas virgin virginian outcast virtuous liars wages virtue wanderer wasteland wandering husbands warrens virginia week end husbands welcome stranger western feuds western luck western vengeance western wallop western yesterdays girl loves man's man whispered name white man white moth white sin white sheep men leave home wife centaur wild oranges wine wine youth winner take wise virgin wolf man woman jury woman sinned women first women give worldly goods yankee consul yankee madness yolanda can't get away young ideas youth sale accused ace clubs ace spades adventure adventurous sex business hours air mail alias mary flynn around frying pan american pluck ancient highway ancient mariner woman parents people arizona romeo man desires awful truth back life bad company bad lands bandit's baby bandit tamer baree son kazan barriers burned away barriers law bashful buccaneer beautiful city beauty bad man midnight beggar horseback line ben hur tale christ best bad man best people beyond border big pal big parade big stunt billy kid black cyclone blood steel bloodhound blue blood bobbed hair boomerang border intrigue border justice border vengeance borrowed finery braveheart bridge sighs bright lights broadway butterfly broadway lady burning trail business love bustin' thru cactus trails calgary stampede california straight ahead call courage camille barbary coast champion lost causes charley's aunt charmer cheaper marry chickie children whirlwind circle circus cyclone clash wolves classified clothes make pirate cloud rider coast folly cobra code west coming amos coming compromise confessions queen contraband counsel defense cowboy musketeer crack o' dawn crimson runner crowded hour cyclone cavalier daddy's gone hunting dancers danger signal dangerous fists dangerous innocence daring days dark angel daughters pay déclassé demon rider denial desert flower desert's price desperate chance devil's cargo dick turpin dollar dare devil q son zorro double fisted dressmaker paris drug store cowboy drusilla million duped durand bad lands eagle east lynne east suez easy money empty saddle enemy men enticement everlasting whisper eve's lover eve's secret every man's wife exchange wives excuse faint perfume fangs fate fate flirt fear bound fear fighter fearless lover fifth avenue models fifty fifty fight finish fighting demon fighting fate fighting heart fighting luck fighting smile fighting flames fighting youth fine clothes flaming love flaming waters flashing steeds flattery flower night flying hoofs folly youth fool money fool forbidden cargo forty winks four nowhere free love friendly enemies freshman full speed galloping galloping vengeance gambling fool getting 'em right girl gold girl stairs girl work go straight go west goat getter gold girl gold rush golden bed golden cocoon golden princess golden strain goose hangs high goose woman grass graustark great circus mystery great divide great love great sensation greater crown grounds divorce half way girl handsome brute happy warrior havoc head winds heads headlines heart siren heartless husbands hearts spurs heir loons hell's highroad husband's secret market value sister paris hidden loot high handsome buddy's wife majesty bunker bean master's voice people secretary supreme moment hogan's alley home maker baxter butted human tornado hunted woman hurricane horseman hurricane kid want man marry marriage fails i'll show town name love infatuation introduce irish luck isle hope jimmie's millions joanna woman justice far north keep smiling keeper bees kentucky pride king main street kiss barrier kiss cinderella kiss dark kiss knockout kid knockout lady lady night lady robinhood lady windermere's fan lady lied last edition lawful cheater lazybones learning love lena rivers let 'er buck let women alone let's go gallagher lightnin' lights old broadway light western stars lillies city limited mail little annie rooney little french girl little girl big city live wire locked doors lord jim lorraine lions lost wife lost chord lost express lost world love gamble love hour lovers quarantine lover's oath lucky devil lucky horseshoe lure wild lying wives mad marriage mad whirl madame behave madame sans gêne making o'malley man maid man red gulch man blue man must live man iron man nerve man box man found man without conscience man without country manhattan madness manicure girl mansion aching hearts marriage transit marriage whirl marry masked bride meddler men women merry widow midnight flyer midnight girl midnight molly midshipman million dollar handicap miss bluebeard mistaken orders moccasins monster morals men lady whims lady's lips son wife mysterious stranger mystic narrow street necessary evil new brooms new champion new commandment new lives old new toys never twain shall meet night club night life new york man's law north star northern code long ago highway oh doctor old clothes old home week old shoes thin ice one bravest one way street one year live thing open switch woman's story outlaw's daughter outwitted overland limited pace thrills paint powder pampered youth parasite parisian love parisian nights part time wife passionate youth paths paradise peacock feathers people vs nancy preston percy perfect clown perils rail phantom express phantom opera pinch hitter plastic age playing souls pleasure buyers police patrol pony express ports call prairie pirate prairie wife pretty ladies price pleasure price success pride force primrose path prince pep private affairs proud flesh pursued raffles amateur cracksman rag man rainbow trail ranchers rascals range buzzards range terror ranger big pines creation brian kent reckless sex recompense red hot tires red kimona red rider redeeming sin regular fellow riders purple sage ridin' pretty ridin' wind ridin' thunder riding comet road agent road yesterday roaring adventure rough going rose world rugged water sackcloth scarlet sagebrush lady sally sally irene mary sally sawdust salome tenements salvation hunters santa fe pete satan sables scandal proof scandal street scar hanan scarlet honeymoon scarlet saint scarlet west school wives sealed lips seven chances seven days seven keys baldpate seven sinners shadow wall wolves shield silence ship souls shock punch shore leave siege sign cactus silent sanderson silent sheldon simon jester sky raider slave fashion smilin' trouble smooth satin smouldering fires snob buster soft shoes soiled pun'kins son father perils sea soul mates soul fire souls sables spaniard speed speed demon speed mad speed wild splendid crime splendid road spook ranch sporting chance sporting life sporting venus stage struck stampede thunder starlight untamed steel preferred steele royal mounted stella dallas stella maris steppin' stop flirting storm breaker straight street forgotten men substitute wife sun super speed swan talker taming west tearin' loose tearing teaser tessie texas bearcat texas trail thank devil quemado man jack royle girl thoroughbred thief paradise three exile three kind three weeks paris thunder mountain thundering herd tides passion timber wolf time comedian tomorrow's love many kisses top world tower lies tracked snow country trail rider train wreckers triple action trouble wives tumbleweeds two fisted jones unchastened woman rouge unguarded hour unholy three unknown lover unnamed woman unwritten law ladder vanishing american wages wives waking town wall st whizz wanderer wandering fires wandering footsteps wasted lives way girl moderns webs steel wedding song welcome home west arizona fools men wheel husbands flirt door opened white desert white fang white monkey white thunder white outlaw cares who's friend women love wife wanted wild bull's lair wild horse canyon wild horse mesa wild justice wild wild susan wildfire winding stair winds chance wings youth winning woman ring without mercy wizard oz wolf blood womanhandled woman hater woman world woman's faith women gold wrongdoers wyoming wildcat youth adventure youth's gamble zander great 3 bad men 30 zero ace action across pacific adorable deceiver almost lady aloma south seas april fool arizona streak arizona sweepstakes atta boy auction block bachelor brides bad man's bluff baited trap bandit buster bardelys magnificent barrier bat battling butler beau geste beautiful cheat behind front belle broadway bells bertha sewing machine girl better man better 'ole better way beverly graustark beyond odds beyond rockies beyond trail bigger barnum's black paradise black pirate blackbird blarney blind goddess blonde saint bluebeard's seven wives blue blazes blue eagle blue streak la bohème bonanza buckaroo boob border sheriff border whirlwind born battle born west boy friend bred old kentucky breed sea bride storm broadway billy broadway boob broadway gallant broken hearts hollywood brooding eyes brown derby brown harvard buckaroo kid bucking truth call klondike call wilderness camille campus flirt canyon light captain's courage carnival girl cat's pajamas caveman chasing trouble checkered flag cheerful fraud chip flying u christine big tops city clinging vine code northwest college boob college days collegiate combat count luxembourg country beyond cowboy countess cowboy cop crossed signals crown lies cruise jasper b dance madness dancer paris dancing mothers danger girl danger quest dangerous dub dangerous dude dangerous traffic dead line demon desert gold desert's toll desert valley desperate game devil's circus devil horse devil's gulch devil's island dice woman diplomacy dixie flyer dixie merchant juan double daring doubling danger driftin' thru duchess buffalo dude cowboy deuce high early wed earth woman east side west side ella cinders enchanted hill escape everybody's acting eve's leaves exclusive rights exquisite sinner false alarm family upstairs fascinating youth fifth avenue fig leaves fighting boob fighting buckaroo fighting cheat fighting edge fighting peacemaker fine manners first year flame argentine flame yukon flaming forest flaming fury flashing fangs flesh devil flying horseman flying mail fool's luck fools fashion footloose widows alimony heaven's sake wives forbidden waters forever forlorn river french dressing frontier trail gallant fool gay deceiver general gentle cyclone gilded butterfly gilded highway girl montmartre glenister mounted god gave twenty cents going crooked going limit good naughty grand duchess waiter great deception great gatsby great k train robbery grey devil hair trigger baxter hands across border hands hard boiled hearts fists hearts spangles hell bent heaven hell's four hundred honor governor man o' war second chance hero big snows hidden way high flyer high steppers highbinders jazz bride new york wife private life hold lion home cured honesty best policy honeymoon express ice flood impostor kingdom irene nice isle retribution must love old army game jade cup jazz girl jim conqueror johnstown flood josselyn's wife joy girl another blonde suppose kentucky handicap kick kid boots kiki king saddle king turf kiss cinderella kosher kitty kelly laddie ladies play lady hell ladies leisure lady harem last alarm last chance lazy lightning let's get married lew tyler's wives lily little firebrand little giant little irish girl lodge wilderness lone hand saunders lone wolf returns looking trouble lost sea love thief love toy love's blindness lovey mary lucky lady madame mystery mademoiselle modiste made love magician man four square man oklahoma man west man saddle man quality man forest man upstairs mantrap man upstairs mare nostrum masquerade bandit meet prince men steel merry cavalier midnight kiss midnight limited midnight lovers midnight message midnight sun mike millionaires miracle life mismates miss brewster's millions miss nobody money talks monte carlo moran mounted pay less work morganson's finish mulhall's greatest catch music master pal stars mystery club nervous wreck new klondike night cry night owl night patrol man's gold non stop flight obey law oh baby oh billy behave oh nurse old ironsides one minute play one punch o'day one sunday morning women's husbands storm west outlaw express outsider padlocked palace pleasure palm beach girl pals first pals paradise paris paris midnight partners passionate quest patent leather pug perils coast guard phantom bullet phantom police pirates sky pleasures rich poor girl's romance popular sin prince pilsen prince tempters prisoners storm private izzy murphy prowlers night queen o'diamonds racing romance raggedy rose rainbow riley rainmaker rapid fire romance rawhide red dice red hot leather redheads preferred regular scout remember return peter grimm ridin' rascal road glory road mandalay roaring rider rocking moon rolling home romance million dollars rose tenements runaway runaway express rustlers' ranch rustling cupid sap savage scarlet letter scrappin' kid sea beast sea horses sea wolf secret orders senor daredevil set shadow law shameful behavior shamrock handicap shipwrecked show siberia silent lover silken shackles silver treasure sin cargo sir lumberjack six shootin' romance skinner's dress suit sky high corral smoke eaters paris social celebrity social highwayman somebody's mother son sheik song dance man so's old man sorrows satan sparrows speed cop speed crazed speeding venus speedy spurs sporting lover stepping along stick story still alarm stolen ranch stop look listen stranded paris strong man subway sadie summer bachelors sunny side sunshine paradise alley sweet daddies sweet rosie o'grady syncopating sue take temptress tentacles north terror test donald norton texas streak model paris that's baby third degree three faces east thrill hunter thrilling youth timid terror tin gods tin hats tom pals tony runs wild much money torrent tough guy traffic cop tramp tramp tramp transcontinental limited trip chinatown trooper 77 trumpin' trouble trunk mystery truthful sex twisted triggers two play two gun man western skies unfair sex unknown cavalier unknown soldier untamed lady mabel's room upstage valencia valley bravery volcano volga boatman waning sex war paint watch wife we're navy west broadway west law west rainbow's end western pluck wet paint happened jones price glory love grows cold wife's away london sleeps whispering smith whispering wires white black sheep white mice whole town's talking girls go back home wild horse stampede wild oats lane wild go wings storm winner winning barbara worth winning futurity wise guy davy crockett fall alamo wolf hunters wolves desert woman sea womanpower yankee señor yellow back yellow fingers never know women surprised young april 7th heaven adam evil aflame sky annie laurie arizona wildcat auctioneer babe comes home barbed wire beauty shoppers beloved rogue beware widows blazing days border cavalier brass knuckles breakfast sunrise cactus trails california california bust cancelled debt captain salvation cat canary chang drama wilderness chicago children divorce chinese parrot closed gates college college hero come house cradle snatchers cruel truth demi bride desert dust desired woman devil dancer dove drop kick enemies society enemy fair co ed figures lie finger prints fireman save child first auto love mike foreign devils fortune hunter garden allah gaucho girl chicago good time charley ham eggs front hard fists heart maryland heaven earth wild oat first flame home struck honorable mr buggs horse shoes hotel imperial hula husband hunters single first degree zat jaws steel jazz singer johnny get hair cut kid brother king kings kiss taxi knockout reilly ladies must dress lady ermine last trail let rain little journey london midnight long pants love sunya lovers love's greatest mistake loves carmen magic flame man bait man power masked woman midnight watch million bid missing link mockery best girl nobody's widow place go publication night outlaws red river paid love patent leather kid peaceful oscar potters princess hoboken private life helen troy quality street red clay red mill resurrection road romance rookies rough riders sailor's sweetheart salvation jane scar shame shanghaied senorita serenade sheik show silk stockings singed slide kelly slide small bachelor snowbound soft cushions sorrell son south sea love special delivery spoilers west spotlight spring fever stolen bride stolen pleasures straight shootin' stranded streets shanghai student prince old heidelberg sunrise song two humans swim girl swim tea three thumbs time love topsy eva tracked police tumbling river turkish delight twelve miles two arabian knights two girls wanted underworld unknown upstream vanity wandering girls way flesh man loves whirlwind youth white flannels white gold girls love sailors wings winners wilderness wolf fangs wolf's clothing woman trial wreck hesperus yale vs harvard yankee clipper 4 devils 13 washington square abie's irish rose across atlantic across singapore actress adorable cheat adoration adventurer storm air circus air patrol alex great alias jimmy valentine alias deacon apache arizona cyclone arizona days avalanche awakening baby cyclone baby mine barker battle sexes beau broadway beau sabreur beauty bullets beggars life beware bachelors beware blondes beware married men beyond london lights beyond sierras big city big killing big noise black pearl 'blindfold blockade blonde night blue danube border patrol boss rustler's roost branded man branded sombrero breed sunsets bringing father broadway daddies broken mask bronc stomper brotherly love buck privates burning bridges burning daylight burning wind burning broadway bushranger butter egg man call heart cameraman cardboard lover caught fog cavalier certain young man charge gauchos chaser chicago midnight chicken la king chinatown charlie circus circus kid circus rookies clean man clothes make woman code scarlet cohens kellys paris companionate marriage comrades coney island conquest cop cossacks count ten court martial cowboy kid craig's wife crash crimson canyon crimson city crooks can't win crowd danger rider danger street daredevil's reward dead man's curve desert bride detectives devil's skipper devil's trademark diamond handcuffs divine woman divine sinner duty docks new york domestic meddlers domestic troubles marry doomsday drag net dream love dressed kill driftin' sands driftwood drums love dry martini easy come easy go escape excess baggage fall house usher farmer's daughter fashion madness fazil fearless rider feel pulse fifty fifty girl fightin' redhead finders keepers first kiss five ten cent annie five o'clock girl fleet's fleetwing flying romeos fools luck forbidden hours foreign legion forgotten faces four footed ranger four sons four walls fourflusher freedom press gang war garden eden gate crasher gateway moon gentleman prefer blondes girl buy girl every port glorious betsy godless girl golf widows good bye kiss good morning judge grain dust greased lightning green grass widows guardians wild half bride hangman's house happiness ahead harold teen hawk's nest haunted house head man heart broadway heart follies girl heart heart heart trouble hello cheyenne summer hero private life tiger lady hit show home towners homesick honeymoon honeymoon flats honor bound horseman plains hot news hound silver creek handle women old arizona interference jazz mad married king cowboy kit carson ladies' night turkish bath ladies mob lady good lady chance lady raffles land silver fox last command latest paris laugh clown laugh law range law's lash legion condemned let 'er go gallegher lights new york lilac time lion mouse little buckaroo little shepherd kingdom come little snob little wild girl little wildcat little yellow house lookout girl love learn love world mine loves actress love hungry love thief mad hour magnificent flirt manhattan cocktail manhattan cowboy man headquarters man rough man laughs marriage contract marry girl masks devil matinee idol mating call gangster midnight life midnight madness midnight rose midnight taxi modern mothers moran marines mother knows best mother machree man mysterious lady name woman nameless men naughty baby naughty duchess news parade night bird night mystery night watch woman noah's ark none brave noose nothing wear object alimony oh kay old code trial dancing daughters outcast ruins painted post partners crime patriot patsy pay enter perfect crime perfect gentleman phantom city phantom flyer phyllis follies pinto kid pioneer scout plane crazy plastered paris play girl powder back power power press prep pep price fear prowlers sea put 'em quick triggers race life racket ramona ransom rawhide kid red dance red hair red hot speed red lips red riders canada red wine restless youth revenge riders dark riding renegade riley cop rinty desert river pirate road house road ruin romance underworld rose marie rough ridin' red runaway girls rush hour sadie thompson sailors' wives sally scandals sally's shoulders sawdust paradise say sables scarlet dove scarlet lady secret hour shadows night shady lady sharp shooters shield honor ships night shopworn angel show folks show girl show people showdown sideshow singing fool sinners love sinner's parade sins fathers sisters eve skinner's big idea skyscraper sky rider smart set love soft living someone love something always happens son golden west speedy speed classic sporting age sporting goods square crooks stand deliver state street sadie steamboat bill jr steamboat willie stocks blondes stolen love stool pigeon stop man street angel street illusion street sin submarine sunset legion take home taking chance taxi 13 telling world tempest tenderloin terror texas tornado thanks buggy ride certain thing that's daddy thief dark hour three ring marriage three sinners three weekends breakers thunder riders tillie's punctured romance tracked trail '98 terror mountain tropic madness tropical nights two lovers two outlaws tyrant red gulch black eagle tonto rim undressed valley hunted men vamping venus vanishing pioneer varsity viking virgin lips wagon show walking back wallflowers waterfront water hole way strong americans faw wedding march west zanzibar west santa fe west point night price beauty wheel chance law rides city sleeps whip whip woman white shadows south seas sailors go wrong wickedness preferred wife's relations wife savers win girl wild west romance wild west show wind wizard saddle woman affairs woman world woman disputed woman's way woman wise women talk clouds wreck singapore wright idea wyoming yellow lily young whirlwind acquitted air legion alibi sea applause anne world argyle case aviator awful truth bachelor girl barnum right behind closed doors behind curtain deadline berth marks betrayal big business big diamond robbery big time black magic black watch blue skies body punch border romance born saddle bride desert bridge san luis rey broadway broadway babies broadway fever broadway hoofer broadway melody broadway scandals bulldog drummond california mail campus knights canary murder case captain lash careers careless age carnival man case lena smith charlatan chasing europe cheyenne children ritz chinatown nights circumstantial evidence clear decks close harmony cocoanuts cohens kellys atlantic city college coquette college love come across come get coquette cock eyed world condemned courtin' wildcats christina dance hall dance life dangerous curves dangerous woman dark streets delightful rogue desert nights desert rider desert song devil may care devil's apple tree disraeli divine lady donovan affair drag drake case drifter dynamite eternal love evangeline evidence exalted flapper eyes underworld faker fall eve fancy baggage far call fashions love fast company fast life flight flying fleet flying marine flying fool footlights fools forward pass four feathers fox movietone follies 1929 headquarters frozen justice frozen river fugitives gamblers ghost talks girl havana girl woolworth's girl glass cage girl barge girl overboard girls gone wild glad rag doll glorifying american girl gold diggers broadway great divide great gabbo great power greyhound limited grit wins gun law half marriage hallelujah happy days hard get hardboiled rose harvest hate hearts dixie hearts exile private life heroic lover captive woman first command glorious night lucky day hold man hole wall hollywood revue 1929 honky tonk hot paris hot stuff hottentot house horror idaho red illusion love innocents paris old arizona headlines iron mask everybody happy isle lost ships done jazz age jazz heaven joy street broadway kid's clever kid gloves king herd king rodeo kiss lady lies lady pavements lariat kid last mrs cheyney last warning lawless legion law plains letter little johnny jones locked door lone wolf's daughter long long trail lost zeppelin love devil love first sight love doctor love live laugh love parade love racket love trap lucky boy lucky star madame x madonna avenue making grade man love man moment man woman wife marianne marquis preferred married hollywood masked emotions masquerade melody lane mexicali rose midstream mighty million dollar collar mississippi gambler mister antonio molly modern love immoral lady lady's past mysterious dr fu manchu mysterious island navy blues new orleans new year's eve new york nights night parade nix dames defense quite decent one hysterical night one stolen night one woman idea show modern maidens outlawed pagan painted angel paris paris bound peacock fan phantom house pleasure crazed plunging hoofs pointed heels points west port dreams prisoners protection queen kelly queen night clubs quitter rainbow rainbow man redeeming sin redskin red hot rhythm red hot speed rescue ridin' demon rio rita river romance rio grande royal rider sacred flame sally salute sap saturday's children saturday night kid say songs scandal scarlet seas señor americano seven faces seven footprints satan shakedown shanghai lady shannons broadway goes war show boat show shows side street silent sentinel silks saddles sin sister sin town single man single standard skeleton dance skin deep skinner steps sky hawk sky skidder slim fingers smilin' guns smiling irish eyes smiling terror long letty song kentucky song love south sea rose speakeasy spite marriage squall st louis blues stark mad stolen kisses strange cargo street girl strong boy sunny side syncopation synthetic sin taming shrew tanned legs see paris thirteenth chair heaven thing called love three live ghosts thru different eyes thunder thunderbolt tide empire tiger rose time place girl tip tonight twelve trent's last case trespasser true heaven twin beds two men maid two sisters two weeks southern cross vagabond lover valiant veiled woman idea virginian wagon master wall street weary river wedding rings welcome danger east east whispering winds good leave home wild blood wild orchids winged horseman wolf wall street wolf song wolves city woman hell woman trap wonder women words music young nowheres younger generation abraham lincoln africa speaks alias french gertie quiet western front along came youth animal crackers anna christie anybody's war anybody's woman arizona kid around corner back pay bad man bad one bat whispers beau bandit behind make benson murder case big boy big house big party big pond big trail billy kid bishop murder case border legion born reckless borrowed wives boudoir diplomat bride regiment bright lights brothers burning call circus call flesh call west cameo kirby captain guard captain thunder caught short case sergeant grischa cat creeps charley's aunt chasing rainbows check double check cheer smile children pleasure city girl climax cohens kellys africa cohens kellys scotland college lovers common clay concentratin' kid conspiracy courage crazy way cuckoos czar broadway dames ahoy dancers dancing sweeties danger lights dangerous nan mcgrew dangerous paradise dawn patrol dawn trail derelict devil pay devil women devil's holiday divorce among friends divorcee dixiana doorway hell double cross roads doughboys du barry woman passion dude wrangler dumbbells ermine east west embarrassing moments extravagance ex flame eyes world fall guy fast loose feet first fighting legion flirting widow florodora girl follow leader follow thru defense framed free easy free love furies general crack girl port girl golden west girl said gorilla green goddess golden calf golden dawn going wild good intentions good news grand parade grumpy guilty half shot sunrise harmony home knew women heads hell harbor hell's angels hell's heroes wedding night hide high society blues hit deck hold everything holiday honey hook line sinker hot curves gay madrid next room ingagi inside lines isle escape jazz cinderella journey's end imagine kathleen mavourneen kibitzer king jazz kismet ladies love ladies love brutes ladies leisure lady scandal lady surrenders lady love lady's morals lash last duanes laughter lawful larceny leathernecking let us gay let's go native let's go places life party lightnin' light western stars lilies field liliom little accident lone star ranger loose ankles lord byron broadway lottery bride lotus lady love among millionaires love comes along love rough love trader lovin' ladies lucky larkin lummox madam satan madonna streets mamba mammy man blankley's man wyoming man hunter man man man trouble manslaughter matrimonial bed maybe love medicine man melody man men like men north men without women midnight mystery midnight special min bill moby dick montana moon monte carlo morocco mothers cry mountain justice mounted stranger murder roof murder near rainbow's end new moon new movietone follies 1930 night ride nanette damaged dumb notorious affair numbered men office wife oh man oh sailor behave oklahoma cyclone old english border level back gentleman one mad kiss one night susie's one romantic night saps work brave tomorrow blushing brides outside law outward bound paid parade west paradise island paramount parade part time wife party girl passion flower pay peacock alley playboy paris playing around princess plumber puttin' ritz queen high raffles rain shine recaptured love redemption remote control renegades return dr fu manchu right love river's end road paradise roadhouse nights roaring ranch rogue rio grande rogue song romance rough romance rough waters runaway bride safety numbers santa fe trail sap syracuse sarah son scarlet pages scotland yard sea bat sea god sea legs sea wolf second choice second floor mystery second honeymoon second wife see america thirst seven days leave shadow law shadow ranch say got wanted weakness ship shanghai shooting straight show girl hollywood silver horde sin takes holiday sinners' holiday sins children sisters slightly scarlet london social lion soldier's plaything soldiers women son gods song o' heart song caballero song flame song west sons saddle soup nuts spoilers spring spurs storm street chance strictly modern strictly unconventional men dangerous sunny sunny skies sweet kitty bellairs sweet mama sweethearts wives swellhead temple tower texan learned women third alarm mad world three french girls dance three faces east three sisters thus life today tol'able david tom sawyer top speed trailing trouble trigger tricks troopers three true navy truth youth texas moon undertow unholy three river utah kid vagabond king viennese nights virtuous sin war nurse way sailor way men way west man widow men want whoopee wide open widow chicago wild company woman racket women everywhere worldly goods young desire young eagles young man manhattan 24 hours age love alexander hamilton alice wonderland always goodbye ambassador bill american tragedy annabelle's affairs children arizona arizona terror arrowsmith avenger bachelor apartment bachelor father bad company bad girl bad sister bargain beau ideal behind office doors beloved bachelor beyond victory big business girl big gamble big shot black camel blonde crazy body soul border law born love bought branded branded men brat broadminded captain applejack caught caught cheating caught plastered champ chances charlie chan carries cheat children dreams chinatown dark cimarron cisco kid city lights city streets clearing range common law compromised confessions co ed connecticut yankee conquering horde consolation marriage convicted corsair cracked nuts criminal code cuban love song daddy long legs dance fools dance daughter dragon daybreak deceiver delicious demon sea devil plays devotion dirigible dishonored doctors' wives bet women dr jekyll mr hyde dracula drums jeopardy dude ranch easiest way east lynne east borneo el codigo penal el impostor eran trece everything's rosie ex bad boy expensive women fair warning false madonna fanny foley father's son fifty fathoms deep fifty million frenchmen fighting caravans fighting marshal fighting sheriff finger points finn hattie five ten five star final flying high forbidden adventure frankenstein free soul freighters destiny friends lovers front page gang buster gay diplomat gentleman's fate girl habit girl rio girls town girls demand excitement god's gift women gold dust gertie goldie good sport graft great lover great meadow grief street guardsman guilty generation guilty hands gun smoke hard hombre heartbreak heaven earth hell divers majesty love high stakes woman holy terror homicide squad honeymoon lane honor among lovers honor family hot heiress house divided huckleberry finn husband's holiday hush money like nerve take woman illicit line duty indiscreet inspiration iron man pays advertise wise child june moon gigolo kept husbands kick kiki kiss l'aviateur la ley del harem ladies' man ladies big house lady nowhere lady refuses lady dared land wanted men lasca rio grande last flight last ride laugh get rich laughing sinners law sea lawless woman lawyer's secret lion lamb little caesar local boy makes good lonely wives mad genius magnificent lie maker men maltese falcon man possession man world man came back manhattan parade many slip mata hari men call love men life men chance men sky men call merely mary ann mi ultimo amor millie millionaire miracle woman misbehaving ladies monkey business montana kid morals women mr lemon orange murder midnight murder clock past sin naughty flirt nevada buckaroo never twain shall meet new adventures get rich quick wallingford nice women night angel night life reno night nurse limit exactly gentlemen lady sinner one heavenly night one way trail men's women hill pagan lady painted desert palmy days pardon us parlor bedroom bath partners trail party husband peach o'reno penrod sam personal maid phantom phantom paris platinum blonde pocatello kid politics possessed private lives prodigal public defender public enemy quick millions rainbow trail range feud range law rebound reckless hour reckless living reducing resurrection rich man's folly riders purple sage right way road reno road singapore royal bed ruling voice runaround safe hell salvation nell scandal sheet sea ghost seas beneath secret call secret service secret six secret witness secrets secretary seed shanghaied love wolf shipmates shotgun pass side show sidewalks new york silence sin madelon claudet sin ship single sin sit tight six cylinder love skippy skyline sky raiders smart money smart woman smiling lieutenant sob sister son india sooky spider spirit notre dame sporting blood spy squaw man star witness stepping stolen heaven stolen jools strangers may kiss street scene strictly dishonorable struggle subway express suicide fleet sundown trail surrender susan lenox fall rise svengali sweepstakes tabu tailor made man tarnished lady ten cents dance ten nights barroom texas ranger mad moment modern age three girls lost three loved tip tonight never many cooks young marry touchdown trader horn transatlantic transgression traveling husbands eighteen suspicion unfaithful unholy garden murder pops devil vice squad viking virtuous husband waterloo bridge way back home west broadway white shoulders wicked wild horse woman hungry woman woman experience women go forever women love women nations working girls x marks spot yellow ticket young feel young donovan's kid young sinners 20 000 years sing sing 70 000 witnesses afraid talk ball tomorrow age consent air mail alias doctor american almost married amateur daddy american madness animal kingdom listening arsène lupin desire attorney defense bachelor's affairs bachelor mother back street beast city beauty boss beauty parlor behind mask beyond rockies big broadcast big city blues big stampede big timer bill divorcement bird paradise blessed event blonde venus blondie follies boiling point border devils breach promise broadway cheyenne broken lullaby broken wing business pleasure flesh weak whose hand cabin cotton call savage careless lady carnival boat central park chandu magician charlie chan's chance cheaters play cock air cohens kellys hollywood come danger conquerors cornered county fair cowboy counsellor crash crooked circle crooner cross examination crowd roars crusader cynara dancers dark dance team daring danger dark horse death kiss deception dentist destry rides devil deep devil driving devil deck devil's lottery discarded lovers disorderly conduct divorce family divorce racket docks san francisco doctor x doomed battalion earth downstairs drifter drifting souls emma end trail escapade evenings sale expert exposure face barroom floor faithless false faces famous ferguson case farewell arms fast companions fast life fighting fool fighting justice fighting gentleman final edition fireman save child first year flames flaming guns flesh flowers trees fool's advice forbidden forbidden company forbidden trail forgotten commandments fourth horseman freaks frisco jenny gambling sex gay buckaroo gay caballero ghost valley girl crazy girl calgary girl chicago girl rio gold golden west grand hotel greeks word guilty hell guilty guilty half naked truth handle care harlem heaven hat check girl hatchet man haunted gold learned women heart new york hearts humanity hello trouble hell fire austin hell's highway hell's house mad night heritage desert hidden gold high pressure high speed hold 'em jail hollywood speaks horror horse feathers hot saturday hotel continental huddle fugitive chain gang million impatient maiden island lost souls face red tough famous jenny lind jewel robbery kid spain king murder klondike kongo ladies jury lady gent lady past last mile law lawless law order law sea lawyer man lena rivers letty lynton life begins little orphan annie local bad man lost squadron love affair love bound love high gear love racket love tonight lovers courageous madame butterfly madame racketeer madison square garden make star manhattan tower man town man woman man called back man yesterday man wanted man played god man's land mask fu manchu mason mounted match king mckenna mounted gal menace men fools men america men chance merrily go hell midnight lady midnight morals midnight patrol midnight warning million dollar legs miracle man misleading lady miss pinkerton monster walks dangerous game mouthpiece movie crazy mr robinson crusoe mummy murders rue morgue pal king mystery ranch new morals old night night night club lady night court night june 13 night mayor night rider night world living witness man orchids one man officer thirteen okay america old dark house lifetime one hour one way passage singapore pack troubles painted woman panama flo parisian romance partners passionate plumber passport hell passport paradise payment deferred penguin pool murder phantom express phantom crestwood phantom president play girl police court polly circus prestige pride legion probation prosperity purchase price rackety rax racing youth radio patrol rain rasputin empress rebecca sunnybrook farm reckoning red dust red haired alibi red headed woman renegades west rich always us ride cowboy rider death valley riding tornado ridin' justice roadhouse murder roar dragon rockabye saddle buster savage girl scandal sale scarface scarlet dawn secrets french police secrets wu sin self defense shanghai express wanted millionaire sherlock holmes shop angel shopworn sign cross silent witness silver dollar silver lining sinister hands sinners sun six hours live sky bride sky devils skyscraper souls slightly married smilin' big society girl son daughter south rio grande speak easily speed demon sport parade state's attorney steady company stepping sisters stoker stowaway strange adventure strange case clara deane strange interlude strange justice strange love molly louvain strangers evening strangers love street women successful calamity sundown rider symphony six million tarzan ape man taxi tenderfoot tess storm country texas bad man texas cyclone texas gun fighter that's boy call sin get married never come back thirteen women thirteenth guest night reckless age sporting age love three match three wise girls thrill youth thunder tiger shark tomorrow tomorrow tom brown culver busy work trial vivienne ware trouble paradise two world two fisted law two kinds women two seconds unashamed cover man unexpected father unholy love union depot unwritten law uptown new york vanishing frontier vanity fair vanity street virtue war babies war correspondent washington masquerade washington merry go round wayward week ends week end marriage western code westward passage wet parade price hollywood fellow needs friend paris sleeps whistlin' dan white zombie widow scarlet wild girl wild horse mesa winner take wiser sex without honor woman commands woman monte carlo woman room 13 women tell world flesh said mouthful young america young blood young bride 42nd street clouds ace aces adorable advice lovelorn tonight aggie appleby maker men air hostess alice wonderland ann carver's profession ann vickers another language arizona broadway avenger baby face barbarian beauty sale bed roses bedtime story dawn midnight sea berkeley square best enemies big brain big chance big cage big executive billion dollar scandal bitter tea general yen black beauty blind adventure blondie johnson blood money bombshell bondage bowery breed border brief moment broadway bad broadway keyhole broadway hollywood broken dreams bureau missing persons appointment california trail candlelight captured cavalcade central airport chance heaven charlie chan's greatest case cheyenne kid chief child manhattan christopher bean christopher strong circus queen murder clear wires cocktail hour cohens kellys trouble college coach college humor constant woman convention city corruption counsellor law cradle song crime century cross fire damaged lives dance girl dance dancing lady dangerous crossroads dangerously daring daughters day reckoning deadwood pass deluge design living destination unknown devil's brother devil's love devil's mate diamond trail dinner eight diplomaniacs disgraced doctor bull bet love dora's dunking doughnuts double harness duck soup eagle hawk east fifth avenue eleventh commandment elmer great emergency call emperor jones employees' entrance eskimo ex lady face sky fargo express fast workers female fiddlin' buckaroo fighting code file 113 flaming gold flying devils flying rio fog footlight parade forgotten headquarters hell heaven fury jungle gabriel white house galloping romeo gambling ship girl 419 girl missing girl without room going hollywood gold diggers 1933 golden harvest goldie gets along goodbye goodbye love grand slam great jasper gun justice hallelujah i'm bum hard handle havana widows headline shooter hell high water hell hello everybody hello sister bodyguard first mate heroes sale high gear double life private secretary hold tight hold press hold man hoop la horse play hot pepper house 56th street humanity suzanne cover waterfront lived love man loved woman loved wednesday i'm angel free money india speaks infernal machine international house intruder invisible man great alive jennie gerhardt jimmy sally jungle bride kennel murder case keyhole king night king kong king arena king jungle king wild horses king's vacation kiss mirror kiss araby ladies must love ladies talk lady day lady killer lady's profession last trail laughing life laughter hell let's fall love life raw life jimmy dolan lilly turner little giant little women lone cowboy looking forward lot sodom love honor oh baby love dangerous lucky devils lucky dog luxury liner mad game made broadway mama loves papa man monterey man hunt man action man sentiment man forest man dared man's castle mary stevens masquerader master men mayor hell meet baron melody cruise men must fight midnight club midnight mary midnight patrol midshipman jack mind reader monkey's paw moonlight pretzels morning glory mr broadway mr skitch murder campus murders zoo lips betray weakness woman mysterious rider mystic hour mystery wax museum nagana narcotic narrow corner night flight night terror marriage ties woman notorious nice nuisance obey law oliver twist olsen's big moment one man's journey one sunday afternoon yesterday betters night paddy next best thing parachute jumper parole girl past mary holmes peg o' heart penthouse phantom broadcast pick picture brides picture snatcher pilgrimage pleasure cruise police car 17 power glory primavera en otoño private detective 62 private jones prizefighter lady professional sweetheart queen christina rafter romance rainbow broadway reform girl reunion vienna riders destiny right romance robbers' roost roman scandals rustlers' roundup rusty rides alone sagebrush trail sailor good sailor's luck saturday's millions scarlet river second hand wife secret madame blanche secret blue room secrets sensation hunters shadows sing sing shanghai madness done wrong say yes ladies behave shriek night silent men silk express silver cord sin nora moran sitting pretty skyway smoke lightning smoky africa soldiers storm solitaire man son sailor son border son kong song songs sons desert song eagle sphinx stage mother state fair state trooper storm daybreak story temple drake straightaway strange people stranger's return strictly personal study scarlet sunset pass supernatural sweepings sweetheart sigma chi take chance terror aboard terror trail day age america three cornered moon three little pigs thrill hunter thundering herd tillie gus last man today live tomorrow seven tonight much harmony topaze torch singer treason trick trick tugboat annie turn back clock tonto rim unknown valley vampire bat voltaire walls gold warrior's husband way love west singapore beer price decency price innocence ladies meet strangers marry whirlwind whistling dark white sister white woman wild boys road wine women song woman accused woman stole women life working man world changes worst woman paris wrecker zoo budapest 365 nights hollywood 6 day bike rider affairs cellini affairs gentleman law age innocence men enemies among missing anne green gables civilized husbands go earth turns babbitt babes toyland baby take bow bachelor bait bachelor arts band plays barrets wimpole street beast borneo bedside beggars ermine behold wife belle nineties beloved beyond law big shakedown black cat black moon blind date blue steel bolero bombay mail born bad bottoms bright eyes british agent broadway bill bulldog drummond strikes back leave call luck captain hates sea caravan carolina case howling dog cat fiddle cat's paw chained change heart charlie chan london charlie chan's courage cheaters cheating cheaters circus clown city limits city park cleopatra cockeyed cavaliers college rhythm come marines coming party count monte cristo countess monte cristo crime doctor crime helen stanley crime without passion crimson romance crosby case cross country cruise cross streets curtain falls dames dangerous corner dark hazard david harum death diamond death takes holiday defense rests devil tiger double door dover road last yacht dragon murder case dr monica dude ranger easy love eight girls boat elinor norton elmer elsie embarrassing moments evelyn prentice ever since eve fashions 1934 father brown detective fifteen wives fighting hero fighting ranger fighting live finishing school flirtation walk flirting danger fog frisco forsaking others fountain four frightened people friends mr sweeney frontier marshal fugitive lady fugitive lovers fugitive road gallant lady gambling gambling lady gay bride gay divorcee gentlemen born george white's scandals ghost walks gift gab girl missouri girl danger girl limberlost girl o' dreams glamour good dame grand canary great expectations great flirtation green eyes gridiron flash half sinner handy andy happiness ahead happy landing harlem midnight hat coat glove heart man heat lightning hell bent love hell cat hell heavens helldorado comes groom comes navy heart hi nellie hide hips hips hooray greatest gamble hold girl hollywood party house mystery house rothschild housewife human side thief believed give love like way sell anything i'll fix i'll tell world i've got number imitation life love life old santa fe happened one night gift jane eyre jealousy jimmy gent journal crime judge priest kansas city princess keep 'em rolling kentucky kernels key kid millions king kelly u kiss make ladies listen lady choice last gentleman last round laughing boy lawless frontier lazy river lemon drop kid let's ritzy let's talk let's try life vergie winters lightning strikes twice limehouse blues line little man little men little minister little miss marker long lost father looking trouble lost stratosphere lost lady lost patrol love birds love captive love time lucky texan madame dubarry madame spy man utah man two worlds man trailer man reclaimed head man two faces man's game managed money mandalay manhattan love song manhattan melodrama maniac many happy returns marie galante marines coming massacre meanest gal town melody spring men white men night menace merry frinks merry widow midnight midnight alibi mighty barnum mills gods million dollar ransom miss fane's baby stolen money means nothing monte carlo nights precious thing life moulin rouge murder vanities murder clouds murder private car murder trinidad mrs wiggs cabbage patch murder blackboard music air mysterious mr wong mystery mr x mystery liner mystery ranch name woman nana neath arizona skies ninth guest greater glory women ransom notorious sophie lang forever i'll tell human bondage old fashioned way every bachelor every woman one exciting adventure one hour late one million one guilty one river one night love operator 13 orient express daily bread outcast lady painted veil palooka pardon pups paris interlude party's peck's bad boy personality kid poor rich port lost dreams prescott kid president vanishes private scandal pursued pursuit happiness quitter randy rides alone rawhide mail ready love red morning registered nurse return terror richest girl world riptide road ruin rocky rhodes romance rain sadie mckee scarlet empress scarlet letter school girls scream night search beauty secret bride secret chateau servants' entrance sequoia choose learned sailors love made bed lady shoot works show side streets silver streak sing like sing sing nights sisters skin six kind sixteen fathoms deep sleepers east smarty smoking guns social register sons steel speed wings spitfire springtime henry st louis kid st louis woman stamboul quest stand cheer star packer stingaree stolen sweets straight way strange wives strictly dynamite student tour success price successful failure women dangerous sweet adeline take stand tarzan mate terror plains that's gratitude big moment there's always tomorrow thin man thirty day princess man mine side heaven thunder texas tomorrow's youth trail beyond transatlantic merry go round treasure island trumpet blows twentieth century twenty million sweethearts two alone two heads pillow uncertain lady upper world honorable guy viva villa voice night wagon wheels wake dream live we're dressing we're rich wednesday's child west divide west pecos westerner wharf angel every woman knows man sees red strangers meet whirlpool white parade gods destroy wicked woman wild cargo wild gold witching hour woman condemned woman dark woman's man wonder bar world accuses world moves belong can't buy everything telling young beautiful 10 raise 1 000 dollars minute accent youth affair susan office hours dance age indiscretion ah wilderness air hawks alias mary dow alibi ike alice adams king's horses anna karenina annapolis farewell annie oakley another face arizonian atlantic adventure awakening jim burke baby face harrington bad boy bar 20 rides barbary coast becky sharp behind evidence behind green lights best man wins big broadcast 1936 biography bachelor girl bishop misbehaves black fury black room black sheep bonnie scotland bordertown border brigands born battle born gamble break hearts bride comes home bride frankenstein bright lights broadway gondolier broadway hostess broadway melody 1936 call wild calling cars calling dan matthews calm cappy ricks returns captain blood captain hurricane car 99 cardinal richelieu carnival case curious bride case lucky legs case missing man casino murder case champagne breakfast charlie chan egypt charlie chan paris charlie chan shanghai chasing yesterday cheers crowd china seas chinatown squad circumstantial evidence clive india college scandal collegiate condemned live confidential convention girl coronado county chairman cowboy millionaire crime punishment crime dr crespi crimson trail crusades curly top danger ahead dangerous dante's inferno daring young man dark angel david copperfield dawn rider death flies east death distance desert trail devil dogs air devil woman diamond jim dinky dizzy dames dog flanders bet blondes doubting thomas dr socrates dressed thrill eagle's brood east java eight bells enchanted april enter madame escapade escape devil's island every night eight false pretenses farmer takes wife feather hat fighting caballero fighting lady fighting pilot fighting shadows fighting youth flame within florentine dagger folies bergère de paris forbidden heaven forced landing four hours kill freckles frisco kid frisco waterfront front page woman g men gallant defender gay deception george white's 1935 scandals gigolette gilded lily ginger girl friend girl 10th avenue girl came back glass key go dance goin' town going highbrow gold diggers 1935 good fairy goose gander grand exit grand old girl great god gold great hotel murder great impersonation guard girl hands across table happiness c hard rock harrigan harmony lane headline woman healer heir trouble comes cookie comes band here's romance hi gaucho family tree night hitch hike lady hold 'em yale home range honeymoon limited hong kong nights hooray love hoosier schoolmaster hop along cassidy hot press hot tip dream much found stella parish live love live life i'll love always i've around could cook imperfect lady caliente old kentucky person spite danger informer irish us happened new york great life small world air ivory handled gun jalna judgement book justice range keeper bees kind lady king solomon broadway laddie ladies crave excitement ladies love danger lady scarlet lady tubbs laramie kid last days pompeii last pagans last outpost law beyond range lawless range lawless riders let 'em let's live tonight life begins 40 life returns little big shot little colonel littlest rebel lives bengal lancer live wire living velvet lone wolf returns lottery lover love bloom love forever mad love magnificent obsession make million man iron man flying trapeze man broke bank monte carlo manhattan moon mark vampire mary burns fugitive mary jane's pa maybe love mcfadden's flats melody lingers melody trail men action men hour men without names metropolitan midnight phantom midsummer night's dream millions air les misérables miss pacific fleet mississippi mister dynamite moonlight prairie motive revenge murder television murder harlem murder fleet murder man murder honeymoon music magic mutiny ahead mutiny bounty mystery edwin drood mystery man mystery woman naughty marietta navy wife nevada never late new frontier night opera night ritz night young night life gods nitwits ladies north arizona notorious gentleman nut farm o'shaughnessy's boy oil lamps china old homestead old man rhythm probation blue moon one frightened night one spring one new york night one way ticket orchids little girl outlawed guns pace kills page miss glory paradise canyon paris spring party wire payoff people talk people's enemy perfect clue perfect gentleman personal maid's secret peter ibbetson powdersmoke range princess o'hara private worlds professional soldier public hero 1 public menace public opinion pursuit racing luck rainbow's end rainbow valley rainmakers raven reckless reckless roads red blood courage red hot tires red salute redheads parade remember last night rendezvous rendezvous midnight rescue squad return peter grimm revenge rider riding wild rio rattler right live roberta rocky mountain mystery romance manhattan rough riding ranger ruggles red gap rumba rustler's paradise sagebrush troubadour scoundrel seven keys baldpate shadow doubt shadow silk lennox shanghai take gets man married boss ship cafe shipmates forever shot dark show mercy silk hat kid silent valley silver bullet singing vagabond smart girl red rose social error society doctor society fever spanish cape mystery special agent speed limited splendor spring tonic square shooter star midnight stars broadway steamboat round bend stolen harmony stone silver creek storm andes stormy straight heart stranded strangers streamline express sunset range super speed sweepstake annie sweet music sweet surrender swellhead sylvia scarlett symphony living tale two cities texas jack texas terror thanks million life three kids queen three musketeers throwback thunder night thunder mountain times square lady beat band together live tough kill top hat transient lady traveling saleslady tumbling tumbleweeds two fisted two tonight two sinners twenty dollars week unconquered bandit pressure pampas moon unknown woman unwelcome stranger vagabond lady vanessa love story village tale virginia judge wanderer wasteland waterfront lady way east wedding night welcome home we're money we're human werewolf london west point air western courage western frontier westward ho price crime man's man patient slept whipsaw whispering smith speaks white cockatoo white lies whole town's talking wings dark winning ticket without children without regret wolf riders woman red woman wanted women must dress uncle dudley 13 hours air 15 maiden lane 36 hours kill absolute quiet accusing finger aces eights aces wild adventure manhattan thin man alibi murder american chump along came love ambush valley married sudden death anthony adverse anything goes arizona mahoney arizona raiders august weekend avenging waters back nature banjo knee deadline beloved enemy bengal tiger beware ladies beyond caribbean big broadcast 1937 big brown eyes big game big noise big show black gold blackmailer bohemian girl bold caballero border caballero border flight border patrolman born dance born fight boss rider gun creek boulder dam bride walks brides like bridge sighs brilliant marriage bulldog edition bullets ballots bunker bean burning gold cain mabel california mail call prairie camille dixie captain calamity captain january captain's kid career woman caryl mountains case mrs ames case black cat case velvet claws cattle thief cavalcade west cavalry ceiling zero champagne charlie charge light brigade charlie chan circus charlie chan opera charlie chan race track charlie chan's secret chatterbox china clipper code range colleen college holiday come get come closer folks comin' round mountain conflict counterfeit counterfeit lady country beyond country doctor country gentlemen cowboy kid cowboy star crack craig's wife crash donovan crashing thru danger crime dr forbes dancing feet dancing pirate dangerous intrigue dangerous waters daniel boone dark hour death air desert gold desert guns desert phantom desire devil sissy devil horseback devil's squadron devil doll dimples dodge city trail dodsworth gamble love get personal turn 'em loose doughnuts society stretch sea dracula's daughter drag net drift fence early bed earthworm tractors easy money easy take educating father ellis island empty saddles end trail everybody's old man every saturday night ex mrs bradford exclusive story f man face fog farmer dell 'fast bullets fatal lady federal agent feud west final hour first baby florida special flying hostess follow fleet follow heart service forgotten faces four days' wonder frankie johnny freshman love nine nine fugitive sky fugitive sheriff fury gambling souls garden murder case garden allah gay desperado general died dawn general spanky gentle julia gentleman louisiana ghost patrol ghost town gold ghost town girl mandalay girl ozarks girl front page girls' dormitory give heart give us night go get 'em haines go west young man gold diggers 1937 golden arrow gorgeous hussy grand jury great guy great ziegfeld green pastures gun ranger guns guitars half angel happy go lucky harvester hats headin' rio grande heart west hearts divided hearts bondage hell ship morgan master's voice comes carter comes trouble heroes range hideaway girl high tension brother's wife hitch hike heaven hollywood boulevard hopalong cassidy returns hot money house thousand candles house secrets human cargo conquer sea cover chinatown married doctor i'd give life idaho kid steps invisible ray isle fury happened happen jailbreak jungle princess kelly secret service kelly second kid ranger killer large king burlesque king hockey king pecos king royal mounted king steps klondike annie ladies love lady careful lady consents lady nowhere lady luck lady secrets last warrens last outlaw last mohicans laughing trouble laughing irish eyes law hands lawless nineties leathernecks landed leavenworth case legion terror let's make million let's sing libeled lady lightnin' bill carson lion's den lion man little lord fauntleroy little miss nobody little red schoolhouse lloyd's london lonely trail love breakfast love begins 20 love letters star love bet love run luckiest girl world lucky terror m'liss mad holiday magnificent brute make way lady man betrayed man hunt man frontier man marry man lived twice mandarin mystery marihuana mariners sky mary scotland meet nero wolfe message garcia milky way millionaire kid mind business mine iron door missing girls modern times moon's home moonlight murder secretary mr cinderella mr deeds goes town mummy's boys murder glen athol murder aristocrat murder dr harrigan murder bridle path murder pictures music goes 'round muss 'em american wife man godfrey marriage mysterious avenger mysterious crossing neighborhood house next time love night cargo night waitress nobody's fool north nome o'malley mounted oh susanna old corral old hutch one million one rainy afternoon oregon trail relations paddy o'day palm springs panic air parole pennies heaven pepper petrified forest petticoat fever phantom range phantom patrol picadilly jim pigskin parade pinto rustlers plainsman plot thickens polo joe poor little rich girl poppy postal inspector president's mystery preview murder mystery pride marines princess comes across prison shadows prisoner shark island private number public enemy's wife put spot racing blood rainbow river ramona rebellion red lights ahead red river valley reefer madness return jimmy valentine return sophie lang reunion revolt zombies rhythm range ride 'em cowboy ride ranger ride riding avenger ridin' riffraff ring around moon rio grande ranger rio grande romance road gang road glory roaming lady roamin' wild roarin' guns roarin' lead robin hood el dorado rogues tavern romeo juliet rose bowl rose marie rose rancho san francisco santa fe bound satan met lady sea spoilers second wife secret patrol shakedown show boat silly billies silks saddles silver spurs sing baby sing sing love song singing cowboy singing kid sinner take sins man sitting moon sky parade small town girl smartest girl town snowed soak rich son comes home song dance man song gringo song saddle song trail sons o' guns special investigator speed speed reporter spendthrift stage struck stampede star night step story louis pasteur stowaway straight shoulder strike pink sunset power sutter's gold suzy swing time sworn enemy tango tarzan escapes tenderfoot goes west texas rangers thank jeeves girl paris theodora goes wild three met taxi thirteen hours air three cheers love three godfathers three live ghosts three married men three men horse three mesquiteers three kind three trail three smart girls three wise guys ticket paradise till meet times square playboy timothy's quest mary love many parents much beef tough guy trail dust trail lonesome pine trailin' west trapped television treachery rides range trouble two tugboat princess two world two fisted gentleman two crowd two revolt two dark two minutes play two flags spell undercover man unknown ranger unguarded hour valiant word carrie vengeance rannah voice bugle ann walking dead walking air wanted jane turner went college wedding present we're legion west nevada white angel white fang white hunter white legion wife vs secretary widow monte carlo wild brian kent wildcat trooper wild horse round winds wasteland winterset love kisses without orders witness chair wives never know woman rebels woman trap women trouble yellow cargo yellow dust yellowstone yiddle fiddle may next asking 13th man 3 dumb clucks 45 fathers 52nd street adventure's end adventurous blonde affairs cappy ricks alcatraz island ali baba goes town american sweetheart town amateur crook angel angel's holiday annapolis salute another dawn arizona days arizona gunfighter armored car artists models good married atlantic flight awful truth back circulation bad guy bad man brimstone bank alarm bar z bad men barrier battle greed beg borrow steal behind headlines behind mike two women big business big city big shot big town girl bill cracks black aces black legion blazing sixes blonde trouble blossoms broadway boothill brigade boots saddles border cafe border phantom borderland born reckless born west borneo borrowing trouble boy streets breakfast two breezing home bride henry bride wore red broadway melody 1938 bulldog drummond comes back bulldog drummond escapes bulldog drummond's revenge cafe metropole california straight ahead californian call day captains courageous carnival queen case stuttering bishop champagne waltz charlie chan monte carlo charlie chan olympics charlie chan broadway checkers cherokee strip china passage circus girl clarence colorado kid come cowboys confession conquest counsel crime county fair crime nobody saw criminal lawyer criminals air damsel distress dance charlie dance danger love work danger patrol danger valley dangerous adventure dangerous holiday dangerous number dangerously dark manhattan daughter shanghai day races dead end devil driving devil's playground devil's saddle legion doctor's diary tell wife doomed sundown double nothing double wedding draegerman courage duke comes back easy living ebb tide emperor's candlesticks empty holsters escape night espionage ever since eve every day's holiday exclusive exiled shanghai expensive husbands fair warning family affair fifty roads town fight lady fight finish find witness firefly first lady fit king flight glory fly away baby footloose heiress forlorn river forty naughty girls frame gambling terror game kills girl scotland yard girl overboard girl said girl ideas girls play git along little dogies go getter god's country woman gold racket good earth good old soak great gambini great garrick great hospital mystery great o'malley green fields green light gun lords stirrup basin guns dark guns pecos gunsmoke ranch harlem prairie headin' east heart rockies heidi husband lies husband's secretary heroes alamo hideaway high flyers high wide handsome hills old wyoming history made night hit parade 1937 hit saddle hitting new high hollywood cowboy hollywood hotel hollywood round holy terror hoosier schoolboy hopalong rides hot water hotel haywire hurricane cover war idol crowds met paris promise pay i'll take romance old chicago internes can't take money can't last forever could happen happened hollywood happened west love i'm jim hanvey detective john meade's woman join marines jungle menace kid galahad king chorus girl king gamblers lady escapes lady fights back lancer spy land beyond law larceny air last gangster last mrs cheyney last train madrid law ranger lawless land lawman born league frightened men left handed law legion missing men let live let's get married life begins college life begins love life émile zola life party lightnin' crandall live love learn living love london night lost horizon love hisses love bungalow love news love air love toast love takes flight love fire madame x maid salem make wish make way tomorrow mama runs wild mama steps man blue man people man cried wolf man found manhattan merry go round mannequin marked woman married breakfast marry girl maytime melody two men exile meet boyfriend meet missus michael o'halloran midnight court midnight madonna midnight taxi mighty treve million one missing witnesses motor madness mountain justice mountain music mr dodd takes air murder goes college murder greenwich village music madame dear miss aldrich nancy steele missing navy blue gold navy blues navy spy new faces 1937 night club scandal night key night must fall night mystery nobody's baby north rio grande nothing sacred races oh doctor old louisiana old wyoming trail night avenue doctor one hundred men girl one man justice one mile heaven outcast outcasts poker flat outer gate outlaws orient outlaws prairie goal paid dance paradise express paradise isle park avenue logger parnell parole racket partners crime penrod sam perfect specimen personal property pick star plough stars portia trial prairie thunder prescription romance prince pauper prisoner zenda public cowboy 1 public wedding quality street quick money racing lady racketeers exile range defenders ranger courage rangers step ready willing able reckless ranger red rope renfrew royal mounted reported missing rhythm clouds riders whistling skull ridin' lone trail riding air road back roaring timber roll along cowboy rootin' tootin' rhythm rosalie round time texas rustlers' valley sandflow san quentin santa fe rides saratoga saturday's heroes sea devils sea racketeers second honeymoon secret valley seventh heaven sh octopus shadow shall dance asked eat loved fireman married artist dangerous got everything lady sheik steps silver trail sing happy singing marine sky racket slave ship slaves bondage slim small town boy smart blonde smoke tree range snow white seven dwarfs soldier lady something sing song city sophie lang goes west souls sea speed spare springtime rockies stage door stand star born stella dallas step lively jeeves stolen holiday submarine 1 super sleuth swing high swing low talent scout telephone operator texas trail certain woman girl paris may live man's navy spirit goes girl goes groom gave gun wanted marry forget thin ice think fast mr moto thirteenth chair affair way please thoroughbreds cry thrill lifetime thunder trail time romance toast new york many wives top town topper tovarich trail vengeance trailin' trouble trapped trapped g men trigger trio trouble morocco true confession trusted outlaw turn moon two fisted sheriff two gun law two wise maids cover night red robe suspicion underworld varsity show venus makes trouble waikiki wedding wake live way west moments die wee willie winkie we're jury wells fargo westbound mail west bound limited west shanghai western gold love young love when's birthday white bondage wife doctor nurse wild woolly wild horse rodeo wild money wildcatter windjammer wine women horses wings honolulu wise girl woman chases man woman love woman distress woman wise women men marry women glamour wrong road yodelin' kid pine ridge can't beat love can't buy luck can't everything live young youth parole accidents happen adventure sahara adventures marco polo adventures robin hood adventures tom sawyer affairs annabel air devils alexander's ragtime band algiers always goodbye always trouble amazing dr clitterhouse angels dirty faces annabel takes tour arkansas traveler army girl arrest bulldog drummond arsène lupin returns arson gang busters artists models abroad bar 20 justice barefoot boy baroness butler battle broadway beloved brat big broadcast 1938 billy kid returns black bandit black doll blind alibi blockade block heads blond cheat blondes work blondie bluebeard's eighth wife booloo border g man border wolves born wild boy meets girl boys town breaking ice bringing baby broadway musketeers brother rat buccaneer bulldog drummond africa bulldog drummond's peril california frontier call rockies call yukon call mesquiteers campus confessions carefree cassidy bar 20 cattle raiders change heart charlie chan honolulu chaser child bride christmas carol city girl city streets cocoanut grove college swing come rangers comet broadway condemned women convicted cowboy lady cowboy brooklyn crashing hollywood crime doctor hallet crime ring crime school crime takes holiday crowd roars danger air dangerous know daredevil drivers dawn patrol desert patrol desperate adventure devil's party dr rhythm double danger 'arkansaw' farm dramatic school duke west point durango valley raiders everybody sing everybody's exposed extortion fast company federal man hunt feud maker first hundred years five kind flight nowhere flight fame flirting fate fools scandal forbidden valley four daughters four men prayer four's crowd freshman year frontiersmen fugitives night gambling ship gang bullets gang smashers gangs new york gangster's boy garden moon gateway ghost town riders girl downstairs girl golden west girls probation girls' school give sailor gladiator go chase god's step children going places gold diggers paris gold find gold mine sky goldwyn follies goodbye broadway great waltz guilty trails gun law gun packer happy landing hard get wonderful time hawaiian buckaroo hawaii calls heart arizona heart north say jungle love heroes hills higgins family highway patrol exciting night hold co ed hold kiss holiday hollywood stadium mystery hunted men criminal law demand payment met love stand accused i'll give million i'm city king illegal traffic early arizona old chicago old mexico international settlement invisible enemy invisible menace island sky jezebel josette joy living judge hardy's children jury's secret around corner juvenile court kentucky kentucky moonshine kidnapped king alcatraz king newsboys ladies distress lady behave lady morgue lady objects last express last stand law plains law texan law underworld law west tombstone lawless valley letter introduction little adventuress listen darling little miss broadway little miss roughneck little miss thoroughbred little orphan annie little tough guy little tough guys society lone wolf paris lord jeff love finds andy hardy love honor behave love headache love budget mad music mad miss manton maid's night main event making headlines man proof man music mountain man remember marie antoinette marines meet girls men fools men wings merrily live midnight intruder missing guest mother carey's chickens mr boggs steps mr doodle kicks mr moto's gamble mr moto takes chance mr wong detective bill lucky star old kentucky home mysterious mr moto mysterious rider mystery house mystic circle murders nancy drew detective newsboys' home next time marry night hawk night spot time marry nurse brooklyn human hearts old barn dance one wild night orphans street west hardys outlaw express outlaws sonora outside paradise wall overland express overland stage raiders painted desert painted stallion painted trail pals saddle panamint's bad man paradise three paroled die partners plains passport husband patient room 18 peck's bad boy circus penitentiary penrod twin brother penrod's double trouble personal secretary phantom gold pioneer trail port missing girls port seven seas prairie justice prairie moon pride west prison break prison farm prison nurse professor beware purple vigilantes racket busters radio city revels rage paris rascals rawhide rebecca sunnybrook farm reckless living red river range reformatory renegade ranger rhythm saddle rich man poor girl ride crooked mile riders black hills rio grande road demon road reno rolling caravans romance dark romance run room service rose rio grande safety numbers saint new york sally irene mary santa fe stampede say french scandal street secrets nurse secrets actress sergeant murphy service de luxe shadows shanghai sharpshooters shine harvest moon shining hour ship died shopworn angel sing sinners singing blacksmith singing outlaw sinners paradise sisters sky giant slight case murder smashing rackets smashing spy ring sons legion south arizona spawn north special inspector speed burn spirit youth spring madness spy ring squadron honor stablemates stagecoach days start cheering state police stolen heaven storm storm bengal straight place show strange faces stranger arizona strange case dr meade submarine patrol sunset murder case suez sweethearts swing sailor swing lady swing swing sister swing swing cheer swing lady swiss miss tarnished angel tarzan's revenge tenth avenue kid terror tiny town test pilot texans thanks everything thanks memory certain age goes heart there's always woman marriage business three blind mice three comrades three loves nancy thunder desert time murder tip girls tom sawyer detective hot handle much johnson topper takes trip torchy blane panama torchy gets man touchdown army toy wife trade winds trip paris tropic holiday two gun man harlem big top western stars river vacation love valley giants vivacious lady walking broadway west cheyenne west santa fe western jamboree western trails g men step born buffalo roam west begins white banners killed gail preston wide open faces wives suspicion woman world woman woman women like women prison yank oxford yellow jack can't take young dr kildare young fugitives young heart youth takes fling 1 000 touchdown 20 000 men year 6 000 enemies across plains adventures huckleberry finn adventures jane arden adventures sherlock holmes adventures masked phantom women secrets allegheny uprising almost gentleman amazing mr williams ambush andy hardy gets spring fever angels wash faces another thin man arizona kid arizona legion arizona wildcat arrest bulldog drummond circus babes arms bachelor mother back door heaven bad boy bad lands bad little angel balalaika barricade beau geste beauty asking behind prison gates beware spooks big guy big town czar birthright blackmail blackwell's island blind alley blondie brings baby blondie meets boss blondie takes vacation blue montana skies boy friend boy slaves boy trouble boys' reformatory bridal suite broadway serenade bronze buckaroo buck rogers bulldog drummond's bride bulldog drummond's secret police buried alive burn 'em o'connor cafe society call messenger calling curs calling marines calling dr kildare captain fury career cat canary charlie chan treasure island charlie chan city darkness charlie chan reno charlie mccarthy detective chasing danger chicken wagon family child born chip flying u cisco kid lady coast guard code cactus code fearless code secret service code streets colorado sunset confessions nazi spy conspiracy convict's code cowboy quarterback dancing co ed danger flight dark victory daughter tong daughters courageous day bookies wept day time wife death champion death rides range destry rides devil's island dick tracy's g men disbarred disputed passage dodge city drums along mohawk ducking go dust destiny dawn die escape escape paradise espionage agent eternally everything happens night ex champ exile express everybody's hobby fast furious fast loose 5th ave girl fighting gringo first love first offenders five came back fixer dugan flight midnight flying deuces flying irishman four wives frontier marshal geronimo girl gambler girl mexico golden boy great commandment gone wind good girls go paris gorilla gracie allen murder case grand jury secrets great man votes great victor herbert gulliver's travels gunga din hardys ride high hawaiian nights heaven barbed wire fence hell's kitchen stranger henry goes arizona heroes blue hollywood cavalcade homicide bureau honeymoon bali honeymoon's honolulu hotel women hound baskervilles house fear housekeeper's daughter hunchback notre dame ice follies 1939 idiot's delight i'm missouri name indianapolis speedway intermezzo love story invisible stripes invitation happiness stole million could happen wonderful world convict jesse james joe ethel turp call president jones family hollywood juarez judge hardy son kansas terrors kid kokomo kid texas king turf king underworld lady tropics lady's kentucky laugh law pampas let freedom ring let us live light failed little princess lone wolf spy hunt love affair lucky night made mad empress magnificent fraud main street lawyer maisie man town man iron mask man conquest man dared marshal mesa city mexicali rose midnight million dollar legs miracles sale missing daughters missing evidence moon harlem mr moto danger island mr moto takes vacation mr smith goes washington mr wong chinatown son guilty mysterious miss x mystery mr wong nancy drew hidden staircase nancy drew reporter nancy drew trouble shooter naughty nice never say die new frontier news made night nick carter master detective night nights night riders night work ninotchka place go nurse edith cavell record mice men oily bed oily rise oklahoma kid oklahoma terror old maid borrowed time dress parade toes angels wings trial oregon trail neighbors carters outlaws' paradise outsider outside walls pacific liner panama lady paris honeymoon persons hiding pirates skies private detective private lives elizabeth essex quick millions racketeers range raffles rains came range war real glory remember reno return doctor x rio roaring twenties rose washington square rulers sea saint london saint strikes back saved belle second fiddle secret dr kildare secret service air sergeant madden married cop silver sage smashing money ring society lawyer like hot son frankenstein sorority house tidal wave stagecoach stand fight stanley livingstone star maker st louis blues story vernon irene castle stranger texas stronger desire sudden money sun never sets susannah mounties swanee river sweepstakes winner tail spin tarzan finds son television spy tell tales that's right wrong glamour girls come made criminal shall music high grey walls three little sew sews three musketeers three sappy people three smart girls grow three sons three texas steers thunder afloat torchy blane chinatown torchy blane playing dynamite torchy runs mayor tower london tropic fury trouble sundown undercover doctor unexpected father union pacific unmarried waterfront way south alone want mummy life tomorrow comes wife husband friend wings navy winner take within law wizard oz women women wind wuthering heights wyoming outlaw yes darling daughter yes bonanza can't cheat honest man can't get away murder young mr lincoln zaza zenobia zero hour zorro's fighting legion 20 mule team 100 pygmies andy panda abe lincoln illinois adventure diamonds adventures red ryder alias deacon heaven always bride guilty americaner shadchen one beautiful andy hardy meets debutante angel texas angels broadway anne windy poplars ape argentine nights arise love arizona arizona frontier arizona gang busters babies sale bad man red butte bank dick barnyard follies hang behind news beyond sacramento beyond tomorrow bill divorcement billy kid texas billy kid outlawed billy kid's gun justice biscuit eater bitter sweet black diamonds black friday blazing six shooters blondie servant trouble blondie budget blondie plays cupid blue bird boom town border legion boss bullion city bowery boy boys city boys syracuse brigham young british intelligence broadway melody 1940 broken strings brother orchid brother rat baby buck benny rides bullet code bullets rustlers buzzy rides range cafe hostess calling husbands calling philo vance captain caution carolina moon carson city kid castle hudson chad hanna charlie chan wax museum charlie chan panama charlie chan's murder cruise charter pilot chasing trouble cherokee strip christmas july chump oxford city conquest city chance city lost men colorado comes midnight comin' round mountain comrade x congo maisie convicted woman covered wagon days covered wagon trails crooked road cross country romance curtain call dance girl dance dancing dime danger ahead danger wheels dark command dark streets cairo deadwood dick diamond frontier dispatch reuter's doctor takes wife doomed die double alibi argentine way dr christian meets women dr cyclops dr ehrlich's magic bullet dr kildare's crisis dreaming loud drums desert dulcy earl chicago earthbound east river east side kids edison man elmer's candid camera escape eyes navy fantasia fargo kid fatal hour father prince fight life fighting 69th five little peppers trouble flight angels flight command florian flowing gold foreign correspondent forgotten girls forty little mothers four sons free blonde 21 nurse worse fugitive justice gallant sons gambling high seas gangs chicago gaucho serenade ghost breakers ghost comes home girl havana girl 313 give us wings glamour sale golden fleecing golden gloves gold rush maisie go west granny get gun grapes wrath great dictator great mcginty green archer green hell green hornet half sinner haunted honeymoon married wife first romance high school hired hired wife girl friday hit parade 1941 hold woman house across bay house seven gables high howards virginia hullabaloo ice capades love take oath take woman want divorce way i'm nobody's sweetheart i'm still alive invisible man returns invisible woman irene island doomed men came true date adventuress jennie johnny apollo junior g men king lumberjacks king royal mounted kitty foyle knock knock knute rockne american laddie ladies must live lady question lady red hair legion lawless letter light failed lillian russell little bit heaven little men little nellie kelly little old new york lone wolf meets lady long voyage home love thy neighbor lucky cisco kid lucky partners maisie lady man dakota manhattan heartbeat man married man talk marines fly high mark zorro marked men married love maryland meet wildcat melody moonlight melody ranch mexican spitfire michael shayne private detective milky way millionaire playboy millionaires prison misbehaving husbands money woman moon burma mortal storm mr duck steps mummy's hand murder air murder new york music heart favorite wife little chickadee love came back son son mysterious doctor satan mystery sea raider new moon night earl carroll's census feeling north west mounted police northwest passage time comedy nutty nice fox hounds old swimmin' hole one man's law one million b c one night tropics opened mistake town west peppers parole fixer patient porky phantom chinatown phantom raiders philadelphia story pier 13 pinocchio pride prejudice pride bowery primrose path private affairs public deb 1 puss gets boot quarterback queen mob queen yukon quicker'n wink rancho grande ranger lady rangers fortune rebecca remedy riches remember night return frank james rhythm river riders black mountain ride tenderfoot ride river's end road singapore rockin' thru rockies rocky mountain rangers safari sailor's lady saint takes saint's double trouble santa fe marshal santa fe trail saps sea saturday's children scatterbrain sea hawk second chorus service colors seven sinners seventeen say done right shooting high shop around corner siege sing dance plenty hot ski patrol sky murder son ingagi son monte cristo son navy south pago pago south suez talk sporting blood spring parade stage chino star dust strange cargo stranger third floor strike band susan god swiss family robinson tacoma narrows bridge collapse galloping gertie 'taint legal tear gas squad teddy rough rider terry pirates texas rangers ride texas terrors gang mine drive night knew wanted third finger left hand thing called love days three cheers irish three faces west 'til meet tin pan alley tom brown's school days many girls many husbands torrid zone trail vigilantes triple justice tugboat annie sails tulsa kid turnabout two girls broadway typhoon untamed air victory vigil night villain still pursued virginia city viva cisco kid wagons westward waterloo bridge way flesh westerner young daltons rode killed aunt maggie wildcat bus wild hare winners west women war women without names wyoming can't fool wife ought pictures find young bill hickok young buffalo bill young people young tom edison young feel tough yukon flight ache every stake adam four sons adventure washington adventures captain marvel affectionately american co ed world's stooge rabbit stew night aloma south seas among living andy hardy's private secretary angels broken wings appointment love arizona bound arkansas judge art self defense aviation vacation babes broadway back street badlands dakota bad man bad men missouri bahama passage ball fire barnacle bill bedtime story belle starr big store billy kid birth blues black cat blonde singapore blood sand blood jesus blossoms dust blues night bombay clipper borrowed hero bowery blitzkrieg bride came c bride wore crutches broadway limited buck privates bullets o'hara burma convoy buy town cadet girl case black parrot caught draft charlie chan rio cheers miss bishop chocolate soldier citadel crime citizen kane city missing girls come live confessions boston blackie confirm deny corsican brothers country fair dance hall dangerously live dead men tell deadly game design scandal desperate cargo devil daniel webster devil miss jones devil commands devil pays dick tracy vs crime inc dive bomber doctors tell double cross san diego mexico way dr jekyll mr hyde dr kildare's wedding day dressed kill dude cowboy dumbo dutiful dumb elmer's pet rabbit face behind mask feminine touch fiesta flame new orleans flight destiny flying blind flying wild footsteps dark beauty's sake forced landing four mothers free easy gambling daughters gang's gay falcon gay vagabond get away girl guy gob glamour boy golden hoofs go west young lady great guns great american broadcast great awakening great lie great mr nobody green hornet strikes h pulham esq hard boiled canary hard guy harvard come heckling hare hello sucker hellzapoppin' henry aldrich president comes happiness comes mr jordan first beau hiawatha's rabbit hunt high sierra hit road hold back dawn hold ghost honeymoon three honky tonk honolulu lu horror island green valley hudson's bay hurry charlie hurry killed man wake screaming wanted wings i'll never heil i'll wait navy sweet pie pie international lady international squadron invisible ghost started eve johnny eager jungle girl jungle man kathleen keep 'em flying kid kansas king zombies kiss boys goodbye kisses breakfast ladies retirement lady good lady eve lady cheyenne lady louisiana lady scarface last duanes las vegas nights law range law tropics let's make music life begins andy hardy life henry little foxes little whirlwind lone wolf keeps date look who's laughing louisiana purchase lydia mad doctor maltese falcon man betrayed man hunt man large man made monster manpower man lost married bachelor marry boss's daughter medico painted springs meet boston blackie meet john doe meet chump melody three men life men boys town mercy island mexican spitfire's baby midnight snack million dollar baby miss polly mister bug goes town mob town monster girl moods sea moonlight hawaii moon shoulder moon miami mountain moonlight mr mrs smith mr bug goes town mr district attorney murder invitation life caroline navy blues never give sucker even break new york town niagara falls nice girl nifty nineties night christmas night january 16th nine lives enough hands clock nothing truth nurse's secret one foot heaven one night lisbon fog pacific blackout pantry panic paper bullets parachute battalion paris calling passage hong kong penalty penny serenade people vs dr kildare petticoat politics pittsburgh kid place live play girl playmates pot o' gold power dive private nurse public enemies puddin' head rage heaven reaching sun red river valley reluctant dragon remember day riders death valley riders purple sage ridin' rainbow ring steel ringside maisie rise shine road show road zanzibar roar press romance rio grande round sailors leave saint palm springs saint's vacation san antonio rose scattergood meets broadway scotland yard scrub mama boogie beat sea raiders sea wolf secrets lone wolf sergeant york shadow thin man shanghai gesture knew answers shepherd hills shining victory shot dark sierra sue sing another chorus singapore woman singing hill sis hopkins six gun gold six lessons madame la zonga sky raiders skylark smiling ghost smilin' ends night long mr chumps samoa south tahiti spooks run wild steel sky strange alibi strawberry blonde stick guns sullivan's travels sundown sun valley serenade sunny suspicion swamp water tall dark handsome tarzan's secret treasure texas hamilton woman night rio uncertain feeling dare love died boots met argentina met bombay thieves fall woman mine three girls town three sons o' guns tight shoes timber time rhythm tobacco road tom dick harry many blondes topper returns tortoise beats hare trial mary dugan tuxedo junction twilight trail two faced woman two taxi two latins manhattan uncle joe age underground unexpected uncle unfinished business unholy partners young lady virginia wabbit twouble wagons roll night washington melodrama week end havana weekend three go fast west point widow western union ladies meet get girl white eagle wild geese calling wild man borneo wolf man woman's face wyoming wildcat yank raf belong never get rich army ziegfeld girl haunting go across pacific adventures martin eden affairs jimmy valentine affairs martha alias boston blackie almost married always heart american empire andy hardy's double life bonds today apache trail arabian nights husbands necessary arm behind army army surgeon atlantic convoy bambi bashful bachelor battle midway bells capistrano us girls beyond blue horizon big shot big street billy kid trapped black dragons black swan blondie goes college bombs burma boogie man get born sing boss big town boston blackie goes hollywood bowery midnight bowling alley cat broadway brooklyn orchid bugle sounds bugs bunny gets boid bullet scars busses roar cairo calling dr gillespie call marines campus march captains clouds careful soft shoulder casablanca castle desert cat people china girl commandos strike dawn corpse vanishes counter espionage courtship andy hardy cowboy serenade crossroads danger pacific date falcon dawn great divide december 7th movie desperate journey dog trouble winslow navy donald gets drafted get personal dover boys draft horse dr broadway dr gillespie's new assistant dr kildare's victory dr renault's secret eagle squadron enemy agents meet ellery queen escape crime escape hong kong eyes night eyes underworld falcon's brother fine feathered friend fingers window fleet's flight lieutenant fly night flying tigers footlight serenade foreign agent forest rangers gal fraidy cat freckles comes home fresh hare friendly enemies gallant lady gang busters gay sisters gentleman dark gentleman heart gentleman jim george washington slept get hep love ghost frankenstein girl alaska girl trouble give sisters glass key grand central murder great gildersleeve great man's lady great impersonation heart rio grande hemp victory henry browne farmer henry dizzy cardboard lover go hidden hand highways night hi neighbor hold lion please holiday inn home wyomin' play baseball swim live danger married witch married angel old california life invisible agent true everybody's war framed jackass mail jam session japanese relocation joan ozark joan paris joe smith american johnny doughboy johnny eager journey margaret juke girl jungle book junior g men air broadway kid glove killer king mounties kings row lady night lady gangster lady plans lady jam lady willing larceny inc law jungle let's get tough life begins eight thirty living ghost loves edgar allan poe lucky ghost mad doctor market street mad martindales mad monster madame spy magnificent ambersons magnificent dope major minor male animal man trunk man came dinner man returned life man two lives manila calling manpower mayor 44th street mcguerins brooklyn meet stewarts men texas mexican spitfire sea mexican spitfire sees ghost mexican spitfire's elephant miss annie rooney miss v moscow moonlight havana moonlight masquerade moon sixpence moontide mrs miniver mrs wiggs cabbage patch mummy's tomb murder big house favorite blonde favorite duck gal sal heart belongs daddy sister eileen mystery marie roget navy comes nazi agent 'neath brooklyn bridge news parade year 1942 night divorce night new orleans night monster night plane chungking night remember nightmare northwest rangers voyager obliging young lady old homestead upon honeymoon one thrilling night sunny side orchestra wives outlaws pine ridge overland mail dead body pacific rendezvous palm beach story panama hattie parachute nurse pardon sarong pardon stripes paris calling pay perils nyoka phantom killer pied piper pierre plains pittsburgh postman ring powder town prelude war pride yankees private buckaroo puss 'n' toots quiet please murder random harvest reap wild wind remarkable andrew remember pearl harbor reunion france ride 'em cowboy right heart rings fingers rio rita road happiness road morocco roxie hart rubber racketeers saboteur safeguarding military information scattergood survives murder sealed lips secret agent japan secret enemies seven days' leave seven miles alcatraz seven sweethearts sex hygiene sherlock holmes voice terror ship ahoy silver queen sin town sing worries away somewhere i'll find son fury story benjamin blake song islands sons pioneers so's aunt emma south santa fe spoilers springtime rockies spy ship spy smasher squawkin' hawk stand action star spangled rhythm strange case doctor rx street chance strictly groove submarine raider sundown jim sweater girl take letter darling tale two kitties tales manhattan talk town tarzan's new york adventure ten gentlemen west point tennessee johnson woman there's one born every minute kissed bride raid night gun hire time keeps thru different eyes thunder birds timber time kill tish today hang shores tripoli tombstone town tough die many women top sergeant torpedo boat tortilla flat tragedy midnight trail riders treat 'em rough true army tulips shall grow tuttles tahiti twin beds two yanks trinidad undying monster unseen enemy valley hunted men vanishing virginian wabbit came supper wake island war mrs hadley marines dancing western mail west tombstone what's cookin' whispering ghosts white cargo done hope schuyler wife takes flyer wild bill hickok rides wings eagle winning wings wild bill hickok rides woman year wood war world war wrecking crew x marks spot yankee doodle dandy yank eton yank libya yank burma road yanks coming yokel boy can't escape forever never lovelier young america sap mr jap youth parade suspicion action north atlantic adventure iraq adventures rookie adventures smilin' jack adventures flying cadets aerial gunner midnight boston blackie air force air raid wardens alaska highway always bridesmaid amazing mrs holliday ape man appointment berlin arizona trail around world assignment brittany autobiography 'jeep' avenging rider baby puss tom jerry back front background danger bad men thunder gap bar 20 bataan batman battle britain battle russia behind rising sun best foot forward beyond last frontier black hills express black market rustlers black marketing black raven blazing frontier blazing guns blocked trail bombardier bomber's moon border buckaroos border patrol bordertown gun fighters boss rawhide boy stalingrad brazil war buckskin frontier bullets saddles cabin sky calaboose california joe calling dr death calling wild bill elliott campus rhythm canyon city captive wild woman carson city cyclone cattle stampede challenge democracy chance lifetime chatterbox chetniks fighting guerrillas cheyenne roundup china cinderella swings city without men clancy street boys claudia colt comrades combat america coney island constant nymph corregidor corvette k 225 cosmo jones crime smasher cowboy commandos cowboy manhattan cowboy clouds crash dive crazy house crime doctor crime doctor's strangest case cross lorraine cry havoc crystal ball daffy commando dancing masters danger women work dangerous blondes daredevils west days old cheyenne dead man's gulch dead men walk death rides plains death valley manhunt death valley rangers december 7th deerslayer desert song desperadoes destination tokyo destroyer devil riders dixie dixie dugan dizzy detectives dizzy pilots winslow coast guard doughboys ireland dr gillespie's criminal case dubarry lady edge darkness education death falcon co eds falcon danger falcon strikes back fallen sparrow falling hare false colors false faces family troubles fighting buckaroo fighting frontier fighting valley find blackmailer fired wife first comes courage five graves cairo flesh fantasy flight freedom follies girl follow band food fighters footlight glamour bell tolls forever day frankenstein meets wolf man frontier badmen frontier fury frontier law der fuehrer's face fugitive sonora fugitive plains gals incorporated gang's gangway tomorrow gem jam gentle gangster get going ghost guest ghost rider ghost ship ghosts loose gildersleeve's bad day gildersleeve broadway girl crazy girl monterrey girls chains g men vs black dragon good fellows good luck mr yates good morning judge gorilla man guadalcanal diary gung ho guy named joe hail rangers hangmen also die happy go lucky happy land hard way harrigan's kid harvest melody haunted ranch headin' god's country heat's heaven wait hired boss he's guy hello frisco hello henry aldrich gets glamour henry aldrich haunts house henry aldrich swings comes elmer comes kelly hold hi buddy hi diddle diddle higher kite high explosive butler's sister hit parade 1943 hit ice hitler's children hitler's madman hi'ya chum hi'ya sailor holy matrimony honeymoon lodge hoosier holiday hoppy serves writ hostages how's human comedy hardly wait dood escaped gestapo walked zombie idaho immortal sergeant old oklahoma iron major everybody happy isle forgotten sins ain't hay comes love itch time great life jack london jane eyre jitterbugs jive junction johnny come lately journey fear kansan keep 'em slugging keeper flame kid dynamite kid rides king cowboys klondike kate ladies' day lady bodyguard lady burlesque lady takes chance land hunted men larceny music lassie come home law northwest law saddle law rides leather burners leopard man let's face let's fun london blackout murders lone star trail lonesome mouse lost angel mad ghoul madame curie man man music mountain man rio grande man thunder river man courage mantrap margin error masked marvel meanest man world melody parade meshes afternoon mexican spitfire's blessed event minesweeper mission accomplished mission moscow mister big moon moonlight vermont merrier mountain rhythm mr lucky mr muggs steps murder times square murder waterfront friend flicka kingdom cook son hero mystery 13th guest mysterious doctor mystery broadcast nazty nuisance nearly eighteen negro colleges war time never dull moment new spirit night crime night plane chungking nobody's darling place lady time love north star northern pursuit old acquaintance darling clementine one dangerous night enemy japanese outlaw outlaws stampede pass overland mail robbery ox bow incident paris dark passport suez petticoat larceny phantom opera phantom phony express pigs polka pilot 5 pistol packin' mama porky pig's feat power press powers girl prairie chickens prelude war presenting lily mars princess o'rourke purple v raiders red gap raiders san joaquin raiders sunset pass redhead manhattan red hot riding hood renegade report aleutians return rangers return vampire reveille beverly revenge zombies rhythm islands riders deadline riders northwest mounted riders rio grande riding high robin hood range rookies burma saddles sagebrush sagebrush law sahara saint meets tiger salute marines salute three santa fe scouts sarong girl scrap happy daffy scream dark secret service darkest africa seventh victim shadow doubt shantytown takes sherlock holmes faces death sherlock holmes secret weapon sherlock holmes washington show business war silent witness silver city raiders silver skates silver spurs six gun gospel sky's limit sleepy lagoon slightly dangerous smart guy proudly hail someone remember something shout son dracula song bernadette song texas washington so's uncle spook louder spotlight scandals spy train stage door canteen star spangled rhythm stormy weather strange death adolf hitler stranger pecos stranger town submarine alert submarine base sufferin' cats suggestion box sultan's daughter super rabbit sweet rosie o'grady swing fever swing blues swing shift maisie swing partner tahiti honey tarzan's desert mystery tarzan triumphs taxi mister tender comrade tenting tonight old camp ground texas kid thank lucky stars there's something soldier came blow america got covered stooge conga army land mine thousands cheer three hearts julia three little twirps three russian girls thumbs thundering trails tiger fangs tonight raid calais people united states top man tornado trail terror troop train truck busters true life two fisted justice two senoritas chicago two tickets london two weeks live underdog unknown guest victory air power vigilantes ride wackiki wabbit wagon tracks west war wildcats wartime nutrition watch rhine west texas west side kid western cyclone we've never licked woman what's buzzin' cousin children whispering footsteps whistling brooklyn white savage killed wild horse rustlers wild horse stampede willoughby's magic hat wings pacific wintertime wolves range woman town women bondage yankee doodle daffy yankee doodle mouse yanks ahoy can't beat law john jones young willing young ideas youngest profession lucky fellow mr smith 3 men white 957th day abroad two yanks accent crime action arabia address unknown adventure music adventures mark twain alaska ali baba forty thieves allergic love american romance angels sing tomorrow andy hardy's blonde trouble parents arizona whirlwind army wives arsenic old lace atlantic city attack battle new britain babes swing street barbary coast gent barber seville bathing beauty battle china beautiful broke belle yukon beneath western skies bermuda mystery two worlds big bonanza big noise black arrow black magic black parachute block busters blonde fever bluebeard bodyguard bordertown trail boss boomtown bowery champs bowery broadway brand devil brazil bride mistake bridge san luis rey broadway rhythm buffalo bill bugs bunny three bears bugs bunny nips nips busy buddies call jungle call rockies call south seas can't help singing canterville ghost captain america career girl carolina blues casanova brown casanova burlesque cattle call charlie chan chinese cat charlie chan secret service cheyenne wildcat chip old block christmas holiday climax cobra woman code prairie conspirators contender cover girl cowboy senorita cowboy canteen cowboy lonesome river crash goes hash crazy knights crime night cry werewolf curse cat people cyclone prairie rangers dancing manhattan dancing romeo dangerous passage dark mountain dark waters days glory dead man's eyes dead alive delinquent daughters destiny detective kitty o'day dixie jamboree double exposure double indemnity doughgirls dragon seed drifter end road enemy women enter arsène lupin eve st mark ever since venus experiment perilous faces fog falcon hollywood falcon mexico falcon west farewell lovely fig leaf eve fighting lady fighting seabees fighting sullivans firebrands arizona five chosen follow boys follow leader forty thieves four jills jeep frenchman's creek frontier outlaws fuzzy settles gambler's choice gangsters frontier gaslight gentle annie gents without cents ghost catchers ghost guns ghost walks alone gildersleeve's ghost girl case girl rush girl dared goin' town going way goodnight sweetheart government girl great alaskan mystery great mike great moment greenwich village guest house guns law gunsmoke mesa gypsy wildcat hail conquering hero hairy ape hands across border hare force harmony trail hat check honey haunted harbor heavenly body heavenly days hell bent election henry aldrich boy scout henry aldrich plays cupid henry aldrich's little secret primitive man come waves hey rookie hi beautiful hi good lookin' hidden valley outlaws higher higher hitler gang hollywood canteen home indiana hot rhythm hour dawn house frankenstein play golf hymn nations accuse parents love soldier play idle roomers i'll seeing i'm arkansas impatient years impostor meantime darling time society invisible man's revenge irish eyes smiling happened tomorrow jam session jamboree jammin' blues janie johnny live anymore jungle woman kansas city kitty keys kingdom kismet knickerbocker holiday ladies courageous ladies washington lady monster lady dark lady death house lady let's dance lake placid serenade land outlaws laramie trail last horseman last ride laura law men law valley leave irish lifeboat lights old santa fe little red riding rabbit lodger lost harem louisiana hayride lumberjack machine gun mama mademoiselle fifi maisie goes reno make bed man frisco marine raiders mark whistler marked trails marriage private affair marshal gunsmoke marshal reno mask dimitrios master race meet st louis meet miss bobby socks meet people memphis belle story flying fortress men mind merry monahans million dollar cat million dollar kid ministry fear minstrel man miracle morgan's creek missing juror mojave firebrand monster maker moon las vegas moonlight cactus mouse trouble mr skeffington mr winkle goes war mrs parkington mummy's curse mummy's ghost murder blue room murder sweet music millions music manhattan best gal buddy gal loves music pal wolf mystery man mystery river boat nabonga national barn dance national velvet navy way negro soldier nevada nine girls night adventure dough boys none lonely heart none shall escape nothing trouble oath vengeance oh night oklahoma raiders old grey hare old texas trail upon time one body many one mysterious night hearts young gay outlaw roundup outlaw trail outlaws santa fe pardon rhythm partners trail passage marseille passport destiny pearl death phantom lady pin girl pinto bandit port 40 thieves practically price rendova pride plains princess pirate purple heart puttin' dog racket man raiders ghost city raiders border rainbow island range law rationing reckless age return ape man return vampire return guam riders santa fe riding west roger touhy gangster rogues' gallery rosie riveter russian rhapsody saddle leather law sailor's holiday san antonio kid san diego love san fernando valley scarlet claw secret command secrets scotland yard see private hargrove sensations 1945 sergeant mike seven days ashore seven doors death seventh cross shadow suspicion shadows night shake hands murder soldier sweetheart sheriff las vegas sheriff sundown shine harvest moon show business signed judgment silent partner silver city kid since went away sing jingle sing neighbor sing singing sheriff slightly terrific something boys song nevada song open road song russia song range sonora stagecoach soul monster south dixie spider woman spook town stage door cartoon stagecoach monterey standing room stars parade step lively storm lisbon story dr wassell strange affair strange confession strangers night summer storm sunday dinner soldier sundown valley suspect sweet low sweethearts u swing hostess swing saddle swingtime johnny tahiti nights take big take leave tall saddle tampico target today texas masquerade that's baby live fear thirty seconds tokyo life thoroughbreds three caballeros three family three little sisters three kind thundering gun slingers tick tock tuckered tiger woman till meet timber queen together tomorrow world town went wild trail gunsight trigger law trigger trail trocadero tucson raiders tunisian victory twilight prairie two girls sailor two man submarine u boat prisoner uninvited uncertain glory unwritten code arms mabel's room utah kid valley vengeance thought vigilantes dodge city voice wind voodoo man waterfront wave wac marine week end pass weird woman west rio grande westward bound man makes battle what's cookin' doc strangers marry lights go whispering skull whistler white cliffs dover wild horse phantom wilson wing prayer winged victory marines tarawa woman window wyoming hurricane yellow rose texas yoke's can't ration love youth runs wild zoot cat zorro's black whip 6th marine division okinawa abbott costello hollywood adventure adventures kitty o'day adventures rusty affairs susan allotment wives along came jones along navajo trail angel comes brooklyn anchors aweigh none apology murder appointment tokyo arson squad back bataan bad men border bandits badlands battle san pietro bedside manner behind city lights bell adano bells rosarita bells st mary's betrayal east two women bewitched beyond pecos big show black market babies blazing western trail blonde brooklyn blonde ransom blood sun body snatcher booby dupes border badmen boston blackie booked suspicion boston blackie's rendezvous barrels blazing brenda starr reporter brewster's millions brighton strangler bring girls bullfighters captain eddie captain köpenick captain kidd captain tugboat annie caribbean mystery cheaters cherokee flash chicago kid china sky china's little devils christmas connecticut circumstantial evidence cisco kid returns clock club havana code lawless colorado pioneers come fighting confidential agent conflict corn green cornered corpus christi bandits counter attack crime doctor's courage crime doctor's warning crime inc crimson canary dakota daltons ride dangerous intruder dangerous partners danger signal death mills delightfully dangerous detour diamond horseshoe dick tracy dillinger divorce docks new york doll face dolly sisters juan quilligan fence draftee daffy duffy's tavern eadie lady earl carroll vanities easy look enchanted cottage enchanted forest enemy law escape desert escape fog eve knew apples falcon san francisco fallen angel fashion model fatal witness federal operator 99 fighting bill carson first yank tokyo flame barbary coast flame west flaming bullets flirty birdy fog island follow woman forever friendly ghost frisco sal frontier feud frontier fugitives frontier gal frozen ghost fury pacific game death gangs waterfront gangster's den gay senorita g honeymoon george white's scandals getting gertie's garter girl gal pal girl limberlost girls big house god co pilot great flamarion great john l great stagecoach robbery grissly's millions guest wife gun smoke guy gal pal hangover square hare tonic hare trigger wonderful crime come co eds germany highness bellboy lucky night herr meets hare hidden eye high powered brother's ghost hit hay hitchhike happiness hockey homicide hold blonde hollywood vine honeymoon ahead horn blows midnight hotel berlin house live house dracula house 92nd street dooo love bandleader love mystery identity unknown idiots deluxe body meets body i'll remember april i'll tell world old new mexico incendiary blonde intelligence japanese civilian isle dead happened harlem pleasure bag jade mask jealousy johnny angel jungle captive jungle queen jungle raiders junior miss keep powder dry kid sister kiss tell kitty know enemy japan lady confesses lady train last bomb lawless empire leave heaven leave blondie let's go steady life blondie life feathers lightning raiders lone texas ranger lonesome trail lost trail lost weekend love honor goodbye love letters main street dark mama loves papa man alive man half moon street man oklahoma manhunt mystery island man walked alone marked murder marshal laredo masquerade mexico master key medal benny men diary mexicana micro phonies midnight manhunt mildred pierce missing corpse molly mom dad mouse comes dinner mr mrs america mr muggs rides murder says japan name julia ross navajo kid navajo trail naughty nineties nazi plan night club girl nob hill northwest trail objective burma okinawa bulletins stage everybody oregon trail job japan vines tender grapes depths world outlaws rockies 21 pan americana pardon past paris underground patrick great penthouse rhythm phantom 42nd street phantom plains phantom speaks picture dorian gray pillow death pillow post power whistler prairie rustlers pride marines prison ship purple monster strikes pursuit algiers quiet please radio stars parade remember faces renegades rio grand return durango kid rhapsody blue rhythm round riders dawn river gang road alcatraz rockin' rockies rough riders cheyenne rough ridin' justice roughly speaking rough tough ready royal scandal royal mounted rides rustlers' hideout rustlers badlands saddle serenade sagebrush heroes salome danced saga franklin sailor takes wife salty o'rourke san antonio santa fe saddlemates saratoga trunk scared stiff scarlet street scarlet clue scotland yard investigator secret agent x 9 secrets sorority girl see lawyer senorita west sensation hunters shadows death shadow terror shady lady shanghai cobra sheriff cimarron sherlock holmes house fear gets man went races say yes sing song texas sing way home snafu son lassie song miss julie song mexico song old wyoming song prairie song sarong song remember south rio grande southerner spanish main spellbound spider sporting chance springtime texas stagecoach outlaws state fair steppin' society stilwell road stork club story g joe story 14th air force strange affair uncle harry strange confession strange holiday strange illusion strange mr gregory stranger santa fe sudan sunbonnet sue sunset el dorado swingin' rainbow swing sister swing shift cinderella tale two mice target invisible tarzan amazons tee two tell star ten cents dance texas panhandle night that's spirit goes kelly expendable thin man goes home love man's navy endearing young charms thousand one nights three caballeros three saddle three pests mess three's crowd thrill romance thunderhead son flicka tiger woman shores iwo jima tonight every night young know topaz topeka terror town trail kit carson trail vengeance tree grows brooklyn trouble chasers true glory twice blessed two o'clock courage western skies unseen utah valley decision vampire's ghost voice whistler wagon wheels westward walk sun wanderer wasteland war comes america week end waldorf west pecos blonde next corporal hargrove go white pongo who's guilty girls leave home wildfire wings man within walls without love woman green woman came back wonder man yolanda thief came along job germany youth trial ziegfeld follies zombies broadway abie's irish rose abilene town accomplice affairs geraldine alias billy kid alias mr twilight ambush trail angel shoulder anna king siam avalanche baby bottleneck bachelor's daughters bad bascomb badman's territory bamboo blonde bandit sherwood forest baseball bugs beast five fingers beauty bandit beer barrel polecats bedlam behind green lights behind mask deadline best years lives betty co ed beware big sleep bird head black angel black beauty blonde alibi blonde day blondie knows best blondie's lucky day blue dahlia blue skies book revue border bandits boston blackie law bowery bombshell boy girl dog boys' ranch breakfast hollywood bride wore boots bringing father brute man bunker hill bunny california gold rush canyon passage caravan trail cat concerto cat creeps catman paris centennial summer chase chick carter detective child divorce cinderella jones claudia david cloak dagger close call boston blackie cluny brown cockeyed miracle colonel effingham's raid colorado serenade conquest cheyenne courage lassie cowboy blues crack crime doctor's man hunt crime century criminal court crimson ghost cross heart cuban pete danger woman dangerous business dangerous millions dangerous money danny boy dark alibi dark corner dark horse dark mirror daughter q days buffalo bill deadline dawn deadline murder death valley deception decoy desert horseman devil bat's daughter devil's mask devil's playground devotion diary chambermaid dick tracy vs cueball ding dong williams gamble strangers love ricardo returns missouri way dragonwyck dressed kill drifting along driftin' river duel sun earl carroll sketchbook easy wed el paso kid fabulous suzanne face marble faithful fashion falcon's adventure falcon's alibi fear fighting frontiersman fighting guardsman flight nowhere flying serpent freddie steps french key day forward frontier gunlaw g wanna home g war brides gallant bess gallant journey galloping thunder gas house kids gay blades gay cavalier genius work gentleman texas gentleman joe palooka gentleman misbehaves gentlemen guns ghost hidden valley gilda ginger girl spot glass alibi god's country great morgan green years gun town gunman's code gunning vengeance guy could change hair raising hare hare remover haunted mine harvey girls heading west heartbeat heldorado adventurous night kind man sister's secret high school hero holiday mexico home oklahoma home range home sweet homicide hoodlum saint hop harrigan hot cargo house horrors humoresque ring doorbells idea girl i'm lucky fast company old sacramento inner circle inside job invisible informer great young wonderful life happen dog i've always loved james brothers missouri janie gets married joe palooka champ johnny comes flying home jolson story junior prom dawn kid brooklyn killers king forest rangers kitty kornered lady chaser lady luck landrush larceny heart last crooked mile lawless breed letter evie little giant little iodine little miss big little mister jim live wires locket lone star moonlight lost city jungle love laughs andy hardy lover come back madonna's secret magnificent doll magnificent rogue make mine music man rainbow valley man dared margie mask diijon meet broadway milky waif missing lady miss susie slagle's monkey businessmen monsieur beaucaire moon montana mr ace mr hex murder music hall murder business darling clementine dog shep pal trigger reputation mysterious intruder mysterious mr mysterious mr valentine never say goodbye night day night editor night casablanca night paradise night train memphis nobody lives forever nocturne leave love notorious notorious lone wolf human bondage one exciting week one tomorrow one way love hearts growing california way outlaws plains overland riders partners time passkey danger people funny perilous holiday personality kid phantom rider phantom thief plainsman lady postman always rings twice prairie badmen quentin quail queen burlesque racketeer rabbit rainbow texas razor's edge red dragon red river renegades rendezvous annie rendezvous 24 renegade girl renegades return monte cristo return rusty rhapsody rabbit rhythm weep rio grande raiders riverboat rhythm road utopia roaring rangers roll texas moon rolling home romance west' runaround rustler's round san quentin santa fe uprising scandal paris scarlet horseman searching wind secret heart secret whistler sentimental journey shadow woman shadowed shadow returns shadows range shadows chinatown wolf london wrote book sheriff redwood valley shock show silver range sing dance singing trail singin' corn sioux city sue sister kenny six gun man slightly scandalous smoky smooth silk dark night goes love solid serenade somewhere night song arizona song sierras song south south monterey special delivery specter rose spider woman strikes back spook busters spiral staircase springtime thomas stagecoach denver stars texas step step stolen life strange conquest strange impersonation strange journey strange love martha ivers strange voyage stranger strange triangle strange woman strangler swamp sun valley cyclone sunset pass susie steps suspense swamp fire sweetheart sigma chi swell guy swing cowboy swing swing parade 1946 tale two cities talk lady tangier tars spars tarzan leopard woman temptation terror night terror trail terrors horseback brennan girl justice done texas jamboree made killer three little girls blue three little pirates three loan wolves three strangers three troubledoers three wise fools thrill brazil throw saddle star thunder town till clouds roll till end time time lives time place girl tokyo rose tomorrow forever traffic crime trail mexico trap trap happy trigger fingers truth murder tumbleweed trail two fisted stranger two guys milwaukee two sisters boston two smart people two years mast arizona skies nevada skies undercurrent uncivil war birds undercover woman unknown goes maisie vacation reno valley zombies verdict virginian wake dream walky talky hawky walls came tumbling well groomed bride west alamo whistle stop white tie tails wife monte cristo wife wanted wild beauty wild west winter wonderland without reservations yearling young widow 13 rue madeleine adventure island adventures coyote along oregon trail always together angel badman apache rose arnelo affair bachelor bobby soxer backlash bandits dark canyon banjo beat band beginning end bells san angelo bells san fernando big fix big town big town dark bishop's wife black gold black hills black widow blackmail blaze noon blind spot blonde savage blondie's anniversary blondie's big moment blondie's holiday blondie dough body soul boomerang border feud born kill born speed bowery buckaroos brasher doubloon brick bradford brute force buck privates come home buckaroo powder river buffalo bill rides bulldog drummond bay bulldog drummond strikes back burning cross bury dead bush pilot calcutta calendar girl california captain castile carnegie hall carnival costa rica cass timberlane cat fishin' cheyenne cheyenne takes chinese ring christmas eve cigarrette girl code saddle code west copacabana corpse came c crime doctor's gamble crimson key crossfire cry wolf curley cynthia daisy kenyon danger street dangerous venture dangerous years dark delusion dark passage dead reckoning dear ruth deep valley desert fury desire desperate devil ship devil thumbs ride devil wheels dick tracy meets gruesome dick tracy's dilemma dishonored lady sucker double life earth dr jekyll mr mouse dragnet dreams money buy driftwood easter yeggs easy come easy go egg escape never exile exposed fabulous dorseys fabulous joe fabulous texan fall guy farmer's daughter fear night fiesta fighting vigilantes fireworks flame flashing guns fool's gold love rusty forever amber die foxes harrow framed fugitive fun fancy free fun weekend gangster gas house kids go west gas house kids hollywood gentleman's agreement ghost mrs muir ghost goes wild ghost town renegades golden earrings good news green dolphin street guilt janet ames guilty gunfighters gun talk half wits holiday hard boiled mahoney heading heaven heartaches heaven knows husband's affairs hi de ho high barbaree high conquest high tide high wall hit parade 1947 hold lion hollywood barn dance homesteaders paradise valley homestretch honeymoon hoppy's holiday hucksters cover big town winter comes i'll imperfect lady intrigue invisible mouse invisible wall happened brooklyn happened 5th avenue joke son ivy wonder who's kissing jesse james rides jewels brandenburg jiggs maggie society joe palooka knockout johnny o'clock jungle flight keeper bees key witness killer large killer dill killer mccoy kilroy king size canary kiss death king bandits king wild horses ladies' man lady shanghai lady lake land lawless last days boot hill last frontier uprising last redskins last round late george apley law comes gunsight law canyon law lash life father lighthouse likely story linda good little miss broadway living big way louisiana lone hand texan lone wolf london' lone wolf mexico long night lost honeymoon lost moment love learn love stranger lured macomber affair magic town man love marauders marshal cripple creek merton movies michigan kid mighty mcgurk millerson case millie's daughter miracle 34th street monsieur verdoux moss rose mother wore tights motion painting 1 mourning becomes electra mouse house mr district attorney brother talks horses favorite brunette wild irish rose new orleans news hounds nightmare alley nora prentiss northwest outpost old spanish trail oregon trail scouts love blue past santa fe trail paradine case part time pal perfect marriage perils pauline pest house philo vance's gamble philo vance returns philo vance's secret mission pilgrim lady pioneer justice pirates monterey possessed prairie prairie express prairie raiders pretender private affairs bel ami pursued queen amazons raiders south railroaded rainbow rockies ramrod range beyond blue red house red stallion repeat performance return lash return rin tin tin ride pink horse riders lone star ridin' trail riding california trail riffraff road big house road rio robin hood monterey robin hood texas romance rosy ridge roses red rose santa rosa rustlers devil's canyon saddle pals salt water tabby sarge goes college scared death scent imental sea grass second chance secret life walter mitty senator indiscreet seven keys baldpate seven saved shadow valley shocking miss pilgrim shoot kill sin harold diddlebock sinbad sailor sing song six pants singapore six gun serenade slave girl slick hare smash story woman smoky river serenade something wind son rusty son zorro song love song scheherazade song wasteland song thin man south chisholm trail spirit west point spoilers north sport kings springtime sierras stage mesa city stallion road stepchild stork bites man stranger ponca city suddenly spring sweet genevieve swing western way tarzan huntress men hagen girl that's gal that's man way women believe thirteenth hour time keeps three ticket thunderbolt thunder valley thunder mountain time mind many winners trail mounties trail street trail san antone trailing danger trespasser trouble women tubby tuba tweetie pie twilight rio grande two blondes redhead two mrs carrolls tycoon unconquered colorado skies tonto rim undercover maisie unexpected guest unfaithful unfinished dance unsuspected untamed fury vacation days valley fear variety girl velvet touch vigilante vigilantes boomtown vigilantes return violence voice turtle web web danger welcome stranger west dodge city west glory girl's beautiful there's life whispering city wild country wild frontier wild harvest wild horse mesa wistful widow wagon gap woman beach wyoming yankee fakir 3 godfathers 13 lead soldiers lad lamp abbott costello meet frankenstein act murder act violence adventures silverado adventures juan adventures frank jesse james adventures gallant bess albuquerque alias gentleman sons amazing mr x angel exile angel amazon angels' alley another part forest apartment peggy appointment murder april showers arch triumph argyle secrets arizona ranger arkansas swing arthur takes assigned danger b f 's daughter babe ruth story back trail behind locked doors belle starr's daughter berlin express best man wins beyond glory big city big clock big punch big town scandal bill coo black arrow black bart black eagle blazing across pecos blonde ice blondie's reward blondie's secret blood moon bob sally bodyguard bold frontiersman borrowed trouble boy green hair bride goes wild brideless groom buccaneer bunny bugs bunny rides bungalow 13 caged fury california firebrand call northside 777 campus honeymoon campus sleuth canon city carson city raiders casbah challenge checkered coat check guns chicken tomorrow close cobra strikes command decision congo bill coroner creek counterfeiters countess monte cristo courtin' trouble cowboy cavalier creeper crossed trails cry city dangers canadian mounted daredevils clouds dark past date judy dead dream dead man's gold deadline decision christopher blake deep waters denver kid desperadoes dodge city devil's cargo disaster docks new orleans dream girl dude goes west easter parade el dorado pass embraceable emperor waltz enchanted valley enchantment escape every girl married eyes texas false paradise far frontier feather hare feathered serpent feudin' fussin' fightin' fiddlers three fighter squadron fighting back fighting father dunne fighting mustang fighting ranger force evil foreign affair love mary fort apache four faces west french leave frontier agent frontier revenge fuller brush man fury furnace creek gallant blade gallant legion gay intruders gay ranchero g men never forget gentleman nowhere girl manhattan give regards broadway glamour girl golden eye good sam gorilla dreams grand canyon trail green grass wyoming green promise gunning justice guns hate gun smugglers half past midnight haredevil hare harpoon hatch troubles hawk powder river hazard heart virginia comes trouble walked night hidden danger highway 13 hills home hollow triumph homecoming homicide three hop look listen hot cross bunny hunted jane doe love trouble remember mama surrender dear taw putty tat walk alone shoes knew susie corner indian agent inner sanctum innocent affair inside story iron curtain romantic jiggs maggie court jinx money joan arc joe palooka fighting mad joe palooka winner take johnny appleseed johnny belinda julia misbehaves june bride jungle goddess jungle jim jungle patrol key largo kidnapped king gamblers kiss blood hands kissing bandit kitty foiled ladies chorus lady midnight larceny last wild horses leather gloves let's live let's live little letter unknown woman lightnin' forest little orphan loaded pistols louisiana story loves carmen luck irish lulu belle luxury liner macbeth madonna desert main street kid man colorado man texas man eater kumaon mark lash marshal amarillo mary lou mating millie melody time mexican hayride michael o'halloran mickey million dollar weekend miracle harlem miracle bells miraculous journey miss tatlock's millions money madness moonrise mouse cleaning music man mr blandings builds dream house mr peabody mermaid mr reckless bunny lies sea dear secretary dog rusty girl tisa mystery mexico naked city night thousand eyes night song night time nevada night wind minor vices noose hangs high northwest stampede oklahoma badlands oklahoma blues old los angeles old rockin' chair tom island one sunday afternoon one touch venus merry way open secret storm outlaw brand overland trails paleface panhandle parole inc partners sunset perilous waters phantom valley pirate pitfall plunderers polka dot puss port said portrait jennie prince thieves professor tom quick trigger race street rachel stranger racing luck range renegades rangers ride raw deal red river relentless renegades sonora return bad men return october return whistler return wildfire river lady road house rocky rogues' regiment romance high seas rope rusty leads way ruthless saigon sainted sisters saxon charm scaredy cat scudda hoo scudda hay sealed verdict search secret beyond door secret service investigator shaggy shanghai chest shed tears shep comes home sheriff medicine bow sign ram silent conflict silver river silver trails singin' spurs sinister journey sitting pretty six gun law sixteen fathoms deep sleep love slippy mcgee smart girls talk smart politics smart woman smoky mountain melody smugglers' cove snake pit evil love new york sofia son god's country song born song drifter song idaho song heart sons adventure sorry wrong number southern yankee speed spare stage struck state union station west strange gamble strange mrs crane strawberry roan street corner street name strike rich summer holiday sundown santa fe sunset carson rides superman sword avenger swordsman tap roots tarzan mermaids tender years tenth avenue angel test tube babies texas brooklyn heaven tex granger lady ermine wonderful urge live night three daring daughters three musketeers thunder pines thunderhoof tioga kid timber trail time life ends earth victor tornado range trail laredo train alcatraz trapped boston blackie treasure sierra madre triggerman triple threat trouble makers truce hurts trouble preferred two guys texas california stars unfaithfully unknown island untamed breed central park valiant hombre velvet touch vicious circle wake red witch walk crooked mile wallflower walls jericho waterfront midnight west sonora western heritage westward trail baby smiles whiplash whirlwind raiders whispering smith killed doc robbin winner's circle winter meeting woman's vengeance woman tangier woman white women night words music wreck hesperus yellow sky gotta stay happy meant abandoned abbott costello meet killer boris karloff accused across rio grande act violence adam's rib adventure baltimore adventures ichabod mr toad adventures sir galahad africa screams air hostess alias champ alias nick beal king's men always leave laughing baby makes three angels disguise anna lucasta number play arctic manhunt arson inc awful orphan bad boy bad men tombstone bagdad bandit king texas bandits el dorado barbary pirate barkleys broadway batman robin battleground beautiful blonde bashful bend beyond forest big cat big jack big sombrero big steal big wheel black magic black midnight blazing trail blondie's big deal blondie hits jackpot bodyhold bomba jungle boy bomba panther island border incident boston blackie's chinese venture brand fear bribe bride sale bride vengeance brimstone brothers saddle bruce gentry calamity jane sam bass canadian pacific cat mermouse caught challenge range challenge lassie champion chicago deadline chicken every sunday chinatown midnight city across river clay pigeon c man colorado territory come stable connecticut yankee king arthur's court cover cowboy indians crime doctor's diary criss cross crooked way dancing dark dangerous profession daring caballero dating do's don'ts daughter jungle daughter west dear wife death valley gunfighter desert vigilante devil's henchman doctor girl doolins oklahoma dakota way sea ships duke chicago dunked deep dynamite east side west side easy living edward son el paso everybody family honeymoon fan father fullback federal agents vs underworld inc feudin' rhythm fighting fools fighting kentuckian fighting man plains fighting o'flynn flame youth flaming fury flamingo road flaxy martin follow quietly forbidden street scent imental reasons forgotten women fountainhead free frigid hare frontier investigator gal took west gay amigo ghost zorro girl jones beach golden stallion great dan patch great gatsby great lover great sinner gun law justice gun runner hasty heart heiress hellfire hideout high diving hare hold baby holiday affair holiday havana home san antone home brave homicide horsemen sierras house across street house strangers cheated law married communist shot jesse james male war bride illegal entry impact incident good old summertime inspector general intruder dust happens every spring great feeling jerry's diary jiggs maggie jackpot jitters jigsaw joe palooka big fight joe palooka counterpunch john loves mary johnny allegro johnny holiday johnny stool pigeon jolson sings judge steps kazan kid cleveland king rocket men kiss corliss kiss dark knock door lady gambles lady takes sailor laramie last bandit law barbary coast law golden west law west lawless code letter three wives life riley little women lone wolf lady long haired hare look silver lining lost boundaries lost tribe love happy love pup lucky stiff lust gold pa kettle madame bovary make believe ballroom make mine laughs malaya malice palace man eiffel tower manhandled manhattan angel mary ryan detective masked raiders master minds mighty joe young miss grant takes richmond mississippi hare miss mink 1949 mother freshman mr belvedere goes college mr soft touch mrs mike mutineers dream foolish heart friend irma true love mysterious desperado navajo trail raiders neptune's daughter never fear night unto night oh beautiful doll darling one last fling town outcasts trail outpost morocco pinky pioneer marshal pirates capri porky wackyland post office investigator port new york powder river rustlers prince foxes prince plains prison warden rabbit hood radar patrol vs spy king range justice ranger cherokee strip rebel rabbit reckless moment red canyon red danube red hot blue red light red menace red pony red stallion rockies reign terror renegades sage riders sky riders range riders whistling pines rimfire rim canyon ringside roaring westward rope sand roseanna mccoy rose yukon roughshod rustlers rusty's birthday rusty saves life samson delilah san antone ambush sand sands iwo jima satan's cradle scene crime search danger secret garden secret st ives set shoulda said 'no' wore yellow ribbon sheriff wichita shockproof siren atlantis sky dragon slattery's hurricane slightly french dear heart song india song surrender sons new mexico sorrowful jones south death valley south rio south st louis special agent square dance jubilee stagecoach kid stampede state department file 649 strange bargain stratton story streets laredo streets san francisco story molly x story seabiscuit sun comes susanna pass sword desert take ball game take one false step tarzan's magic fountain task force technicolor industrial films tell judge tennis chumps tension forsyte woman midnight kiss live night thieves' highway threat top o' morning tokyo joe late tears tough assignment trail yukon trails end trapped treasure monte cristo tucson film tulsa tuna clipper twelve o'clock high undercover man undertow walking hills strangers west el dorado western renegades witch whirlpool white heat wicked city window without honor wolf hunters woman's secret wyoming bandit yes sir that's baby younger brothers everything 8 ball bunny 711 ocean drive abbott costello foreign legion across badlands admiral lady eve ambush american guerrilla philippines annie get gun arizona cowboy arizona territory armored car robbery asphalt jungle war army atom man vs superman avengers backfire bandit queen baron arizona barricade beauty parade belle old mexico bells coronado midnight dawn beware blondie beyond purple hills big hangover big house bunny big lift black hand black jack black rose blazing sun blonde bandit blonde dynamite blondie's hero blue grass kentucky blues busters boobs woods border outlaws borderline border rangers border treasure born bad born yesterday boy indiana branded brave engineer breaking point breakthrough bright leaf broken arrow buccaneer's girl bunco squad bushy hare caged california passage call klondike canary row captain carey u captain china captive girl capture cargo capetown cariboo trail chain gang chain lightning champagne caesar cheaper dozen cherokee uprising cinderella code silver sage cody pony express colorado ranger colt 45 comanche territory convicted copper canyon counterspy meets scotland yard county fair covered wagon raid cow town crime korea crisis crooked river cry murder cue ball cat curtain call cactus creek customs agent cyrano de bergerac dakota lil dallas daltons' women damned cry dark city date family daughter rosie o'grady david harding counterspy davy crockett indian scout deported desert hawk desperadoes west destination big house destination moon destination murder devil's doorway dial 1119 dopey dicks duchess idaho double deal ducksters du pont story dynamite pass eagle hawk edge doom emergency wedding everybody's dancin' experiment alcatraz fancy pants fast draw father bachelor father bride father makes good father's wild game federal agent large federal man fence riders fighting stallion file thelma jordon fireball flame arrow flying disc man mars flying missile flying saucer heaven's sake forbidden jungle fortunes captain blood fractured leghorn framed cat francis frenchie frisco tornado frontier outpost fuller brush girl furies girl san lorenzo girls' school glass menagerie goldbergs golden gloves story golden yeggs good humor man grandad races great jewel robber great plane robbery great rupert guilty bystander guilty treason gun crazy gunfighter gunfire gunman streets gunmen abilene gunslingers happy years harbor missing men harriet craig harvey he's cockeyed wonder hi jacked hidden city high lonesome highway 301 hillbilly hare hills oklahoma hit parade 1951 hoedown holiday rhythm hollywood ten hollywood varieties homeless hare hostile country hot rod house river hugs mugs hurdy gurdy hare killed geronimo shot billy kid shoplifter i'll get beaver valley lonely place indian territory invisible monster iroquois trail small world jackie robinson story jackpot jerry lion jerry's cousin jiggs maggie west joe palooka humphrey takes chance joe palooka squared circle joe palooka meets humphrey johnny one eye julius caesar kangaroo kid kansas raiders key city kid texas kill killed kill umpire killer shark killer stalked new york kim king bullwhip king solomon's mines kiss tomorrow goodbye lady without passport last buccaneers law badlands law panhandle lawless let's dance life lightning guns little quacker lonely heart bandits lost volcano louisa love first bite love happy love brute lucky losers pa kettle go town magnificent yankee man cheated mark gorilla marshal heldorado men military academy tenth avenue gang milkman miniver story missourians mister 880 modern marriage montana mother tell motor mania motor patrol mr music mrs o'malley mr malone mudlark mule train mutiny bunny blue heaven friend irma goes west mystery street mystery submarine nancy goes rio nevadan never dull moment next voice hear night city man north great divide sad songs way old frontier isle samoa thief one many aka killer label one way street operation haylift outcast black mesa outlaw gold outlaws texas outrage outriders outside wall border paid full pagan love song palomino panic streets peggy perfect strangers petty girl pirates high seas please believe pop 'im pop prehistoric women pretty baby prisoners petticoats punchy cowpunchers puny express pygmy island quicksand rabbit seville rabbit's moon radar secret service raiders tomahawk creek redwood forest trail reformer redhead return frontiersman return jesse james revenue agent rider tucson riding high right cross rio grande rio grande patrol rocketship x rock island trail rocky mountain rogues sherwood forest rookie fireman rustlers horseback saddle tramp safety second salt lake raiders sarumba saturday evening puss savage horde scarlet pumpernickel second chance second face second woman secret fury self made maids september affair shadow wall shakedown short grass showdown side street sideshow sierra passage sierra silver raiders singing guns six gun mesa skipper surprised wife slaphappy sleuths sleeping city snitch time snow dog young bad sound fury south sea sinner southside 1 1000 spy hunt square dance katy stage tucson stairs stars crown state penitentiary stella storm wyoming streets ghost town strife father studio stoops sugar chile robinson summer stock sunset boulevard sunset west sun sets dawn sundowners surrender swiss tour tarnished tarzan slave girl tattooed stranger tea two tension texan meets calamity jane texas dynamo texas tom side law three came home three hams rye three little words three secrets ticket tomahawk timber fury titan story michelangelo please lady toast new orleans tom jerry hollywood bowl torch tougher come trail robin hood trail rustlers train tombstone traveling saleswoman treasure island trial without jury trigger jr triple crossed triple trouble tripoli twilight sierras two flags west two weeks love tyrant sea mexicali stars skin undercover girl underworld story union station unmasked vanishing westerner vendetta vigilante hideout wabash avenue wagon master walk softly stranger watch birdie west brazos west wyoming west point story western pacific agent what's doc willie comes marching home smiling danger lives sidewalk ends white tower korea wild heart winchester '73 hands wizard oz tv special woman distinction woman hiding woman run women headquarters wyoming mail yellow cab man young daniel boone young man horn 13th letter abbott costello meet invisible man abilene trail according mrs hoyle ace hole across wide missouri adventures captain fabian african queen air cadet al jennings oklahoma alice wonderland along great divide american paris angels outfield anne indies another man's poison apache drums appointment danger arizona manhunt young feel baby sitters jitters badman's gold ballot box bunny bannerline barefoot mailman basketball fix bear punishment bedtime bonzo behave belle le grand best badmen best yet come big gusher big lie big night big top bunny bird paradise blazing bullets blue blood blue veil bonanza town bone bone bowery battalion brave bulls bride gorilla bright victory buckaroo sheriff texas bullfighter lady bunny hugged callaway went thataway call mister canyon raiders captain horatio hornblower r n captain video master stratosphere casa manana casanova cat cat napping cattle drive cattle queen cause alarm cavalry scout cave outlaws chain circumstance chained life cheese chasers chicago calling china corsair chow hound close heart colorado ambush come fill cup comin' round mountain company keeps corky gasoline alley crazy horses criminal lawyer crosswinds cruise cat cry danger cuban fireball cyclone fury dakota kid danger zone darling could david bathsheba day fight day earth stood still dear brat death salesman decision dawn desert fox desert lost men destination meatball detective story dick turpin's ride disc jockey distant drums daredevil rides throw knife double crossbones double dynamite drip along daffy drums deep south duck cover elephant stampede elopement enforcer excuse dust fbi girl family secret father's little dividend father takes air fat man fighting coast guard fighting seventh fingerprints lie first legion five fixed bayonets flame araby flame stamboul flight mars flying cat flying leathernecks flying padre follow sun footlight varieties force arms fort defiance fort dodge stampede fort savage raiders fort worth fourteen hours francis goes races french rarebit frogmen fury congo gambling house gasoline alley gene autry mounties gerald mcboing boing ghost chasers g jane girl bridge go broke gold raiders golden girl golden horde goodbye fancy government agents vs phantom legion great caruso great missouri raid groom wore spurs grounds marriage gunplay guy came back half angel halls montezuma hard fast beautiful harlem globetrotters havana rose ran way heart rockies first romance comes groom highwayman hills utah kind woman mouse friday hollywood story home town story honeychile hong kong hoodlum hot lead house telegraph hill hula la la hunt man hurricane island get wholesale i'd climb highest mountain want american spy communist fbi i'll get i'll never forget i'll see dreams old amarillo inside straight inside walls folsom prison insurance investigator iron man big country jerry jumbo jerry goldfish jim thorpe american joe palooka triple cross journey light jungle manhunt ducky katie kentucky jubilee kid amarillo kind lady korea patrol lady boston lady texas lady pays lambert sheepish lion law badlands law lady lawless cowboys last outpost leave marines lemon drop kid let's go navy let's make legal light touch lightning strikes twice lion hunters little big horn little egypt longhorn lorna doone lost continent love nest lullaby broadway pa kettle back farm magic carpet magic face magnificent yankee man planet x man sonora man saddle man face man cloak mark renegade mask avenger mask dragon mating season meet show merry mavericks million dollar pursuit millionaire christy missing women mob model marriage broker montana desperado mr belvedere rings bell mr imperium mr universe favorite spy forbidden past outlaw brother true story mysterious island navy bound nevada badmen never trust gambler new mexico night morning night riders montana nit witty kitty questions asked smoking northwest territory oh susanna oklahoma justice dangerous ground loose moonlight bay riviera valiant operation pacific overland telegraph painted hills painting clouds sunshine pals golden west pandora flying dutchman passage west payment demand pecos river peking express people o'hara people talk pest man wins pickup pier 23 pistol harvest place sun prairie roundup pride maryland prince thief prize pest prowler purple heart diary quebec quo vadis queen day rabbit fire racket raging tide raton pass rawhide red badge courage redhead cowboy red mountain reunion reno rhubarb rhythm inn rich young pretty ridin' outlaw trail river roadblock roaring city rodeo king senorita rogue river rough riders durango royal wedding saddle legion santa fe saturday's hero savage drums scarf scrambled brains sea hornet sealed cargo secret convict lake secrets monte carlo show boat silver canyon silver city silver city bonanza sirocco skipalong rosenbloom sky high slaughter trail sleepy time tom slicked pup smuggler's gold smuggler's island snake river desperadoes soldiers three son dr jekyll south caliente spoilers plains st benny dip stage blue river stagecoach driver starlift steel helmet stop cab storm warning strange door strangers train streetcar named desire street bandits strictly dishonorable strip stronghold submarine command sugarfoot sunny side street superman mole men sword monte cristo take care little girl tales robin hood tall target tanks coming target unknown tartars tarzan's peril ten tall men teresa texans never cry texas carnival texas lawmen texas rangers that's boy thing another world three arabian nuts three desperate men three guys named mike three husbands three steps north thunder god's country thunder hill thundering trail tokyo file 212 tomahawk tomorrow another day tooth young kiss two dollar bettor two gals guy two lost worlds two kind two tickets broadway unknown man unknown world front utah wagon train valentino valley fire vanishing outpost varieties parade vengeance valley dead alive warpath wearing grin week end father well wells fargo gunmaster westward women grow redskins rode worlds collide whip hand whirlwind whistle eaton falls whistling hills wild blue yonder yank korea yellow fin never tell navy yukon manhunt 5 fingers 24 hours woman's life aaron slick punkin crick abbott costello meet captain kidd face beyond actors sin affair trinidad african treasure flags aladdin lamp androcles lion angel face anything happen apache country apache war smoke april paris arctic flight army bound assignment paris sword's point atomic city babes bagdad back front bad beautiful bal tabarin barbed wire battle apache pass battles chief pontiac battle zone mine bela lugosi meets brooklyn gorilla belle new york belles toes bend river beware lovely big jim mclain big sky big trees black castle blackbeard pirate black hills ambush black lash blazing forest bloodhounds broadway blue canadian rockies bomba jungle girl bonzo goes college boots malone border saddlemates botany bay brave warrior breakdown brigand bronco buster buffalo bill tomahawk territory bugles afternoon bushwackers bwana devil california conquest canyon ambush captain pirate captive city captive billy kid captive women carbine williams caribbean gold carrie carson city cattle town cimarron kid clash night colorado sundown come back little sheba confidence girl crimson pirate cripple creek deadline u dead man's trail denver rio grande desert passage desert pursuit desperadoes' outpost desperate search devil makes three diplomatic courier dog house bother knock dreamboat duck doctor duel silver creek eight iron men escape route everything fabulous senorita face face fallbrook story fargo fearless fagan feed kitty feudin' fools fighter finders keepers first time fit tied flaming feather flat top flesh fury fool coverage men fort osage four poster francis goes west point frontier phantom geisha girl girl every port girl white glory alley gobs gals golden hawk gold fever greatest show earth green glove gunman half breed hangman's knot hans christian andersen happy time hare lift harem girl anybody seen gal hasty hare hawk wild river hellgate come marines come nelsons hiawatha hic cup pup high noon hold line holiday sinners hong kong hoodlum empire horizons west hunt man hurricane smith care girl dream jeanie indian uprising invasion u invitation iron mistress grows trees ivanhoe jack beanstalk japanese war bride jazz singer jet job jumping jacks junction city jungle jungle jim forbidden land across street kangaroo kansas city confidential kansas territory kid broken gun kid monk baroni king congo lady iron mask lady possessed lady says laramie mountains last musketeer last train bombay las vegas story leadville gunslinger limelight lion horse little runaway loan shark lone star lost alaska love better ever love island lovely look lure wilderness lusty men lydia bailey pa kettle fair macao madeline magical maestro man black hills mara maru marrying kind maverick meet danny wilson member wedding merry widow million dollar mermaid miracle lady fatima les misérables models inc monkey business monsoon montana belle montana incident montana territory mr walkie talkie mutiny cousin rachel man pal gus six convicts son john wife's best friend narrow margin night raiders night stage galveston night without sleep holds barred room groom time flowers henry's full house oily hare okinawa oklahoma annie old oklahoma plains old west dangerous ground one big affair one minute zero operation rabbit operation secret othello outcasts poker flat outlaw women pace thrills park row pat mike pathfinder paula phone call stranger pleasure garden plymouth adventure pony soldier posse cat pride st louis prisoner zenda push button kitty quiet man rabbit seasoning radar men moon raiders rainbow 'round shoulder rancho notorious red ball express red planet mars red skies montana red snow retreat hell return texan ride man ring road agent road bali rodeo rough tough west rogue's march room one rose bowl story rose cimarron rough tough west ruby gentry sailor beware sally saint anne san francisco story savage scandal sheet scaramouche scarlet angel sea tiger sellout shadow sky working way college singin' rain skirts ahoy sky full moon smitten kitten smoky canyon sniper snows kilimanjaro somebody loves something birds something live son ali baba son geronimo son paleface sound south pacific trail springfield rifle star stars stripes forever steel fist steel town steel trap stooge stop killing storm tibet story robin hood merrie men story rogers strange fascination sudden fear susie little blue coupe talk stranger target tarzan's savage fury texas city thief thief damascus cinerama woman dangerous three bedroom c thunder east thunderbirds thundering caravans torpedo alley toughest man arizona trail guide trance dance bali treasure lost canyon trick treat triplet trouble tropical heat wave turning point two little indians two mouseketeers untamed frontier untamed women viva zapata voodoo tiger wac walla walla waco wagon team wagons west wait till sun shines nellie walk east beacon washington story water water every hare way gaucho we're married price glory rome wild horse ambush wild north wild stallion wings danger winning team song heart without warning woman dark woman north country world arms wyoming roundup yank indo china yankee buccaneer young man ideas yukon gold zombies stratosphere 49th man 99 river street 5 000 fingers dr abbott costello go mars abbott costello meet dr jekyll mr hyde act love actress affairs dobie gillis affair stranger american ashore desire babies brothers valiant ambush tomahawk gap angel face appointment honduras arena arrowhead baby butch back god's country bad bandits corsica bandits west band wagon battle circus beast 20 000 fathoms beat devil ben beneath 12 mile reef bigamist big heat big leaguer blowing wild blue gardenia blueprint murder born saddle botany bay bright road bully bugs light silvery moon caddy calamity jane call madam canadian mounties vs atomic invaders captain john smith pocahontas captain scarlett cat women moon cat tails two catty cornered cease fire champ day charade charge feather river china venture city beneath sea city bad men city never sleeps clipped wings clown code two column south combat squad commando cody sky marshal universe confidentially connie conquest cochise count hours cow country crazylegs cruisin' river cry hunted dance hall racket dangerous crossing dangerous wet decameron nights desert legion desert rats desert song designs jerry destination gobi devil's canyon diamond queen laredo way don's fountain youth donovan's brain among sheltering palms dream wife duck dodgers duck rabbit duck east sumatra easy love eddie cantor story el alamein el paso stampede escape fort bravo fair wind java fangs arctic farmer takes wife fast company fear desire fighter attack fighting lawman flame calcutta flaming urge flight nurse flight tangier forever female forbidden fort ti fort vengeance francis covers big town eternity gentlemen prefer blondes geraldine girl next door girl everything girls night girls pleasure island give girl break glass wall glass web glory brigade glen glenda golden blade goldtown ghost riders great jesse james raid great sioux uprising guerrilla girl gun belt gun fury gunsmoke half hero hannah lee come girls hitch hiker homesteaders hondo hot news houdini house wax marry millionaire confess care girl love lucy love melvin jury inferno invaders mars iron mountain trail island sky came outer space happens every thursday jack mccall desperado jalopy jamaica run jennifer jeopardy joe louis story johann mouse juggler julius caesar jungle drums africa kansas pacific kid left field killer ape king khyber rifles kiss kate knights round table lady wants mink last comanches last pony riders last posse latin lovers law order lawless breed let's go lobby let's life tom lili lion streets little boy lost little fugitive living desert lone hand loose london lost planet pa kettle vacation magnetic monster main street broadway man behind gun man cairo man alamo man attic man dark man conflict man tightrope marksman marry marshal cedar rock marshal's daughter martin luther maze meet fair melba mesa lost women mexican manhunt miss sadie thompson mission korea missing mouse mississippi gambler mister scoutmaster mogambo money home moon blue moonlighter mouse sale murder without tears naked spur neanderthal man neapolitan mouse nebraskan never let go never wave wac niagara escape northern patrol limits old overland trail top old smoky one girl's confession pack train pardon backfire paris model perilous journey perils jungle personal affair peter pan phantom space pickup south street plunder sun pony express port sinister powder river president's lady prince pirates prisoners casbah private eyes problem girls project moonbase pup picnic puppy tale raiders seven seas rebel city red beret redhead wyoming red river shore redhead wyoming remains seen return paradise ride vaquero roar crowd rob roy highland rogue robe robot monster rogue's march roman holiday rough shoot royal african rifles saadia sabre jet safari drums saginaw trail sailor king salome sangaree san antone savage frontier savage mutiny scandal scourie scared stiff sea devils seafarers sea lost ships second chance seminole serpent nile shadows tombstone shane shark river back broadway silver whip simple things sins jezebel siren bagdad sky commando slaves babylon slight case larceny small town girl big sombrero son belle starr love south algiers south sea woman southern fried rabbit spaceways split second spooks stalag 17 stand apache river stars singing star texas steel lady story three loves stranger wore gun sun shines bright sweethearts parade sword rose sword venus system take town take high ground tall texan tangier incident target hong kong tarzan devil taxi tell tale heart terminal station terror street texas bad man man tangier redheads seattle three sailors girl thunder bay thunder plains thy neighbor's wife time bomb titanic tonight sing toot whistle plunk boom topeka torch song treasure golden condor tropic zone trouble along way tumbleweed twonky valley head hunters vanquished veils bagdad vice squad vicki vigilante terror walking baby back home war paint war worlds white lightning white witch doctor wicked woman wild one wings hawk winning west woman almost lynched working peanuts young bess 3 ring circus 20 000 leagues sea mrs leslie adventures hajji baba alaska seas apache arrow dust athena atomic kid baby buggy bunny bait bamboo prison barefoot contessa battle rogue river beachhead beau brummell beautiful stranger bengal brigade betrayed big chase bitter creek black dakotas black horse canyon black knight black pirates black shield falworth black tuesday black widow bob mathias story border river bounty hunter bowery boys meet monsters boy oklahoma bridges toko ri brigadoon bright road broken lance bugs thugs bullet waiting caine mutiny cannibal attack captain kidd slave girl carmen jones carnival story casanova's big night cattle queen montana charge lancers command country girl creature black lagoon crime wave crossed swords cry vengeance dangerous mission dawn socorro deep heart demetrius gladiators désirée desperado destry devil may hare dial murder dixieland droopy dog pounded three dark streets downhearted duckling dragnet dragon's gold dragonfly squadron drive crooked road drum beat drums across river drums tahiti duffy san quentin egyptian elephant walk executive suite fangs wild fireman save child flame flesh forty niners four guns border francis joins wacs french line gambler natchez garden evil glenn miller story go man go gog golden idol golden mistress gorilla large great diamond robbery green fire gunfighters northwest gypsy colt hansel gretel opera fantasy hell high water hell zero hell's half acre hell's outpost twelve men high mighty highway dragnet majesty o'keefe house middle human desire human jungle inauguration pleasure dome iron glove happen jail bait jesse james vs daltons jesse james' women jivaro johnny dark johnny guitar jubilee trail jungle gents jungle man eaters khyber patrol killer leopard killers space king richard crusaders knock wood last time saw paris law vs billy kid lawless rider life stake little school mouse living lone gun long long trailer long wait loophole lucky pa kettle home mad magician magic brush make haste live magnificent obsession man steel whip massacre canyon masterson kansas men fighting lady miami story miss robin crusoe monster ocean floor naked alibi naked jungle new faces night people waterfront woman outcast outlaw's daughter outlaw stallion overland pacific paris playboys passion phantom rue morgue phantom stallion phffft playgirl port hell pride blue grass prince valiant princess nile prisoner war private hell 36 pushover racing blood raid rails laramie rear window red garters return sea return treasure island rhapsody ricochet romance ride clear diablo riders stars riding shotgun ring fear riot cell block 11 river return robinson crusoe rocket man rogue cop roogie's bump rose marie sabaka sabrina salt earth saracen blade saskatchewan satan's waitin' secret incas security risk seven brides seven brothers shanghai story say shield murder siege red river sign pagan silent raiders silver chalice silver lode sitting bull smarty cat snow creature southwest passage stamp day superman star born steel cage student prince suddenly susan slept tanganyika target earth taza son cochise tennessee champ there's business like show business rode west young love three coins fountain three hours kill three young texans tobor great top banana track cat untamed heiress trader tom china seas two guns badge valley kings vanishing prairie vera cruz war arrow white christmas white orchid witness murder woman's world world ransom wyoming renegades yankee pasha yellow mountain yellow tomahawk young heart yukon vengeance 5 house abbott costello meet keystone kops abbott costello meet mummy adventures captain africa adventures quentin durward african manhunt age 13 ain't misbehavin' air strike heaven allows americano annapolis story angela apache ambush apache woman artists models gunpoint bad day black rock battle cry battle gettysburg battle taxi beanstalk bunny bedevilled bengazi big bluff big combo big house u big knife blackboard jungle blood alley bowery bagdad bride monster bring smile along bullet joey canyon crossroads captain lightfoot carolina cannonball chicago syndicate chief crazy horse cinerama holiday city shadows cobweb conquest space count three pray court martial billy mitchell crashout creature atom brain crooked web cross channel cult cobra daddy long legs dark avenger davy crockett king wild frontier day world ended dementia desert sands desperate hours devil goddess dial red double jeopardy duel mississippi east eden end affair escape burma eternal sea far country far horizons fast furious female jungle female beach fighting chance finger man fort yuma foxfire francis navy gamma people gentlemen marry brunettes girl red velvet swing girl rush glass slipper good morning miss dove gun west guys dolls hare brush headline hunters hell frisco bay hell's horizon hell's island high society hit deck hold back tomorrow house bamboo popular hyde hare camera cover underworld died thousand times i'll cry tomorrow illegal indian fighter interrupted melody came beneath sea always fair weather dog's life jail busters joe macbeth jump hell jungle moon men jupiter's darling kentuckian kentucky rifle killer's kiss king carnival king's rhapsody king's thief kismet kiss deadly kiss fire lady tramp lady godiva coventry land pharaohs las vegas shakedown last command last frontier lawless street lay rifle left hand god life balance long gray line looters love many splendored thing love leave lucy gallant pa kettle waikiki magic fire magnificent matador mambo man alone man called peter man bitter ridge man laramie man golden arm man gun man without star many rivers cross marauders marty mcconnell story mister roberts moonfleet mr arkadin murder beat sister eileen naked dawn naked street new orleans uncensored new york confidential night holds terror night hunter man's woman place hide stranger oklahoma one desire one froggy evening outlaw treasure panther girl kongo paris follies 1956 pearl south pacific pete kelly's blues phantom 10 000 leagues phenix city story picnic pied piper cleveland pirates tripoli prince players private war major benson prize gold prodigal purple mask queen bee rabbit rampage racers rage dawn rains ranchipur rebel without cause revenge creature road denver robbers' roost roman legion hare rose tattoo run cover running wild sabaka sahara hare santa fe passage scarlet coat sea chase second greatest sex seminole uprising seven angry men seven cities gold seven little foys seven year itch shack 101 shotgun shrike sincerely six bridges cross smoke signal paris soldier fortune son sinbad southbound duckling special delivery spoilers spy chasers square jungle storm fear strange lady town stranger horseback strategic air command sudden danger summertime swamp women tall man riding tall men tarantula target zero tarzan's hidden jungle teen age crime wave tender trap tennessee's partner ten wanted men texas lady that's mommy island earth three show three stripes sun tight spot timberjack catch thief hell back tom chérie top gun top world toughest man alive treasure pancho villa treasure ruby hills trial trouble harry twinkle god's eye unchained underwater untamed violent men vanishing american view pompey's head violent saturday virgin queen we're angels white feather wichita wiretapper women's prison word wives yellowneck never young 7th cavalry 23 paces baker street accused murder alexander great ambassador's daughter anastasia anything goes around world eighty days gunpoint attack autumn leaves away boats baby doll back eternity backlash bad seed bandido barbecue brawl battle stations beast hollow mountain behind high wall benny goodman story best things life free heaven hell beyond mombasa beyond reasonable doubt bhowani junction bigger life birds bees black sleep black whip blackjack ketchum desperado blazing overland trail blue cat blues bold brave boss bottom bottle brass legend brave one broken star broom stick bunny bundle joy burning hills bus stop busy buddies calling homicide canyon river carousel catered affair cha cha cha boom comanche come next spring come commotion ocean congo crossing conqueror court jester crashing las vegas creature walks among us creeps crime joe crime streets crowded paradise cry night curucu beast amazon day fury day sixth june dakota incident dance henry daniel boone trail blazer davy crockett river pirates death scoundrel deduce say desperados town diane dig uranium knock rock beat bear earth vs flying saucers eddy duchin story edge hell egg jerry emergency hospital everything truth fastest gun alive feedin' kiddie fighting trouble fire maidens outer space first texan first traveling saleslady flagpole jitters flame islands flesh spur flight hong kong flying sorceress forbidden planet crimin' loud foreign intrigue forever darling friendly persuasion full life fury gunsight pass gaby ghost town giant girl can't help girl left behind girls prison glory godzilla king monsters good bye lady great day morning great locomotive chase great american pastime great man gun brothers gun man gunslinger happy go ducky harder fall laughed last helen troy hidden guns high society hilda crane hold back night hollywood bust hooked bear hot blood hot cars hot rod girl hot shots hot stuff houston story huk husbands beware killed wild bill hickok bag indestructible man indian fighter inside detroit intimate stranger invasion body snatchers invitation dance iron petticoat conquered world i've lived jaguar johnny concho jubal julie kettles ozarks killer loose killing king four queens king kiss dying last hunt last wagon leather saint lieutenant wore skirts lisbon lone ranger love tender lust life magnificent roughnecks man beast man del rio man gray flannel suit man vault man armed man knew much man never manfish massacre maverick queen meet las vegas menace outer space miami expose miracle rain mobs inc moby dick mohawk mole people mountain mr b natural mucho mouse muscle beach tom naked gun navy wife never say goodbye nightmare oklahoma woman threshold space upon honeymoon opposite sex miss brooks outside law exposed pardners patterns peacemaker perils wilderness pillars sky please murder power prize price fear proud profane proud ones quincannon frontier scout rabbitson crusoe rack rainmaker ransom raw edge rawhide years rebel town red sundown reprisal revolt mamie stover ride high iron rock around clock rock pretty baby rock rock rock rumble docks rumpus harem runaway daughters running target run sun santiago scandal incorporated scarlet hour scheming schemers screaming eagles search bridey murphy searchers secret treasure mountain serenade seven men seven wonders world shake rattle rock sharkfighters creature showdown abilene singing dark slander slightly scarlet solid gold cadillac somebody likes stagecoach fury star dust steel jungle storm center strange adventure strange intruder stranger door swan tea sympathy teahouse august moon teenage rebel ten commandments tension table rock terror midnight certain feeling there's always tomorrow wilder years three bad sisters three brave men thunder arizona time table timid tabby tom's photo finish toward unknown toy tiger trapeze tribute bad man unguarded moment uranium boom vagabond king violent years walk proud land war peace werewolf westward ho wagons gangland strikes city sleeps white squaw wideo wabbit wild party woman's devotion women pitcairn island women without men world corner world without end written wind wrong man x unknown yaqui drums can't run away young guns 3 10 yuma 5 steps danger 8 x 8 12 angry men 20 million miles earth 27th day abductors action tiger affair havana affair reno affair remember ali baba bunny mine give amazing colossal man apache warrior appointment shadow april love astounding monster attack crab monsters baby face nelson bachelor party back dead badlands montana bailout 43 000 band angels battle hymn bayou beau james bedeviled rabbit beginning end bernardine big boodle big caper big land birds anonymous bitter victory black patch black scorpion bombers b 52 bop girl goes calypso boston quackie boy dolphin brain planet arous brothers rico buckskin lady bugsy mugsy burglar buster keaton story calypso heat wave careless years chain evidence chicago confidential china gate copper sky count five die crime passion crooked circle cyclops dalton girls daughter dr jekyll deadly mantis death small doses decision sundown deerslayer delicate delinquent delinquents designing woman desk set devil's hairpin dino domino kid go near water dragoon wells massacre drango ducking devil duel apache wells edge city eighteen anxious enemy escapade japan escape red rock escape san quentin face crowd farewell arms fear strikes fire flesh spur flesh weak footsteps night fox terror forty guns four boys gun four girls town hell came funny face fury showdown fuzzy pink nightgown garment jungle ghost diver giant claw girl black stockings girl kremlin girl likely les girls love slaves amazons give tyke god partner green eyed blonde gun battle monterey gun duel durango gun coward gunfight k corral gunfire indian gap gun glory guns poppin gunsight ridge guns fort petticoat halliday brand happy road hard man hatful rain hear good heaven knows mr allison helen morgan story hell bound hell canyon outlaws hellcats navy hell drivers hell devil's island hell's crossroads hell ship mutiny hemo magnificent hidden fear hired gun hit run hold hypnotist hoofs goofs horsing around hot rod rumble hot summer night house numbers teenage frankenstein teenage werewolf incredible petrified world incredible shrinking man interlude invasion saucer men invisible boy iron sheriff island sun istanbul jailhouse rock jamboree james dean story jeanne eagels jet pilot joe butterfly joe dakota johnny trouble johnny tremain joker wild jungle heat kelly kettles old macdonald's farm kiss kronos land unknown last badmen last stagecoach west lawless eighties legend lost les girls let's happy little hut living idol lizzie lonely man looking danger love afternoon loving lure swamp man afraid man thousand faces man fire man prowl man turned stone mayerling men war merry mix midnight story mister cory mister rock roll monkey back monolith monsters monster green hell monster challenged world muscle little closer gun quick man godfrey n n naked paradise night passage nightfall night runner night world exploded payment time young earth oh men oh women oklahoman old yeller omar khayyam operation mad ball oregon passage outer space jitters outlaw's son pajama game pal joey panama sal parson outlaw paths glory pawnee perri persuader peyton place phantom stagecoach pharaoh's curse pied piper hamelin plunder road portland exposé pride passion prince showgirl public pigeon 1 quantez quiet gun raiders old california raintree county reform school girl restless breed revolt fort laramie ride back ride revenge ride violent mile river's edge rockabilly baby rock night run arrow rusty romeos sad sack saint joan sayonara scat cats seven waves away seventh sin shadow window devil shoot medicine bend short cut hell sierra stranger silk stockings slaughter tenth avenue slim carter something value sorority girl space ship sappy spanish affair spirit st louis spoilers forest spook chasers spring reunion stopover tokyo street sinners storm rider story esther costello story mankind strange one strange world planet x sun also rises sweet smell success tall stranger tall taming sutton's gal tammy bachelor tarzan lost safari tattered dress teenage doll ten thousand bedrooms night angry age could night three faces eve three little bops three violent people tijuana story time limit tin star tip dead jockey toccata toy trains tomahawk trail top secret affair tops pops trooper hook true story jesse james tweety beanstalk undead fire unearthly unholy wife unknown terror untamed youth sail smoke utah blaine valerie vampire vanishing duck vintage violators voodoo island voodoo woman war drums way gold wayward bus wayward girl what's opera doc wild wind success spoil rock hunter wings eagles witness prosecution woman hunter young dangerous young cry zero hour zombies mora tau ambush cimarron pass andy hardy comes home anna lucasta another time another place apache territory arrivederci roma young attack 50 foot woman attack puppet people auntie mame badlanders badman's country barbarian geisha bell book candle big beat big country black orchid blob blood arrow bonjour tristesse born reckless brain eaters bravados brothers karamazov buccaneer buchanan rides alone bullwhip case brooklyn cat hot tin roof cattle empire certain smile china doll cole younger gunfighter colossus new york cool crazy cop hater corridors blood country music holiday cowboy crash landing cry baby killer cry terror curse faceless man daddy damn citizen damn yankees darby's rangers day badman decks ran red deep six defiant ones desert hell desire elms diamond safari dragstrip riot earth vs spider edge fury enchanted island fearmakers female animal fiend walked west fifi blows top flame barrier flaming frontier flood tide fly flying saucer daffy fort bowie fort dobbs fort massacre frankenstein 1970 frankenstein's daughter fraulein hell texas earth moon frontier gun gang war geisha boy ghost china sea gift love gigi girl likely girl woods girl run girls loose god's little acre goddess going steady gun fever gunman's walk gun runners gunsmoke tucson handle care harry black hell's five hours high cost loving high hell high school confidential home dark hong kong confidential hot angel hot car girl hot rod gang hot spell houseboat make monster hunters accuse bury living married monster outer space married woman mobster want live imitation general love war money indiscreet inn sixth happiness invisible avenger island women terror beyond space jet attack johnny rocco joy ride juvenile jungle kathy o' key king creole kings go forth knighty knight bugs lady takes flyer lafayette escadrille last hurrah last fast guns law jake wade left handed gun let's rock life begins 17 light forest lineup live fast die young lonelyhearts lone ranger lost city gold long hot summer lost lonely vicious lost lagoon lost missile macabre machete machine gun kelly man shadow man god's country man west man gun man died twice maracaibo mardi gras marjorie morningstar matchmaker colonel merry andrew missile moon missouri traveler money women guns monster campus movie mugger murder contract naked dead naked earth naked maja nice little bank robbed place land time sergeants notorious mr monks oil's well ends well old man sea upon horse onionhead outcasts city paris holiday party crashers party girl perfect furlough pies guys pre hysterical hare proud rebel quantrill's raiders queen outer space quiet american quiz whizz rally round flag boys raw wind eden reluctant debutante restless years return dracula return fly return warbow revolt big house ride crooked trail robin hood daffy robin hoodwinked rock bye baby roots heaven royal cat nap run silent run deep rx murder saddle wind saga hemp brown screaming mimi screaming skull senior prom separate tables seven hills rome seventh voyage sinbad demons gods shark reef sheepman showdown boot hill sierra baron sing boy sing came running son robin hood south pacific space children space master x 7 st louis blues stage struck stakeout dope street step terror street darkness suicide battalion summer love sweet hot tarawa beachhead tarnished angels tarzan's fight life teacher's pet teenage cave man ten days tulara ten north frederick terror year 5000 terror texas town thing die angry age happy feeling thundering jets thunder road time love time die tom thumb tonka much soon torpedo run tortilla flaps tot watchers touch evil toughest gun tombstone true story lynn stuart tunnel love twilight gods underwater warrior vertigo vikings violent road villa voice mirror war colossal beast war satellites hell broke loose white wilderness whole truth wild heritage wild women wongo wind across everglades windjammer wink eye wolf dog wolf larsen world jury young wild young lions 30 4d man 30 foot bride candy rock alaska passage al capone alias jesse james alligator people anatomy murder angry hills angry red planet arson hire atomic submarine ask girl attack giant leeches bat battle flame battle coral sea beast haunted cave beat generation behemoth sea monster beloved infidel ben hur best everything big circus big fisherman big operator black orchid blood steel blue angel blue denim bonanza bunny born loved bucket blood career cast long shadow city fear compulsion cosmic man count blessings counterplot crime punishment u crimson kimono cry tough cuban rebel girls curse undead darby o'gill little people date death day outlaw desert desperadoes devil's disciple diary anne frank dog flanders dog's best friend give ship donald mathmagic land edge eternity escort west fbi story face fugitive face fire first man space five gates hell five pennies flying fontaines first time forbidden island four skulls jonathan drake frontier rangers fugitive kind gangster story gazebo gene krupa story giant gila monster gidget girls town good day hanging great st louis bank robbery green mansions gunfight dodge city gunmen laredo guns girls gangsters hanging tree hangman happy anniversary rocket travel come jets hey boy hey girl hole head holiday lovers horse soldiers hound dog man house haunted hill imitation life immoral mr teas inside mafia invisible invaders island lost women happened jane started kiss jayhawkers jazz summer's day jazz singer jet atlantic jet storm john paul jones journey journey center earth juke box rhythm killer shrews king wild stallions last angry man last blitzkrieg last mile last train gun hill legend tom dooley li'l abner little savage lone texan man net man understood women mating game middle night miracle miracle hills miracle 34th street muscle little closer never never steal anything small night ghouls night quarter moon name bullet north northwest nun's story odds tomorrow beach operation dames operation petticoat oregon trail paratroop command pier 5 havana pillow talk plan 9 outer space plunderers painted flats porgy bess pork chop hill prisoner volga private's affair pull daisy rabbit trap rebel set remarkable mr pennypacker return fly ride lonesome rio bravo riot juvenile prison rookie sad horse say one scapegoat shadows shaggy dog shake hands devil sleeping beauty solomon sheba like hot sound fury space invasion lapland stranger arms suddenly last summer summer place surrender hell take giant step tarzan's greatest adventure tarzan ape man teenage zombies teenagers outer space ten seconds hell terror man kind woman thousand hills came cordura third man mountain earth mine thunder sun timbuktu tingler tokyo dark trap periscope verboten warlock watusi wasp woman westbound wild innocent window water baby moving woman obsessed wonderful country world flesh devil wreck mary deare yellowstone kelly young captives young land young philadelphians 3rd voice 5 branded women 12 moon 13 fighting men 13 ghosts adventures huckleberry finn alamo fine young cannibals young men amazing transparent man angel wore red apartment butterfield 8 they're young bellboy bells ringing beyond time barrier big night boy pirates bramble bush breath scandal cage evil cape canaveral monsters cash mccall chartroose caboose cimarron cinderfella circle deception college confidential comanche station crack mirror crowded sky dark top stairs desire dust dinosaurus elmer gantry esther king exodus facts life five guns tombstone flaming star love mike four fast guns freckles terrace g blues gallant hours girl night grass greener gunfighters abilene guns timberland hell bent leather hell eternity heller pink tights high powered rifle high time home hill horse flying tail house usher hyde go tweet hypnotic eye aim stars ice palace i'll give life inherit wind started naples key witness last voyage last woman earth leech woman let's make love let man write epitaph little shop horrors lost world macumba love magnificent seven man string mice follies midnight lace moment danger mountain road murder inc music box kid never sunday noose gunman north alaska ocean's 11 oklahoma territory feeling one foot hell pay die pepe platinum high school please eat daisies plunderers pollyanna portrait black pretty boy floyd private lives adam eve private property purple gang psycho pusher rat race raymie rise fall legs diamond savage innocents scent mystery secret purple reef september storm sergeant rutledge seven thieves seven ways sundown sex kittens go college song without end spartacus squad car stop look laugh story ruth strangers meet studs lonigan subterraneans summer seventeenth doll sundowners sunrise campobello surprise package swiss family robinson switchin' kitten tall story tarzan magnificent terrible beauty tess storm country rebel breed threat three worlds gulliver thunder carolina time machine three came kill toby tyler hot handle tormented twelve hours kill unforgiven valley redwoods vice raid visit small planet wackiest ship army wake walk like dragon walk tall walking target wasp woman weddings babies boys lady must die wild ride wild river world suzie wong young jesse james young one absent minded professor ada night's work hands deck angel baby aquamania armored command atlantis lost continent babes toyland bachelor paradise back street battle bloody beach beast yucca flats beep prepared big bankroll big gamble big show blast silence bloodlust blue hawaii boys beware breakfast tiffany's bridge sun love possessed children's hour claudelle inglish cold wind august comancheros come september creature haunted sea cry happy daffy's inn trouble deadly companions devil 4 o'clock diary nudist dondi outing el cid errand boy everything's ducky exiles explosive generation fanny fever blood fiercest heart five golden hours five minutes live flight lost balloon flight disappeared flower drum song francis assisi george raft story gidget goes hawaiian gold seven saints goodbye great impostor gun fight gun street happy thieves havoc heaven hercules haunted world hey let's twist homicidal honeymoon machine hoodlum priest hustler judgment nuremberg king kings ladies man last sunset last time saw archie lawbreakers little shepherd kingdom come look window love goldfish bowl lover come back mad dog coll majority one man trap marines let's go mark marriage go round master world misfits matter morals misty morgan pirate dangerous man alive mysterious island naked edge night tide nude moon double one eyed jacks one hundred one dalmatians one two three outsider parent trap paris blues parrish phantom planet pit pendulum pleasure company pocketful miracles portrait mobster posse hell question 7 raisin sun reptilicus return peyton place right approach romanoff juliet roman spring mrs stone sail crooked ship sanctuary second time around secret ways sergeant lady seven women hell sinister urge sins rachel cade snow white three stooges something wild splendor grass steel claw stop look laugh summer smoke susan slade swingin' along tammy tell true teenage millionaire three blondes life thunder drums late blues town without pity twenty plus two twist around clock two loves two rode together underworld u nice nice voyage bottom sea war hell west side story wild country wizard baghdad x 15 run fast young doctors young savages 13 west street 300 spartans 40 pounds trouble advise consent fall bachelor flat bellboy playgirls big red billy rose's jumbo birdman alcatraz black gold bon voyage boys' night brain die brushfire buddies thicker water cape fear captive city carmen get carnival souls chapman report commies coming commies coming convicts 4 counterfeit traitor creation humanoids david lisa days wine roses deadly duo knock twist escape east berlin escape zahrain experiment terror fbi code 98 five finger exercise five miles midnight five weeks balloon follow dream four horsemen apocalypse freud secret passion gay purr ee gigot girl named tamiko girls girls girls gypsy hatari heaven earth magic hell heroes hemingway's adventures young man hero's island high steaks horizontal lieutenant house women west man answers search castaways inspector interns intruder thank fool happened athens money jack giant killer jessica jet cage journey seventh planet kid galahad lawrence arabia light piazza lion lolita lonely brave long day's journey night longest day madison avenue main attraction man shot liberty valance manchurian candidate manster merrill's marauders miracle worker mister magoo's christmas carol moon pilot mouse space mr hobbs takes vacation music man mutiny bounty geisha exit man island notorious landlady nun sergeant two play panic year zero period adjustment phaedra pigeon took rome pontius pilate premature burial pressure point red nightmare reluctant saint requiem heavyweight ride high country ring terror road hong kong rome adventure safe home satan high heels satan never sleeps sergeants 3 six black horses sodom gomorrah something's got give spiral road stagecoach dancers' rock stark fear state fair sweet bird youth symposium popular songs tales terror taras bulba tarzan goes india tender night touch mink three stooges meet hercules three stooges orbit kill mockingbird tonight sure late blues tower london trial two seesaw two weeks another town view bridge walk wild side war hunt war lover ever happened baby jane who's got action wild guitar wild westerners wonderful world brothers grimm world's greatest sinner zotz 4 texas 55 days peking act one way home america america atom age vampire balcony beach party birds blonde cobra blood feast bye bye birdie cairo california call bwana captain newman cardinal caretakers charade child waiting cleopatra come blow horn come fly comedy terrors cool world courtship eddie's father crawling hand critic's choice cry battle dementia 13 diamond head diary madman donovan's reef drums africa eat face rain five minutes love flaming creatures flipper follow boys love money free white 21 fun acapulco gathering eagles gidget goes rome girl hunters goldilocks three bares great escape gunfight comanche creek haunted palace haunting hook hud could go singing cool day incredible journey irma la douce island love happened world's fair mad mad mad mad world jason argonauts johnny cool kings sun ladybug ladybug lancelot guinevere law lawless lilies field list adrian messenger long ships love ball love proper stranger man diner's club maniac mary mary mclintock miracle white stallions move darling six loves new kind love nine hours rama nutty professor love desire old dark house one got fat one man's way operation bikini pt 109 palm springs weekend papa's delicate condition pent house mouse pink panther prize promises promises raiders rampage raven sadist shock corridor showdown skydivers sleep slime people sodom gomorrah soldier rain son flubber spencer's mountain stolen hours stripper summer magic sunday new york sword stone take mine tammy doctor tarzan's three challenges terror saved hitler's brain three stooges go around world daze thrill thunder island ticklish affair beep beep toys attic transylvania 6 5000 twice told tales twilight honor ugly american yum yum tree violated paradise v p victors wall noise what's nice girl like place like wheeler dealers who's sleeping bed who's minding store wives lovers x man x ray eyes yellow canary young brave young swingers 3 nuts search bolt 633 squadron 7 faces dr lao advance rear americanization emily back door hell batman dracula becket bedtime story behold pale horse best man bikini beach black like blood arrow brass bottle bullet badman carol another christmas carpetbaggers cavern cheyenne autumn circus world comedy terrors crack world creeping terror dark purpose dead ringer dear heart devil doll disorderly orderly distant trumpet dr strangelove learned stop worrying love bomb dumb patrol empire ensign pulver eyes annie jones face screaming werewolf fail safe fall roman empire false hare fanny hill fate hunter father goose firelight first men moon flesh eaters flight ashiya flight fury flipper's new adventure think young get college girl global affair golden head good neighbor sam goodbye charlie hag black leather jacket hey yogi bear honeymoon hotel horror party beach house home hush hush sweet charlotte i'd rather rich incredible mr limpet incredibly strange creatures stopped living became mixed zombies invitation gunfighter doctor mouse island blue dolphins murray killers kiss quick kiss stupid kisses president kissin' cousins kitten whip last man earth lilith looking love lorna mail order bride man middle man's favorite sport marnie mary poppins masque red death mchale's navy misadventures merlin jones monstrosity moon spinners muscle beach party fair lady naked kiss new interns night iguana nothing man stars men one potato two potato outrage pajama party paris sizzles patsy pawnbroker pink phink pleasure seekers point order quick melts quick gun quick let's get married rhino ride wild surf rio conchos robin 7 hoods robinson crusoe mars roustabout santa claus conquers martians scorpio rising secret invasion send flowers seven days may sex college girl sex single girl shell shock shock treatment signpost murder shot dark stage thunder rock starfighters strait jacket strangler surf party taggart teen age strangler thin red line third secret three lives thomasina tiger walks time travelers tomb ligeia trap spy topkapi train two thousand maniacs age unsinkable molly brown visit viva las vegas way go love gone wild wonderful world henry orient youngblood hawke young lovers cheatin' heart 36 hours agony ecstasy amorous adventures moll flanders apache uprising art love baby rain must fall bad girls go hell battle bulge beach blanket bingo bedford incident billie black spurs bloody pit horror boeing boeing bounty killer brainstorm bus riley's back town cat ballou cincinnati kid city sea clarence cross eyed lion collector color blood red crack world dear brigitte die monster die dirty game doctor zhivago dr goldfoot bikini machine family jewels faster pussycat kill kill ferry cross mersey flight phoenix fluffy genghis khan girl happy glory guys goldstein great race great sioux massacre greatest story ever told guns diablo hallelujah trail harlow harlow harum scarum wild weekend heroes telemark help high wind jamaica hill murder wife stuff wild bikini human duplicators saw i'll take sweden harm's way inside daisy clover john goldfarb please come home joy morning king rat life top love kisses love many faces loved one major dundee man button willow mara wilderness marriage rocks mchale's navy joins air force mickey one mirage mister moses monkey's uncle money trap monster go go morituri motorpsycho mudhoney naked prey never late nightmare sun none brave thief operation c operation crossbow patch blue promise anything rage live red line 7000 requiem gunfighter ride whirlwind rounders sandpiper sands kalahari satan bug secret success sergeant deadhead shenandoah ship fools situation hopeless serious ski party slender thread sons katie elder sound music spy came cold strange bedfellows swingin' summer sylvia synanon darn cat funny feeling third day calloways thousand clowns tickle truth spring two guillotine beach special favor von ryan's express war lord what's new pussycat wild beach wild seed willy mcbean magic machine world abbott costello young fury zebra kitchen 10 30 p summer 7 women agent h r alvarez kelly ambush bay wednesday appaloosa arabesque around world sea assault queen batman bible beginning big hand little lady billy kid vs dracula birds blindfold blood bath boy get wrong number cast giant shadow castle evil chamber horrors chappaqua chase chelsea girls curse swamp creature cyborg 2087 daydreamer dead heat merry go round destination inner space dimension 5 drop dead darling duel diablo el dorado endless summer fantastic voyage fat spy fine madness fireball 500 follow boys fortune cookie frankie johnny funny thing happened way forum gambit ghost mr chicken ghost invisible bikini glass bottom boat grand prix group gunpoint hallucination generation harper hawaii hold i'm naked hold steal million idol paris burning jesse james meets frankenstein's daughter johnny reno judith khartoum kiss girls make die last secret agents let's kill uncle lord love duck lost command lt robin crusoe u n madame x made paris man called flintstone man could get killed manos hands fate maya mister buddwing moment moment munster go home murderers' row nashville rebel navy vs night monsters nevada smith night grizzly wife die oscar man flint man marrakesh pad use paradise hawaiian style penelope picture mommy dead plainsman poppy also flower professionals queen blood rage rare breed red tomahawk red zone cuba return seven ride beyond vengeance roman candles rush judgment russians coming russians coming sand pebbles seconds shooting silencers singing nun spinout stagecoach swinger tarzan valley gold texas across river property condemned three couch three sisters torn curtain trouble angels trunk cairo undertaker pals ugly dachshund unkissed bride waco walk run way way war daddy what's tiger lily who's afraid virginia woolf wild angels winnie pooh honey tree women prehistoric planet 40 guns apache pass ambushers ballad josie banning barefoot park beach red big mouth billion dollar brain blast girls bonnie clyde born losers busy body camelot cape town affair caper golden bulls caprice casino royale catalina caper christmas kid chuka clambake c'mon let's live little come spy comedians common law cabin cool hand luke covenant death custer west devil's angels dirty dozen divorce american style doctor dolittle doctor faustus doctor got kidding dont look back make waves double man double trouble easy come easy go eight lam enter laughing fastest guitar alive fearless vampire killers festival first fight fitzwilly flim flam man fort utah fox games gentle giant girl hungry eyes gnome mobile good morning goodbye good times graduate grand slam guess who's coming dinner guide married man gunfight abilene gunn happening happiest millionaire hell wheels hellcats hells angels wheels hillbillys haunted house hombre honey pot hostile guns hot rods hell hotel hour gun house thousand dolls succeed business without really trying hurry sundown cold blood heat night like flint incident bikini world jack diamonds journey center time jungle book king kong escapes kill dragon king's pirate luv mad monster party mars needs women monkeys go home oh dad poor dad mamma's hung closet i'm feelin' sad point blank president's analyst reflections golden eye reluctant astronaut riot sunset strip rosie rough night jericho shooting shuttered room spirit willing st valentine's day massacre taming shrew thoroughly modern millie three bites apple thunder alley tiger makes time killing titicut follies tobruk tony rome torture garden track thunder trip staircase valley dolls venetian affair wait dark war wagon warning shot waterhole 3 way west welcome hard times who's minding mint who's knocking door woman times seven 5 card stud 2001 space odyssey anzio assignment kill astro zombies bamboo saucer bandolero biggest bundle blackbeard's ghost boston strangler brotherhood bullitt buona sera mrs campbell bye bye braverman candy charly coogan's bluff countdown counterpoint daring game day evil gun detective devil's brigade hear one traveling saleslady stand raise bridge lower river faces finders keepers lovers weepers finian's rainbow firecreek flesh love ivy singles funny girl great catherine green berets greetings hammerhead hang 'em high head heart lonely hunter hell pacific hellfighters hell heroes horse gray flannel suit hot millions house evil save marriage ruin life sweet love alice b toklas ice station zebra impossible years enemy country year pig jigsaw killers three killing sister george kona coast lady cement legend lylah clare live little love little love bug lovely way die madigan madigan's millions magus man called dagger mini skirt mob money jungle monterey pop dead alive movie orgy never dull moment night following day night living dead night raided minsky's way treat lady nobody runs forever nobody's perfect odd couple one genuine original family band p j panic city paper lion party petulia pink jungle place lovers planet apes power pretty poison private navy sgt o'farrell producers psych rachel rachel rosemary's baby savage seven scalphunters sea gull secret life american wife secret war harry frigg sergeant sergeant ryker shakiest gun west shalako devils wheels shoes fisherman single room furnished skidoo sol madrid speedway spirits dead split stalking moon star stay away joe subject roses sweet ride sweet november swimmer targets came rob las vegas thomas crown affair three attic uptight villa rides vixen voyage planet prehistoric women walk angry beach what's bad feeling good angels go trouble follows eagles dare lights went white comanche wicked dreams paula schultz wild 90 wild streets wild racers wild wild world jayne mansfield penny six get eggroll wrecking crew mine 100 rifles alice's restaurant angel angel go angel pocket appointment april fools arrangement bambi meets godzilla big bounce big cube blood dracula's castle blue movie bob carol ted alice boy named charlie brown bridge remagen bushbaby butch cassidy sundance kid cactus flower castle keep chairman change habit change mind changes chastity che childish things comic computer wore tennis shoes crooks coronets cycle savages czechoslovakia 1968 dance death death gunfighter de sade devil's 8 drink water downhill racer easy rider eggshells extraordinary seaman eye cat fantastic plastic machine female bunch flareup gaily gaily gay deceivers gidget grows girl knew much girl gold boots girl returned goodbye columbus goodbye mr chips grasshopper guns heather guns magnificent seven gypsy moths hail hero happy ending hard contract hello dolly hello hell's angels '69 hell's belles hook line sinker house cards commit marriage tuesday must belgium illustrated man impasse takes kinds john mary judy's little justine krakatoa east java land raiders last summer learning tree lola lost flight lost man love camp 7 love god mackenna's gold madwoman chaillot marlowe marooned natalie medium cool midas run midnight cowboy monitors dead alive side mountain naked angels nightmare wax number one paint wagon popi putney swope rain people rascal reivers riot royal hunt sun salesman sam whiskey secret sex lives romeo juliet secret santa vittoria shark sidehackers slaves kind nut sterile cuckoo stiletto support local sheriff sweet charity take money run talent loving tell willie boy cold day park shoot horses time dying topaz trilogy trouble girls true grit undefeated valley gwangi viva max wedding party ever happened aunt alice wild bunch winning wonderful land oz wrecking crew young billy young adam six adventurers airport alex wonderland angel levine angel unchained aristocats baby maker ballad cable hogue barquero beneath planet apes beyond valley dolls bigfoot bloody mama boatniks boys band brewster mccloud bullet pretty boy cannon cordoba catch 22 cherry harry raquel cheyenne social club chisum christine jorgensen story cockeyed cowboys calico county colossus forbin project cotton comes harlem count yorga vampire darker amber darling lili delta factor diary mad housewife dirty dingus magee dunwich horror el condor elvis that's way end road equinox five easy pieces flesh feast gas getting straight gimme shelter great white hope hawaiians hercules new york hi mom honeymoon killers hornets nest house dark shadows love thee husbands drink blood love wife never sang father walk line invincible six jenny joe kelly's heroes king filmed record montgomery memphis kremlin letter lady car glasses gun landlord last mobile hot shots last warrior liberation l b jones little big man little fauss big halsy love story lovers strangers loving h macho callahan maidstone man called horse molly maguires monty walsh moonshine war move lover son myra breckinridge nam's angels norwood old man cried wolf clear day see forever one time game town towners owl pussycat party kitty stud's patton people next door phantom tollbooth phynx puzzle downfall child quackser fortune cousin bronx r p rabbit run rebel rousers revolutionary rio lobo skullduggery soldier blue something everyone sometimes great notion start revolution without strawberry statement street scenes suppose gave war nobody came tell love junie moon crooked man call mister tibbs tick tick tick late hero tora tora tora trash tribes traveling executioner twelve chairs two mules sister sara cellar wusa walk spring rain walk walk watermelon man say naked lady where's poppa way front wild country wild scene wizard gore woodstock yin yang mr go can't win 'em zabriskie point zig zag aka dollars 200 motels anderson tapes andromeda strain bad man's river bananas barefoot executive battle love's return bedknobs broomsticks beguiled big doll house big jake billy jack bless beasts children blood lace blood thirst born win brian's song brother john bunny o'hare cain's cutthroats carnal knowledge catlow chrome hot leather clay pigeon cold turkey cry uncle day wolves deadly trap deserter desperate characters die screaming marianne dirty harry doc doctors' wives dracula vs frankenstein drive said duel escape planet apes evel knievel fiddler roof fools' parade four rode french connection fright gang shoot straight going home grissom gang gunfight hannie caulder happy birthday wanda june hard ride harold maude hellstrom chronicle hired hand horsemen hospital frame figg hunting party incredible 2 headed transplant johnny got gun kidnapped klute kotch last movie last picture show last run lawman le mans let's scare jessica death light edge world little murders love machine made man wilderness marriage young stockbroker mccabe mrs miller mephisto waltz million dollar duck minnie moskowitz mrs pollifax spy murders rue morgue murphy's war necromania new leaf night god screamed night dark shadows octaman omega man one train rob panic needle park pink narcissus play misty plaza suite pretty maids row punishment park pursuit happiness raid rommel red sky morning resurrection zachary wheeler return count yorga safe place sandpit generals see evil seven minutes shaft shoot simon king witches skin game something big sometimes great notion soul soul star spangled girl straw dogs good friends summer '42 summertree sunday bloody sunday support local gunfighter sweet sweetback's baadasssss song thx 1138 r baskin taking there's always vanilla might giants touch touch satan town called bastard trojan women two lane blacktop valdez coming vanishing point villain von richthofen brown werewolves wheels what's matter helen harry kellerman saying terrible things killed mary what's 'er name wild rovers willard willy wonka chocolate factory women cages got walk like talk lose beat zachariah zodiac killer 1776 across 110th street another nice mess avanti bad company ben behind green door beware blob big bird cage black rage blacula bluebeard bone boxcar bertha buck preacher butterflies free cabaret candidate carey treatment chato's land children play dead things child's play cisco pike come back charleston blue conquest planet apes cool breeze cop corky cowboys culpepper cattle co deep throat deliverance dirty little billy doberman gang dr phibes rises dynamite chicken effect gamma rays man moon marigolds elvis tour endless night everything always wanted know sex afraid ask fat city fillmore final comedown five summer stories fritz cat frogs fuzz get know rabbit getaway godfather grave vampire great northfield minnesota raid hammer hammersmith heartbreak kid heat hickey boggs hit man hot rock images j w coop jeremiah johnson joe kidd journey back oz junior bonner kansas city bomber king marvin gardens lady sings blues last house left last red hot lovers left hand gemini legend boggy creek legend nigger charley aka legend black charley life times judge roy bean limbo los amigos magnificent seven ride man man la mancha mechanic melinda napoleon samantha necromancy new centurions night lepus see offence one lonely number painters painting pancho villa payday pete 'n' tillie pink flamingos play sam play lays pocket money pope joan portnoy's complaint poseidon adventure possession joel delaney prime cut private parts rage red sun reflection fear revengers salzburg connection savages shaft's big score silent running sitting target skyjacked slaughter slaughterhouse five snoopy come home snowball express sounder stigma summertime killer super fly kill masters thing two heads thumb tripping find man tomorrow travels aunt treasure island treasure island trouble man ulzana's raid sandbox visitors war men women what's doc legends die winter soldier woman hunter wrath god like mother 40 carats ace eli rodger skies american boy alpha caper american graffiti arnold arnold's wrecking co ash wednesday baby badge 373 badlands bang drum slowly battle planet apes black caesar black snake blackenstein blume love book numbers boy cried werewolf breezy brother wind cahill u marshal candy snatchers charley angel charley varrick charlotte's web cinderella liberty class '44 cleopatra jones coffy cops robbers crazies day dolphin delicate balance detroit 9000 devil miss jones dillinger doll squad dead afraid dark play us cheap electra glide blue emperor north encounter unknown enter dragon executive action exorcist five black hand side forced entry forgotten aka look basement frank film friends eddie coyle mixed files mrs basil e frankweiler ganja hess godspell golden voyage sinbad gordon's war happy mother's day love george harrad experiment harry pocket heavy traffic hell harlem high plains drifter hit iceman cometh idaho transfer interval invasion bee girls jesus christ superstar jeremy jonathan livingston seagull jory kid blue lady ice last american hero last detail last sheila laughing policeman little cigars lolly madonna xxx long goodbye lost horizon love pain whole damn thing luther mack mackintosh man magnum force manson maurie mean streets messiah evil aka dead people neptune factor mercy man oklahoma crude one little indian outfit paper chase paper moon papillon pat garrett billy kid please eat mother return charlie chan robin hood roommates sssssss save tiger scarecrow scorpio scream blacula scream serpico seven ups shaft africa shamus showdown sisters slaughter's big rip sleeper slither call loving soylent green spook sat door steelyard blues sticks bones sting stone killer summer wishes winter dreams superdad sweet kill terminal island thief came dinner three musketeers tom sawyer train robbers two people visions eight walking tall way werewolf washington westworld white lightning wicked wicked world's greatest athlete blazing saddles towering inferno trial billy jack young frankenstein earthquake godfather part ii airport 1975 life times grizzly adams longest yard benji 11 harrowhouse 99 44 100 dead abby airport 1975 alice live anymore kind strangers none arena bank shot benji beyond door big bad mama billy two hats black belt jones black eye black godfather black samson black windmill blazing saddles bring head alfredo garcia buster billie busting caged heat california split castaway cowboy chinatown chosen survivors claudine cockfighter conrack conversation crazy joe crazy world julius vrooder daisy miller dark star death wish dirty mary crazy larry dove dirty duck earthquake exploratorium f fake female trouble flesh gordon pete's sake foxy brown freebie bean front page gambler 'gator bait ginger morning girl petrovka godfather part ii golden needles gone 60 seconds gravy train great gatsby groove tube hangup harry tonto hearts minds herbie rides house skull mountain huckleberry finn invasion inner earth island top world alive klansman ladies gentlemen rolling stones lenny life times grizzly adams longest yard lords flatbush lost stars lovin' molly macon county line mame mcq midnight man missiles october mixed company mr majestyk newman's law nickel ride nightmare honeymoon nine lives fritz cat upon scoundrel open season parallax view phantom paradise phase iv private afternoons pamela mann report commissioner rhinoceros road movie p savage loose score seizure space place spikes gang sugar hill sugarland express super cops taking pelham one two three tamarind seed terminal man texas chain saw massacre that's entertainment thieves like us thomasine bushrod three hard way three tough guys thunderbolt lightfoot towering inferno trial billy jack truck turner ufo target earth ultimate thrill uptown saturday night natural thing voyage w lilies bloom red fern grows white dawn willie dynamite woman influence wrestler yakuza young frankenstein zandy's bride 92 shade aaron loves angela adventure sherlock holmes' smarter brother adventures wilderness family aloha bobby rose apple dumpling gang long last love barry lyndon bite bullet black bird black fist blazing stewardesses boss nigger boy dog brannigan breakheart pass breakout brother spare dime bucktown bug bugs bunny superstar candy tangerine man capone cleopatra jones casino gold conduct unbecoming cooley high coonskin aka street fight crazy mama day locust death race 2000 devil's rain diamonds doc savage man bronze dog day afternoon dolemite drowning pool eiger sanction escape witch mountain farewell lovely fore play fortune framed french connection ii friday foster funny lady giant spider invasion give 'em hell harry gone west great waldo pepper grey gardens happy hooker hard times hearts west hester street hiding place hindenburg hustle inserts wonder who's killing jaws killer elite land time forgot lepke let's love death lucky lady mackintosh j mahogany man friday man glass booth man would king mandingo master gunfighter milestones mitchell moonrunners mr ricco naked came stranger nashville night moves noah enough one flew cuckoo's nest one dinosaurs missing operation daybreak side mountain season peeper permission kill posse prisoner second avenue psychic killer queen stardust ballroom race devil rafferty gold dust twins rancho deluxe reincarnation peter proud return macon county return pink panther rocky horror picture show rollerball romantic englishwoman rooster cogburn rosebud royal flash russian roulette shampoo sheba baby smile spiral staircase stepford wives strongest man world sunshine boys supervixens switchblade sisters take hard ride lucky touch three days condor thundercrack trucker's woman tubby tuba ultimate warrior w w dixie dancekings walking tall part 2 werewolf woodstock white line fever wild party wind lion across great divide alice sweet alice president's men assault precinct 13 earth's core baby blue marine bad news bears bette midler show big bus bingo long traveling stars motor kings black heat black shampoo blank generation blue bird bobbie jo outlaw bound glory breaking point buffalo bill indians sitting bull's history lesson burnt offerings cannonball car wash carrie chesty anderson usn creature black lake death journey death machines deadly hero diary dead dixie dynamite dogs dr black mr hyde drive massacre drum duchess dirtwater fox eagle landed eat dust embryo enforcer family plot fighting mad first nudie musical food gods freaky friday noon till three front futureworld gable lombard gang wars gator god told great scout cathouse thursday grizzly gumball rally gus harlan county usa harry walter go new york hawmps hollywood boulevard hot potato human tornado j 's revenge jackson county jail killer force killer inside killing chinese bookie king kong king kung fu last hard men last tycoon leadbelly lifeguard lipstick little girl lives lane logan's run mako jaws death mansion doomed marathon man massacre central high mastermind matter time mean johnny barrows memory justice midway mikey nicky missouri breaks monkey hustle mother jugs speed moving violation murder death mysterious monsters network next man next stop greenwich village nickelodeon deposit return obsession ode billy joe omen one away one summer love opening misty beethoven outlaw josey wales return man called horse rich man poor man ritz robin marian rocky sailor fell grace sea scorchy secrets gods sell seven per cent solution shaggy shoot shootist shout devil silent movie silver streak small town texas sky riders snuff song remains sparkle squirm star born stay hungry st ives swashbuckler sweet revenge swiss conspiracy sybil target assassin taxi driver that's entertainment part ii fly town dreaded sundown track moon beast tracks treasure matecumbe tunnel vision two minute warning velvet smooth victory entebbe vigilante force w c fields welcome l ton ton dog saved hollywood 3 women airport '77 andy warhol's bad annie hall audrey rose bad news bears breaking training barbara broadcast bare knuckles lines beyond reason billion dollar hobo billy jack goes washington black sunday bobby deerfield breaker breaker bridge far candleshoe car choirboys cinderella citizen's band close encounters third kind confessions amans contract cherry street cross iron crossed swords damnation alley day animals death bed bed eats deep demon seed desperate living domino principle drive massacre eaten alive empire ants equus eraserhead exorcist ii heretic fight life first love love benji fun dick jane gauntlet goodbye girl grand theft auto grateful dead movie grayeagle greased lightning greatest great smokey roadblock herbie goes monte carlo heroes high anxiety hills eyes never promised rose garden incredible melting man island dr moreau islands stream joyride julia kentucky fried movie kingdom spiders last house dead end street last remake beau geste late show lincoln conspiracy little night music looking mr goodbar macarthur many adventures winnie pooh march die martin mouse child mr billion new york new york oh god one one opening night opening misty beethoven orca side midnight outlaw blues people time forgot pete's dragon piece action pine canyon burning planet dinosaurs portrait hitman pumping iron rabid race life charlie brown raggedy ann andy musical adventure raid entebbe rescuers rollercoaster rolling thunder roots roseland ruby run roses satan's cheerleaders saturday night fever scott joplin semi tough sentinel september 30 1955 serpent's egg short eyes sinbad eye tiger slap shot smokey bandit sorcerer speedtrap star wars episode iv new hope aka star wars telefon tentacles thieves thunder lightning turning point twilight's last gleaming valentino van viva knievel way white buffalo wilma wizards word world's greatest lover light life almost summer alucarda american boy profile steven prince american hot wax attack killer tomatoes avalanche bad news bears go japan battlestar galactica betsy big fix big wednesday bloodbrothers blue collar born boys brazil boys company c brink's job buddy holly story california suite capricorn one caravans casey's shadow cat outer space cheap detective class miss macmichael coma comes horseman coming home convoy corvette summer covert action dain curse damien omen ii dawn dead days heaven death dimension deathsport deer hunter different story distant thunder driver end enemy people every way loose eyes laura mars f fm fedora fingers foul play fury gates heaven gay usa girlfriends go tell spartans goin' south good guys wear black gray lady grease greek tycoon halloween harper valley pta heaven wait high ballin' holocaust hooper hot lead cold feet house calls spit grave wanna hold hand ice castles ever see interiors international velvet invasion body snatchers jaws 2 jennifer killer sheep king gypsies laserblast last waltz legacy let die woman lord rings magic magic lassie manitou maraschino cherry mean dog blues medusa touch midnight express moment moment movie movie national lampoon's animal house night full rain norseman oliver's story olly olly oxen free one paradise alley piranha planet dinosaurs pretty baby rabbit test record city remember name renaldo clara return witch mountain revenge pink panther time next year scenic route sextette sgt pepper's lonely hearts club band silent partner slow dancing big city somebody killed husband song canary straight time superman swarm thank god friday force beyond toolbox murders two solitudes uncle joe shannon unmarried woman smoke wedding killing great chefs europe who'll stop rain wiz wolf lake youngblood zero sixty 10 1941 agatha alien alien encounters jazz almost perfect affair americathon amityville horror justice angels' brigade apocalypse apple dumpling gang rides ashanti avalanche express baby snakes bell jar beneath valley ultra vixens best boy beyond poseidon adventure birth beatles black hole black stallion bloodline boardwalk breaking away bugs bunny road runner movie butch sundance early days c h p california dreaming caligula cat canary champ chapter two cheerleaders' wild weekend children sanchez china syndrome city fire concorde airport '79 cuba disco godfather dracula dreamer driller killer electric horseman escape alcatraz europeans fast break fifth floor fish saved pittsburgh five days home force one french postcards frisco kid gal young 'un glove going style goldengirl great santini hair hanover street hardcore head heels heartland hot stuff human experiments hurricane laws jaguar lives jerk jesus kid kramer vs kramer lady vanishes last embrace little romance lost found love bullets love first bite main event magician lublin manhattan meteor american graffiti mr mike's mondo video muppet movie murder decree nightingale sang berkeley square nightwing norma rae north avenue irregulars north dallas forty onion field edge parts clonus horror penitentiary perfect couple phantasm prisoner zenda prize fighter promise promises dark prophecy punk rock movie quintet real life rich kids richard pryor live concert rock 'n' roll high school rocky ii roller boogie rose saint jack scavenger hunt seduction joe tynan seven skatetown u something short paradise star trek motion picture starting sunburn take tale tiffany lust tilt time time tourist trap villain visitor wanda nevada wanderers war home warriors comin' back red ryder stranger calls winter kills wise blood wolfman yanks airplane alien dead alligator altered states american gigolo animalympics antropophagus citation needed way atlantic city baltimore bullet battle beyond stars belt big brawl big red one black marble blue lagoon blues brothers bon voyage charlie brown come back boogeyman borderline bronco billy brubaker caboblanco caddyshack can't stop music cardiac arrest carny change seasons changeling cheech chong's next movie children christmas evil circle two coal miner's daughter coast coast competition cruising death watch defiance delusion die laughing divine madness dogs war go woods double negative citation needed dressed kill earthling elephant man exterminator fade black fame fatso fiendish plot dr fu manchu final countdown first deadly sin first family flash gordon fog foolin' around formula foxes friday 13th galaxina gilda live gloria gong show movie gorp hangar 18 happy hooker goes hollywood knows alone health heart beat heaven's gate herbie goes bananas hero large hollywood knights home movies honeysuckle rose hopscotch beat high co living humanoids deep hunter idolmaker image beast god tru inside moves island turn jane austen manhattan jazz singer tell want kidnapping president kill killed last flight noah's ark last married couple america lathe heaven legend alfred packer life times rosie riveter little darlings little miss marker long riders loose shoes loving couples man bogart's face maniac melvin howard middle age crazy midnight madness mirror crack'd monster club motel hell mother's day mountain men bodyguard night demon nightkill nijinsky nine five ninth configuration nothing personal nude bomb octagon oh god book ii oh heavenly dog one trick pony ordinary people blue permanent vacation pilot popeye pray tv private benjamin private eyes prom night psychotronic man raging bull raise titanic resurrection return king return secaucus seven roadie rockshow rough cut running scared saturn 3 schizoid scruples sea wolves seems like old times serial h e shining silent scream simon small circle friends smokey bandit ii somewhere time empire strikes back stardust memories stir crazy stunt man sunday lovers super fuzz superman ii tell riddle terror train lips eyes times square tom horn unseen academy urban cowboy used cars watcher woods time ran buffalo roam wholly moses would lie willie phil windows witches' brew xanadu absence malice night long marbles amateur american pop american werewolf london amy arthur back roads blow body heat body soul buddy buddy burned stake burning bustin' loose cannonball run carbon copy cattle annie little britches caveman charlie chan curse dragon queen chosen circle power circle two chu chu philly flash clash titans condorman continental divide cutter's way dead buried deadly blessing death centerfold dorothy stratten story death hunt decline western civilization devil max devlin cry thunder dragonslayer endless love enter ninja escape new york escape victory evil dead eye eye eye needle eyewitness excalibur fan fantasies final conflict first monday october fort apache bronx four friends four seasons fox hound friday 13th part 2 full moon high funhouse galaxy terror gangster wars ghost story going ape graduation day great muppet caper halloween ii hand hard country hardly working harry's war heartbeeps heavy metal hell night history world part honky tonk freeway howling incredible shrinking woman knightriders ladies gentlemen fabulous stains last chase legend lone ranger lion desert looker looney looney looney bugs bunny movie man saw tomorrow modern problems modern romance mommie dearest ms 45 dinner andre neighbors nesting nice dreams night lights went georgia nighthawks nobody's perfekt golden pond right track laugh paternity pennies heaven piranha ii spawning polyester postman always rings twice prince city private lessons prowler pursuit b cooper raggedy man ragtime raiders lost ark reds rich famous rollover ruckus b salamander saturday 14th second hand hearts sharky's machine shock treatment southern comfort sphinx stripes student bodies take job shove taps tarzan ape man tattoo laughed thief elvis true confessions tuck everlasting rainbow vernon florida waitress whose life anyway wolfen woman inside zoot suit zorro gay blade 48 hrs airplane ii sequel alone dark amityville ii possession android annie atomic cafe author author barbarosa basket case beach girls beast within beastmaster best friends best little whorehouse texas blade runner border bugs bunny's 3rd movie 1001 rabbit tales burden dreams butterfly cannery row cat people chan missing come back five dime jimmy dean jimmy dean comeback conan barbarian concrete jungle creepshow dark crystal dead men wear plaid death wish ii deathtrap diner go sleep e extra terrestrial eating raoul endangered species escape artist fast times ridgemont high fast walking fighting back firefox first blood five days one summer flight dragons forbidden world forbidden zone forced vengeance frances friday 13th part iii genocide gandhi grease 2 halloween iii season witch hammett hanky panky harry tracy heidi's song hey good lookin' honkytonk man hospital massacre human highway ought pictures jury i'm dancing fast inchon came hollywood jekyll hyde together jinxed kill squad kiss goodbye koyaanisqatsi last american virgin last horror film last unicorn let's spend night together liquid sky lookin' get love child love money madman making love megaforce midsummer night's sex comedy missing monsignor mother lode favorite year night crossing night shift officer gentleman one heart pandemonium parasite partners personal best poltergeist porky's q richard pryor live sunset strip rocky iii safari 3000 savannah smiles secret nimh seduction sender shoot moon silent rage six pack six weeks slayer slumber party massacre kind hero sophie's choice soup one star trek ii wrath khan still night summer lovers swamp thing sword sorcerer tempest tex championship season call bruce thing things tough timerider adventure lyle swann time walker tootsie toy tron verdict vice squad victor victoria visiting hours weavers time white dog world according garp wrong right yes giorgio young doctors love zapped 10 midnight right moves americana amityville 3 angelo love anna infinite power baby bad boys better late never big chill big score bill cosby black stallion returns blue thunder born flames brainstorm breathless bake cherry pie chicken ranch christine christmas story circle power class copkiller cracking cross creek cujo c cab daffy duck's fantastic island daniel day dead zone deal century doctor detroit easy money eddie cruisers eddie macon's run el norte eureka exposed ferestadeh fire ice flashdance get crazy going berserk gorky park heart like wheel hercules high road china house sorority row hunger independence day jaws 3 keep king comedy lianna liquid sky lone wolf mcquade lonely lady lords discipline losin' lovesick man loved women man two brains man woman child max dugan returns metalstorm destruction jared syn mickey's christmas carol mr mom brother's wedding tutor nate hayes national lampoon's vacation never cry wolf night warning night heaven nightmares unknown origin osterman weekend outsiders pirates penzance porky's ii next day princess daisy private school psycho ii reuben reuben revenge ninja richard pryor right stuff risky business romantic comedy rumble fish running brave sahara scarface silkwood sleepaway camp smokey bandit part 3 something wicked way comes space raiders spacehunter adventures forbidden zone spring break star 80 star chamber return jedi staying alive still smokin sting ii strange brew strange invaders streamers stroker ace sudden impact superman iii survivors table five tender mercies terms endearment testament tough enough trading places trenchcoat twilight zone movie twice upon time two kind uncommon valor fire valley girl videodrome vigilante walking edge wargames warrior lost world wavelength winds war winnie pooh day eeyore without trace yentl zelig 2010 adventures buckaroo banzai odds alley cat amadeus ambassador american dreamer angel bachelor party bad manners beat street stonewall best defense beverly hills cop birdy blame rio blind date blood simple body double body rock bolero bostonians bounty breakin' breakin' 2 electric boogaloo broadway danny rose brother another planet buddy system c h u cannonball run ii children corn choose city heat cloak dagger company wolves conan destroyer cotton club country crackers crimes passion dreamscape dune electric dreams evil men falling love fear city finders keepers firestarter firstborn flamingo kid flash green flashpoint footloose friday 13th final chapter gallavants garbo talks ghostbusters gimme 'f' girls nite grandview u gremlins hard hold harry son heartbreakers hot dog movie hotel new hampshire ice pirates iceman indiana jones temple doom irreconcilable differences jesse owens story johnny dangerously way karate kid killpoint lace lassiter last starfighter little drummer girl lonely guy love letters love streams making grade maria's lovers mass appeal meatballs part ii micki maude mike's murder missing action moscow hudson mrs soffel muppets take manhattan naked face national lampoon's joy sex natural neverending story night patrol night comet nightmare elm street ninja iii domination small affair publication nothing lasts forever old enough upon time america brooklyn bridge oxford blues paris texas passage india perils gwendoline land yik yak philadelphia experiment places heart police academy pope greenwich village protocol purple hearts purple rain racing moon razor's edge reckless red dawn repo man revenge nerds rhinestone river roadhouse 66 romancing stone rosebud beach hotel runaway savage streets secret honor sheena silent madness silent night deadly night sixteen candles slapstick another kind soldier's story songwriter splash star trek iii search spock starman stop making sense stranger paradise streets fire suburbia supergirl surf ii swing shift tank teachers terminator terror aisles thief hearts spinal tap tightrope top secret toxic avenger volcano unfaithfully september creek warrior sorceress boys '84 toys come wild life woman red adventures mark twain hours agnes god alamo bay alice wonderland american flyers american ninja anna karenina appointment fear avenging angel aviator baby secret lost legend back future bad medicine bad seed barbarian queen beer better dead black arrow black cauldron boys next door brazil breakfast club brewster's millions bride bridge terabithia bring night cat's eye certain fury chorus line clue coca cola kid cocoon code silence color purple commando compromising positions creator creature crimewave r l day dead death wish 3 def con 4 desert hearts desperately seeking susan dim sum little bit heart dungeonmaster eleni emerald forest enemy mine ewoks battle endor explorers falcon snowman fandango fast forward fever pitch final justice flesh blood flesh bullets fletch fool love fraternity vacation friday 13th new beginning fright night ghoulies girls want fun goodbye new york goonies gotcha gymkata head office heaven help us come littles hills eyes part ii holcroft covenant howling ii insignificance night invasion u jagged edge jewel nile journey natty gann one guys king david king solomon's mines kiss spider woman krush groove ladyhawke last dragon latino legend legend billie jean lifeforce lost america lust dust mad max beyond thunderdome malibu express man one red shoe marie mask mask murder maxie mean season mischief mishima life four chapters missing action 2 beginning movers shakers moving violations mugsy's girls murphy's romance science project national lampoon's european vacation nightmare elm street 2 freddy's revenge noon wine bitten one magic christmas ordeal innocence africa pale rider pee wee's big adventure perfect plenty police academy 2 first assignment porky's revenge private resort prizzi's honor protector pumping iron ii women purple rose cairo radioactive dreams rainbow brite star stealer rambo first blood part ii rappin' animator real genius red sonja remo williams adventure begins return living dead return oz revolution rocky iv runaway train rustlers' rhapsody santa claus movie secret admirer secret sword sesame street presents follow bird seven minutes heaven shooting party silver bullet silverado slugger's wife smooth talk spies like us st elmo's fire starchaser legend orin stick stitches stuff summer rental sure thing sweet dreams sylvester target teen wolf that's dancing live die l tomboy trancers transylvania 6 5000 trip bountiful trouble mind tuff turf turk 182 turtle diary twice lifetime view kill vision quest volunteers weird science white nights witness year dragon young sherlock holmes 3 15 8 million ways die 9½ weeks 52 pick last night adventures american rabbit aliens amazons american anthem april fool's day armed dangerous armed response artie shaw time got close range avenging force back school band hand behind enemy lines best times big trouble big trouble little china black moon rising blue city blue velvet boy could fly brighton beach memoirs captain eo children lesser god choke canyon chopping mall clan cave bear club paradise cobra color money combat shock crawlspace crimes heart critters crossroads dangerously close deadly friend delta force desert bloom beverly hills law dr otto riddle gloom beam dream lover duet one echo park equalizer 2000 every time say goodbye extremities eye tiger f x ferris bueller's day fine mess fire fire firewalker flight navigator fly friday 13th part vi jason lives beyond getting even gobots battle rock lords golden child good go great mouse detective great wall gung ho half moon street hamburger motion picture hannah sisters haunted honeymoon heartbreak ridge heartburn heat heathcliff movie hell hunters henry portrait serial killer highlander hitcher hoosiers house howard duck invaders mars iron eagle jake speed jo jo dancer life calling jumpin' jack flash friends karate kid part ii king kong lives knights city labyrinth legal eagles let's get harry little shop horrors living blues lucas luxo jr manhattan project manhunter maximum overdrive men's club miracles mission modern girls money pit monster closet morning mosquito coast murphy's law chauffeur little girl little pony movie 'night mother night creeps mercy retreat surrender nobody's fool nomads nothing common beat edge one crazy summer one saturday night bounds parting glances patriot peggy sue got married pirates platoon playing keeps police academy 3 back training poltergeist ii side power pretty pink psycho iii quicksilver quiet cool rad ratboy raw deal red headed stranger river's edge robotech movie round midnight running scared ruthless people salvador saving grace scorpion seize day shanghai surprise gotta sherman's march short circuit solarbabies something wild soul man spacecamp stand star trek iv voyage home stoogemania streets gold sweet liberty tai pan terrorvision texas chainsaw massacre 2 that's life three amigos top gun touch go tough guys transformers movie trick treat troll true stories cherry moon vamp vampires violets blue mean wildcats willy milly wisdom wise guys witchboard working girls wraith youngblood 84 charing cross road adventures babysitting alamo 13 days glory allan quatermain lost city gold allnighter amazing grace chuck amazing mr bickford amazon women moon american ninja 2 confrontation angel heart anguish anna anne avonlea assassination athens georgia inside baby boom back beach bagdad café barfly bates motel batteries included bedroom window believers benji hunted berserker best seller better tomorrow 2 beverly hills cop ii beyond therapy big bang big easy big town black widow blind date blood diner body slam born east l brave little toaster bride boogedy broadcast news burglar buster keaton hard act follow buy cell can't buy love cannibal hookers captive hearts celebration family charles bukowski tapes cherry 2000 china girl chipmunk adventure christmas comes willow creek cold steel creepozoids creepshow 2 critical condition cross heart cry freedom cry wilderness cure insomnia cyclone dancers daniel towers dark tower date angel dead dead winter deadline dear america letters home vietnam death dishonor death run death wish 4 crackdown dinosaurs fun filled trip back time dirty dancing disorderlies dolls dorf golf dorf's golf bible twisted dragnet eddie murphy raw empire sun end line enemy territory ernest goes camp escape sobibor evil dead ii extreme prejudice eyes prize fatal attraction fatal beauty fight life five corners flowers attic hip full metal jacket g joe movie gardens stone gate glass menagerie good morning vietnam grateful dead far hamburger hill hanoi hilton happy new year hard ticket hawaii harry hendersons hearts fire hell comes frogtown hello hello mary lou prom night ii hellraiser hidden hiding hobo's christmas hollywood shuffle hope glory hot pursuit house ii second story house games housekeeping howling iii hunk teenage zombie i've heard mermaids singing mood innerspace ironweed ishtar jaws revenge jetsons meet flintstones jocks king lear kung fu next generation la bamba lady beware legend white horse leonard part 6 less zero lethal weapon light day like father like son lionheart living tokyo time long gone lost boys love among thieves love stake made heaven maid order making mr right malone man fire mannequin masters universe matewan meatballs iii summer job miami connection million dollar mystery monster squad moonstruck morgan stewart's coming home mr nice guy munchies best friend's birthday little girl nadine near dark nightmare elm street 3 dream warriors man's land way north shore nowhere hide number one bullet nuts c stiggs black hill orphans outrageous fortune top overboard pick artist pinocchio emperor night planes trains automobiles police academy 4 citizens patrol poor little rich girl barbara hutton story prayer dying predator prince darkness princess bride principal prison project x promised land radio days raising arizona rampage real men red's dream redneck zombies rent cop return horror high return salem's lot revenge nerds ii nerds paradise right die robocop rosary murders roxanne rupaul starbooty running man russkies salvation scooby doo meets boo brothers secret succe september shake otis monterey shy people sicilian siesta sign o' times silent night deadly night part 2 sister sister slam dance slumber party massacre ii snow white kind wonderful someone love someone watch sorority house massacre spaceballs square dance squeeze stakeout steel dawn stepfather still crazy like fox straight hell street smart street trash succumbs summer heat summer school superman iv quest peace superstar karen carpenter story surf nazis must die surrender suspect sweet country sweet revenge swimming cambodia teen wolf terminus terror squad still call bruce three men baby three o'clock high three road throw momma train thunder prince tiger's tale tigershark tin men tough guys dance trouble spies uncle meat untouchables video dead video hell waiting moon walker wall street wanted dead alive weeds whales august white eye white water summer who's girl wild thing witches eastwick worst faces death yogi's great escape ruined life zombie high 18 1969 '68 law accidental tourist accused action jackson death alien nation alien l american gothic god created woman another woman appointment death appointments dennis jennings arthur 2 rocks baby bad dreams bat 21 beaches beast beetlejuice betrayed big big blue big business big time big top pee wee biloxi blues bird black eagle black roses blob blood orgy leather girls bloodsport bloodstone blue iguana boost bourne identity braddock missing action iii brain damage bravestarr legend bright lights big city bull durham bulletproof c h u ii bud c h u caddyshack ii call casual sex catacombs cellar dweller child's play chocolate war christmas tattertown clara's heart clean sober clownhouse cocktail cocoon return colors comic book confidential coming america cop couch trip crash course crossing delancey cry dark da daffy duck's quackbusters dance 'til dawn dangerous curves dangerous liaisons dead heat dead next door dead pool dead ringers dead solid perfect deadly dreams death faces decline western civilization ii destroyer die hard dirty rotten scoundrels distant thunder dominick eugene drifter earth girls easy eight men elvira mistress dark elvis ernest saves christmas everybody's american far north feds fish called wanda flesheater keeps frantic fresh horses friday 13th part vii new blood fright night ii full moon blue water fun funny farm garfield 9 lives 'gator bait ii cajun justice good mother good bad huckleberry hound gorillas mist story dian fossey gotham grave fireflies great escape ii untold story great outdoors hairspray halloween 4 return michael myers hanna's war heart midnight heartbreak hotel heathers hellbound hellraiser ii hero terror high spirits hobgoblins hollywood chainsaw hookers homeboy hot trot house carroll street howling iv original nightmare i'm gonna git sucka ika hands illegally incredible hulk returns iron eagle ii came somewhere else jack's back johnny good justin case kansas kenny killer klowns outer space kiss lady white land time last rites last temptation christ laura lansing slept license drive light years little nikita mac macho dancer madame sousatzka man seasons man snowy river ii maniac cop married mob masquerade memories messenger death mickey's 60th birthday midnight run milagro beanfield war miles home miracle mile missile mississippi burning moderns monkey shines moon parador moonwalker moving mr north murder mary phagan best friend vampire stepmother alien mystic pizza naked gun files police squad necromancer negatives new adventures pippi longstocking new life night night life jimmy reardon nightmare bittercreek nightmare elm street 4 dream master ninja strike force retreat surrender 2 earth limits oliver company ollie hopnoodle's bliss time pass ammo patty hearst permanent record phantasm ii picasso trigger plain clothes platoon leader police academy 5 assignment miami beach poltergeist iii pound puppies legend big paw presidio prince pennsylvania prison punchline purple people eater puss boots rain man rambo iii rampage rattle hum red heat red hot skate rock remote control rent cop rented lips rescue return killer tomatoes return living dead part ii rocket gibraltar running empty satisfaction saturday 14th strikes back scarecrows school daze scooby doo ghoul school scooby doo reluctant werewolf scrooged serpent rainbow seventh sign slaughterhouse rock shadow man shadows storm shakedown baby shoot kill short circuit 2 sleepaway camp ii unhappy campers slugs girls sorority babes slimeball bowl rama spalding gray terrors pleasure spellbinder spellcaster spike bensonhurst splash split decisions stand deliver stars bars stealing home stormy monday storytelling giant sunset sweet hearts dance sweet lies switching channels talk radio tapeheads tequila sunrise live thin blue line time money time destiny tin toy tommy tricker stamp traveller good true torch song trilogy tougher leather track 29 tucker man dream twins two moon junction unbearable lightness understudy graveyard shift ii uninvited 1988 film brady christmas vibes vice versa victim brain war party war remembrance watchers waxwork framed roger rabbit willow willy sparrow witchcraft working girl world gone wild young guns 84c mopic abyss midnight alienator alien seed dogs go heaven always american ninja 3 blood hunt amityville 4 evil escapes arena back future part ii batman bert rigby fool best best beverly hills brats beyond stars big picture bill ted's excellent adventure black rain blaze blind fury bloodhounds broadway born fourth july breaking bridesmaids 'burbs c h u ii bud c h u cameron's closet cannibal women avocado jungle death casualties war cat chaser chameleon street chances chattahoochee checking cheetah chilling cohen tate cold feet collision course common threads stories quilt communion cookie cousins crimes misdemeanors criminal law cutting class cyborg dad day one dead bang dead calm dead pit dead poets society deepstar six disorganized crime right thing dr caligari dream team dream little dream driving miss daisy drugstore cowboy dry white season eat bowl tea eddie cruisers ii eddie lives edge sanity enemies love story evil experts fabulous baker boys family business farewell king fat man little boy favorite field dreams final days fire rain flesh gordon meets cosmic cheerleaders fletch lives fly ii mankind friday 13th part viii jason takes manhattan ghostbusters ii ginger ale afternoon gleaming cube glory going overboard great balls fire gross anatomy halloween 5 revenge michael myers harlem nights heart dixie heathers alibi hit list homer eddie homework honey shrunk kids horror show got college howling v rebirth identity crisis immediate family country indiana jones last crusade innocent man intruder jacknife january man johnny handsome k 9 kamillions karate kid part iii kickboxer kill killer kinjite forbidden subjects knick knack l takedown last exit brooklyn lauderdale lean let ride lethal weapon 2 leviathan limit listen little golden book land little mermaid little monsters lock lonesome dove look who's talking lords deep lost angels loverboy major league making meet hollowheads mighty quinn mike hammer murder takes millennium miss firecracker moontrap music box mom's werewolf name bill w mystery train national lampoon's christmas vacation never tuesday new york stories next kin nick knight night game night ninja nightmare elm street 5 dream child nightwish holds barred nowhere run offerings old gringo dark package parent trap iii parenthood parents penn teller get killed pet sematary phantom opera motion picture physical evidence pink cadillac police academy 6 city siege prancer preppie murder pumpkinhead punisher puppet master r r red scorpion relentless renegades return swamp thing river death road house roger samurai cop say anything scenes class struggle beverly hills sea love second sight see evil hear evil see morning sex lies videotape shag shakedown control devil shocker sidewalk stories signs life silent night deadly night 3 better watch sinbad seven seas sing skin deep slaves new york sleepaway camp iii teenage wasteland small sacrifices snake eater society speed zone split star trek v final frontier staying together steel magnolias stepfather ii strapless suckling sweet bird youth tango cash tap teen witch ten little indians terror within ain't bebop left behind three fugitives die tongues untied toxic avenger part ii toxic avenger part iii last temptation toxie trapped trial incredible hulk triumph spirit troop beverly hills tropical snow true believer true love true story frank zappa's 200 motels tummy trouble turner hooch twister uhf unbelievable truth uncle buck valmont vampire's kiss wait spring bandini war roses warlock we're angels weekend bernie's welcome home harry met sally who's harry crumb wicked stepmother winter people wired wizard speed time wizard women brewster place worth winning adventures ford fairlane dark sweet air america alice almost angel ambulance american dream american ninja 4 annihilation andre's mother angel town another 48 hrs arachnophobia avalon awakenings back future part iii bad influence basket case 2 betsy's wedding bird wire blind faith bloodfist ii blue steel bonfire vanities bride animator cadence cadillac man camp cucamonga captain america cartoon stars rescue catchfire challenger checkered flag child night child's play 2 china cry china lake murders china o'brien class 1999 coins fountain come see paradise coupe de ville crash burn crazy people cry baby daddy's dyin' who's got dances wolves deep throat 2 dark side moon darkman daughter darkness days thunder death machine death warrant deceptions decoration day def temptation delta force 2 colombian connection denial desperate hours dick tracy die hard 2 divine double feature dorf goes auto racing downtown dream machine ducktales movie treasure lost lamp edward scissorhands end innocence ernest goes jail everybody wins exorcist iii eyes prize faces death iv far man final sanction fire birds first power flashback flatliners forbidden dance fourth war frankenhooker frankenstein unbound freshman full fathom five funny love getting lucky ghost ghost dad ghosts can't girlfriend hell godfather part iii goodfellas graffiti bridge green card gremlins 2 new batch grifters grim prairie tales guardian guns guyver handmaid's tale hard kill hardware havana heart condition henry june henry portrait serial killer home alone hot cars cold facts hot spot house party hunt red october come peace love death i'm dangerous tonight industrial symphony 1 initiation silent night deadly night 4 internal affairs iron silk jacob's ladder jetsons movie joe versus volcano kill killer tomatoes strike back kindergarten cop king new york laser mission last finest leatherface texas chainsaw massacre iii lemon sisters lionheart long walk home look who's talking loose cannons lord flies love large mack knife madhouse man called sarge maniac cop 2 marked death martians go home masters menace megaville memphis belle men work men leave men respect meridian kiss beast mermaids metamorphosis alien factor metropolitan miami blues miller's crossing misery mister frost mister johnson mo' better blues mob story mom christmas moon 44 mother goose rock 'n' rhyme mountains moon mr destiny mr mrs bridge murder mississippi blue heaven narrow margin navy seals neverending story ii next chapter night eyes night living dead nightbreed ninja academy retreat surrender 3 blood brothers nutcracker prince opportunity knocks pacific heights paris burning pit pendulum plunder lightning postcards edge predator 2 presumed innocent pretty woman problem child prom night iii last kiss psycho iv beginning pump volume q quick change quigley ralph mouse reflecting skin repossessed rescuers revenge reversal fortune robocop 2 robot jox rock 'n' roll high school forever rocky v roller coaster rabbit romeo juliet rookie rose kennedy life remember rosencrantz guildenstern dead russia house shipwrecked shock system short time show force shreck shrimp barbie sibling rivalry side slumber party massacre 3 sorority house massacre 2 snake eater ii drug buster solar crisis somebody shoot picture soultaker spaced invaders spirit '76 spontaneous combustion spymaker secret life ian fleming stanley iris state grace stella strike rich taking care business tales darkside movie teenage mutant ninja turtles terminal city ricochet texasville that's black entertainment three men little lady till time love much sun sleep anger total recall treasure island tremors troll 2 troll 3 trust tune tomorrow twisted obsession two jakes vincent theo voodoo dawn welcome home roxy carmichael remember heart white hunter black heart white palace white room wild orchid wild heart witchcraft ii temptress witches without i'm nothing young guns ii zapped 12 01 pm 29th street across tracks addams family want christmas american tail fievel goes west sea tell another play fields lord backdraft barton fink beauty beast bill ted's bogus journey billy bathgate bingo blue desert body parts boneyard borrower boyz n hood breathing fire bride animator brief history time brother future bugsy butcher's wife sword cape fear captain america career opportunities children night child's play 3 chopper chicks zombietown chuck amuck movie city hope city slickers class action class nuke 'em high ii subhumanoid meltdown closet land cold heaven commitments company business cool ice curly sue dark backward dark wind daughters dust dead deceived defending life defenseless delirious die doc hollywood doctor dogfight tell mom babysitter's dead doors double impact drop dead fred dutch dying young edge honor ernest scared stupid eve destruction eyes angel f x2 father bride final approach fisher king five heartbeats flight intruder boys frankie johnny freddy's dead final nightmare fried green tomatoes grand canyon guilty suspicion hangin' homeboys hard promises hard way harley davidson marlboro man said said hear song hearts darkness filmmaker's apocalypse heroes desert storm highlander ii quickening highway 61 hitman homicide hook hot shots hours times house party 2 hudson hawk looks could kill indian runner inner circle jfk johnny suede jungle fever kafka king ralph kiss dying l story last boy scout liebestraum life stinks linguini incident little man tate love hurts madonna truth dare man moon marrying man mcbain meet applegates men respect mississippi masala mobsters mortal thoughts girl private idaho mystery date naked gun 2½ smell fear naked lunch necessary roughness new jack city night earth without daughter nothing trouble object beauty around one good cop lonely oscar people's money justice paradise paris trout pastime people stairs perfect harmony perfect weapon point break poison prince tides problem child 2 puppet master ii puppet master iii toulon's revenge pure luck rage harlem rambling rose rapture regarding henry return blue lagoon ricochet road ruin robin hood prince thieves rocketeer rover dangerfield run rush scenes mall scissors scorchers search signs intelligent life universe sgt kabukiman n p shadows fog shattered shout showdown little tokyo silence lambs slacker sleeping enemy soapdish sometimes come back star trek vi undiscovered country stepping stone cold straight brooklyn strictly business suburban commando super switch taking beverly hills talent game talkin' dirty dark teenage mutant ninja turtles ii secret ooze terminator 2 judgment day thelma louise there's nothing together alone toy soldiers triple bogey par five hole true colors true identity two evil eyes victim love bob white fang whore wild hearts can't broken year gun 1492 conquest paradise 1991 year punk broke 3 ninjas aladdin alien 3 american article 99 babe bad lieutenant basic instinct batman returns beauty beast bébé's kids beethoven blame bellboy blown away bob roberts bodyguard boomerang brain donors bram stoker's dracula buffy vampire slayer candyman captain ron chain desire chaplin child rage children corn ii final sacrifice christopher columbus discovery claire moon class act consenting adults cool world crisscross crossing bridge cruel doubt cutting edge death becomes deep cover diggstown distinguished gentleman dr giggles encino man equinox falling grace far away ferngully last rainforest good men fifty fifty final analysis folks forever young four eyes six guns freejack frozen assets gas food lodging gladiator glengarry glen ross gun betty lou's handbag hand rocks cradle hero highway hell hoffa home alone 2 lost new york honey blew kid honeymoon vegas housesitter husbands wives soup innocent blood sun jennifer 8 juice another girl r knight moves kuffs ladybugs last mohicans lawnmower man league leap faith leaving normal lethal weapon 3 light sleeper live wire lorenzo's oil love crimes love field love potion 9 mac mad moon malcolm x mambo kings man bites dog man trouble meatballs 4 medicine man medusa dare truthful memoirs invisible man midnight clear mighty ducks miracle beach mistress mo' money mom dad save world monster box mr baseball mr saturday night mrs 'arris goes paris muppet christmas carol cousin vinny new gun nemesis newsies night city nitrate kisses noises pioneers mice men oh night upon crime one false move limb passed away passenger 57 passion fish patriot games pet sematary two pets meat return flint pinocchio playboys player poison ivy post bills power one praying anger prelude kiss primary motive prison planet private matter prom night iv deliver us evil public eye pure country quicksand escape radio flyer rain without thunder raising cain rapid fire red rock west reservoir dogs resurrected revenge nerds iii next generation river runs roadside prophets robocop 3 rock doodle ruby samantha samurai vampire bikers hell scent woman school ties seed people setting sun shakes clown shining shipwrecked sidekicks silent night deadly night 5 toy maker simple men sinatra sinbad single white female singles sister act sleepwalkers sneakers society south central spirit christmas star time stay tuned stop mom shoot stormy weathers storyville straight talk stranger among us swoon night goes neighborhood life three musketeers thumbelina thunderheart tiny toon adventures spent vacation grandmother's house go tom jerry movie topsy bunker cat killers toys traces red trespass tune turning twin peaks fire walk siege unforgiven universal soldier unlawful entry used people visions light waterdance waxwork ii lost time wayne's world day takes whispers dark white men can't jump white sands gotta kill wind witness year comet zebrahead zipperface acting impulse addams family values adventures huck finn age innocence aileen wuornos selling serial killer airborne alive amos andrew another stakeout arizona dream evil dead 3 army darkness aspen extreme ballad little jo bank robber batman mask phantasm beethoven's 2nd benny joon best best 2 beverly hillbillies blood blood bodies rest motion body evidence body snatchers boiling point bopha born yesterday boxing helena bronx tale cb4 calendar girl cannibal musical carlito's way cemetery club cliffhanger coneheads cool runnings cop half crush cruel path dangerous game dangerous woman dark half dave dazed confused deadfall demolition man dennis menace dragon bruce lee story ernest rides ethan frome excessive force extreme justice falling far place fatal instinct fearless fire amazon fire sky firm flesh bone fly night love money free willy fugitive geronimo american legend gettysburg ghost machine good son groundhog day grumpy old men guilty sin happily ever hard target heart souls heaven earth hexed hocus pocus home homeward bound incredible journey hot shots part deux house cards house hills house spirits line fire name father indecent proposal indian summer jack bear jason goes hell final friday josh joshua tree joy luck club judgment night jurassic park kalifornia king hill last action hero leprechaun life mikey loaded weapon 1 lost yonkers butterfly mad dog glory made america malice man without face man's best friend manhattan murder mystery matinee kid menace ii society meteor man money nothing monolith mr jones mr nanny mr wonderful mrs doubtfire much ado nothing music chance life naked new york needful things nightmare christmas nowhere run upon forest strong pelican brief perfect world philadelphia piano poetic justice point return posse program public access puppet master 4 real mccoy red rock west remains day return living dead 3 rich love rising sun robin hood men tights robocop 3 romeo bleeding rookie year roosters ruby cairo ruby paradise rudy saint fort washington sandlot schindler's list searching bobby fischer sesame street's 25th birthday musical celebration short cuts sister act 2 back habit six degrees separation slaughter innocents sleepless seattle sliver sniper married axe murderer sommersby son law son pink panther striking distance sunset grill super mario bros suture swing kids teenage mutant ninja turtles iii temp theremin electronic odyssey thing called love boy's life three musketeers three hearts tom jerry movie tombstone totally f ed true romance twenty bucks undercover blues untamed heart vanishing war room warlock armageddon watch wayne's world 2 we're back dinosaur's story wedding banquet weekend bernie's ii what's eating gilbert grape what's love got where's god i'm scared white wolves cry wild ii who's man wilder napalm woman desire wrestling ernest hemingway wrong man younger younger 3 chains o' gold 3 ninjas kick back 8 seconds rim abraham ace ventura pet detective africa serengeti air airheads aladdin return jafar alien nation dark horizon amateur andre angels outfield angie another midnight run baby's day bad girls bar girls barcelona beretta's island beverly hills cop iii birds ii land's end black beauty blank check blankman blind justice blink bloodfist v human target bloodlust subspecies iii blown away blue chips blue sky brainscan breach conduct breathing lessons bullets broadway cabin boy camp nowhere campground massacre cancer wars car 54 chariots fur chase chasers china moon cinderella city slickers ii legend curly's gold class nuke 'em high 3 good bad subhumanoid clean shaven clean slate clear present danger clerks client clifford cobb color night confessions sorority girl cool surface cool crazy cops robbersons corrina corrina cowboy way cremaster cycle crooklyn crow crumb cyborg 3 recycler d2 mighty ducks dallas connection deadly target death maiden death wish v face death dinosaur island disclosure drink water doomsday gun double dragon dream lover drop zone dumb dumber ed wood emmanuelle space even cowgirls get blues exit eden f w fantastic four fast getaway ii favor fear black hat flintstones foot shooting party force forrest gump frank jesse fresh gang war bangin' little rock gary larson's tales far side getaway getting even dad gift girlie show live go fish god wants forgive golden gate greedy guarding tess guinevere gunmen hail caesar hated gg allin murder junkies hidden ii highlander iii sorcerer holy matrimony honey shrunk audience hoop dreams house party 3 west fun hudsucker proxy hate las vegas anymore like like love trouble i'll anything q imaginary crimes immortal beloved search dr seuss army inkwell intersection interview vampire iron life could happen cost nothin' say good morning pat jacob jason's lyric jimmy hollywood junior kickboxer 4 kill moonlight killing zoe knight rider 2010 land time ii great valley adventure lassie last seduction legends fall leprechaun 2 life billy lion king little big league little buddha little giants little odessa little rascals little women love affair love 45 low dirty shame lurking fear major league ii mary shelley's frankenstein mask maverick men war midnight run life midnight runaround milk money million juan miracle 34th street mixed nuts molly gina monkey trouble monster mrs parker vicious circle multi facial father hero girl 2 summer story naked gun 33⅓ final insult national lampoon's last resort natural born killers nell neverending story iii escape fantasia next karate kid dessert dad till mow lawn night axe escape nobody's fool north deadly ground one survivor remembers darkness pcu pagemaster paper party pentathlon pet shop phantasm iii lord dead police academy mission moscow pontiac moon prêt à porter princess caraboo pulp fiction pumpkinhead ii blood wings puppet master 5 final chapter puppet masters quiz show radio inside radioland murders rapa nui raw justice reality bites ref renaissance man revenge nerds iv nerds love richie rich river wild road wellville roadracers romeo bleeding roswell jungle book f w sabotage santa clause scooby doo arabian nights scout search one eye jimmy sesame street jam musical celebration secret roan inish serial mom shadow shatter dead shawshank redemption silence hams silent fall silent tongue simple twist fate sioux city sleep spanking monkey specialist speechless speed squanto warrior's tale stand star trek generations stargate street fighter stoned age sugar hill surviving game swan princess swimming sharks teresa's tattoo terminal velocity texas chainsaw massacre next generation that's entertainment iii threesome thumbelina time chasers time heal timecop tom viv trapped paradise trial jury troll central park troublemakers true lies undefeatable vanya 42nd street visual bible acts wagons east war wes craven's new nightmare happened man loves woman white fang 2 myth white wolf whore ii widows' peak honors without warning witness execution wolf world time enough wyatt earp yearling crazy 3 ninjas knuckle suspicion ace ventura nature calls addiction amanda alien amazing panda adventure american president angela angels insects angus apollo 13 assassins attack 60 foot centerfold aurora operation intercept babe baby sitters club bad boys bad company balto bang basketball diaries batman forever baywatch movie forbidden paradise sunrise beyond rangoon big green billy madison black scorpion bloodfist vi ground zero bloodfist vii manhunt blue face born wild boys life boys side brady bunch movie braveheart bridges madison county brothers mcmullen bucket blood bushwhacked bye bye love canadian bacon candyman 2 farewell flesh carnosaur 2 casino casper castle freak catherine great celluloid closet chicken outer space children corn iii urban harvest citizen x clockers clueless coldblooded computer wore tennis shoes congo copycat cover crimson tide crossing guard cry beloved country cure cutthroat island cyborg cop ii dangerous minds dead man dead man walking dead presidents demon knight desperado devil blue dress die hard vengeance dolores claiborne juan demarco hang tough guy doom generation dr jekyll ms hyde dracula dead loving dream little dream 2 dying rooms ebbie empire records escape witch mountain evolver eyes beyond seeing faces death 5 fair game fall time far home adventures yellow dog father bride part ii first knight flirt fluke forget paris four rooms free willy 2 adventure home french kiss friday friendship's field frisk journals jean seberg mixed files mrs basil e frankweiler full body massage funny bones gate heavenly peace georgia get shorty glass shield go gold diggers secret bear mountain goofy movie gordy great mom swap grumpier old men gumby movie hackers halloween curse michael myers harrison bergeron haunted heat heavy heavyweights come munsters hideaway high crack street higher learning hills eyes iii home movies home holidays houseguest make american quilt howling new moon rising hunted ice cream man immortals mouth madness incredibly true adventure two girls love indian cupboard indictment mcmartin trial infiltrator takes two jack jade jefferson paris jeffrey jerky boys movie johnny mnemonic joseph josh kirby time warrior judge dredd jumanji jury duty cause kicking screaming kid king arthur's court kidnapped kids kiss death land time iii time great giving last supper last dogmen leaving las vegas let life 101 little princess live nude girls living oblivion living sea liz elizabeth taylor story lord illusions losing isaiah mad love maddening magic water magic island film major payne mallrats man house man year mangler margaret's museum message love miami rhapsody midwinter's tale mighty aphrodite mighty morphin power rangers movie money train monster mash moonlight valentino mortal kombat mortal kombat journey begins mr holland's opus multi facial murder first antonia family national lampoon's senior trip nature beast net never talk strangers new jersey drive nick time night watch night moment nine months nixon exit nona tapes operation dumbo drop othello woman outbreak palookaville panther parallel sons party girl passion darkly noon payback pebble penguin perez family personal journey martin scorsese american movies persuasion picture bride piranha pocahontas powder power within problem child 3 junior love prophecy quick dead rack shack benny reckless requiem restoration richard iii rob roy roommates runaway brain sabrina safe sailor moon supers movie scarlet letter screamers sense sensibility seven set shock treatment showgirls skin slam dunk ernest slave dreams sleepstalker smoke soldier boyz something talk species spin spirit christmas stars fell henrietta stonewall strange days stuart saves family sudden death surrogate tales hood tall tale tank girl theodore rex thief cobbler things denver dead three wishes tie binds die wong foo thanks everything julie newmar limit tom huck tommy boy top dog toy story trinity beyond truman twelve monkeys two bits siege 2 dark territory underneath unzipped usual suspects vampire brooklyn village damned virtuosity waiting exhale walk clouds walking dead waterworld welcome dollhouse west side waltz sleeping white man's burden wife wigstock movie wild bill wild side wings courage without evidence wrong woman 101 dalmatians 2 days valley adrenalin fear rush adventures pinocchio aladdin king thieves alaska alien nation millennium alien nation enemy within dogs go heaven 2 amityville dollhouse andersonville arrival associate august back back bad moon barb wire basquiat bastard carolina beast beautiful girls beavis butt head america bed roses best best 3 turning back big bully big night bio dome birdcage black sheep black sun blood brothers blood wine bloodsport ii next kumite bottle rocket bound box moon light boys boys next door brain candy brassed breaking waves broken arrow bullet bulletproof busted butch camp cable guy camp stories cannes man cannibal musical carnosaur 3 primal species carpool carried away celtic pride chain reaction chamber cherokee kid children corn iv gathering christmas every day cinema europe hollywood citizen ruth city hall clancy's kitchen close color brisk leaping day cosmic voyage courage fire craft crossworlds cremaster cycle crow city angels crucible curdled d3 mighty ducks daddy's girl dallas j r returns daylight daytrippers dead man's island deadly outbreak dear diary dear god death compass demolition high denise calls dentist diabolique diary camper menace south central drinking juice hood look back dorf diamond periscope dragonheart drawing flies dream insomniac dunston checks east palace west palace ed ed's next move eddie emma empty mirror english patient entertaining angels dorothy day story eraser escape l evening star everyone says love evita executive decision extreme measures eye eye face faces death vi faithful family thing fan fargo fear feeling minnesota fetishes fever lake fire mountain first kid first wives club fled flipper flirting disaster fly away home follow home hope foxfire freeway frequent flyer frighteners dusk till dawn frostbiter wrath wendigo funeral gang blue generation x get bus getting away murder ghost darkness ghosts mississippi giant mine girl 6 girls town glimmer man gone night gotti grace heart grave gray's anatomy great white hype hamlet happy gilmore hard eight harriet spy heaven's prisoners heidi fleiss hollywood madam hellraiser bloodline high school high hollow point homeward bound ii lost san francisco house arrest hunchback notre dame hustler white hype love love shot andy warhol i'm rappaport lucy fell walls could talk cold blood love war independence day infinity irma vep island dr moreau party jack jake's women james giant peach jane eyre jerry maguire jimmy zip jingle way joe's apartment johns juror luck kama sutra tale love kansas city kazaam killer journal murder kingpin kounterfeit land time iv journey mists larger life last angel history last dance last days frankie fly last man standing late shift lawnmower man 2 beyond cyberspace lewis clark george listen little riders little witches loch ness london suite lone star long day's journey night long kiss goodnight looking richard love lumière company mad dog time magenta malicious man captured eichmann manny lo mars attacks marvin's room mary reilly matilda maximum risk memory run merlin's shop mystical wonders michael michael collins mirror two faces mission impossible mojave moon moll flanders mother mother night mother's instinct mr wrong mrs santa claus mrs winterbourne mulholland falls multiplicity muppet treasure island fellow americans mystery science theater 3000 movie night hunter norma jean marilyn nutty professor one fine day one got away orientation original gangstas son matchmaker pallbearer pandora's clock paradise lost child murders robin hood hills people vs larry flynt phantom phat beach phenomenon pie sky pinocchio's revenge poison ivy ii lily pompatus love portrait lady preacher's wife primal fear proprietor public enemies puddle cruiser quest race sun ransom rasputin dark servant destiny red ribbon blues return techno destructo rich man's wife riders purple sage rock romeo juliet sabrina teenage witch samson delilah santa claws santa muscles schizopolis scream set sgt bilko cried one shiloh silent trigger skin bone sleepers sling blade snowboard academy solo sometimes come back space jam space truckers special effects anything happen spitfire grill spy hard star trek first contact stealing beauty stolen memories secrets rose garden story healing striptease stupids substance fire substitute sunchaser sunset park surviving picasso susie q sweet temptation swingers tales erotica talk tender fictions thing thin line love hate thinner ticket new year's time kill tin cup titanic brave alaska gillian 37th birthday sir love ii toad warrior toilers wayfarers tornado trees lounge tremors 2 aftershocks trigger effect trilogy terror ii tromeo juliet true crime truth cats dogs twisted desire twister two much unforgettable unhook stars unlikely angel close personal brady sequel walking talking war home watermelon woman wedding bell blues werewolf kings white squall whole wide world windsor protocol winner wish upon star studio zarkorr invader first harm 12 angry men 20 000 leagues sea 20 000 leagues sea 4 little girls 8 heads duffel bag aberration absolute power addicted love afterglow law air force one alarmist alaska spirit wild albino alligator alien resurrection alien nation udara legacy american perfekt alan smithee film burn hollywood burn american werewolf paris amistad anaconda anastasia angels endzone anna karenina anthem beauty apostle good gets assignment asteroid austin powers international man mystery b p back business bang batman robin bean beautician beast beauty beast enchanted christmas utopia best bad thing best men better place beverly hills ninja big one black scorpion ii aftershock blood oranges bloodsport iii bongwater boogie boy boogie nights booty call boxer boys life 2 brave breakdown breast men broadway damage brooklyn state mind buddy butcher boy campfire tales cannibal rollerbabes casper spirited beginning cats dance chasing amy chicago cab chinese box christmas carol city industry clockwatchers commandments common bonds con air conspiracy theory contact cop land coven crayola kids adventures cremaster cycle crossed swords crowned dangerous danger zone dangerous ground dante's peak deconstructing harry def jam's player defying gravity demolition university detective conan time bombed skyscraper devil's advocate different strokes dogtown donnie brasco double team dream fishes edge eight days week elevated elvis meets nixon end violence ernest goes africa eve's bayou event horizon ex excess baggage face fairytale true story fakin' da funk fast cheap control fathers' day favorite son fierce creatures fifth element fire firehouse firelight first time felon flash flubber flying saucer rock'n'roll free willy 3 rescue fools rush richer poorer full tilt boogie future war g jane game gang related gattaca george wallace george jungle geri's game get clue ghosts going way gone fishin' good burger good hunting goodbye america grateful dead downhill gridlock'd grosse pointe blank hacks hands hard body documentary hard eight hav plenty henry fool hercules highball hitler home alone 3 honey shrunk hoodlum house yes hugo pool hurricane streets know last summer married strange person i'm bout ice storm company men gloaming inferno informant intensity inventing abbotts water jackal jackie brown jane eyre jungle 2 jungle jungle emperor leo time write justice league america keeping promise keys tulsa kiss girls knockin' heaven's door kull conqueror kundun l confidential land time v mysterious island last stand saber river last time committed suicide latter day saints lawn dogs leave beaver leprechaun 4 space lewis clark george liar liar liberty life less ordinary little city little red riding hood lolita lost highway lost world jurassic park love jones love death long island love valour compassion lovelife lucky three mpg motion picture genocide mad city man knew little masterminds matchmaker mchale's navy mean guns meet wally sparks member wedding men black men guns metro midas touch midnight garden good evil mighty ducks movie first face mimic miss evers' boys money talks monty roberts real horse whisperer mortal kombat annihilation wanted mousehunt mr magoo mrs dalloway murder 1600 best friend's wedding teacher ate homework myth fingerprints nevada niagara niagara night falls manhattan night flier night demons 3 nightwatch northern lights nothing lose nowhere odyssey office killer oliver twist omega doom 2nd day christmas edge innocence one eight seven one night stand orgazmo oscar lucinda sea painted angels paradise road peacemaker perfect body pest picture perfect playing god poison ivy new seduction police 2020 pooh's grand adventure search christopher robin postman preaching perverted prefontaine pressurecooker private parts pullet surprise quicksilver highway quiet days hollywood rainmaker red corner relic river made drown robinson crusoe rocketman romy michele's high school reunion rosewood rough riders running time sick life death bob flanagan supermasochist saint saint ex scream 2 second jungle book mowgli baloo selena seven years tibet shadow conspiracy lovely shrieker simple wish six ways sunday 6th man smile like snow white tale terror soul food space marines spaceman spanish prisoner spawn speed 2 cruise control sprung star kid starship troopers steel stranger house strategic command strawberry fields suicide kings sunday super speedway swan princess ii escape castle mountain swept sea switchback telling lies america darn cat old feeling world fireworks thousand acres 'til titanic top world touch toothless touch tower terror traveller trekkies trial error trojan war truth consequences n turbo power rangers movie turbulence twilight golds twisted u turn ulee's gold wraps vampire journals vanishing point vegas vacation velocity trap volcano waco rules engagement wag dog waiting guffman warriors virtue washington square weapons mass distraction welcome sarajevo deaf man heard wild america wings dove winter guest wishmaster woodlanders wrong guy year horse young thugs innocent blood young dangerous 4 zeus roxanne 20 dates 54 addams family reunion adventures sebastian cole almost heroes ambushed american history x alan smithee film burn hollywood burn another day paradise antz apt pupil armageddon avengers b monkey babe pig city baseketball belly beloved big hit big lebowski billy's hollywood screen kiss black dog blade blues brothers 2000 break bride chucky broken vessels brown's requiem buffalo '66 bug's life bulworth can't hardly wait casper meets wendy caught celebrity chairman board city angels civil action clay pigeons cousin bette curse puppet master curve dance dancer texas pop 81 dancing lughnasa dangerous beauty dark city dead man campus deep impact deep rising dennis menace strikes dentist 2 desert blue desperate measures digging china dirty work disturbing behavior dr dolittle delta drive edge seventeen eighteenth angel enemy state ever faculty fallen farm angola usa fear loathing las vegas finding graceland firestorm gingerbread man god said ha gods monsters godson godzilla goodbye lover great expectations hairy bird half baked halloween h20 20 years later happiness hard rain got game hell's kitchen hi lo country high art holy man home fries homegrown hope floats horse whisperer stella got groove back make cruelest month hurlyburly hush got hook still know last summer i'll home christmas illuminata impostors jack frost jane austen's mafia judas kiss killer flick kissing fool knock krippendorf's tribe kurt courtney last days disco last days lenny bruce swear tell truth les misérables let's talk sex lethal weapon 4 life times hank greenberg lion king ii simba's pride living loud lost space lulu bridge madeline major league back minors man iron mask mask zorro meet joe black meet deedles melting pot mercury rising mighty joe young mighty mighty kong montana monument ave mulan music another room giant naked man negotiator new rose hotel newton boys next stop wonderland night roxbury looking back object affection october 22 odd couple ii one tough cop one true thing opposite sex sight outside ozona overnight delivery palmetto parent trap patch adams pauli pecker pentagon wars perfect murder permanent midnight phantasm iv oblivion phantoms phoenix pi players club playing heart pleasantville polish wedding poodle springs practical magic price rubies primary colors prince egypt psycho quest camelot rat pack reach rock regret inform replacement killers restaurant return paradise riddler's moon ride ringmaster ronin rounders rudolph red nosed reindeer movie rugrats movie rush hour rushmore safe men saving private ryan savior second arrival senseless shadrach shakespeare love siege simon birch simple plan since gone six days seven nights six string samurai slam slappy stinkers slums beverly hills small soldiers smoke signals snake eyes soldier somewhere city sour grapes species ii sphere spice world star trek insurrection stepmom strangeland suicide kings target zero ii tarzan lost city there's something mary thick thieves thin red line truman show twilight u marshals urban legend vampires bad things waterboy wedding singer dreams may come fools fall love wide awake wild things without limits woo wrongfully accused x files friends neighbors got mail zero effect 10 things hate 13th warrior 200 cigarettes 4th floor 8mm adventures elmo grouchland american beauty american movie american pie analyze angel's dance animal farm anna king annie given sunday anywhere arlington road astronaut's wife first sight atomic train austin powers spy shagged baby geniuses bachelor bats john malkovich bellyfruit beowulf best laid plans best man beyond mat bicentennial man big daddy big kahuna black white blair witch project blast past blue streak bone collector boondock saints bowfinger boys cry breakfast champions bringing dead brokedown palace i'm cheerleader chill factor chutney popcorn cider house rules coming soon corruptor cradle rock crazy alabama crimson code cruel intentions deep blue sea deep end ocean deterrence detroit rock city deuce bigalow male gigolo dick dill scallion dog flanders dogma double jeopardy drop dead gorgeous dudley right edtv election end days entrapment entropy existenz eye beholder eyes wide shut fantasia 2000 fight club flawless florentine love game forces nature friends lovers galaxy quest general's daughter ghost dog way samurai girl interrupted gloria go green mile guinevere happy texas haunting heaven vegas held hi line house haunted hill hurricane ideal husband idle hands dreams deep insider inspector gadget instinct iron giant jakob liar jawbreaker jesus' son joe king little harmless sex ticket k 911 king kiss sky kiss toledo goodbye lake placid liberty heights life light limey lost found love stinks lovers lane lycanthrope magnolia man century man moon map world mating habits earthbound human matrix message bottle messenger story joan arc mickey blue eyes midsummer night's dream miss julie mod squad mr death mumford mummy muppets space muse music heart favorite martian voyage italy mystery alaska mystery men never kissed ninth gate ninth street notting hill october sky office space omega code one man's hero sister friend martin p u n k passion ayn rand passport paris payback play bone pushing tin rage carrie 2 random hearts ravenous retro puppet master revelation aka apocalypse rites passage runaway bride runner simon sez simply irresistible sixth sense sleepy hollow slipping life snow falling cedars south park bigger longer uncut speedway junky star wars episode phantom menace stigmata stir echoes storm story us straight story stuart little summer sam superstar sweet lowdown talented mr ripley tarzan teaching mrs tingle championship season thicker water thirteenth floor thirteenth year thomas crown affair three kings three tango titus toy story 2 trippin' true crime tumbleweeds twin falls idaho universal soldier return varsity blues virgin suicides virus waiting game wakko's wish walk moon walking across egypt day breaks whiteboyz wild wild west wing commander winnie pooh seasons giving wisconsin death trip woman chaser woman scorned wood 102 dalmatians 28 days 3 strikes 6th day across line adventures wild california adventures rocky bullwinkle pretty horses almost famous american psycho animal factory art war autumn new york bait ballad ramblin' jack bamboozled battlefield earth beach beat beautiful beautiful joe bedazzled night falls best show big momma's house big tease bless child boiler room book shadows blair witch 2 bounce boy named sue boys girls bring broken hearts club romantic comedy brother cast away cecil b demented cell center stage charlie's angels cherry falls chinese coffee chocolat chuck buck contender coyote ugly crew crossing digimon movie dinosaur dr women dracula 2000 drowning mona dude where's car duets dungeons dragons emperor's new groove erin brockovich everlasting piece eyes tammy faye family man final destination finding forrester flintstones viva rock vegas love country arturo sandoval story frequency get carter gift girl girlfight gladiator golden bowl gone 60 seconds gossip gun shy hamlet hanging held earth high fidelity highlander endgame hollow man house mirth grinch stole christmas kill neighbor's dog dreamed africa icebreaker crowd arms strangers stories kindertransport great ivans xtc joe gould's secret one night keeping faith kid ladies man last producer legacy legend bagger vance little nicky little vampire long night's journey day loser lost souls love basketball lucky numbers maryam maze irene meet parents memento men honor mercy streets million dollar hotel miss congeniality mission mars mission impossible 2 dog skip 5 wives next best thing next friday nothin' 2 lose nutty professor ii klumps nurse betty brother art thou opportunists original kings comedy song panic passion mind patriot pay forward perfect storm picking pieces pitch black pollock poor white trash price glory prince central park proof life psycho beach party quills ready rumble reckless indifference red planet reindeer games remember titans replacements requiem dream return road el dorado road trip romeo must die rugrats paris movie rules engagement scarecrow scary movie scottsboro american tragedy scream 3 screwed seventeen sexy beast shadow vampire shaft shanghai noon shriek know last friday thirteenth skulls small time crooks smokers snatch snow day songcatcher sound fury space cowboys specials steal movie supernova tao steve terror tract things tell looking thirteen days thomas magic railroad tigerland tigger movie timecode titan e traffic tripfall turn u 571 unbreakable suspicion villa urban legends final cut vertical limit visit waking dead watcher way gun lies beneath planet women want whatever takes heart money whipped whole nine yards woman top wonder boys x men yards count 15 minutes 3 3000 miles graceland artificial intelligence affair necklace ali guy along came spider amati girls america's sweethearts american astronaut american outlaws american pie 2 american rhapsody amy's orgasm angel eyes animal anniversary party antitrust atlantis lost empire baby boy bandits bartleby beautiful mind behind enemy lines believer big bad love black hawk black knight blow bones boom sound eviction boy named sue brothers bubble boy buffalo soldiers bully business strangers captain corelli's mandolin cat's meow cats dogs caveman's valentine center world corky romano cq crazy beautiful crocodile dundee los angeles cruel intentions 2 curse jade scorpion deep end delivering milo den dogtown z boys domestic disturbance say word donnie darko double take earth dr dolittle 2 driven dumb luck earth vs spider elvira's haunted hills enemy gates escape hell evolution exit wounds fast furious festival cannes final fantasy spirits within finder's fee fluffer forsaken frailty freddy got fingered hell full frontal get ghost world ghosts mars glass house glitter god give week's notice good neighbor gosford park grey zone hannibal hardball harry potter sorcerer's stone harvard man head heels heartbreakers hearts atlantis hedwig angry inch heist herman u high make monster human nature sam bedroom jay silent bob strike back jeepers creepers jimmy neutron boy genius jimmy show joe dirt joe somebody josie pussycats joy ride jurassic park iii visiting k pax kate leopold kill later kingdom come kiss dragon kissing jessica stein knight's tale knockaround guys l e lara croft tomb raider last castle laughter 23rd floor legally blonde life house lloyd lord rings fellowship ring lost skeleton cadavra lovely amazing majestic man max keeble's big move megiddo omega code 2 mexican mockingbird sing monkeybone monsoon wedding monster's ball monsters inc month sundays moulin rouge mulholland drive mummy returns murder sunday morning musketeer big break big fat greek wedding first mister another teen movie novocaine ocean's eleven line one one night mccool's original sin osmosis jones others cold black pact pearl harbor perfume piñero planet apes pledge pootie tang princess diaries rat race recess school's revolution os riding cars boys rock star royal tenenbaums rush hour 2 safety objects save last dance saving silverman say scary movie 2 score scotland pennsylvania scratch see spot run serendipity session 9 shallow hal creature shipping news shrek shrink sidewalks new york someone like soul survivors southern comfort southlander spy game spy kids storytelling sugar spice summer catch super troopers sweet november swordfish tailor panama tape thirteen conversations one thing thirteen ghosts end wars tomcats tortilla soup town country training day two play game uprising valentine vanilla sky waking life wash wedding planner west 47th street wet hot american summer what's worst could happen strangers appear zeros zoolander 13 moons 25th hour 40 days 40 nights 8 mile abandon boy schmidt adaptation adventures pluto nash benjamins analyze antwone fisher austin powers goldmember auto focus avenging angelo baby beethoven baby newton back midnight bad company ballistic ecks vs sever banger sisters barbershop better luck tomorrow big fat liar big trouble biggie tupac birthday girl blade ii blood work blue crush book love bourne identity bowling columbine brown sugar bubba ho tep burial society buying cow cabin fever carrie catch chance changing lanes chat room chelsea walls chicago ciao america cinderella 2 dreams come true movie city sea city ghosts civil brand clockstoppers cockettes collateral damage crocodile hunter collision course comedian confessions dangerous mind count monte cristo country bears crazy hell crossroads cypher dancer upstairs dangerous lives altar boys dark blue darkness daughter da nang death smoochy demon island deuces wild divine secrets ya ya sisterhood dragonfly drumline easy listening eight crazy nights eight legged freaks emperor's club empire enough equilibrium evelyn far heaven feardotcom first 20 million always hardest frida friday next four feathers full frontal gangs new york ghost ship good girl groom lake guru guys half past dead halloween resurrection harry potter chamber secrets hart's war hey arnold movie high crimes highway hollywood ending home room hot chick hours hysterical blindness spy ice age igby goes impostor interstate 60 insomnia jackass movie jason x john q jonah veggietales movie juwanna mann k 19 widowmaker k 9 p kid stays picture killing softly kiss bride kung pow enter fist laramie project last call laurel canyon life something like like mike lilo stitch lord rings two towers maid manhattan man elysian fields master disguise men black ii minority report moonlight mile mothman prophecies mr deeds murder numbers big fat greek wedding narc national lampoon's van wilder new best friend new guy nicholas nickleby night golden eagle line one hour photo orange county paid full panic room path war personal velocity three portraits pinocchio poolhall junkies possession powerpuff girls movie prisoner paradise pumpkin punch drunk love queen damned quiet american r v p real women curves red dragon reign fire return never land ring ripley's game road perdition roger dodger rollerball rookie rules attraction s1m0ne salton sea santa clause 2 scooby doo scorpion king secret lives dentists secretary serving sara showboy showtime singles ward signs slackers snow dogs solaris sorority boys spellbound spider man spirit stallion cimarron spun spy kids 2 island lost dreams star wars episode ii attack clones star trek nemesis state property stealing harvard stevie stolen summer stuart little 2 sum fears sunshine state sweetest thing sweet home alabama swept away swimfan tadpole time changer time machine timequest transporter trapped treasure planet trials henry kissinger truth charlie tuck everlasting tuxedo two weeks notice undercover brother undisputed unfaithful waking reno walk remember soldiers welcome collinwood white oleander wild thornberrys movie windtalkers xxx zig zag 11 14 101 dalmatians ii patch's london adventure 2 fast 2 furious 21 grams 44 minutes north hollywood shoot abby singer afro punk agent cody banks aileen life death serial killer alex emma alien hunter real girls amandla revolution four part harmony american splendor american wedding anger management anne b real anything else baadasssss bad boys ii bad santa basic battle shaker heights bells innocence best two years beyond borders big fish biker boyz black cadillac blind horizon blizzard boat trip bringing house bringing rain brother bear brown bunny bruce almighty bulletproof monk camp carolina casa de los babys cat hat charlie's angels full throttle chasing papi cheaper dozen christmas child coffee cigarettes cold creek manor cold mountain comandante company confidence cooler core cosmopolitan cradle 2 grave crime spree daddy day care daredevil dark blue darkness falls deliver us eva devil's pond dickie roberts former child star le divorce love dreamcatcher dumb dumberer harry met lloyd duplex dysfunktional family elephant elf evil alien conquerors faster festival express fighting temptations final destination 2 finding nemo flywheel fog war freaky friday freddy vs jason justin kelly gang roses gigli gods generals good boy gothika grand theft parsons grind guy thing haunted mansion head state hey dj holes hollywood homicide honey hope springs house 1000 corpses house sand fog house dead deal lose guy 10 days hulk human stain hunted david identity imagining argentina cut laws indigo intolerable cruelty runs family italian job jeepers creepers ii jungle book 2 married kangaroo jack kill bill volume 1 lara croft tomb raider cradle life last samurai league extraordinary gentlemen legally blonde 2 red white blonde life david gale lizzie mcguire movie looney tunes back action lord rings return king lost translation love cost thing malibu's wanted man apart manhood marci x masked anonymous master commander far side world matchstick men matrix reloaded matrix revolutions may medallion mighty wind milwaukee minnesota missing mona lisa smile monster monster man boss's daughter flesh blood mystic river national lampoon presents dorm daze national lampoon's gold diggers national security night called day old school upon time mexico open range open water order time party monster paper soldiers pauly shore dead paycheck peter pan phone booth pieces april piglet's big movie pirates caribbean curse black pearl poolhall junkies prey rock roll puppet master legacy quicksand radio real cancun recruit room rugrats go wild runaway jury rundown w scary movie 3 school rock seabiscuit secondhand lions shanghai knights shattered glass sinbad legend seven seas singing detective sky blue something's gotta give spy kids 3 game station agent stuck tarnationthe tears sun terminator 3 rise machines testosterone texas chainsaw massacre thirteen girl's life thing timeline tupac resurrection two days uncle nino tuscan sun underworld uptown girls v day violence stops veronica guerin view top girl wants eagles strike willard wonderland wrong turn x2 x men united yes men young black stallion zero day 13 going 30 50 first dates sunset ropes agent cody banks 2 destination london alamo alexander alfie alien vs predator along came polly america's heart soul anacondas hunt blood orchid anchorman legend ron burgundy around bend around world 80 days assassination richard nixon aviator barbershop 2 back business sunset julia benji leash best thief world beyond sea big bounce birth blade trinity black cloud blue butterfly bobby jones stroke genius book love born brothels bourne supremacy breakin' rules bridget jones edge reason brother brother butterfly effect catch kid catwoman cellular celsius 41 11 chasing liberty christmas kranks chronicles riddick cinderella story clearing clifford's really big movie closer cloud cuckoo land club dread collateral communication breakdown confessions teenage drama queen connie carla control room cookout crash criminal e b dawn dead day tomorrow day without mexican de lovely dead breakfast dead birds dig dirty dancing havana nights dirty shame dodgeball true underdog story door floor drum ella enchanted envy eternal sunshine spotless mind exorcist beginning eurotrip fade black fahrenheit 9 11 fat albert finding neverland final cut first daughter flight phoenix forgotten forty shades blue friday night lights gamebox 1 0 garden state garfield movie girl next door godsend godzilla final wars grudge hair show harold kumar go white castle harry potter prisoner azkaban heights hellboy summer hidalgo highwaymen home end world home range hotel rwanda hunting president heart huckabees robot imaginary heroes incredibles good company jailbait jandek corwood jersey girl johnson family vacation keane kill bill volume 2 king arthur kinsey knots ladder 49 ladykillers land eyes last shot lemony snicket's series unfortunate events life death peter sellers life aquatic steve zissou little black book love song bobby long man fire manchurian candidate maria full grace mean creek mean girls meet fockers merchant venice melinda melinda million dollar baby mindbenders mindhunters miracle misbehavers modigliani mojados night mondovino motorcycle diaries mr 3000 baby's daddy mysterious skin napoleon dynamite national treasure never die alone new york minute noel notebook november ocean's twelve otaku unite p palindromes paparazzi passion christ perfect score phantom opera polar express primer prince princess diaries 2 royal engagement proud punisher raise voice raising helen ray riding giants riding bullet ripley's game saved saw scooby doo 2 monsters unleashed secret window seed chucky shall dance shark tale hate shrek 2 sideways six mark unleashed silver city sky captain world tomorrow sleepover kind monster soul plane spanglish spartan speak spider man 2 spongebob squarepants movie stage beauty starsky hutch stateside stepford wives straight jacket super size superbabies baby geniuses 2 surviving christmas suspect zero taking lives taxi teacher's pet team america world police terminal torque troy twisted tying knot undertow university heights van helsing vanity fair long engagement village voces inocentes voices iraq walking tall wake death watermarks live anymore welcome mooseport loved white chicks whole ten yards wicker park win date tad hamilton winter solstice deliberate speed without paddle woman thou art loosed woodsman work glory year yao got served 40 year old virgin 51 birch street adventures sharkboy lavagirl 3 æon flux aliens deep alone dark amityville horror yet aristocrats assault precinct 13 bad news bears ballad jack rose batman begins baxter cool beauty shop winn dixie bee season bewitched bigger sky boogeyman brick brokeback mountain broken flowers brothers grimm capote casanova cave charlie chocolate factory cheaper dozen 2 chicken little chronicles narnia lion witch wardrobe chumscrubber cinderella man coach carter constantine corpse bride crow wicked prayer cruel world cry_wolf cursed daltry calhoun dark water deepwater derailed derby stallion deuce bigalow european gigolo devil's rejects diary mad black woman dirty love dominion prequel exorcist domino come knocking doom dreamer duck dukes hazzard duma dying gaul elektra elizabethtown enron smartest guys room everything illuminated exorcism emily rose family stone fantastic four favela rising fever pitch first descent flightplan fog forty shades blue four brothers frankenstein vs creature blood cove fun dick jane game lives get rich die tryin' getting played goal gospel good night good luck great raid greatest game ever played green street grizzly man guess happy endings harry potter goblet fire minor thing herbie fully loaded hide seek history violence hitch hitchhiker's guide galaxy honeymooners hoodwinked hostage hostel house house wax hustle flow ice harvest ice princess shoes mix inside deep throat intermedio interpreter blue island jacket jarhead junebug friends like heaven kicking screaming kids america king kong king's ransom kingdom heaven kiss kiss bang bang l riot spectacular land dead lassie last days league gentlemen's apocalypse legend zorro lonesome jim long distance longest yard lord war lords dogtown lost city lot like love mad hot ballroom madagascar man man house marilyn hotchkiss' ballroom dancing charm school matador match point everyone know memoirs geisha mirrormask miss congeniality 2 armed fabulous monster law mostly unfabulous social life ethan green mr mrs smith mrs palfrey claremont munich murderball must love dogs nanny mcphee never thawed new world neverwas new york doll nine lives direction home north country pacifier perfect man pooh's heffalump movie popstar pretty persuasion prime prize winner defiance ohio producers proof racing stripes rebound red eye rent ring two ringer rize robots roll bounce rumor sahara sarah silverman jesus magic saw ii serenity shadowboxer shopgirl sin city sisterhood traveling pants sisters skeleton key sky high smile son mask sound thunder squid whale star wars episode iii revenge sith stay stealth street fight supercross syriana thing folks three burials melquiades estrada thru moebius strip thumbsucker traci townsend transamerica transporter 2 two money underclassman undiscovered unfinished life upside anger venom waiting walk line war worlds war within weather man wedding crashers wedding date truth lies white noise fight world's fastest indian xxx state union mine zathura 45 10 items less 10th wolf 16 blocks 29 reasons run 8th plague 9 tenths k tommy chong abominable accepted air guitar nation akeelah bee al franken god spoke alibi king's men alone amazing grace america freedom fascism american blackout american dreamz american hardcore analog days andy warhol documentary film annapolis another gay movie ant bully apocalypto aquamarine architect art school confidential artie lange's beer league like asian stories ask dust astronaut farmer atl automaton transfusion automatons awesome fuckin' shot babel bambi ii barnyard basic instinct 2 beach party threshold hell beerfest behind mask rise leslie vernon bella benchwarmers beyond conviction bickford shmeckler's cool ideas big bad swim big bad wolf big dreams little tokyo big momma's house 2 black christmas black dahlia black gold blind dating blood diamond blood tea red string bloody mary bobby borat cultural learnings america make benefit glorious nation kazakhstan bordertown brand upon brain breaking entering break breed bridge broken bridges busgirl caffeine cars casino royale catch fire cats mirikitani chalk charlotte's web chasing horizon children men christmas maxwell's church ball civic duty clear cut story philomath oregon clerks ii click cocaine cowboys coffee date color cross come early morning contract copying beethoven covenant crank crossover crude impact curious george curiosity chance da vinci code daft punk's electroma dance party usa danika danny roane first time director dark corners dark ride darwin awards date movie dave chappelle's block party day night day night day fire dead girl death poe déjà vu deck halls deliver us evil departed devil daniel johnston devil wears prada diggers disappearances dixie chicks shut sing doa dead alive dog problem dreamgirls dreamland driftwood disaster zone volcano new york east side story employee month encounter point end game end spear eight eragon everyone's hero evil bong expiration date facing giants factory girl failure launch fall fast furious tokyo drift fast food nation fatwa fay grim fifty pills final destination 3 find guilty firewall first snow flags fathers flicka flock dodos flourish flushed away flyboys consideration forget fountain freedomland free jimmy friends money full grown men fur game 6 garfield tail two kitties genius club gi jesus glastonbury glory road god grew tired us good german good shepherd good year goya's ghosts grandma's boy great warming gridiron gang groomsmen grudge 2 guardian guatemalan handshake guide recognizing saints half nelson hamiltons happy feet hard corps harsh times hawk dying header heart steel heart game hills eyes hip hop beyond beats rhymes holiday hollywoodland hollow man 2 home brave hood horror hoot hottest state eat fried worms hurricane bayou want someone eat cheese ice age meltdown idiocracy idlewild illusionist inconvenient truth infamous inland empire inside man insurgents invincible interkosmos iraq sale war profiteers iraq fragments irish jam jackass number two jack smith destruction atlantis jesus camp jewish american princess jimmy judy john tucker must die jonestown life death peoples temple luck kalamazoo karla keeping steins kill darlings kurt cobain son lady water lake house land blind larry cable guy health inspector last kiss last holiday last winter legend simon conjurer let's go prison letters iwo jima lime salted love little chenier little children little man little miss sunshine live freaky die freaky live free die local color lol lonely hearts long weekend loren cass loving annabelle lucky number slevin mad cowgirl madea's family reunion man town man year marie antoinette marine mark damned material girls matthew barney restraint maxed miami vice mini's first time minotaur miss potter modern man monster house monster phantom lake moonshine mustang sally country country mission impossible iii super ex girlfriend nacho libre national lampoon's van wilder rise taj nativity story neil young heart gold night museum night listener night living dead 3d night white pants nightmare man limit jerusalem occupation 101 oh ohio old joy omen lifetime extraordinary story new york cosmos one night king one percent open season hedge painted veil pan's labyrinth paper dolls park peaceful warrior penelope perfume story murderer phat girlz phobic pink panther pirates caribbean dead man's chest poseidon poultrygeist night chicken dead power community cuba survived peak oil premium prisoner planned kill tony blair prairie home companion prestige puff puff pass pulse pursuit happyness quick undead quick pick quinceañera rape sabine women relative strangers return right door robotech shadow chronicles rocky balboa roman romeo juliet sealed kiss room 6 rune running scared running scissors rv goes nation sacco vanzetti santa clause 3 escape clause sasquatch gang saving shiloh saw iii scanner darkly scary movie 4 school scoundrels scoop scott walker 30 century man second chance secret cave see evil sentinel shaggy dog shark bait man sherrybaby shortbus shottas silent hill simon says sleeping dogs lie slither small town gay bar snakes plane snow blind much fast something new sonhos de peixe special stalking santa starter 10 stay alive step stephanie daley stick stranger fiction stormbreaker strawberry shortcake sweet dreams movie subject two suicide killers superman returns swarm snakehead sweet insanity take lead talladega nights ballad ricky bobby teddy bear master tenacious pick destiny texas chainsaw massacre beginning thank smoking film yet rated threat tomorrow today trantasia tristan isolde trust man turistas two weeks u vs john lennon ultraviolet unaccompanied minors underworld evolution undoing unidentified united 93 unrest v vendetta vacationland vanaja waist deep war tapes marshall stranger calls came home killed electric car wicked little things wicker man wild woods wordplay world trade center wristcutters love story x men last stand yellow yeti love story dupree zoom zyzzyx road 10 mph 11th hour 1408 3 10 yuma 30 days night 300 across universe adrift manhattan adventures johnny tao afghan knights sex alibi alice upside aliens vs predator requiem days tomorrow alvin chipmunks american crime american gangster american pastime americanizing shelley anamorph aqua teen hunger force colon movie film theaters arctic tale done yet assassination jesse james coward robert ford august rush autism musical awake balls fury said bee movie devil knows dead believe beowulf beyond belief big stan blades glory blonde ambition blue hour blue state bourne ultimatum bratz movie brave one breach bridge terabithia broken english brooklyn rules brotherhood blood brothers solomon bucket list cake wedding story captivity care bears oopsy cassandra's dream catacombs chapter 27 charlie wilson's war chicago 10 code name cleaner comebacks condemned control crazy love cthulhu daddy day camp daddy's little girls dalai lama renaissance dan real life darfur dark matter day zero dead silence death sentence delta farce devil girl dirty country disturbia diving bell butterfly eastern promises ed gein butcher plainfield elvis anabelle enchanted epic movie evan almighty evening ex extreme movie fantastic four rise silver surfer feel noise finishing game firehouse dog flock bible tells fracture freakshow fred claus freedom writers full game plan gene generation georgia rule ghost rider ghosts abu ghraib girl park glass lips go getter god's ears golden compass gone baby gone good luck chuck good night grace gone gracie great debaters grindhouse hairspray halloween hammer happily n'ever harry potter order phoenix hear heartbreak kid highlander source hills eyes 2 hitcher hitman hoax honeydripper hostel part ii hot rod hunting party american soldier legend could never woman know killed pronounce chuck larry think love wife i'm land women valley elah interview wild invasion invisible itty bitty titty committee joshua juno kickin' old skool killing zelda sparks king kong fistful quarters king punk kingdom kite runner knock knock knocked lady magdalene's lake fire lars real girl last mimzy last sin eater license wed life eyes lions lambs list live free die hard lookout love time cholera lucky lust caution manda bala send bullet margot wedding marigold married life martian child meet robinsons messengers michael clayton mighty heart mist mister lonely modern twain story prince pauper monster camp mother tears moving mcallister mr brooks mr magorium's wonder emporium mr schneider goes washington mr woodcock mr untouchable music lyrics bollywood bride sexiest year nancy drew nanking nanny diaries national treasure book secrets netherbeast incorporated next country old men end sight reservations nobel son norbit normal adolescent behavior numb number 23 ocean's thirteen oh saigon operation homecoming writing wartime experience p love p2 padre nuestro paranoid park passage zarahemla pathfinder perfect holiday perfect stranger persepolis pirates caribbean world's end poughkeepsie tapes premonition press start pride primeval ratatouille reaping redline redrum reign remember daze rendition reno 911 miami reservation road resident evil extinction resurrecting champ rocket science rolling rush hour 3 savage grace savages saw iv seeker seraphim falls shadow puppets shoot 'em shooter showbusiness road broadway shrek third sicko simpsons movie sinner sinners sleuth slipstream smiley face smokin' aces socket spider man 3 spiral stardust star bethlehem starting evening state vine still green stomp yard strange culture stuck suburban girl suffering man's charity sunshine superbad surf's sweeney todd demon barber fleet street talk taxi dark side ten blood things lost fire tmnt transformers underdog vacancy waitress walk hard dewey cox story war war dance water horse legend deep strange welcome nollywood night love secret whisper white noise light who's caddy get married wild hogs wind chill year dog year fish kill youth without youth zodiac 10 000 bc 21 27 dresses 88 minutes accidental husband american carol american teen appaloosa august baby mama babylon ballast bangkok dangerous kind rewind bedtime stories beer horses betrayal nerakhoon beverly hills chihuahua body lies bolt boy striped pyjamas brothers bloom burn reading cadillac records changeling che choke chronicles narnia prince caspian city ember cloverfield college college road trip curious case benjamin button dark knight day earth stood still deal deal death race deception defiance definitely maybe delgo disaster movie doomsday doubt drillbit taylor eagle eye elegy expelled intelligence allowed express eye family preys felon fireflies garden fireproof first sunday flash genius fool's gold forbidden kingdom forever strong forgetting sarah marshall four christmases frost nixon frozen river funny games garden garden party get smart ghost town gran torino hamlet 2 hancock hannah montana miley cyrus best worlds concert happening harold harold kumar escape guantanamo bay haunting molly hartley hellboy ii golden army henry poole hero wanted high school musical 3 senior year horton hears hottie nottie house bunny igor bruges incredible hulk indiana jones kingdom crystal skull inkheart iron man journey center earth jumper kit kittredge american girl kung fu panda lakeview terrace last chance harvey leatherheads love guru longshots lucky ones mad money madagascar escape 2 africa made honor mamma mia man wire marley max payne meet dave meet browns meet spartans midnight meat train milk miracle st anna mirrors mummy tomb dragon emperor best friend's girl sassy girl never back nick norah's infinite playlist nights rodanthe nim's island nothing truth nothing like holidays one missed call boleyn girl dead body passengers pathology patti smith dream life pineapple express pirates anything veggietales movie pray devil back hell pride glory prom night promotion proud american punisher war zone quantum solace quarantine rachel getting married rambo reader redbelt religulous rent filmed live broadway repo genetic opera revolutionary road righteous kill rocker role models ruins saw v secret life bees semi pro seven pounds sex city sex drive shutter sisterhood traveling pants 2 sleepwalking smart people soul men space chimps speed racer spiderwick chronicles spike spirit spy school star wars clone wars step brothers step 2 streets stop loss strange wilderness strangers street kings superhero movie swing vote taken tale despereaux traitor tropic thunder trouble water twilight u2 3d untraceable valkyrie vantage point vicky cristina barcelona visioneers w wackness wall e waltz bashir wanted war inc welcome home roscoe jenkins kill happens vegas happened witless protection women wrestler x files want believe yes man mess zohan zack miri make porno 500 days summer 12 rounds 17 2012 9 adam adventureland life alien trespass aliens attic steve alvin chipmunks squeakquel amelia american violet angels demons answer man arcadia lost armored assassination high school president astro boy avatar away go bad lieutenant port call new orleans bandslam battle terra berdella 2 beyond reasonable doubt big fan blind side boogie town boondock saints ii saints day box bride wars brothers brothers bloom brother's war brothers war brüno c dance capitalism love story carriers chaos experiment christmas carol cirque du freak vampire's assistant cloudy chance meatballs cold souls collector confessions shopaholic coraline couples retreat cove crank high voltage crazy heart cross crossing dance flick hear morgans district 9 drag hell dragonball evolution duplicity echelon conspiracy every little step everybody's fine extract fame fantastic mr fox fast furious fighting final destination fired food inc fragments friday 13th funny people g force g joe rise cobra gallowwalker gamer gentlemen broncos ghosts girlfriends past gigantic girlfriend experience goods live hard sell hard great buck howard grudge 3 halloween ii hangover hannah montana movie harry potter half blood prince haunting connecticut he's hole homecoming horrorween horsemen hotel dogs humpday bad hate valentine's day hope serve beer hell hurt locker love beth cooper love man ice age dawn dinosaurs imagine imaginarium doctor parnassus informant informers inglourious basterds ink international invictus invisible sign invention lying might get loud complicated janky promoters jennifer's body jonas brothers 3d concert experience julie julia knowing labor pains laid rest land lost last house left law abiding citizen life wartime lightkeepers limits control love happens love n' dancing lovely bones lymelife madea goes jail maiden heist management orson welles men stare goats merry gentleman messenger michael jackson's miss march monsters vs aliens motherhood bloody valentine 3d life ruins sister's keeper one new town new moon new york love next day air night museum battle smithsonian nine ninja assassin easily broken forgotten notorious observe report obsessed old dogs opie gets laid orphan pandorum paper heart paul blart mall cop perfect getaway phoebe wonderland pink panther 2 planet 51 post grad powder blue precious princess frog private lives pippa lee proposal public enemies push quantum quest cassini space odyssey race witch mountain road saw vi serious man sherlock holmes shrink shorts single man slammin' salmon soloist sorority row spread star bethlehem star trek state play stepfather street fighter legend chun li surrogates taking pelham 123 taking woodstock tekken tennessee terminator salvation tetro time traveler's wife transformers revenge fallen trick 'r treat true adolescents tyson ugly truth unborn underworld rise lycans uninvited air wah dem watchmen live public goes whatever works wild things whiteout whip world's greatest dad x games 3d movie x men origins wolverine year one young victoria zombieland 127 hours 8 mormon proposition team little help adventures power alice wonderland good things friends funeral singers alpha omega american back plan barry munday bearcity big money rustlas black swan blue valentine book eli bouncing cats bounty hunter brooklyn's finest brutal beauty tales rose city rollers buried burlesque case 39 casino jack casino jack united states money cats dogs revenge kitty galore charlie st cloud chronicles narnia voyage dawn treader city island clash titans client 9 rise fall eliot spitzer company men conviction cop countdown zero country strong crazies crazy outside cyrus date night darkening sky daybreakers dead awake dear john death funeral despicable devil diary wimpy kid dinner schmucks dirty girl due date easy eat pray love twilight saga eclipse edge darkness expendables extra man extraordinary measures fair game faster fighter flipped colored girls freakonomics paris love frozen furry vengeance game death get greek get low going distance good guy greatest green zone greenberg grown ups gulliver's travels happy tears hachiko dog's story harry potter deathly hallows part 1 hereafter holy rollers hot tub time machine know train dragon hubble 3d hurricane season hyenas love phillip morris i'm still inception iron man 2 kind funny story jack goes boating jackass 3 jonah hex joneses wright kaboom karate kid kick ass kids right killer inside killers knight day knucklehead last airbender last exorcism last song leap year legend guardians owls ga'hoole legendary legion let letters god letters juliet life know like dandelion dust little fockers losers lottery ticket love ranch love drugs macgruber machete marmaduke marwencol megamind middle men mirrors 2 morning glory mother child soul take nanny mcphee returns never let go next three days night catches us nightmare elm street guys family wedding paper man paranormal activity 2 passion play percy jackson olympians lightning thief perfect game piranha 3 please give preacher's kid predators prince persia sands time rabbit hole ramona beezus rebound red remember repo men resident evil afterlife robin hood romantics runaways saint john las vegas salt saw vii scott pilgrim vs world secretariat sex city 2 league shrek forever shutter island skyline small town saturday night social network solitary man somewhere sorcerer's apprentice splice spy next door step 3d stone sundowner switch takers tangled tempest tooth fairy town tourist toy story 3 tron legacy true grit twelve unstoppable valentine's day vampires suck waiting superman wall street money never sleeps welcome rileys what's wrong virginia rome get married winnebago man winter's bone wolfman wonderful world yogi bear meet tall dark stranger youth revolt 11 11 11 30 minutes less 35 ticking 50 50 abduction adjustment bureau adventures tintin secret unicorn african cats alvin chipmunks chipwrecked another earth apollo 18 art getting arthur arthur christmas atlas shrugged part bad teacher battle los angeles beastly beats rhymes life travels tribe called quest beaver beginners better life big mommas like father like son big year born wild 3d twilight saga breaking dawn part 1 bridesmaids buck bucky larson born star captain america first avenger carnage cars 2 cedar rapids change chaperone colombiana conan barbarian conspirator contagion courageous cowboys aliens crazy stupid love darkest hour dead stop debt descendants devil's double diary wimpy kid rodrick rules dilemma dirty girl dolphin tale afraid dark double dream house drive drive angry dylan dog dead night eagle everything must go extremely loud incredibly close fast five father invention fear black republican final destination 5 footloose friends benefits fright night prada nada future girl dragon tattoo glee 3d concert movie gnomeo juliet good old fashioned orgy good doctor greatest movie ever sold green hornet green lantern hall pass hangover part ii hanna happy feet two happythankyoumoreplease harry potter deathly hallows part 2 heart specialist help hesher higher ground hoodwinked hood vs evil hop horrible bosses hugo number four know melt ides march immortals time inside insidious j edgar jack jill janie jones judy moody bummer summer jumping broom go justin bieber never say never kill irishman killer elite kung fu panda 2 larry crowne life day like crazy limitless lincoln lawyer lucky machine gun preacher madea's big happy family margaret margin call mars needs moms martha marcy may marlene mechanic midnight paris mission impossible ghost protocol moneyball money matters monte carlo mr popper's penguins muppets music never stopped new year's eve strings attached one day idiot brother page one year inside new york times paranormal activity 3 paul pearl jam twenty peep world perfect host pirates caribbean stranger tides priest prom puncture puss boots rango real steel red riding hood red state restless reunion rio rise planet apes rite roommate rum diary sanctum scream 4 seance summoning season witch seven days utopia shark night 3d sherlock holmes game shadows sitter skateland smurfs snow flower secret fan something borrowed son one soul surfer source code spy kids time world straw dogs sucker punch super super 8 take home tonight take shelter texas killing fields that's thing thor three musketeers tower heist transformers dark moon tree life trespass unknown harold kumar 3d christmas waiting forever warrior water elephants way bought zoo what's number win win winnie pooh x men first class young adult highness zookeeper 12 12 12 2 headed shark attack 21 jump street 28 hotel rooms 3 2 1 frankie go boom 40 days nights 40 point plan abcs death cherry abraham lincoln vs zombies abraham lincoln vampire hunter act valor aggression scale air collision alex cross alien origin allegiance alter egos amazing adventures living corpse amazing spider man american reunion day apostle peter last supper apparition arbitrage arcadia argo art machine atlas shrugged part ii atm atom amazing zombie killer avengers babymakers bachelorette bad ass bad kids go hell barbie mermaid tale 2 barbie princess popstar barrens barricade batman revealed batman dark knight returns battery battlefield america battleship bay bearcity 2 proposal beasts southern wild beauty beast 3d beauty inside flynn ben banks bending rules bernie best man beverly hills chihuahua 3 viva la fiesta beyond big miracle big top scooby doo bill w bindlestiffs black rock blood irina border run bourne legacy brake branded brave breaking wind broken roads bully butter cabin woods caesar otto's deadly christmas california solo california winter call kuchu campaign caroline jackie casa de mi padre celeste jesse forever central park five changing game chasing ice chasing mavericks chernobyl diaries chimpanzee christmas story 2 christmas dead chronicle citizen clash empires cloud atlas cold light day collection come morning comedy compliance contraband cowgirls 'n angels crave crazy eyes crooked arrows damsels distress dark knight rises dark shadows dark tide dark truth darling companion day one dead dawn dead man's burden deadfall deadline death race 3 inferno deep dark canyon detachment detention dead devil inside diary wimpy kid dog days dictator divorce invitation django unchained deca pentathlon change subject dracula reborn dragon eyes dysfunctional friends eating 5 open weekend eden elevator elf man end love end watch evidence evil head excision exit strategy expendables 2 extracted filly brown finding nemo 3d fire fire first time fitzgerald family christmas five year engagement flicka country pride flight good time call ellen love money forger forgetting girl fortress frankenweenie friends kids fun size gambit gayby ghost rider spirit vengeance girl progress god bless america gone good deeds grey guilt trip haywire hello must going comes boom hick high school hit run hope springs hotel transylvania house end street hunger games ice age continental drift jack reacher jeff lives home john carter journey 2 mysterious island joyful noise katy perry part 3d keep lights killer joe late quartet lawless liberal arts life pi lincoln little bit heaven lockout lola versus loneliest planet looper dr seuss' lorax lucky one madagascar 3 europe's wanted madea's witness protection magic mike magic belle isle maladies 2012 film man ledge man iron fists marley master men black 3 mirror mirror monsters inc 3d moonrise kingdom nobody walks odd life timothy green one money oogieloves big balloon adventure oranges paperboy paranormal activity 4 paranorman parental guidance peace love misunderstanding people like us perks wallflower piranha 3dd pitch perfect possession premium rush price check project x prometheus puppet master x axis rising queen versailles rampart raven red dawn red hook summer red lights red tails reluctant fundamentalist resident evil retribution rise guardians robot frank rock ages ruby sparks safe safe house safety guaranteed samsara savages seeking friend end world sessions silent hill revelation 3d silent house silver linings playbook sinister sleepwalk smashed snow white huntsman sound voice sparkle star wars episode phantom menace 3d step revolution stolen swan princess christmas taken 2 tall man ted that's boy think like man 40 means war thousand words three stooges thunderstruck titanic 3d tomorrow gone total recall touchback trouble curve twilight saga breaking dawn part 2 underworld awakening unspeakable act v h virginia vow wanderlust watch expect expecting back words wrath titans wreck ralph goodbye promise zero dark thirty 2 guns 12 rounds 2 reloaded 12 years slave 20 feet stardom 21 3 geezers 30 nights paranormal activity devil inside girl dragon tattoo 42 47 ronin 9 full moons abcs death abandoned mine c admission earth aftershock ain't bodies saints lost alone yet alone american hustle anchorman 2 legend continues angels sing apartment 1303 3d apocalypse earth price arthur newman artifact ass backwards assault wall street august osage county baggage claim battle year baytown outlaws beautiful creatures midnight behind candelabra beneath beside still waters best kept secret best man best man holiday beyond farthest star big ass spider big sur big wedding black nativity blackfish black rock bless ultima bling ring blue caprice blue jasmine blue ruin book esther book thief bounty killer brass teapot breathe bridegroom broken city bullet head butler c g call song save life canyons captain phillips carrie cbgb charlie countryman cheech chong's animated movie chilling visions 5 senses fear clark gonzomentary cloth cloudy chance meatballs 2 coffin baby company heroes company keep computer chess concussion conjuring contest continental contracted contractor counselor croods cutie boxer dallas buyers club dark skies dark truth dead man despicable 2 disconnect dirty wars jon stop believin' everyman's journey dracula dark prince drinking buddies elysium emperor empire state ender's game english teacher enough said epic erased escape planet earth escape plan europa report evil dead face love family weekend far marfa fast furious 6 fifth estate five dances foodfight frances ha frankenstein theory free birds fright night 2 new blood frozen frozen ground fruitvale station g b f g joe retaliation gangster squad generation iron geography club getaway ghost army girl likely glimpse inside mind charles swan iii go sisters good day die hard grace unplugged gravity great gatsby green inferno greetings tim buckley grow tony phillips grown ups 2 grudge match hangover part iii hansel gretel hansel gretel get baked hansel gretel witch hunters hansel gretel warriors witchcraft hatchet iii hateship loveship haunted house haunting connecticut 2 ghosts georgia he's way famous heat hell baby hit stay hobbit desolation smaug home run homefront hospital host hot flashes hours house dust lose virginity man hunger games catching fire divine i'm love church girl know voice spit grave 2 used darker iceman identity thief world inappropriate comedy incredible burt wonderstone indescribable inequality inevitable defeat mister pete inside llewyn davis insidious chapter 2 internship iron man 3 isteve disaster jack giant killer jack giant slayer jackass presents bad grandpa java heat jay silent bob's super groovy cartoon movie jayne mansfield's car jobs john dies end joe jug face justice league flashpoint paradox justin bieber's believe kevin hart let explain kick ass 2 kill darlings killing season kings summer kink kiss damned knife fight koch lake windfall last call last exorcism part ii last robin hood last stand last vegas last weekend legend jimi lazer let fire burn liars life crime lifeguard lil bub friendz little feet lone ranger lords salem lost medallion adventures billy stone lovelace lone survivor lucky luv machete kills madea christmas magic magic manhattan romance man steel manhunt search bin laden marine 3 homefront masterminds mccanick medora men lost china metallica never monsters university mortal instruments city bones movie 43 much ado nothing mud nebraska one lives see oblivion officer oldboy olympus fallen one direction us furnace oz great powerful pacific rim package pain gain palominas half life paradise paranoia pardon parker parkland pawn pawn shop chronicles penthouse north percy jackson sea monsters phantom philomena pit stop place beyond pines planes plush plus one power inside pretty one prince avalanche prisoners project 2x1 proxy punk singer purge rapture palooza red robin red 2 resurrection riddick r p roadside robosapien rebooted robotech love live alive runner runner safe salinger saratov approach savannah saving lincoln saving mr banks saving santa scary movie 5 scenic route scrapper season miracles sex boss secret life walter mitty sexy evil genius shadow people wants short term 12 shotgun wedding side effects single shot skinwalker ranch smurfs 2 smurfs legend smurfy hollow snitch velvet morning sound city spectacular spiders 3d spirit marathon ii spring breakers standing stand guys star trek darkness starving games stoker straight a's struck lightning submit documentary sunlight jr super buddies superman unbound sweetwater teacher temptation confessions marriage counselor test texas chainsaw 3d square end thor dark world turbo tyler perry presents peeples unhung hero unknown known unspeakable act unsupersize upper footage upstream color v h 2 vehicle 19 violet daisy wait walking dinosaurs warm bodies way way back steal secrets story wikileaks we're millers welcome jungle white house white reindeer wicked wolf wall street wolverine world war z wrong wrong cops next zero charisma zombie hunter paranormal activity marked ones open grave cold comes night dumbbells legend hercules raze back day devil's due jack ryan shadow recruit jamesy boy nut job ride along black water vampire frankenstein mega shark versus mecha shark labor day awkward moment somewhere slow android cop monuments men outsider scorned dark nurse 3d pretty one vampire academy last night adult world camp takota date switch endless love robocop someone marry barry apocalypse pompeii 3 days kill angels stardust barefoot holy ghost people bag man non stop repentance son god 300 rise empire mr peabody sherman better living chemistry need speed single moms club veronica mars cheap thrills film divergent god's dead muppets wanted 50 1 noah sabotage ladies house alien abduction captain america winter soldier blood jinn draft day oculus rio 2 asian school girls heaven real authors anonymous haunted house 2 kid cannabis transcendence 13 sins brick mansions woman walking enemy amazing spider man 2 bad johnson decoding annie parker walk shame devil's knot god's pocket 'moms' night neighbors stage fright godzilla million dollar arm angriest man brooklyn blended cold july x men days future past maleficent million ways die west edge tomorrow fault stars ping pong summer 22 jump street hellion train dragon 2 lullaby murder 101 obvious child signal jersey boys think like man rebound america imagine world without came together transformers age extinction deliver us evil earth echo school dance tammy boyhood dawn planet apes rage road paloma origins persecuted planes fire rescue purge anarchy sex tape tiger orange wish goes happy christmas hercules magic moonlight man loser get guardians galaxy mercenaries 4 minute mile hundred foot journey storm step teenage mutant nina turtles let's cops expendables 3 giver life beth one love stay leprechaun origins love strange prince sin city dame kill cake atlas shrugged part iii dolphin tale 2 honeymoon good deed guest walk among tombstones maze runner scribbler skeleton twins leave tusk boxtrolls equalizer song two faces january annabelle gone girl good lie left behind last shift addicted alexander terrible horrible good bad day dracula untold judge whiplash birdman unexpected virtue ignorance book life camp x ray czar black hollywood dear white people fury listen philip nightcrawler pernicious young ones laggies ouija interstellar merry friggin' christmas better angels big hero 6 elsa fred jessabelle peripheral beside still waters beyond lights dumb dumber foxcatcher homesman saving christmas witching hour hunger games mockingjay part 1 horrible bosses 2 penguins madagascar comet wild exodus gods kings inherent vice color time top five goodbye annie night museum secret tomb big eyes interview woods unbroken woman black 2 angel death taken 3 let's kill ward's wife match blackhat little accidents paddington spare parts wedding ringer vice veronika decides die boy next door cake humbling mortdecai song one strange magic we'll never paris black white loft project almanac wild card 3 nights desert enter dangerous mind jupiter ascending love rosie seventh son spongebob movie sponge water voices accidental love da sweet blood jesus fifty shades grey kingsman secret service last 5 years duff hot tub time machine 2 mcfarland usa everly focus lazarus effect maps stars dark bad asses bayou chappie road hard second best exotic marigold hotel unfinished business cinderella cobbler cymbeline home sweet hell follows muck run night danny collins divergent series insurgent believe gunman tracers walking deceased get hard home serena we're young furious 7 woman gold ex machina longest ride lost river 1915 alex venice beyond reach child 44 monkey kingdom paul blart mall cop 2 road within true story unfriended adult beginners blackbird brotherly love go little boy age adaline avengers age ultron far madding crowd train hot pursuit maggie mad max fury road pitch perfect 2 poltergeist tomorrowland marnie aloha san andreas spy entourage insidious chapter 3 love mercy jurassic world earl dying girl dope inside max ted 2 terminator genisys minions ant man trainwreck pixels vatican tapes funny way escape agent 47 black mass everest war pigs martian room 2015 film crimson peak peanuts movie good dinosaur victor frankenstein heart sea concussion daddy's home joy point break revenant forest anesthesia lamb ride along 2 13 hours secret soldiers benghazi norm north benefactor dirty grandpa 5th wave boy ip man 3 synchronicity kung fu panda 3 finest hours fifty shades black jane got gun hail caesar pride prejudice zombies choice deadpool zoolander 2 single risen witch race gods egypt triple 9 eddie eagle zootopia london fallen whiskey tango foxtrot side door 10 cloverfield lane young messiah perfect match hello name doris miracles heaven divergent series allegiant bronze midnight special batman v superman dawn justice big fat greek wedding 2 saw light everybody wants god's dead 2 meet blacks miles ahead boss hardcore henry demolition invitation jungle book barbershop next cut criminal green room huntsman winter's war hologram king elvis nixon keanu mother's day ratchet clank captain america civil war money monster darkness love friendship angry birds movie neighbors 2 sorority rising nice guys x men apocalypse alice looking glass tmnt 2 shadows popstar never stop never stopping conjuring 2 warcraft see 2 finding dory central intelligence independence day resurgence shallows free state jones neon demon legend tarzan bfg purge election year secret life pets mike dave need wedding dates characterz infiltrator ghostbusters star trek beyond ice age collision course lights jason bourne bad moms nerve suicide squad nine lives pete's dragon sausage party florence foster jenkins ben hur kubo two strings war dogs mechanic resurrection breathe hands stone light oceans morgan sully bough breaks wild life disappointments room bridget jones's baby snowden blair witch hillsong let hope rise magnificent seven storks south 8 miss peregrine's home peculiar children deepwater horizon masterminds girl train birth nation middle school worst years life accountant kevin hart max steel jack reacher never go back keeping joneses ouija origin evil boo madea halloween i'm ashamed american pastoral inferno friend request moana rogue one star wars story film founder sing monster calls rings underworld blood wars arsenal us monster trucks bye bye man sleepless 100 streets book love split xxx return xander cage resurrection gavin stone trespass us sophie rising sun dog's purpose resident evil final chapter lost florence michael iboy rings space us youth oregon negro growing smith lego batman movie fifty shades darker john wick chapter 2 bornless ones great wall cure wellness fist fight american fable xx lovesong get rock dog collide girl gifts feel home world anymore contemporary color logan shack fall table 19 last word catfight donald cried kong skull island burning sands beauty beast belko experiment song song atomica nighter devil's candy power rangers life chips wilson victor car dogs walk fame ghost shell boss baby zookeeper's wife blackcoat's daughter discovery carrie pilby case christ smurfs lost village going style colossal gifted aftermath fate furious spark lost city z entire high school sinking sea outcasts born china unforgettable promise circle latin lover sleight guardians galaxy vol 2 lovers 3 generations king arthur legend sword snatched lowriders wall paris wait alien covenant diary wimpy kid long haul everything everything wakefield baywatch pirates caribbean dead men tell tales buena vista social club adios war machine wonder woman captain underpants first epic movie dean mummy comes night cousin rachel megan leavey beatriz dinner cars 3 rough night eyez 47 meters book henry transformers last knight beguiled big sick bad batch baby driver okja despicable 3 house little hours inconceivable 2 22 ghost story spider man homecoming war planet apes wish upon dunkirk valerian city thousand planets girls trip first kill atomic blonde emoji movie inconvenient sequel truth power detroit brigsby bear menashe dark tower kidnap step wind river armed response annabelle creation glass castle nut job 2 nutty nature good time ingrid goes west living boy new york hitman's bodyguard logan lucky patti cake saints served like girl beach rats tulip fever unlocked home 9 11 good catholic gun shy american assassin mother brad's status kingsman golden circle lego ninjago movie stronger battle sexes woodshock victoria abdul jeepers creepers 3 american made flatliners mark felt man brought white house blade runner 2049 mountain us little pony movie florida project brawl cell block 99 happy death day marshall breathe goodbye christopher robin professor marston wonder women blood money geostorm brave boo 2 madea halloween kind different leatherface wonderstruck killing sacred deer thank service suburbicon jigsaw novitiate see amityville awakening thor ragnarok bad moms christmas last flag flying lady bird murder orient express daddy's home 2 lbj three billboards outside ebbing missouri mayhem justice league star wonder cook mr roosevelt roman j israel esq coco darkest hour man invented christmas call name disaster artist shape water wonder wheel tonya getting started star wars last jedi ferdinand beyond skyline jumanji welcome jungle greatest showman pitch perfect 3 downsizing father figures post bright crooked house hostiles money world molly's game phantom thread insidious last key strange ones sweet country commuter proud mary acts violence freak show humor 12 strong den thieves forever girl maze runner death cure insult please stand winchester fantastic woman armed cloverfield paradox 15 17 paris fifty shades freed peter rabbit la boda de valentina permission monster family golden exits black panther nostalgia samson game night annihilation every day lodgers cured red sparrow pickings death wish vanishing sidney hall wrinkle time gringo thoroughbreds hurricane heist strangers prey night tomb raider love simon imagine 7 days entebbe furlough josie flower pacific rim uprising isle dogs sherlock gnomes unsane paul apostle christ final portrait midnight sun followers ready player one tyler perry's acrimony god's dead light darkness gemini last movie star quiet place blockers never really chappaquiddick pandas miracle season beirut rampage truth dare rider sgt stubby american hero feel pretty super troopers 2 traffik house tomorrow avengers infinity war disobedience backstabbing beginners kings overboard cleanse tully bad samaritan life party breaking seagull terminal deadpool 2 book club first reformed pope francis man word show dogs solo star wars story talk girls parties darkness future world action point adrift upgrade american animals social animals ocean's 8 neighbor hereditary hotel artemis superfly incredibles 2 tag chesil beach gotti jurassic world fallen kingdom boundaries damsel domestics sicario day soldado leave trace uncle drew woman walks ahead first purge ant man wasp sorry bother whitney hotel transylvania 3 summer vacation skyscraper eighth grade worry get far foot shock awe mamma mia go equalizer 2 blindspotting unfriended dark web gauguin voyage de tahiti mission impossible fallout teen titans go movies hot summer nights puzzle christopher robin darkest minds spy dumped billionaire boys club never goin' back miseducation cameron post dog days meg blackkklansman slender man prayer dawn crazy rich asians alpha mile 22 dark hall wife happytime murders searching papillon x l operation finale kin juliet naked destination wedding nun peppermint predator white boy rick simple favor children act lizzie unbroken path redemption house clock walls life sisters brothers colette assassination nation fahrenheit 11 9 night school smallfoot old man gun hell fest power air venom star born hate u give first man bad times el royale goosebumps 2 haunted halloween beautiful boy oath halloween ever forgive serenity mid90s wildlife hunter killer suspiria indivisible nutcracker four realms bohemian rhapsody nobody's fool boy erased private war bodied front runner grinch girl spider's web overlord conundrum secrets among friends fantastic beasts crimes grindelwald widows instant family ralph breaks internet creed ii robin hood green book favourite anna apocalypse beale street could talk mary queen scots silver lake silence one's ladies ben back mortal engines spider man spider verse mule vice second act mary poppins returns aquaman bumblebee welcome marwen holmes watson basis sex destroyer\""
            ]
          },
          "execution_count": 169,
          "metadata": {},
          "output_type": "execute_result"
        }
      ],
      "source": [
        "palavra2"
      ]
    },
    {
      "cell_type": "code",
      "execution_count": null,
      "metadata": {
        "id": "Os4X_-DPrGWi"
      },
      "outputs": [],
      "source": [
        "# configuração da nuvem de palavras\n",
        "nuvem = WordCloud(background_color= \"black\",\n",
        "                  width= 1600,\n",
        "                  height= 800).generate(palavra2)"
      ]
    },
    {
      "cell_type": "code",
      "execution_count": null,
      "metadata": {
        "colab": {
          "base_uri": "https://localhost:8080/"
        },
        "id": "F72-GBoHrcdP",
        "outputId": "218009c1-8da9-4170-8cb9-9590a7b1cebc"
      },
      "outputs": [
        {
          "data": {
            "text/plain": [
              "<wordcloud.wordcloud.WordCloud at 0x7b26a195f8e0>"
            ]
          },
          "execution_count": 177,
          "metadata": {},
          "output_type": "execute_result"
        },
        {
          "data": {
            "image/png": "[encoded data removed]",
            "text/plain": [
              "<Figure size 640x480 with 1 Axes>"
            ]
          },
          "metadata": {},
          "output_type": "display_data"
        }
      ],
      "source": [
        "plt.figure()\n",
        "plt.imshow(nuvem, interpolation='bilinear')\n",
        "plt.axis(\"off\")\n",
        "plt.imshow(nuvem)\n",
        "nuvem.to_file(\"nuvemPalavras.png\")"
      ]
    },
    {
      "cell_type": "code",
      "execution_count": null,
      "metadata": {
        "id": "KCXqeCnZsM45"
      },
      "outputs": [],
      "source": []
    }
  ],
  "metadata": {
    "colab": {
      "provenance": []
    },
    "kernelspec": {
      "display_name": "Python 3",
      "name": "python3"
    },
    "language_info": {
      "name": "python"
    }
  },
  "nbformat": 4,
  "nbformat_minor": 0
}
